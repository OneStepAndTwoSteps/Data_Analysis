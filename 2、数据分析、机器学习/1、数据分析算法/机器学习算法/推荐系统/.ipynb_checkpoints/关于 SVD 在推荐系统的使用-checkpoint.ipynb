{
 "cells": [
  {
   "cell_type": "markdown",
   "metadata": {},
   "source": [
    "# 关于 SVD 在推荐系统的使用"
   ]
  },
  {
   "cell_type": "code",
   "execution_count": 1,
   "metadata": {},
   "outputs": [],
   "source": [
    "import pandas as pd\n",
    "import numpy as np"
   ]
  },
  {
   "cell_type": "markdown",
   "metadata": {},
   "source": [
    "比如现在有一份关于顾客对 11 个菜品的评分，打分表如下所示：\n",
    "\n",
    "如何根据打分表为不同用户推荐菜品呢？\n",
    "\n",
    "* 通过协同过滤的思路，通过其他用户的评价记录，衡量出这个菜品和该用户评价过的其他菜品的相似度，利用该用户对其他菜品的评分记录和菜品相似度，估计出用户会给这个未评分的菜品打出多少分"
   ]
  },
  {
   "cell_type": "code",
   "execution_count": 36,
   "metadata": {},
   "outputs": [
    {
     "data": {
      "text/html": [
       "<div>\n",
       "<style scoped>\n",
       "    .dataframe tbody tr th:only-of-type {\n",
       "        vertical-align: middle;\n",
       "    }\n",
       "\n",
       "    .dataframe tbody tr th {\n",
       "        vertical-align: top;\n",
       "    }\n",
       "\n",
       "    .dataframe thead th {\n",
       "        text-align: right;\n",
       "    }\n",
       "</style>\n",
       "<table border=\"1\" class=\"dataframe\">\n",
       "  <thead>\n",
       "    <tr style=\"text-align: right;\">\n",
       "      <th></th>\n",
       "      <th>叉烧肠粉</th>\n",
       "      <th>手抓饭</th>\n",
       "      <th>四川火锅</th>\n",
       "      <th>粤式烧鹅饭</th>\n",
       "      <th>大盘鸡面</th>\n",
       "      <th>东北饺子</th>\n",
       "      <th>辣子鸡</th>\n",
       "      <th>虾饺</th>\n",
       "      <th>剁椒鱼头</th>\n",
       "      <th>拉面</th>\n",
       "      <th>烤羊排</th>\n",
       "    </tr>\n",
       "  </thead>\n",
       "  <tbody>\n",
       "    <tr>\n",
       "      <th>0</th>\n",
       "      <td>5</td>\n",
       "      <td>2</td>\n",
       "      <td>1</td>\n",
       "      <td>4</td>\n",
       "      <td>0</td>\n",
       "      <td>0</td>\n",
       "      <td>2</td>\n",
       "      <td>4</td>\n",
       "      <td>0</td>\n",
       "      <td>0</td>\n",
       "      <td>0</td>\n",
       "    </tr>\n",
       "    <tr>\n",
       "      <th>1</th>\n",
       "      <td>0</td>\n",
       "      <td>0</td>\n",
       "      <td>0</td>\n",
       "      <td>0</td>\n",
       "      <td>0</td>\n",
       "      <td>0</td>\n",
       "      <td>0</td>\n",
       "      <td>0</td>\n",
       "      <td>0</td>\n",
       "      <td>3</td>\n",
       "      <td>0</td>\n",
       "    </tr>\n",
       "    <tr>\n",
       "      <th>2</th>\n",
       "      <td>1</td>\n",
       "      <td>0</td>\n",
       "      <td>5</td>\n",
       "      <td>2</td>\n",
       "      <td>0</td>\n",
       "      <td>0</td>\n",
       "      <td>3</td>\n",
       "      <td>0</td>\n",
       "      <td>3</td>\n",
       "      <td>0</td>\n",
       "      <td>1</td>\n",
       "    </tr>\n",
       "    <tr>\n",
       "      <th>3</th>\n",
       "      <td>0</td>\n",
       "      <td>5</td>\n",
       "      <td>0</td>\n",
       "      <td>0</td>\n",
       "      <td>4</td>\n",
       "      <td>0</td>\n",
       "      <td>1</td>\n",
       "      <td>0</td>\n",
       "      <td>0</td>\n",
       "      <td>0</td>\n",
       "      <td>0</td>\n",
       "    </tr>\n",
       "    <tr>\n",
       "      <th>4</th>\n",
       "      <td>0</td>\n",
       "      <td>0</td>\n",
       "      <td>0</td>\n",
       "      <td>0</td>\n",
       "      <td>0</td>\n",
       "      <td>4</td>\n",
       "      <td>0</td>\n",
       "      <td>0</td>\n",
       "      <td>0</td>\n",
       "      <td>4</td>\n",
       "      <td>0</td>\n",
       "    </tr>\n",
       "    <tr>\n",
       "      <th>5</th>\n",
       "      <td>0</td>\n",
       "      <td>0</td>\n",
       "      <td>1</td>\n",
       "      <td>0</td>\n",
       "      <td>0</td>\n",
       "      <td>0</td>\n",
       "      <td>1</td>\n",
       "      <td>0</td>\n",
       "      <td>0</td>\n",
       "      <td>5</td>\n",
       "      <td>0</td>\n",
       "    </tr>\n",
       "    <tr>\n",
       "      <th>6</th>\n",
       "      <td>5</td>\n",
       "      <td>0</td>\n",
       "      <td>2</td>\n",
       "      <td>4</td>\n",
       "      <td>2</td>\n",
       "      <td>1</td>\n",
       "      <td>0</td>\n",
       "      <td>3</td>\n",
       "      <td>0</td>\n",
       "      <td>1</td>\n",
       "      <td>0</td>\n",
       "    </tr>\n",
       "    <tr>\n",
       "      <th>7</th>\n",
       "      <td>0</td>\n",
       "      <td>4</td>\n",
       "      <td>0</td>\n",
       "      <td>0</td>\n",
       "      <td>5</td>\n",
       "      <td>4</td>\n",
       "      <td>0</td>\n",
       "      <td>0</td>\n",
       "      <td>0</td>\n",
       "      <td>0</td>\n",
       "      <td>5</td>\n",
       "    </tr>\n",
       "    <tr>\n",
       "      <th>8</th>\n",
       "      <td>0</td>\n",
       "      <td>0</td>\n",
       "      <td>0</td>\n",
       "      <td>0</td>\n",
       "      <td>0</td>\n",
       "      <td>0</td>\n",
       "      <td>4</td>\n",
       "      <td>0</td>\n",
       "      <td>4</td>\n",
       "      <td>5</td>\n",
       "      <td>0</td>\n",
       "    </tr>\n",
       "    <tr>\n",
       "      <th>9</th>\n",
       "      <td>0</td>\n",
       "      <td>0</td>\n",
       "      <td>0</td>\n",
       "      <td>4</td>\n",
       "      <td>0</td>\n",
       "      <td>0</td>\n",
       "      <td>1</td>\n",
       "      <td>5</td>\n",
       "      <td>0</td>\n",
       "      <td>0</td>\n",
       "      <td>0</td>\n",
       "    </tr>\n",
       "    <tr>\n",
       "      <th>10</th>\n",
       "      <td>0</td>\n",
       "      <td>0</td>\n",
       "      <td>0</td>\n",
       "      <td>0</td>\n",
       "      <td>4</td>\n",
       "      <td>5</td>\n",
       "      <td>0</td>\n",
       "      <td>0</td>\n",
       "      <td>0</td>\n",
       "      <td>0</td>\n",
       "      <td>3</td>\n",
       "    </tr>\n",
       "    <tr>\n",
       "      <th>11</th>\n",
       "      <td>4</td>\n",
       "      <td>2</td>\n",
       "      <td>1</td>\n",
       "      <td>4</td>\n",
       "      <td>0</td>\n",
       "      <td>0</td>\n",
       "      <td>2</td>\n",
       "      <td>4</td>\n",
       "      <td>0</td>\n",
       "      <td>0</td>\n",
       "      <td>0</td>\n",
       "    </tr>\n",
       "    <tr>\n",
       "      <th>12</th>\n",
       "      <td>0</td>\n",
       "      <td>1</td>\n",
       "      <td>4</td>\n",
       "      <td>1</td>\n",
       "      <td>2</td>\n",
       "      <td>1</td>\n",
       "      <td>5</td>\n",
       "      <td>0</td>\n",
       "      <td>5</td>\n",
       "      <td>0</td>\n",
       "      <td>0</td>\n",
       "    </tr>\n",
       "    <tr>\n",
       "      <th>13</th>\n",
       "      <td>0</td>\n",
       "      <td>0</td>\n",
       "      <td>0</td>\n",
       "      <td>0</td>\n",
       "      <td>0</td>\n",
       "      <td>4</td>\n",
       "      <td>0</td>\n",
       "      <td>0</td>\n",
       "      <td>0</td>\n",
       "      <td>4</td>\n",
       "      <td>0</td>\n",
       "    </tr>\n",
       "    <tr>\n",
       "      <th>14</th>\n",
       "      <td>2</td>\n",
       "      <td>5</td>\n",
       "      <td>0</td>\n",
       "      <td>0</td>\n",
       "      <td>4</td>\n",
       "      <td>0</td>\n",
       "      <td>0</td>\n",
       "      <td>0</td>\n",
       "      <td>0</td>\n",
       "      <td>0</td>\n",
       "      <td>0</td>\n",
       "    </tr>\n",
       "    <tr>\n",
       "      <th>15</th>\n",
       "      <td>5</td>\n",
       "      <td>0</td>\n",
       "      <td>0</td>\n",
       "      <td>0</td>\n",
       "      <td>0</td>\n",
       "      <td>0</td>\n",
       "      <td>0</td>\n",
       "      <td>4</td>\n",
       "      <td>2</td>\n",
       "      <td>0</td>\n",
       "      <td>0</td>\n",
       "    </tr>\n",
       "    <tr>\n",
       "      <th>16</th>\n",
       "      <td>0</td>\n",
       "      <td>2</td>\n",
       "      <td>4</td>\n",
       "      <td>0</td>\n",
       "      <td>4</td>\n",
       "      <td>3</td>\n",
       "      <td>4</td>\n",
       "      <td>0</td>\n",
       "      <td>0</td>\n",
       "      <td>0</td>\n",
       "      <td>0</td>\n",
       "    </tr>\n",
       "    <tr>\n",
       "      <th>17</th>\n",
       "      <td>0</td>\n",
       "      <td>3</td>\n",
       "      <td>5</td>\n",
       "      <td>1</td>\n",
       "      <td>0</td>\n",
       "      <td>0</td>\n",
       "      <td>4</td>\n",
       "      <td>1</td>\n",
       "      <td>0</td>\n",
       "      <td>0</td>\n",
       "      <td>0</td>\n",
       "    </tr>\n",
       "  </tbody>\n",
       "</table>\n",
       "</div>"
      ],
      "text/plain": [
       "    叉烧肠粉  手抓饭  四川火锅  粤式烧鹅饭  大盘鸡面  东北饺子  辣子鸡  虾饺  剁椒鱼头  拉面  烤羊排\n",
       "0      5    2     1      4     0     0    2   4     0   0    0\n",
       "1      0    0     0      0     0     0    0   0     0   3    0\n",
       "2      1    0     5      2     0     0    3   0     3   0    1\n",
       "3      0    5     0      0     4     0    1   0     0   0    0\n",
       "4      0    0     0      0     0     4    0   0     0   4    0\n",
       "5      0    0     1      0     0     0    1   0     0   5    0\n",
       "6      5    0     2      4     2     1    0   3     0   1    0\n",
       "7      0    4     0      0     5     4    0   0     0   0    5\n",
       "8      0    0     0      0     0     0    4   0     4   5    0\n",
       "9      0    0     0      4     0     0    1   5     0   0    0\n",
       "10     0    0     0      0     4     5    0   0     0   0    3\n",
       "11     4    2     1      4     0     0    2   4     0   0    0\n",
       "12     0    1     4      1     2     1    5   0     5   0    0\n",
       "13     0    0     0      0     0     4    0   0     0   4    0\n",
       "14     2    5     0      0     4     0    0   0     0   0    0\n",
       "15     5    0     0      0     0     0    0   4     2   0    0\n",
       "16     0    2     4      0     4     3    4   0     0   0    0\n",
       "17     0    3     5      1     0     0    4   1     0   0    0"
      ]
     },
     "execution_count": 36,
     "metadata": {},
     "output_type": "execute_result"
    }
   ],
   "source": [
    "df = pd.read_excel('data1.xlsx')\n",
    "# df.rename(columns = ['叉烧粉','手抓饭','四川火锅','烧鹅饭','大盘鸡面','饺子','辣子鸡','虾饺','芋头','拉面','羊排'])\n",
    "df.columns = ['叉烧肠粉','手抓饭','四川火锅','粤式烧鹅饭','大盘鸡面','东北饺子','辣子鸡','虾饺','剁椒鱼头','拉面','烤羊排']\n",
    "df"
   ]
  },
  {
   "cell_type": "code",
   "execution_count": 8,
   "metadata": {},
   "outputs": [],
   "source": [
    "scoredata = df.values"
   ]
  },
  {
   "cell_type": "markdown",
   "metadata": {},
   "source": [
    "## 计算菜品之间的相似度\n",
    "\n",
    "余弦相似度计算公式：\n",
    "\n",
    "![](./static/1.jpg)\n",
    "\n",
    "余弦相似度的归一化处理，使其范围为[-1,1] ：\n",
    "\n",
    "![](./static/2.jpg)\n"
   ]
  },
  {
   "cell_type": "code",
   "execution_count": 40,
   "metadata": {},
   "outputs": [],
   "source": [
    "# 通过余弦相似度来计算两个菜品之间的相似度\n",
    "def cosSim(vec_1,vec_2):\n",
    "    dotPord = float(np.dot(vec_1.T,vec_2)) # 向量相乘\n",
    "    normProd = np.linalg.norm(vec_1) * np.linalg.norm(vec_2)\n",
    "    return 0.5 + 0.5 * (dotPord /normProd)"
   ]
  },
  {
   "cell_type": "markdown",
   "metadata": {},
   "source": [
    "#### 现在生成一组数据来检测一下菜品之间的相似度"
   ]
  },
  {
   "cell_type": "code",
   "execution_count": 31,
   "metadata": {},
   "outputs": [
    {
     "data": {
      "text/html": [
       "<div>\n",
       "<style scoped>\n",
       "    .dataframe tbody tr th:only-of-type {\n",
       "        vertical-align: middle;\n",
       "    }\n",
       "\n",
       "    .dataframe tbody tr th {\n",
       "        vertical-align: top;\n",
       "    }\n",
       "\n",
       "    .dataframe thead th {\n",
       "        text-align: right;\n",
       "    }\n",
       "</style>\n",
       "<table border=\"1\" class=\"dataframe\">\n",
       "  <thead>\n",
       "    <tr style=\"text-align: right;\">\n",
       "      <th></th>\n",
       "      <th>叉烧粉</th>\n",
       "      <th>火锅</th>\n",
       "      <th>烧鹅饭</th>\n",
       "    </tr>\n",
       "  </thead>\n",
       "  <tbody>\n",
       "    <tr>\n",
       "      <th>0</th>\n",
       "      <td>5</td>\n",
       "      <td>1</td>\n",
       "      <td>4</td>\n",
       "    </tr>\n",
       "    <tr>\n",
       "      <th>1</th>\n",
       "      <td>1</td>\n",
       "      <td>5</td>\n",
       "      <td>2</td>\n",
       "    </tr>\n",
       "    <tr>\n",
       "      <th>2</th>\n",
       "      <td>5</td>\n",
       "      <td>2</td>\n",
       "      <td>4</td>\n",
       "    </tr>\n",
       "    <tr>\n",
       "      <th>3</th>\n",
       "      <td>4</td>\n",
       "      <td>1</td>\n",
       "      <td>4</td>\n",
       "    </tr>\n",
       "  </tbody>\n",
       "</table>\n",
       "</div>"
      ],
      "text/plain": [
       "   叉烧粉  火锅  烧鹅饭\n",
       "0    5   1    4\n",
       "1    1   5    2\n",
       "2    5   2    4\n",
       "3    4   1    4"
      ]
     },
     "execution_count": 31,
     "metadata": {},
     "output_type": "execute_result"
    }
   ],
   "source": [
    "data = {'叉烧粉':[5,1,5,4],'火锅':[1,5,2,1],'烧鹅饭':[4,2,4,4]}\n",
    "tmp_data = pd.DataFrame(columns=['叉烧粉','火锅','烧鹅饭'],data=data)\n",
    "tmp_data"
   ]
  },
  {
   "cell_type": "code",
   "execution_count": 32,
   "metadata": {},
   "outputs": [],
   "source": [
    "tmp_data = tmp_data.values"
   ]
  },
  {
   "cell_type": "code",
   "execution_count": 33,
   "metadata": {},
   "outputs": [
    {
     "data": {
      "text/plain": [
       "array([5, 1, 5, 4], dtype=int64)"
      ]
     },
     "execution_count": 33,
     "metadata": {},
     "output_type": "execute_result"
    }
   ],
   "source": [
    "tmp_data[:,0]"
   ]
  },
  {
   "cell_type": "code",
   "execution_count": 34,
   "metadata": {},
   "outputs": [
    {
     "data": {
      "text/plain": [
       "array([4, 2, 4, 4], dtype=int64)"
      ]
     },
     "execution_count": 34,
     "metadata": {},
     "output_type": "execute_result"
    }
   ],
   "source": [
    "tmp_data[:,2]"
   ]
  },
  {
   "cell_type": "code",
   "execution_count": 35,
   "metadata": {},
   "outputs": [
    {
     "name": "stdout",
     "output_type": "stream",
     "text": [
      "0.7633073594246896\n",
      "0.9913137569894804\n",
      "0.8237880629013667\n"
     ]
    }
   ],
   "source": [
    "print(cosSim(tmp_data[:,0],tmp_data[:,1]))\n",
    "print(cosSim(tmp_data[:,0],tmp_data[:,2]))\n",
    "print(cosSim(tmp_data[:,1],tmp_data[:,2]))"
   ]
  },
  {
   "cell_type": "markdown",
   "metadata": {},
   "source": [
    "#### 可以看出 `叉烧粉` 和 `烧鹅饭` 之间的相似度最高，达到 `99%`"
   ]
  },
  {
   "cell_type": "markdown",
   "metadata": {},
   "source": [
    "## 对稀疏矩阵的降维处理\n",
    "\n",
    "计算余弦相似度，必须需要依靠已经对该菜品进行打分的顾客进行分析，虽然我们有18位顾客，但是并不是每位顾客都品尝过相同的菜品，所以存在大量的顾客对某些菜品的评分为0，接下来我们想要尝试：\n",
    "\n",
    "__`能否通过实际的打分情况，按行对数据进行压缩，将其转化成一个低维的矩阵，再进行相似度处理，这样能有效避免稀疏矩阵的一些不足。`__"
   ]
  },
  {
   "cell_type": "code",
   "execution_count": 11,
   "metadata": {},
   "outputs": [
    {
     "name": "stdout",
     "output_type": "stream",
     "text": [
      "[18.00984878 13.34523472 11.52884033 10.1161419   7.13556169  5.86405759\n",
      "  4.87893356  3.59711712  3.28710923  2.48996847  2.06103963]\n"
     ]
    }
   ],
   "source": [
    "U ,sigma, VT = np.linalg.svd(scoredata)\n",
    "print(sigma)"
   ]
  },
  {
   "cell_type": "markdown",
   "metadata": {},
   "source": [
    "可以看到这里 __从大到小依次获取了11个特征值__，为了达到压缩的目的，我们需要选取k个奇异值，这里我们采用主成分贡献率为90%的前k个奇异值（通过奇异值的平方和达到所有平方和的90%）。"
   ]
  },
  {
   "cell_type": "code",
   "execution_count": 14,
   "metadata": {},
   "outputs": [
    {
     "name": "stdout",
     "output_type": "stream",
     "text": [
      "[18.00984878 13.34523472 11.52884033 10.1161419   7.13556169  5.86405759]\n",
      "k为前： 6 位奇异值\n"
     ]
    }
   ],
   "source": [
    "sigmaSum = 0\n",
    "for k in range(len(sigma)):\n",
    "    sigmaSum = sigmaSum + sigma[k] * sigma[k]\n",
    "    if float(sigmaSum)/float(np.sum(sigma**2)) > 0.9:\n",
    "        print(sigma[:k+1])\n",
    "        print('k为前：',k+1,'位奇异值')\n",
    "        break"
   ]
  },
  {
   "cell_type": "markdown",
   "metadata": {},
   "source": [
    "这里我们知道通过前6位奇异值就可以达到主成分贡献率的90%，接下来开始将 18 维的数据降到 6 维\n",
    "\n",
    "### 值得注意的是：\n",
    "\n",
    "__虽然对行进行降维使用 np.dot(U.T[:6,:],scoredata) 即可，但是推荐算法中通常会乘上 `奇异值方阵` ，赋予对应的`权重` __"
   ]
  },
  {
   "cell_type": "code",
   "execution_count": 16,
   "metadata": {},
   "outputs": [
    {
     "data": {
      "text/plain": [
       "matrix([[-112.4308753 , -112.87222698, -124.19623361, -105.3993477 ,\n",
       "         -111.288632  ,  -73.59389971, -135.0414711 , -100.44297783,\n",
       "          -64.70437823,  -40.78142832,  -36.26815254],\n",
       "        [  72.48369701,  -41.51056586,   -2.73164141,   63.4068466 ,\n",
       "          -80.85031966,  -74.17305344,   -5.56275757,   78.96337678,\n",
       "           -0.5442874 ,  -22.36535334,  -43.68006783],\n",
       "        [ -37.12342785,  -37.62324399,   48.30321076,  -12.27825448,\n",
       "          -44.01558208,  -15.58603044,   61.15421157,  -29.1271841 ,\n",
       "           51.75734522,   48.33639061,  -24.5927832 ],\n",
       "        [  17.52124987,  -26.0972729 ,  -31.74323843,    6.7731707 ,\n",
       "           -9.84514566,   43.42277156,  -20.38567072,   17.78646057,\n",
       "           -3.58400334,   75.2486827 ,    6.44560751],\n",
       "        [  -4.65216236,  -30.40184468,   14.31575194,    8.88222668,\n",
       "           -3.18752866,   25.17373196,   -2.36071622,    3.80908229,\n",
       "            0.60261906,  -21.93806491,   14.73475607],\n",
       "        [  12.3915557 ,   -6.28064351,  -10.81041971,   -9.75679724,\n",
       "            6.46828122,   -3.64007586,   -1.80356759,   -1.88718634,\n",
       "           25.44954779,   -5.17787313,    6.4052445 ]])"
      ]
     },
     "execution_count": 16,
     "metadata": {},
     "output_type": "execute_result"
    }
   ],
   "source": [
    "sigma_k = np.mat(np.eye(6) * sigma[:6])         # 通过获取到的奇异值将其转化成一个对角阵\n",
    "scoreDataRC = sigma_k * U.T[:6,:] * scoredata   \n",
    "scoreDataRC"
   ]
  },
  {
   "cell_type": "markdown",
   "metadata": {},
   "source": [
    "## 评分估计\n",
    "\n",
    "利用顾客已经评过的菜品来预测某个未评分的菜品，通过如下相似度加权的评分方式：\n",
    "\n",
    "$$ score_x = \\frac{score_a * sim_a + score_b * sim_b + score_c * sim_c}{sim_a + sim_b + sim_c}$$\n",
    "\n",
    "$$ score_a score_b score_c 是该顾客已经评价过的菜品的评分 $$ \n",
    "$$ sim_a sim_b sim_c 是该菜品与 要预测的 x 的菜品的相似度 $$ \n",
    "\n",
    "通过上面这个公式我们可以估计出该顾客所有未买过的菜品的评分，然后取估计评分最高的几个来进行推荐"
   ]
  },
  {
   "cell_type": "code",
   "execution_count": 38,
   "metadata": {},
   "outputs": [],
   "source": [
    "def estScore(user_index,item_index,scoredata,scoreDataRC):\n",
    "    n = scoredata.shape[1]\n",
    "    simsum = 0\n",
    "    simsumscore = 0\n",
    "    \n",
    "    for i in range(n):\n",
    "        userscore = scoredata[user_index,i]\n",
    "        if userscore == 0 or item_index == i:   # 如果该菜品评分为0或者是我们要预估评分的菜品就跳过\n",
    "            continue\n",
    "        sim = cosSim(scoreDataRC[:,i],scoreDataRC[:,item_index])         # 根据降维得到的新矩阵来预测菜品之间的相似度\n",
    "        simsum = float(simsum + sim)\n",
    "        simsumscore = simsumscore + userscore * sim\n",
    "    \n",
    "    if simsum == 0:\n",
    "        return 0\n",
    "    \n",
    "    return simsumscore/simsum    "
   ]
  },
  {
   "cell_type": "markdown",
   "metadata": {},
   "source": [
    "## 开始预测菜品评分"
   ]
  },
  {
   "cell_type": "code",
   "execution_count": 41,
   "metadata": {},
   "outputs": [
    {
     "name": "stdout",
     "output_type": "stream",
     "text": [
      "index:0,score:2.6347116715331174\n",
      "index:4,score:2.9259893459771122\n",
      "index:5,score:2.9337238848085874\n",
      "index:8,score:2.965707317848274\n",
      "index:9,score:2.9057073432965526\n",
      "index:10,score:2.9263484655262877\n"
     ]
    }
   ],
   "source": [
    "n = scoredata.shape[1]\n",
    "userindex = 17\n",
    "\n",
    "for i in range(n):\n",
    "    if scoredata[userindex,i] != 0:\n",
    "        continue\n",
    "    print(\"index:{},score:{}\".format(i,estScore(userindex,i,scoredata,scoreDataRC)))"
   ]
  },
  {
   "cell_type": "markdown",
   "metadata": {},
   "source": [
    "## 小结\n",
    "\n",
    "可以看出 index 为 8 的菜品（剁椒鱼头）的评分高，根据第 18 位顾客的其他评分来看，我们可以看出他对 四川火锅 和 辣子鸡 的得分较高，可以看出他可能喜欢偏辣的菜品，可以看出推荐较为合理。\n",
    "\n",
    "同时 index = 0 的菜品（叉烧肠粉），评分最低，经过查表我们能发现对于粤菜，第 18 位顾客的评分普遍偏低，所以也合理。\n",
    "\n",
    "### 以上，我们便完成了整个 协同过滤 的过程"
   ]
  }
 ],
 "metadata": {
  "kernelspec": {
   "display_name": "Python 3",
   "language": "python",
   "name": "python3"
  },
  "language_info": {
   "codemirror_mode": {
    "name": "ipython",
    "version": 3
   },
   "file_extension": ".py",
   "mimetype": "text/x-python",
   "name": "python",
   "nbconvert_exporter": "python",
   "pygments_lexer": "ipython3",
   "version": "3.6.4"
  }
 },
 "nbformat": 4,
 "nbformat_minor": 2
}
