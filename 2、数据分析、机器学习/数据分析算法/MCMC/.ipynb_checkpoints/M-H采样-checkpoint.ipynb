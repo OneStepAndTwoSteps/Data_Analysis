{
 "cells": [
  {
   "cell_type": "markdown",
   "metadata": {},
   "source": [
    "# MH 采样"
   ]
  },
  {
   "cell_type": "markdown",
   "metadata": {},
   "source": [
    "## 连续数据"
   ]
  },
  {
   "cell_type": "markdown",
   "metadata": {},
   "source": [
    "目标平稳分布是一个均值3，标准差2的正态分布，而选择的马尔可夫链状态转移矩阵Q(i,j)的条件转移概率是以i为均值,方差1的正态分布在位置j的值。这个例子仅仅用来让大家加深对M-H采样过程的理解。毕竟一个普通的一维正态分布用不着去用M-H采样来获得样本。"
   ]
  },
  {
   "cell_type": "markdown",
   "metadata": {},
   "source": [
    "我们无法保证马尔科夫矩阵一开始就收敛，所以应该在收敛后再采集样本，但是这里面越过了 burn-in 的过程，直接进行采值。"
   ]
  },
  {
   "cell_type": "code",
   "execution_count": 1,
   "metadata": {},
   "outputs": [
    {
     "name": "stderr",
     "output_type": "stream",
     "text": [
      "D:\\python\\lib\\site-packages\\matplotlib\\axes\\_axes.py:6521: MatplotlibDeprecationWarning: \n",
      "The 'normed' kwarg was deprecated in Matplotlib 2.1 and will be removed in 3.1. Use 'density' instead.\n",
      "  alternative=\"'density'\", removal=\"3.1\")\n"
     ]
    },
    {
     "data": {
      "image/png": "[encoded data removed]",
      "text/plain": [
       "<Figure size 432x288 with 1 Axes>"
      ]
     },
     "metadata": {
      "needs_background": "light"
     },
     "output_type": "display_data"
    }
   ],
   "source": [
    "# 如果当u大于接受率的时候，这时候直接丢弃，相当于x(t+1)时刻没有采用任何值，接下来做的应该是再次重复算法。\n",
    "# 直到某个u小于接受率，然后我们接受这个转移值\n",
    "\n",
    "import random\n",
    "import math\n",
    "from scipy.stats import norm\n",
    "import matplotlib.pyplot as plt\n",
    "%matplotlib inline\n",
    "\n",
    "def norm_dist_prob(theta):\n",
    "    #求概率密度函数指定点（theta）的函数值，即theta点附近的可能性。\n",
    "    y = norm.pdf(theta, loc=3, scale=2)\n",
    "    return y\n",
    "\n",
    "T = 5000\n",
    "pi = [0 for i in range(T)]\n",
    "sigma = 1\n",
    "t = 0\n",
    "while t < T-1:\n",
    "    \n",
    "    # pi_star可以认为是第j个状态，pi[t - 1]可以认为是第i个状态。\n",
    "    t = t + 1\n",
    "    \n",
    "    # 生成服从均值是pi[t - 1]，标准差是1的正态分布的随机数。pi_star就是x_star。\n",
    "    # 也就是说pi[t - 1]这个状态，以服从pi[t - 1]为均值,方差1的正态分布的概率转移到了pi_star状态。\n",
    "    \n",
    "    # 这里是执行条件分布采样。采样基于的分布是均值为上一个值(t-1)，方差为给定值的正态分布\n",
    "    pi_star = norm.rvs(loc=pi[t - 1], scale=sigma, size=1, random_state=None)   #状态转移进行随机抽样\n",
    "    \n",
    "    # 求alpha。使用的是二维对称的正态分布作为Q，所以是对称的Q(i,j)与Q(j,i)相同。\n",
    "    # norm_dist_prob(pi_star)即pi_star状态在平稳分布中的概率。\n",
    "    alpha = min(1, (norm_dist_prob(pi_star[0]) / norm_dist_prob(pi[t - 1]))) \n",
    "\n",
    "    u = random.uniform(0, 1)\n",
    "    # 如果均匀采样的值小于alpha，那么就接受这个采样值pi_star。\n",
    "    if u < alpha:\n",
    "        pi[t] = pi_star[0]\n",
    "    else:\n",
    "        pi[t] = pi[t - 1]\n",
    "\n",
    "\n",
    "plt.scatter(pi, norm.pdf(pi, loc=3, scale=2))\n",
    "num_bins = 50\n",
    "plt.hist(pi, num_bins, normed=1, facecolor='red', alpha=0.7)\n",
    "plt.show()"
   ]
  },
  {
   "cell_type": "markdown",
   "metadata": {},
   "source": [
    "### 为什么 Qi,j = Qj,i \n",
    "\n",
    "<div align=center><img width=\"600\" height=\"300\" src=\"./static/code1.jpg\"/></div>\n"
   ]
  },
  {
   "cell_type": "markdown",
   "metadata": {},
   "source": [
    "## 离散数据"
   ]
  },
  {
   "cell_type": "code",
   "execution_count": null,
   "metadata": {},
   "outputs": [],
   "source": [
    "'''\n",
    "Created on 2018年5月16日\n",
    "p:输入的概率分布，离散情况采用元素为概率值的数组表示\n",
    "N:认为迭代N次马尔可夫链收敛\n",
    "Nlmax:马尔可夫链收敛后又取的服从p分布的样本数\n",
    "isMH:是否采用MH算法，默认为True\n",
    "\n",
    "1）输入我们任意选定的马尔科夫链状态转移矩阵Q，平稳分布π(x)，设定状态转移次数阈值n1，需要的样本个数n2\n",
    "2）从任意简单概率分布采样得到初始状态值x0\n",
    "3）for t=0 to n1+n2−1:\n",
    "　a) 从条件概率分布Q(x|xt)中采样得到样本x∗\n",
    "　b) 从均匀分布采样u∼uniform[0,1]\n",
    "　c) 如果u<α(xt,x∗)=π(x∗)Q(x∗,xt), 则接受转移xt→x∗，即xt+1=x∗\n",
    "　d) 否则不接受转移，即xt+1=xt\n",
    "样本集(xn1,xn1+1,...,xn1+n2−1)即为我们需要的平稳分布对应的样本集。\n",
    "'''\n",
    "\n",
    "from __future__ import division\n",
    "import matplotlib.pyplot as plt\n",
    "import numpy as np\n",
    "from array import array\n",
    "%matplotlib inline\n",
    "\n",
    "def mcmc(Pi ,Q,N=1000,Nlmax=100000,isMH=False):\n",
    "    X0 = np.random.randint(len(Pi))# 第一步：从均匀分布（随便什么分布都可以）采样得到初始状态值x0\n",
    "    T = N+Nlmax-1\n",
    "    result = [0 for i in range(T)]\n",
    "    t = 0\n",
    "    while t < T-1:\n",
    "        t = t + 1\n",
    "        # 从条件概率分布Q(x|xt)中采样得到样本x∗\n",
    "        # 该步骤是模拟采样，根据多项分布，模拟走到了下一个状态\n",
    "        #（也可以将该步转换成一个按多项分布比例的均匀分布来采样）  \n",
    "        x_cur = np.argmax(np.random.multinomial(1,Q[result[t-1]]))  # 第二步：取下一个状态 ，采样候选样本\n",
    "        if isMH:\n",
    "            '''\n",
    "                细致平稳条件公式：πi Pij=πj Pji,∀i,j\n",
    "            '''\n",
    "            a = (Pi[x_cur] * Q[x_cur][result[t-1]]) /(Pi[result[t-1]] * Q[result[t-1]][x_cur])  # 第三步：计算接受率\n",
    "            acc = min(a ,1)\n",
    "        else: #mcmc\n",
    "            acc = Pi[x_cur] * Q[x_cur][result[t-1]]\n",
    "        u = np.random.uniform(0 ,1)  # 第四步：生成阈值\n",
    "        if u< acc:  # 第五步：是否接受样本\n",
    "            result[t]=x_cur\n",
    "        else:\n",
    "            result[t]= result[t-1]\n",
    "    return result\n",
    "\n",
    "def count(q, n):\n",
    "    L = array(\"d\")\n",
    "    l1 = array(\"d\")\n",
    "    l2 = array(\"d\")\n",
    "    for e in q:\n",
    "        L.append(e)\n",
    "    for e in range(n):\n",
    "        l1.append(L.count(e))\n",
    "    for e in l1:\n",
    "        l2.append(e / sum(l1))\n",
    "    return l1, l2\n",
    "\n",
    "if __name__ == '__main__':\n",
    "    Pi = np.array([0.5, 0.2, 0.3]) # 目标的概率分布\n",
    "    #状态转移矩阵，但是不满足在 平衡状态时和 Pi相符\n",
    "    #我们的目标是按照某种条件改造Q ，使其在平衡状态时和Pi相符\n",
    "    #改造方法就是，构造矩阵 P，且 P(i,j)=Q(i,j)α(i,j)\n",
    "    #                          α(i, j) = π(j)Q(j, i)\n",
    "    #                          α(j, i) = π(i)Q(i, j)\n",
    "    Q = np.array([[0.9, 0.075, 0.025],\n",
    "                  [0.15, 0.8, 0.05],\n",
    "                  [0.25, 0.25, 0.5]])\n",
    "\n",
    "    a = mcmc(Pi,Q)\n",
    "    l1 = ['state%d' % x for x in range(len(Pi))]\n",
    "    plt.pie(count(a, len(Pi))[0], labels=l1, labeldistance=0.3, autopct='%1.2f%%')\n",
    "    plt.title(\"markov:\" +str(Pi))\n",
    "    plt.show()\n"
   ]
  }
 ],
 "metadata": {
  "kernelspec": {
   "display_name": "Python 3",
   "language": "python",
   "name": "python3"
  },
  "language_info": {
   "codemirror_mode": {
    "name": "ipython",
    "version": 3
   },
   "file_extension": ".py",
   "mimetype": "text/x-python",
   "name": "python",
   "nbconvert_exporter": "python",
   "pygments_lexer": "ipython3",
   "version": "3.6.4"
  }
 },
 "nbformat": 4,
 "nbformat_minor": 2
}
