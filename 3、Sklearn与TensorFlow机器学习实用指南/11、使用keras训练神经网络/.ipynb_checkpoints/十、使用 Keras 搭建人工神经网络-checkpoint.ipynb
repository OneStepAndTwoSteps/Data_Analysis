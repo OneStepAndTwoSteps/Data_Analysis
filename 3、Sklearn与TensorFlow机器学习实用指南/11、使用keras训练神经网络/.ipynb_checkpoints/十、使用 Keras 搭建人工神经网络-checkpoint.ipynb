{
 "cells": [
  {
   "cell_type": "markdown",
   "metadata": {},
   "source": [
    "# 使用 Keras 搭建人工神经网络"
   ]
  },
  {
   "cell_type": "markdown",
   "metadata": {},
   "source": [
    "### 一、查看 tensorflow 是否安装成功"
   ]
  },
  {
   "cell_type": "code",
   "execution_count": 17,
   "metadata": {},
   "outputs": [],
   "source": [
    "import tensorflow as tf\n",
    "from tensorflow import keras\n",
    "import numpy as np\n",
    "import pandas as pd"
   ]
  },
  {
   "cell_type": "code",
   "execution_count": 3,
   "metadata": {},
   "outputs": [
    {
     "data": {
      "text/plain": [
       "'1.13.1'"
      ]
     },
     "execution_count": 3,
     "metadata": {},
     "output_type": "execute_result"
    }
   ],
   "source": [
    "tf.__version__"
   ]
  },
  {
   "cell_type": "code",
   "execution_count": 4,
   "metadata": {},
   "outputs": [
    {
     "data": {
      "text/plain": [
       "'2.2.4-tf'"
      ]
     },
     "execution_count": 4,
     "metadata": {},
     "output_type": "execute_result"
    }
   ],
   "source": [
    "keras.__version__"
   ]
  },
  {
   "cell_type": "markdown",
   "metadata": {},
   "source": [
    "### 二、使用 Keras 加载数据集"
   ]
  },
  {
   "cell_type": "markdown",
   "metadata": {},
   "source": [
    "Keras 提供一些实用的函数用来获取和加载常见的数据集，包括 MNIST、Fashion MNIST 和第 2 章用过的加州房产数据集。加载 Fashion MNIST："
   ]
  },
  {
   "cell_type": "code",
   "execution_count": 9,
   "metadata": {},
   "outputs": [],
   "source": [
    "fashion_mnist = keras.datasets.fashion_mnist\n",
    "(X_train_full, y_train_full), (X_test, y_test) = fashion_mnist.load_data()"
   ]
  },
  {
   "cell_type": "markdown",
   "metadata": {},
   "source": [
    "当使用 Keras 加载 MNIST 或 Fashion MNIST 时，和 Scikit-Learn 加载数据的一个重要区别是，每张图片是28 × 28的数组，而不是大小是 784 的 1D 数组。另外像素的强度是用整数（0 到 255）表示的，而不是浮点数（0.0 到 255.0）。看下训练集的形状和类型："
   ]
  },
  {
   "cell_type": "code",
   "execution_count": 11,
   "metadata": {},
   "outputs": [
    {
     "data": {
      "text/plain": [
       "(60000, 28, 28)"
      ]
     },
     "execution_count": 11,
     "metadata": {},
     "output_type": "execute_result"
    }
   ],
   "source": [
    "X_train_full.shape"
   ]
  },
  {
   "cell_type": "code",
   "execution_count": 18,
   "metadata": {},
   "outputs": [
    {
     "data": {
      "text/plain": [
       "dtype('uint8')"
      ]
     },
     "execution_count": 18,
     "metadata": {},
     "output_type": "execute_result"
    }
   ],
   "source": [
    "X_train_full.dtype"
   ]
  },
  {
   "cell_type": "markdown",
   "metadata": {},
   "source": [
    "该数据集已经分成了训练集和测试集，但没有验证集。所以要建一个验证集，另外，因为要用梯度下降训练神经网络，必须要对输入特征进行缩放。简单起见，通过除以 255.0 将强度范围变为 0-1："
   ]
  },
  {
   "cell_type": "code",
   "execution_count": 22,
   "metadata": {},
   "outputs": [],
   "source": [
    "X_valid,X_train = X_train_full[:5000]/255.0,X_train_full[5000:]/255.0\n",
    "y_valid,y_train = y_train_full[:5000],y_train_full[5000:]"
   ]
  },
  {
   "cell_type": "markdown",
   "metadata": {},
   "source": [
    "对于 MNIST，当标签等于 5 时，表明图片是手写的数字 5。但对于 Fashion MNIST，需要分类名的列表："
   ]
  },
  {
   "cell_type": "code",
   "execution_count": 20,
   "metadata": {},
   "outputs": [],
   "source": [
    "class_names = [\"T-shirt/top\", \"Trouser\", \"Pullover\", \"Dress\", \"Coat\",\n",
    "               \"Sandal\", \"Shirt\", \"Sneaker\", \"Bag\", \"Ankle boot\"] "
   ]
  },
  {
   "cell_type": "markdown",
   "metadata": {},
   "source": [
    "例如，训练集的第一张图片表示外套："
   ]
  },
  {
   "cell_type": "code",
   "execution_count": 23,
   "metadata": {},
   "outputs": [
    {
     "data": {
      "text/plain": [
       "'Coat'"
      ]
     },
     "execution_count": 23,
     "metadata": {},
     "output_type": "execute_result"
    }
   ],
   "source": [
    "class_names[y_train[0]]"
   ]
  },
  {
   "cell_type": "markdown",
   "metadata": {},
   "source": [
    "### 三、用顺序 API 创建模型"
   ]
  },
  {
   "cell_type": "code",
   "execution_count": 26,
   "metadata": {},
   "outputs": [
    {
     "name": "stdout",
     "output_type": "stream",
     "text": [
      "WARNING:tensorflow:From D:\\APYPLA~1\\venv_dir\\venv1\\lib\\site-packages\\tensorflow\\python\\ops\\resource_variable_ops.py:435: colocate_with (from tensorflow.python.framework.ops) is deprecated and will be removed in a future version.\n",
      "Instructions for updating:\n",
      "Colocations handled automatically by placer.\n"
     ]
    }
   ],
   "source": [
    "model = keras.models.Sequential()\n",
    "model.add(keras.layers.Flatten(input_shape=[28,28]))\n",
    "model.add(keras.layers.Dense(300,activation='relu'))\n",
    "model.add(keras.layers.Dense(100,activation='relu'))\n",
    "model.add(keras.layers.Dense(10,activation='softmax'))"
   ]
  },
  {
   "attachments": {
    "1628756817%281%29.jpg": {
     "image/jpeg": "[encoded data removed]"
    }
   },
   "cell_type": "markdown",
   "metadata": {},
   "source": [
    "逐行看下代码：\n",
    "\n",
    "* 第一行代码创建了一个顺序 模型，这是 Keras 最简单的模型，是由单层神经元顺序连起来的，被称为顺序 API；\n",
    "\n",
    "\n",
    "* 接下来创建了第一层，这是一个 `Flatten层` ，它的作用是将每个输入图片转变为 1D 数组：如果输入数据是 `X`，该层则计算 `X.reshape(-1, 1)`。该层没有任何参数，只是做一些简单预处理。因为是模型的第一层，必须要指明 `input_shape`，`input_shape` 不包括批次大小，只是实例的形状。另外，第一层也可以是 `keras.layers.InputLayer`，设置 `input_shape=[28,28]`;\n",
    "\n",
    "\n",
    "* 然后，添加了一个有 300 个神经元的紧密层，激活函数是 ReLU。每个紧密层只负责自身的权重矩阵，权重矩阵是神经元与输入的所有连接权重。紧密层还要负责偏置项（每个神经元都有一个偏置项）向量。当紧密层收到输入数据时，就利用如下公式进行计算：\n",
    "\n",
    "![1628756817%281%29.jpg](attachment:1628756817%281%29.jpg)\n",
    "\n",
    "* 接着再添加第二个紧密层，激活函数仍然是 ReLU；\n",
    "\n",
    "\n",
    "* 最后，加上一个拥有 10 个神经元的输出层（每有一个类就要有一个神经元），激活函数是 softmax（保证输出的概率和等于 1，因为就只有这是个类，具有排他性）。"
   ]
  },
  {
   "cell_type": "markdown",
   "metadata": {},
   "source": [
    "模型的 `summary()` 方法可以展示所有层，包括每个层的名字（名字是自动生成的，除非建层时指定名字），输出的形状（ `None` 代表批次大小可以是任意值），和参数的数量。最后会输出所有参数的数量，包括可训练和不可训练参数。\n",
    "\n",
    "这章只有可训练参数（第 11 章可以看到不可训练参数的例子）："
   ]
  },
  {
   "cell_type": "code",
   "execution_count": 28,
   "metadata": {},
   "outputs": [
    {
     "name": "stdout",
     "output_type": "stream",
     "text": [
      "_________________________________________________________________\n",
      "Layer (type)                 Output Shape              Param #   \n",
      "=================================================================\n",
      "flatten_1 (Flatten)          (None, 784)               0         \n",
      "_________________________________________________________________\n",
      "dense (Dense)                (None, 300)               235500    \n",
      "_________________________________________________________________\n",
      "dense_1 (Dense)              (None, 100)               30100     \n",
      "_________________________________________________________________\n",
      "dense_2 (Dense)              (None, 10)                1010      \n",
      "=================================================================\n",
      "Total params: 266,610\n",
      "Trainable params: 266,610\n",
      "Non-trainable params: 0\n",
      "_________________________________________________________________\n"
     ]
    }
   ],
   "source": [
    "model.summary()"
   ]
  },
  {
   "cell_type": "markdown",
   "metadata": {},
   "source": [
    "紧密层通常有许多参数。比如，第一个隐含层有 `784 × 300` 个连接权重，再加上 `300` 个偏置项，总共有 `235500` 个参数。这么多参数可以让模型具有足够的灵活度以拟合训练数据，但也意味着可能有过拟合的风险，特别是当训练数据不足时。后面再讨论这个问题。\n",
    "\n",
    "使用属性，获取神经层很容易，可以通过索引或名称获取对应的层："
   ]
  },
  {
   "cell_type": "code",
   "execution_count": 29,
   "metadata": {},
   "outputs": [
    {
     "data": {
      "text/plain": [
       "[<tensorflow.python.keras.layers.core.Flatten at 0x1ca0b4cce10>,\n",
       " <tensorflow.python.keras.layers.core.Dense at 0x1ca0b4ccf28>,\n",
       " <tensorflow.python.keras.layers.core.Dense at 0x1ca0b500160>,\n",
       " <tensorflow.python.keras.layers.core.Dense at 0x1ca0b500240>]"
      ]
     },
     "execution_count": 29,
     "metadata": {},
     "output_type": "execute_result"
    }
   ],
   "source": [
    "model.layers"
   ]
  },
  {
   "cell_type": "code",
   "execution_count": 32,
   "metadata": {},
   "outputs": [
    {
     "data": {
      "text/plain": [
       "'dense'"
      ]
     },
     "execution_count": 32,
     "metadata": {},
     "output_type": "execute_result"
    }
   ],
   "source": [
    "hidden1 = model.layers[1]\n",
    "hidden1.name"
   ]
  },
  {
   "cell_type": "code",
   "execution_count": 33,
   "metadata": {},
   "outputs": [
    {
     "data": {
      "text/plain": [
       "True"
      ]
     },
     "execution_count": 33,
     "metadata": {},
     "output_type": "execute_result"
    }
   ],
   "source": [
    "model.get_layer('dense') is hidden1"
   ]
  },
  {
   "cell_type": "markdown",
   "metadata": {},
   "source": [
    "可以用 `get_weights()` 和 `set_weights()` 方法，获取神经层的所有参数。对于紧密层，参数包括 `连接权重` 和 `偏置项`："
   ]
  },
  {
   "cell_type": "code",
   "execution_count": 34,
   "metadata": {},
   "outputs": [
    {
     "data": {
      "text/plain": [
       "array([[-0.0204033 ,  0.01251883, -0.03042106, ..., -0.06858013,\n",
       "        -0.00748003,  0.01333757],\n",
       "       [ 0.04203597, -0.05735145, -0.01066719, ..., -0.00935526,\n",
       "         0.02611314, -0.06450643],\n",
       "       [-0.00057121,  0.05467187, -0.06485866, ...,  0.01020288,\n",
       "        -0.03086314,  0.01780966],\n",
       "       ...,\n",
       "       [-0.03885067,  0.06087716, -0.04061935, ..., -0.05019247,\n",
       "         0.03506415, -0.01687093],\n",
       "       [ 0.05755325, -0.04045345,  0.07282361, ...,  0.06137431,\n",
       "         0.07331294,  0.07183865],\n",
       "       [ 0.03034234, -0.07258083, -0.01201869, ...,  0.06633256,\n",
       "        -0.02958009, -0.02477586]], dtype=float32)"
      ]
     },
     "execution_count": 34,
     "metadata": {},
     "output_type": "execute_result"
    }
   ],
   "source": [
    "weights,biases = hidden1.get_weights()\n",
    "weights"
   ]
  },
  {
   "cell_type": "code",
   "execution_count": 36,
   "metadata": {},
   "outputs": [
    {
     "data": {
      "text/plain": [
       "(784, 300)"
      ]
     },
     "execution_count": 36,
     "metadata": {},
     "output_type": "execute_result"
    }
   ],
   "source": [
    "weights.shape  # 参数 w"
   ]
  },
  {
   "cell_type": "code",
   "execution_count": 37,
   "metadata": {},
   "outputs": [
    {
     "data": {
      "text/plain": [
       "(300,)"
      ]
     },
     "execution_count": 37,
     "metadata": {},
     "output_type": "execute_result"
    }
   ],
   "source": [
    "biases.shape  # 偏置项 b"
   ]
  },
  {
   "cell_type": "markdown",
   "metadata": {},
   "source": [
    "紧密层是随机初始化连接权重的（为了避免对称性），偏置项则是 0。如果想使用不同的初始化方法，可以在创建层时设置 `kernel_initializer`（核是连接矩阵的另一个名字）或 `bias_initializer` 。第 11 章会进一步讨论初始化器，初始化器的完整列表见 [这里](https://links.jianshu.com/go?to=https%3A%2F%2Fkeras.io%2Finitializers%2F)。"
   ]
  },
  {
   "cell_type": "markdown",
   "metadata": {},
   "source": [
    "#### 笔记：\n",
    "\n",
    "权重矩阵的形状取决于输入的数量。这就是为什么要在创建 `Sequential模型` 的第一层时指定 `input_shape` 。但是，如果不指定形状也没关系：Keras 会在真正搭建模型前一直等待，直到弄清输入的形状（输入真实数据时，或调用 `build()` 方法时）。在搭建模型之前，神经层是没有权重的，也干不了什么事（比如打印模型概要或保存模型）。`所以如果在创建模型时知道输入的形状，最好就设置好。`"
   ]
  },
  {
   "cell_type": "markdown",
   "metadata": {},
   "source": [
    "### 四、编译模型"
   ]
  },
  {
   "cell_type": "markdown",
   "metadata": {},
   "source": [
    "创建好模型之后，必须调用 `compile()` 方法，设置损失函数和优化器。另外，还可以指定训练和评估过程中要计算的额外指标的列表："
   ]
  },
  {
   "cell_type": "code",
   "execution_count": 39,
   "metadata": {},
   "outputs": [],
   "source": [
    "model.compile(loss='sparse_categorical_crossentropy',optimizer='sgd',metrics=['accuracy'])"
   ]
  },
  {
   "cell_type": "markdown",
   "metadata": {},
   "source": [
    "#### 笔记：\n",
    "\n",
    "使用 `loss=\"sparse_categorical_crossentropy\"` 等同于 `loss=keras.losses.sparse_categorical_crossentropy` 。\n",
    "\n",
    "相似的，`optimizer=\"sgd\"` 等同于 `optimizer=keras.optimizers.SGD()` ，`metrics=[\"accuracy\"]` 等同于 `metrics=[keras.metrics.sparse_categorical_accuracy]`。\n",
    "\n",
    "后面还会使用其他的 `损失函数` 、`优化器` 和 `指标`，它们的完整列表见 [这里](https://links.jianshu.com/go?to=https%3A%2F%2Fkeras.io%2Flosses)、 [这里](https://links.jianshu.com/go?to=https%3A%2F%2Fkeras.io%2Foptimizers)、和[这里](https://links.jianshu.com/go?to=https%3A%2F%2Fkeras.io%2Fmetrics。)"
   ]
  },
  {
   "cell_type": "markdown",
   "metadata": {},
   "source": [
    "解释下这段代码。首先，因为使用的是稀疏标签（每个实例只有一个目标类的索引，在这个例子中，目标类索引是 0 到 9），且就是这十个类，没有其它的，所以使用的是 `\"sparse_categorical_crossentropy\"` 损失函数。如果每个实例的每个类都有一个目标概率（比如独热向量，`[0., 0., 0., 1., 0., 0., 0., 0., 0., 0.]` ，来表示类 3），则就要使用 `\"categorical_crossentropy\"` 损失函数。如果是做二元分类（有一个或多个二元标签），输出层就得使用 `\"sigmoid\"` 激活函数，损失函数则变为 `\"binary_crossentropy\"`。"
   ]
  },
  {
   "cell_type": "markdown",
   "metadata": {},
   "source": [
    "### 五、训练和评估模型"
   ]
  },
  {
   "cell_type": "markdown",
   "metadata": {},
   "source": [
    "可以训练模型了。只需调用 fit() 方法："
   ]
  },
  {
   "cell_type": "code",
   "execution_count": 40,
   "metadata": {
    "scrolled": true
   },
   "outputs": [
    {
     "name": "stdout",
     "output_type": "stream",
     "text": [
      "Train on 55000 samples, validate on 5000 samples\n",
      "Epoch 1/30\n",
      "55000/55000 [==============================] - 7s 125us/sample - loss: 0.7274 - acc: 0.7609 - val_loss: 0.5115 - val_acc: 0.8300\n",
      "Epoch 2/30\n",
      "55000/55000 [==============================] - 6s 105us/sample - loss: 0.4882 - acc: 0.8284 - val_loss: 0.4651 - val_acc: 0.8350\n",
      "Epoch 3/30\n",
      "55000/55000 [==============================] - 6s 102us/sample - loss: 0.4413 - acc: 0.8457 - val_loss: 0.4275 - val_acc: 0.8570\n",
      "Epoch 4/30\n",
      "55000/55000 [==============================] - 6s 106us/sample - loss: 0.4137 - acc: 0.8551 - val_loss: 0.4369 - val_acc: 0.8382\n",
      "Epoch 5/30\n",
      "55000/55000 [==============================] - 6s 103us/sample - loss: 0.3942 - acc: 0.8613 - val_loss: 0.3766 - val_acc: 0.8748\n",
      "Epoch 6/30\n",
      "55000/55000 [==============================] - 6s 102us/sample - loss: 0.3777 - acc: 0.8669 - val_loss: 0.3730 - val_acc: 0.8698\n",
      "Epoch 7/30\n",
      "55000/55000 [==============================] - 6s 104us/sample - loss: 0.3662 - acc: 0.8705 - val_loss: 0.3604 - val_acc: 0.8764\n",
      "Epoch 8/30\n",
      "55000/55000 [==============================] - 6s 102us/sample - loss: 0.3543 - acc: 0.8745 - val_loss: 0.3564 - val_acc: 0.8786\n",
      "Epoch 9/30\n",
      "55000/55000 [==============================] - 6s 103us/sample - loss: 0.3429 - acc: 0.8785 - val_loss: 0.3443 - val_acc: 0.8810\n",
      "Epoch 10/30\n",
      "55000/55000 [==============================] - 6s 105us/sample - loss: 0.3336 - acc: 0.8812 - val_loss: 0.3434 - val_acc: 0.8788\n",
      "Epoch 11/30\n",
      "55000/55000 [==============================] - 6s 101us/sample - loss: 0.3250 - acc: 0.8849 - val_loss: 0.3642 - val_acc: 0.8716\n",
      "Epoch 12/30\n",
      "55000/55000 [==============================] - 6s 102us/sample - loss: 0.3184 - acc: 0.8865 - val_loss: 0.3399 - val_acc: 0.8798\n",
      "Epoch 13/30\n",
      "55000/55000 [==============================] - 6s 103us/sample - loss: 0.3106 - acc: 0.8889 - val_loss: 0.3240 - val_acc: 0.8862\n",
      "Epoch 14/30\n",
      "55000/55000 [==============================] - 6s 105us/sample - loss: 0.3039 - acc: 0.8913 - val_loss: 0.3210 - val_acc: 0.8830\n",
      "Epoch 15/30\n",
      "55000/55000 [==============================] - 6s 103us/sample - loss: 0.2971 - acc: 0.8932 - val_loss: 0.3295 - val_acc: 0.8822\n",
      "Epoch 16/30\n",
      "55000/55000 [==============================] - 6s 103us/sample - loss: 0.2911 - acc: 0.8951 - val_loss: 0.3483 - val_acc: 0.8676\n",
      "Epoch 17/30\n",
      "55000/55000 [==============================] - 6s 100us/sample - loss: 0.2849 - acc: 0.8973 - val_loss: 0.3351 - val_acc: 0.8744\n",
      "Epoch 18/30\n",
      "55000/55000 [==============================] - 6s 103us/sample - loss: 0.2801 - acc: 0.8993 - val_loss: 0.3195 - val_acc: 0.8852\n",
      "Epoch 19/30\n",
      "55000/55000 [==============================] - 6s 104us/sample - loss: 0.2746 - acc: 0.9016 - val_loss: 0.3602 - val_acc: 0.8670\n",
      "Epoch 20/30\n",
      "55000/55000 [==============================] - 6s 105us/sample - loss: 0.2705 - acc: 0.9023 - val_loss: 0.3107 - val_acc: 0.8888\n",
      "Epoch 21/30\n",
      "55000/55000 [==============================] - 6s 103us/sample - loss: 0.2654 - acc: 0.9054 - val_loss: 0.3066 - val_acc: 0.8878\n",
      "Epoch 22/30\n",
      "55000/55000 [==============================] - 6s 101us/sample - loss: 0.2608 - acc: 0.9071 - val_loss: 0.3469 - val_acc: 0.8756\n",
      "Epoch 23/30\n",
      "55000/55000 [==============================] - 6s 102us/sample - loss: 0.2563 - acc: 0.9065 - val_loss: 0.3048 - val_acc: 0.8888\n",
      "Epoch 24/30\n",
      "55000/55000 [==============================] - 6s 103us/sample - loss: 0.2522 - acc: 0.9094 - val_loss: 0.3085 - val_acc: 0.8848\n",
      "Epoch 25/30\n",
      "55000/55000 [==============================] - 6s 104us/sample - loss: 0.2473 - acc: 0.9117 - val_loss: 0.3315 - val_acc: 0.8810\n",
      "Epoch 26/30\n",
      "55000/55000 [==============================] - 6s 104us/sample - loss: 0.2437 - acc: 0.9130 - val_loss: 0.3077 - val_acc: 0.8886\n",
      "Epoch 27/30\n",
      "55000/55000 [==============================] - 6s 104us/sample - loss: 0.2398 - acc: 0.9129 - val_loss: 0.2943 - val_acc: 0.8948\n",
      "Epoch 28/30\n",
      "55000/55000 [==============================] - 6s 106us/sample - loss: 0.2362 - acc: 0.9163 - val_loss: 0.3136 - val_acc: 0.8892\n",
      "Epoch 29/30\n",
      "55000/55000 [==============================] - 6s 104us/sample - loss: 0.2318 - acc: 0.9176 - val_loss: 0.3087 - val_acc: 0.8860\n",
      "Epoch 30/30\n",
      "55000/55000 [==============================] - 6s 107us/sample - loss: 0.2280 - acc: 0.9179 - val_loss: 0.3166 - val_acc: 0.8872\n"
     ]
    }
   ],
   "source": [
    "history = model.fit(X_train,y_train,epochs=30,validation_data=(X_valid,y_valid))"
   ]
  },
  {
   "cell_type": "markdown",
   "metadata": {},
   "source": [
    "这里，向 `fit()` 方法传递了输入特征 `(X_train)` 和目标类 `(y_train)`，还要要训练的周期数（不设置的话，默认的周期数是 1，肯定是不能收敛到一个好的解的）。另外还传递了验证集（它是可选的）。Keras 会在每个周期结束后，测量损失和指标，这样就可以监测模型的表现。如果模型在训练集上的表现优于在验证集上的表现，可能模型在训练集上就过拟合了（或者就是存在 bug，比如训练集和验证集的数据不匹配）。"
   ]
  },
  {
   "cell_type": "markdown",
   "metadata": {},
   "source": [
    "#### 提示：\n",
    "\n",
    "除了通过参数 `validation_data` 传递验证集，也可以通过参数 `validation_split` 从训练集分割出一部分作为验证集。比如，`validation_split=0.1` 可以让 `Keras` 使用训练数据（打散前）的末尾 10% 作为验证集。"
   ]
  },
  {
   "cell_type": "markdown",
   "metadata": {},
   "source": [
    "如果训练集非常倾斜，一些类过渡表达，一些欠表达，在调用 `fit()` 时最好设置 `class_weight` 参数，可以加大欠表达类的权重，减小过渡表达类的权重。Keras 在计算损失时，会使用这些权重。如果每个实例都要加权重，可以设置 `sample_weight`（这个参数优先于 `class_weight` ）。如果一些实例的标签是通过专家添加的，其它实例是通过众包平台添加的，最好加大前者的权重，此时给每个实例都加权重就很有必要。通过在 `validation_data` 元组中，给验证集加上样本权重作为第三项，还可以给验证集添加样本权重。"
   ]
  },
  {
   "cell_type": "markdown",
   "metadata": {},
   "source": [
    "`fit()` 方法会返回 `History` 对象，包含：`训练参数（history.params）` 、 `周期列表（history.epoch）`、以及最重要的包含训练集和验证集的每个周期后的损失和指标的字典 `（history.history）`。如果用这个字典创建一个 `pandas` 的 `DataFrame` ，然后使用方法 `plot()` ，就可以画出学习曲线，见图 ："
   ]
  },
  {
   "cell_type": "code",
   "execution_count": 41,
   "metadata": {},
   "outputs": [],
   "source": [
    "import pandas as pd\n",
    "import matplotlib.pyplot as plt"
   ]
  },
  {
   "cell_type": "code",
   "execution_count": 54,
   "metadata": {},
   "outputs": [],
   "source": [
    "# history.history #包含训练集和验证集的每个周期后的损失和指标的字典 "
   ]
  },
  {
   "cell_type": "code",
   "execution_count": 56,
   "metadata": {},
   "outputs": [
    {
     "data": {
      "image/png": "[encoded data removed]",
      "text/plain": [
       "<Figure size 864x576 with 1 Axes>"
      ]
     },
     "metadata": {
      "needs_background": "light"
     },
     "output_type": "display_data"
    }
   ],
   "source": [
    "pd.DataFrame(history.history).plot(figsize=(12,8))\n",
    "plt.grid(True) # 是否加上网格\n",
    "plt.gca().set_ylim(0,1)\n",
    "plt.show()"
   ]
  },
  {
   "cell_type": "markdown",
   "metadata": {},
   "source": [
    "记录了每个周期的平均训练损失和准确率，验证损失和准确率"
   ]
  },
  {
   "cell_type": "markdown",
   "metadata": {},
   "source": [
    "可以看到，训练准确率和验证准确率稳步提高，训练损失和验证损失持续下降。另外，验证曲线和训练曲线靠的很近，意味着没有什么过拟合。在这个例子中，在训练一开始时，模型在验证集上的表现由于训练集。\n",
    "\n",
    "`但实际情况是，验证误差是在每个周期结束后算出来的，而训练误差在每个周期期间，用流动平均误差算出来的。所以训练曲线（译者注，图中橙色的那条）实际应该向左移动半个周期。移动之后，就可以发现在训练开始时，训练和验证曲线几乎是完美重合起来的。`"
   ]
  },
  {
   "cell_type": "markdown",
   "metadata": {},
   "source": [
    "#### 提示：\n",
    "\n",
    "在绘制训练曲线时，应该向左移动半个周期。"
   ]
  },
  {
   "cell_type": "markdown",
   "metadata": {},
   "source": [
    "通常只要训练时间足够长，训练集的表现就能超越验证集。从图中可以看到，验证损失仍然在下降，模型收敛的还不好，所以训练应该持续下去。只需要再次调用方法 `fit()` 即可，因为 Keras 可以从断点处继续（验证准确率可以达到 89%。）\n",
    "\n",
    "如果仍然对模型的表现不满意，就需要调节超参数了。首先是学习率。如果调节学习率没有帮助，就尝试换一个优化器（记得再调节任何超参数之后都重新调节学习率）。如果效果仍然不好，就调节模型自身的超参数，比如层数、每层的神经元数，每个隐藏层的激活函数。还可以调节其它超参数，比如批次大小（通过 `fit()` 的参数 `batch_size` ，默认是 `32`）。本章末尾还会调节超参数。当对验证准确率达到满意之后，就可以用测试集评估 `泛化误差` 。只需使用 `evaluate()` 方法（`evaluate()` 方法包含参数 `batch_size` 和 `sample_weight`）："
   ]
  },
  {
   "cell_type": "markdown",
   "metadata": {},
   "source": [
    "一、经验误差（训练误差）与泛化误差\n",
    "\n",
    "* 经验误差（训练误差）：模型在训练集上的误差称为“经验误差”（empirical error）或者“训练误差”“training error”。\n",
    "\n",
    "\n",
    "* 泛化误差：模型在新样本集（测试集）上的误差称为“泛化误差”（generalization error）。\n"
   ]
  },
  {
   "cell_type": "code",
   "execution_count": null,
   "metadata": {},
   "outputs": [],
   "source": []
  },
  {
   "cell_type": "code",
   "execution_count": null,
   "metadata": {},
   "outputs": [],
   "source": []
  },
  {
   "cell_type": "code",
   "execution_count": null,
   "metadata": {},
   "outputs": [],
   "source": []
  },
  {
   "cell_type": "code",
   "execution_count": null,
   "metadata": {},
   "outputs": [],
   "source": []
  },
  {
   "cell_type": "code",
   "execution_count": null,
   "metadata": {},
   "outputs": [],
   "source": []
  }
 ],
 "metadata": {
  "kernelspec": {
   "display_name": "venv1",
   "language": "python",
   "name": "venv1"
  },
  "language_info": {
   "codemirror_mode": {
    "name": "ipython",
    "version": 3
   },
   "file_extension": ".py",
   "mimetype": "text/x-python",
   "name": "python",
   "nbconvert_exporter": "python",
   "pygments_lexer": "ipython3",
   "version": "3.6.4"
  }
 },
 "nbformat": 4,
 "nbformat_minor": 2
}
