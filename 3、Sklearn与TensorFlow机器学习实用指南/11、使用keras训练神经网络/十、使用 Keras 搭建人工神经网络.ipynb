{
 "cells": [
  {
   "cell_type": "markdown",
   "metadata": {},
   "source": [
    "# 使用 Keras 搭建人工神经网络"
   ]
  },
  {
   "cell_type": "markdown",
   "metadata": {},
   "source": [
    "### 一、查看 tensorflow 是否安装成功"
   ]
  },
  {
   "cell_type": "code",
   "execution_count": 1,
   "metadata": {},
   "outputs": [
    {
     "name": "stderr",
     "output_type": "stream",
     "text": [
      "D:\\APYPLA~1\\venv_dir\\venv1\\lib\\site-packages\\tensorflow\\python\\framework\\dtypes.py:526: FutureWarning: Passing (type, 1) or '1type' as a synonym of type is deprecated; in a future version of numpy, it will be understood as (type, (1,)) / '(1,)type'.\n",
      "  _np_qint8 = np.dtype([(\"qint8\", np.int8, 1)])\n",
      "D:\\APYPLA~1\\venv_dir\\venv1\\lib\\site-packages\\tensorflow\\python\\framework\\dtypes.py:527: FutureWarning: Passing (type, 1) or '1type' as a synonym of type is deprecated; in a future version of numpy, it will be understood as (type, (1,)) / '(1,)type'.\n",
      "  _np_quint8 = np.dtype([(\"quint8\", np.uint8, 1)])\n",
      "D:\\APYPLA~1\\venv_dir\\venv1\\lib\\site-packages\\tensorflow\\python\\framework\\dtypes.py:528: FutureWarning: Passing (type, 1) or '1type' as a synonym of type is deprecated; in a future version of numpy, it will be understood as (type, (1,)) / '(1,)type'.\n",
      "  _np_qint16 = np.dtype([(\"qint16\", np.int16, 1)])\n",
      "D:\\APYPLA~1\\venv_dir\\venv1\\lib\\site-packages\\tensorflow\\python\\framework\\dtypes.py:529: FutureWarning: Passing (type, 1) or '1type' as a synonym of type is deprecated; in a future version of numpy, it will be understood as (type, (1,)) / '(1,)type'.\n",
      "  _np_quint16 = np.dtype([(\"quint16\", np.uint16, 1)])\n",
      "D:\\APYPLA~1\\venv_dir\\venv1\\lib\\site-packages\\tensorflow\\python\\framework\\dtypes.py:530: FutureWarning: Passing (type, 1) or '1type' as a synonym of type is deprecated; in a future version of numpy, it will be understood as (type, (1,)) / '(1,)type'.\n",
      "  _np_qint32 = np.dtype([(\"qint32\", np.int32, 1)])\n",
      "D:\\APYPLA~1\\venv_dir\\venv1\\lib\\site-packages\\tensorflow\\python\\framework\\dtypes.py:535: FutureWarning: Passing (type, 1) or '1type' as a synonym of type is deprecated; in a future version of numpy, it will be understood as (type, (1,)) / '(1,)type'.\n",
      "  np_resource = np.dtype([(\"resource\", np.ubyte, 1)])\n",
      "D:\\python\\lib\\site-packages\\h5py\\__init__.py:36: FutureWarning: Conversion of the second argument of issubdtype from `float` to `np.floating` is deprecated. In future, it will be treated as `np.float64 == np.dtype(float).type`.\n",
      "  from ._conv import register_converters as _register_converters\n"
     ]
    }
   ],
   "source": [
    "import tensorflow as tf\n",
    "from tensorflow import keras\n",
    "import numpy as np\n",
    "import pandas as pd"
   ]
  },
  {
   "cell_type": "code",
   "execution_count": 2,
   "metadata": {},
   "outputs": [
    {
     "data": {
      "text/plain": [
       "'1.13.1'"
      ]
     },
     "execution_count": 2,
     "metadata": {},
     "output_type": "execute_result"
    }
   ],
   "source": [
    "tf.__version__"
   ]
  },
  {
   "cell_type": "code",
   "execution_count": 3,
   "metadata": {},
   "outputs": [
    {
     "data": {
      "text/plain": [
       "'2.2.4-tf'"
      ]
     },
     "execution_count": 3,
     "metadata": {},
     "output_type": "execute_result"
    }
   ],
   "source": [
    "keras.__version__"
   ]
  },
  {
   "cell_type": "markdown",
   "metadata": {},
   "source": [
    "### 二、使用 Keras 加载数据集"
   ]
  },
  {
   "cell_type": "markdown",
   "metadata": {},
   "source": [
    "Keras 提供一些实用的函数用来获取和加载常见的数据集，包括 MNIST、Fashion MNIST 和第 2 章用过的加州房产数据集。加载 Fashion MNIST："
   ]
  },
  {
   "cell_type": "code",
   "execution_count": 4,
   "metadata": {},
   "outputs": [],
   "source": [
    "fashion_mnist = keras.datasets.fashion_mnist\n",
    "(X_train_full, y_train_full), (X_test, y_test) = fashion_mnist.load_data()"
   ]
  },
  {
   "cell_type": "markdown",
   "metadata": {},
   "source": [
    "当使用 Keras 加载 MNIST 或 Fashion MNIST 时，和 Scikit-Learn 加载数据的一个重要区别是，每张图片是28 × 28的数组，而不是大小是 784 的 1D 数组。另外像素的强度是用整数（0 到 255）表示的，而不是浮点数（0.0 到 255.0）。看下训练集的形状和类型："
   ]
  },
  {
   "cell_type": "code",
   "execution_count": 5,
   "metadata": {},
   "outputs": [
    {
     "data": {
      "text/plain": [
       "(60000, 28, 28)"
      ]
     },
     "execution_count": 5,
     "metadata": {},
     "output_type": "execute_result"
    }
   ],
   "source": [
    "X_train_full.shape"
   ]
  },
  {
   "cell_type": "code",
   "execution_count": 6,
   "metadata": {},
   "outputs": [
    {
     "data": {
      "text/plain": [
       "dtype('uint8')"
      ]
     },
     "execution_count": 6,
     "metadata": {},
     "output_type": "execute_result"
    }
   ],
   "source": [
    "X_train_full.dtype"
   ]
  },
  {
   "cell_type": "markdown",
   "metadata": {},
   "source": [
    "该数据集已经分成了训练集和测试集，但没有验证集。所以要建一个验证集，另外，因为要用梯度下降训练神经网络，必须要对输入特征进行缩放。简单起见，通过除以 255.0 将强度范围变为 0-1："
   ]
  },
  {
   "cell_type": "code",
   "execution_count": 7,
   "metadata": {},
   "outputs": [],
   "source": [
    "X_valid,X_train = X_train_full[:5000]/255.0,X_train_full[5000:]/255.0\n",
    "y_valid,y_train = y_train_full[:5000],y_train_full[5000:]"
   ]
  },
  {
   "cell_type": "markdown",
   "metadata": {},
   "source": [
    "对于 MNIST，当标签等于 5 时，表明图片是手写的数字 5。但对于 Fashion MNIST，需要分类名的列表："
   ]
  },
  {
   "cell_type": "code",
   "execution_count": 8,
   "metadata": {},
   "outputs": [],
   "source": [
    "class_names = [\"T-shirt/top\", \"Trouser\", \"Pullover\", \"Dress\", \"Coat\",\n",
    "               \"Sandal\", \"Shirt\", \"Sneaker\", \"Bag\", \"Ankle boot\"] "
   ]
  },
  {
   "cell_type": "markdown",
   "metadata": {},
   "source": [
    "例如，训练集的第一张图片表示外套："
   ]
  },
  {
   "cell_type": "code",
   "execution_count": 9,
   "metadata": {},
   "outputs": [
    {
     "data": {
      "text/plain": [
       "'Coat'"
      ]
     },
     "execution_count": 9,
     "metadata": {},
     "output_type": "execute_result"
    }
   ],
   "source": [
    "class_names[y_train[0]]"
   ]
  },
  {
   "cell_type": "markdown",
   "metadata": {},
   "source": [
    "### 三、用顺序 API 创建模型"
   ]
  },
  {
   "cell_type": "code",
   "execution_count": 10,
   "metadata": {},
   "outputs": [
    {
     "name": "stdout",
     "output_type": "stream",
     "text": [
      "WARNING:tensorflow:From D:\\APYPLA~1\\venv_dir\\venv1\\lib\\site-packages\\tensorflow\\python\\ops\\resource_variable_ops.py:435: colocate_with (from tensorflow.python.framework.ops) is deprecated and will be removed in a future version.\n",
      "Instructions for updating:\n",
      "Colocations handled automatically by placer.\n"
     ]
    }
   ],
   "source": [
    "model = keras.models.Sequential()\n",
    "model.add(keras.layers.Flatten(input_shape=[28,28]))\n",
    "model.add(keras.layers.Dense(300,activation='relu'))\n",
    "model.add(keras.layers.Dense(100,activation='relu'))\n",
    "model.add(keras.layers.Dense(10,activation='softmax'))"
   ]
  },
  {
   "attachments": {
    "1628756817%281%29.jpg": {
     "image/jpeg": "[encoded data removed]"
    }
   },
   "cell_type": "markdown",
   "metadata": {},
   "source": [
    "逐行看下代码：\n",
    "\n",
    "* 第一行代码创建了一个顺序 模型，这是 Keras 最简单的模型，是由单层神经元顺序连起来的，被称为顺序 API；\n",
    "\n",
    "\n",
    "* 接下来创建了第一层，这是一个 `Flatten层` ，它的作用是将每个输入图片转变为 1D 数组：如果输入数据是 `X`，该层则计算 `X.reshape(-1, 1)`。该层没有任何参数，只是做一些简单预处理。因为是模型的第一层，必须要指明 `input_shape`，`input_shape` 不包括批次大小，只是实例的形状。另外，第一层也可以是 `keras.layers.InputLayer`，设置 `input_shape=[28,28]`;\n",
    "\n",
    "\n",
    "* 然后，添加了一个有 300 个神经元的紧密层，激活函数是 ReLU。每个紧密层只负责自身的权重矩阵，权重矩阵是神经元与输入的所有连接权重。紧密层还要负责偏置项（每个神经元都有一个偏置项）向量。当紧密层收到输入数据时，就利用如下公式进行计算：\n",
    "\n",
    "![1628756817%281%29.jpg](attachment:1628756817%281%29.jpg)\n",
    "\n",
    "* 接着再添加第二个紧密层，激活函数仍然是 ReLU；\n",
    "\n",
    "\n",
    "* 最后，加上一个拥有 10 个神经元的输出层（每有一个类就要有一个神经元），激活函数是 softmax（保证输出的概率和等于 1，因为就只有这是个类，具有排他性）。"
   ]
  },
  {
   "cell_type": "markdown",
   "metadata": {},
   "source": [
    "模型的 `summary()` 方法可以展示所有层，包括每个层的名字（名字是自动生成的，除非建层时指定名字），输出的形状（ `None` 代表批次大小可以是任意值），和参数的数量。最后会输出所有参数的数量，包括可训练和不可训练参数。\n",
    "\n",
    "这章只有可训练参数（第 11 章可以看到不可训练参数的例子）："
   ]
  },
  {
   "cell_type": "code",
   "execution_count": 11,
   "metadata": {},
   "outputs": [
    {
     "name": "stdout",
     "output_type": "stream",
     "text": [
      "_________________________________________________________________\n",
      "Layer (type)                 Output Shape              Param #   \n",
      "=================================================================\n",
      "flatten (Flatten)            (None, 784)               0         \n",
      "_________________________________________________________________\n",
      "dense (Dense)                (None, 300)               235500    \n",
      "_________________________________________________________________\n",
      "dense_1 (Dense)              (None, 100)               30100     \n",
      "_________________________________________________________________\n",
      "dense_2 (Dense)              (None, 10)                1010      \n",
      "=================================================================\n",
      "Total params: 266,610\n",
      "Trainable params: 266,610\n",
      "Non-trainable params: 0\n",
      "_________________________________________________________________\n"
     ]
    }
   ],
   "source": [
    "model.summary()"
   ]
  },
  {
   "cell_type": "markdown",
   "metadata": {},
   "source": [
    "紧密层通常有许多参数。比如，第一个隐含层有 `784 × 300` 个连接权重，再加上 `300` 个偏置项，总共有 `235500` 个参数。这么多参数可以让模型具有足够的灵活度以拟合训练数据，但也意味着可能有过拟合的风险，特别是当训练数据不足时。后面再讨论这个问题。\n",
    "\n",
    "使用属性，获取神经层很容易，可以通过索引或名称获取对应的层："
   ]
  },
  {
   "cell_type": "code",
   "execution_count": 12,
   "metadata": {},
   "outputs": [
    {
     "data": {
      "text/plain": [
       "[<tensorflow.python.keras.layers.core.Flatten at 0x17bd2a3dc50>,\n",
       " <tensorflow.python.keras.layers.core.Dense at 0x17bd2a4f080>,\n",
       " <tensorflow.python.keras.layers.core.Dense at 0x17bbe588908>,\n",
       " <tensorflow.python.keras.layers.core.Dense at 0x17bef5690b8>]"
      ]
     },
     "execution_count": 12,
     "metadata": {},
     "output_type": "execute_result"
    }
   ],
   "source": [
    "model.layers"
   ]
  },
  {
   "cell_type": "code",
   "execution_count": 13,
   "metadata": {},
   "outputs": [
    {
     "data": {
      "text/plain": [
       "'dense'"
      ]
     },
     "execution_count": 13,
     "metadata": {},
     "output_type": "execute_result"
    }
   ],
   "source": [
    "hidden1 = model.layers[1]\n",
    "hidden1.name"
   ]
  },
  {
   "cell_type": "code",
   "execution_count": 14,
   "metadata": {},
   "outputs": [
    {
     "data": {
      "text/plain": [
       "True"
      ]
     },
     "execution_count": 14,
     "metadata": {},
     "output_type": "execute_result"
    }
   ],
   "source": [
    "model.get_layer('dense') is hidden1"
   ]
  },
  {
   "cell_type": "markdown",
   "metadata": {},
   "source": [
    "可以用 `get_weights()` 和 `set_weights()` 方法，获取神经层的所有参数。对于紧密层，参数包括 `连接权重` 和 `偏置项`："
   ]
  },
  {
   "cell_type": "code",
   "execution_count": 15,
   "metadata": {},
   "outputs": [
    {
     "data": {
      "text/plain": [
       "array([[-0.07019254, -0.02593466,  0.04743237, ..., -0.05560141,\n",
       "        -0.00539859,  0.03870178],\n",
       "       [-0.01807035,  0.02305226, -0.02676559, ..., -0.03859125,\n",
       "         0.05268484,  0.05615769],\n",
       "       [-0.052945  ,  0.02088895, -0.04444405, ..., -0.01688186,\n",
       "         0.06685808, -0.06063293],\n",
       "       ...,\n",
       "       [ 0.00094752, -0.02497667, -0.07143408, ..., -0.0537893 ,\n",
       "        -0.05283489, -0.07083493],\n",
       "       [-0.04615991,  0.02909764, -0.02926473, ...,  0.05295894,\n",
       "        -0.00425192, -0.0437604 ],\n",
       "       [ 0.01494247, -0.00875542,  0.00196617, ..., -0.02588453,\n",
       "         0.05788939, -0.0147734 ]], dtype=float32)"
      ]
     },
     "execution_count": 15,
     "metadata": {},
     "output_type": "execute_result"
    }
   ],
   "source": [
    "weights,biases = hidden1.get_weights()\n",
    "weights"
   ]
  },
  {
   "cell_type": "code",
   "execution_count": 16,
   "metadata": {},
   "outputs": [
    {
     "data": {
      "text/plain": [
       "(784, 300)"
      ]
     },
     "execution_count": 16,
     "metadata": {},
     "output_type": "execute_result"
    }
   ],
   "source": [
    "weights.shape  # 参数 w"
   ]
  },
  {
   "cell_type": "code",
   "execution_count": 17,
   "metadata": {},
   "outputs": [
    {
     "data": {
      "text/plain": [
       "(300,)"
      ]
     },
     "execution_count": 17,
     "metadata": {},
     "output_type": "execute_result"
    }
   ],
   "source": [
    "biases.shape  # 偏置项 b"
   ]
  },
  {
   "cell_type": "markdown",
   "metadata": {},
   "source": [
    "紧密层是随机初始化连接权重的（为了避免对称性），偏置项则是 0。如果想使用不同的初始化方法，可以在创建层时设置 `kernel_initializer`（核是连接矩阵的另一个名字）或 `bias_initializer` 。第 11 章会进一步讨论初始化器，初始化器的完整列表见 [这里](https://links.jianshu.com/go?to=https%3A%2F%2Fkeras.io%2Finitializers%2F)。"
   ]
  },
  {
   "cell_type": "markdown",
   "metadata": {},
   "source": [
    "#### 笔记：\n",
    "\n",
    "权重矩阵的形状取决于输入的数量。这就是为什么要在创建 `Sequential模型` 的第一层时指定 `input_shape` 。但是，如果不指定形状也没关系：Keras 会在真正搭建模型前一直等待，直到弄清输入的形状（输入真实数据时，或调用 `build()` 方法时）。在搭建模型之前，神经层是没有权重的，也干不了什么事（比如打印模型概要或保存模型）。`所以如果在创建模型时知道输入的形状，最好就设置好。`"
   ]
  },
  {
   "cell_type": "markdown",
   "metadata": {},
   "source": [
    "### 四、编译模型"
   ]
  },
  {
   "cell_type": "markdown",
   "metadata": {},
   "source": [
    "创建好模型之后，必须调用 `compile()` 方法，设置损失函数和优化器。另外，还可以指定训练和评估过程中要计算的额外指标的列表："
   ]
  },
  {
   "cell_type": "code",
   "execution_count": 18,
   "metadata": {},
   "outputs": [],
   "source": [
    "model.compile(loss='sparse_categorical_crossentropy',optimizer='sgd',metrics=['accuracy'])"
   ]
  },
  {
   "cell_type": "markdown",
   "metadata": {},
   "source": [
    "#### 笔记：\n",
    "\n",
    "使用 `loss=\"sparse_categorical_crossentropy\"` 等同于 `loss=keras.losses.sparse_categorical_crossentropy` 。\n",
    "\n",
    "相似的，`optimizer=\"sgd\"` 等同于 `optimizer=keras.optimizers.SGD()` ，`metrics=[\"accuracy\"]` 等同于 `metrics=[keras.metrics.sparse_categorical_accuracy]`。\n",
    "\n",
    "后面还会使用其他的 `损失函数` 、`优化器` 和 `指标`，它们的完整列表见 [这里](https://links.jianshu.com/go?to=https%3A%2F%2Fkeras.io%2Flosses)、 [这里](https://links.jianshu.com/go?to=https%3A%2F%2Fkeras.io%2Foptimizers)、和[这里](https://links.jianshu.com/go?to=https%3A%2F%2Fkeras.io%2Fmetrics。)"
   ]
  },
  {
   "cell_type": "markdown",
   "metadata": {},
   "source": [
    "解释下这段代码。首先，因为使用的是稀疏标签（每个实例只有一个目标类的索引，在这个例子中，目标类索引是 0 到 9），且就是这十个类，没有其它的，所以使用的是 `\"sparse_categorical_crossentropy\"` 损失函数。如果每个实例的每个类都有一个目标概率（比如独热向量，`[0., 0., 0., 1., 0., 0., 0., 0., 0., 0.]` ，来表示类 3），则就要使用 `\"categorical_crossentropy\"` 损失函数。如果是做二元分类（有一个或多个二元标签），输出层就得使用 `\"sigmoid\"` 激活函数，损失函数则变为 `\"binary_crossentropy\"`。"
   ]
  },
  {
   "cell_type": "markdown",
   "metadata": {},
   "source": [
    "### 五、训练和评估模型"
   ]
  },
  {
   "cell_type": "markdown",
   "metadata": {},
   "source": [
    "可以训练模型了。只需调用 fit() 方法："
   ]
  },
  {
   "cell_type": "code",
   "execution_count": 19,
   "metadata": {
    "scrolled": true
   },
   "outputs": [
    {
     "name": "stdout",
     "output_type": "stream",
     "text": [
      "Train on 55000 samples, validate on 5000 samples\n",
      "Epoch 1/30\n",
      "55000/55000 [==============================] - 4s 78us/sample - loss: 0.7187 - acc: 0.7629 - val_loss: 0.4960 - val_acc: 0.8358\n",
      "Epoch 2/30\n",
      "55000/55000 [==============================] - 5s 100us/sample - loss: 0.4857 - acc: 0.8311 - val_loss: 0.4482 - val_acc: 0.8476\n",
      "Epoch 3/30\n",
      "55000/55000 [==============================] - 7s 125us/sample - loss: 0.4419 - acc: 0.8454 - val_loss: 0.4480 - val_acc: 0.8452\n",
      "Epoch 4/30\n",
      "55000/55000 [==============================] - 190s 3ms/sample - loss: 0.4148 - acc: 0.8538 - val_loss: 0.4421 - val_acc: 0.8390\n",
      "Epoch 5/30\n",
      "55000/55000 [==============================] - 4s 74us/sample - loss: 0.3949 - acc: 0.8603 - val_loss: 0.4058 - val_acc: 0.8576\n",
      "Epoch 6/30\n",
      "55000/55000 [==============================] - 4s 76us/sample - loss: 0.3781 - acc: 0.8673 - val_loss: 0.3667 - val_acc: 0.8718\n",
      "Epoch 7/30\n",
      "55000/55000 [==============================] - 4s 67us/sample - loss: 0.3652 - acc: 0.8709 - val_loss: 0.3652 - val_acc: 0.8738\n",
      "Epoch 8/30\n",
      "55000/55000 [==============================] - 4s 67us/sample - loss: 0.3528 - acc: 0.8759 - val_loss: 0.3467 - val_acc: 0.8774\n",
      "Epoch 9/30\n",
      "55000/55000 [==============================] - 4s 68us/sample - loss: 0.3439 - acc: 0.8781 - val_loss: 0.3602 - val_acc: 0.8692\n",
      "Epoch 10/30\n",
      "55000/55000 [==============================] - 3s 63us/sample - loss: 0.3334 - acc: 0.8821 - val_loss: 0.3495 - val_acc: 0.8770\n",
      "Epoch 11/30\n",
      "55000/55000 [==============================] - 4s 65us/sample - loss: 0.3254 - acc: 0.8832 - val_loss: 0.3618 - val_acc: 0.8674\n",
      "Epoch 12/30\n",
      "55000/55000 [==============================] - 4s 64us/sample - loss: 0.3185 - acc: 0.8866 - val_loss: 0.3299 - val_acc: 0.8798\n",
      "Epoch 13/30\n",
      "55000/55000 [==============================] - 4s 69us/sample - loss: 0.3108 - acc: 0.8881 - val_loss: 0.3401 - val_acc: 0.8788\n",
      "Epoch 14/30\n",
      "55000/55000 [==============================] - 4s 72us/sample - loss: 0.3045 - acc: 0.8903 - val_loss: 0.3263 - val_acc: 0.8804\n",
      "Epoch 15/30\n",
      "55000/55000 [==============================] - 5s 87us/sample - loss: 0.2978 - acc: 0.8934 - val_loss: 0.3264 - val_acc: 0.8812\n",
      "Epoch 16/30\n",
      "55000/55000 [==============================] - 4s 81us/sample - loss: 0.2919 - acc: 0.8938 - val_loss: 0.3147 - val_acc: 0.8838\n",
      "Epoch 17/30\n",
      "55000/55000 [==============================] - 4s 76us/sample - loss: 0.2860 - acc: 0.8974 - val_loss: 0.3371 - val_acc: 0.8770\n",
      "Epoch 18/30\n",
      "55000/55000 [==============================] - 4s 77us/sample - loss: 0.2795 - acc: 0.8988 - val_loss: 0.3114 - val_acc: 0.8860\n",
      "Epoch 19/30\n",
      "55000/55000 [==============================] - 4s 73us/sample - loss: 0.2758 - acc: 0.9007 - val_loss: 0.3159 - val_acc: 0.8862\n",
      "Epoch 20/30\n",
      "55000/55000 [==============================] - 4s 73us/sample - loss: 0.2697 - acc: 0.9036 - val_loss: 0.3294 - val_acc: 0.8828\n",
      "Epoch 21/30\n",
      "55000/55000 [==============================] - 4s 70us/sample - loss: 0.2648 - acc: 0.9048 - val_loss: 0.3235 - val_acc: 0.8792\n",
      "Epoch 22/30\n",
      "55000/55000 [==============================] - 4s 72us/sample - loss: 0.2611 - acc: 0.9064 - val_loss: 0.3123 - val_acc: 0.8824\n",
      "Epoch 23/30\n",
      "55000/55000 [==============================] - 4s 73us/sample - loss: 0.2559 - acc: 0.9074 - val_loss: 0.3029 - val_acc: 0.8878\n",
      "Epoch 24/30\n",
      "55000/55000 [==============================] - 4s 70us/sample - loss: 0.2510 - acc: 0.9099 - val_loss: 0.3083 - val_acc: 0.8860\n",
      "Epoch 25/30\n",
      "55000/55000 [==============================] - 4s 71us/sample - loss: 0.2483 - acc: 0.9112 - val_loss: 0.3205 - val_acc: 0.8864\n",
      "Epoch 26/30\n",
      "55000/55000 [==============================] - 4s 65us/sample - loss: 0.2440 - acc: 0.9127 - val_loss: 0.3058 - val_acc: 0.8864\n",
      "Epoch 27/30\n",
      "55000/55000 [==============================] - 4s 66us/sample - loss: 0.2400 - acc: 0.9132 - val_loss: 0.3085 - val_acc: 0.8832\n",
      "Epoch 28/30\n",
      "55000/55000 [==============================] - 4s 68us/sample - loss: 0.2353 - acc: 0.9150 - val_loss: 0.2972 - val_acc: 0.8918\n",
      "Epoch 29/30\n",
      "55000/55000 [==============================] - 4s 66us/sample - loss: 0.2327 - acc: 0.9159 - val_loss: 0.2902 - val_acc: 0.8934\n",
      "Epoch 30/30\n",
      "55000/55000 [==============================] - 4s 65us/sample - loss: 0.2286 - acc: 0.9184 - val_loss: 0.3035 - val_acc: 0.8886\n"
     ]
    }
   ],
   "source": [
    "history = model.fit(X_train,y_train,epochs=30,validation_data=(X_valid,y_valid))"
   ]
  },
  {
   "cell_type": "markdown",
   "metadata": {},
   "source": [
    "这里，向 `fit()` 方法传递了输入特征 `(X_train)` 和目标类 `(y_train)`，还要要训练的周期数（不设置的话，默认的周期数是 1，肯定是不能收敛到一个好的解的）。另外还传递了验证集（它是可选的）。Keras 会在每个周期结束后，测量损失和指标，这样就可以监测模型的表现。如果模型在训练集上的表现优于在验证集上的表现，可能模型在训练集上就过拟合了（或者就是存在 bug，比如训练集和验证集的数据不匹配）。"
   ]
  },
  {
   "cell_type": "markdown",
   "metadata": {},
   "source": [
    "#### 提示：\n",
    "\n",
    "除了通过参数 `validation_data` 传递验证集，也可以通过参数 `validation_split` 从训练集分割出一部分作为验证集。比如，`validation_split=0.1` 可以让 `Keras` 使用训练数据（打散前）的末尾 10% 作为验证集。"
   ]
  },
  {
   "cell_type": "markdown",
   "metadata": {},
   "source": [
    "如果训练集非常倾斜，一些类过渡表达，一些欠表达，在调用 `fit()` 时最好设置 `class_weight` 参数，可以加大欠表达类的权重，减小过渡表达类的权重。Keras 在计算损失时，会使用这些权重。如果每个实例都要加权重，可以设置 `sample_weight`（这个参数优先于 `class_weight` ）。如果一些实例的标签是通过专家添加的，其它实例是通过众包平台添加的，最好加大前者的权重，此时给每个实例都加权重就很有必要。通过在 `validation_data` 元组中，给验证集加上样本权重作为第三项，还可以给验证集添加样本权重。"
   ]
  },
  {
   "cell_type": "markdown",
   "metadata": {},
   "source": [
    "`fit()` 方法会返回 `History` 对象，包含：`训练参数（history.params）` 、 `周期列表（history.epoch）`、以及最重要的包含训练集和验证集的每个周期后的损失和指标的字典 `（history.history）`。如果用这个字典创建一个 `pandas` 的 `DataFrame` ，然后使用方法 `plot()` ，就可以画出学习曲线，见图 ："
   ]
  },
  {
   "cell_type": "code",
   "execution_count": 20,
   "metadata": {},
   "outputs": [],
   "source": [
    "import pandas as pd\n",
    "import matplotlib.pyplot as plt"
   ]
  },
  {
   "cell_type": "code",
   "execution_count": 21,
   "metadata": {},
   "outputs": [],
   "source": [
    "# history.history #包含训练集和验证集的每个周期后的损失和指标的字典 "
   ]
  },
  {
   "cell_type": "code",
   "execution_count": 22,
   "metadata": {},
   "outputs": [
    {
     "data": {
      "image/png": "[encoded data removed]",
      "text/plain": [
       "<Figure size 864x576 with 1 Axes>"
      ]
     },
     "metadata": {
      "needs_background": "light"
     },
     "output_type": "display_data"
    }
   ],
   "source": [
    "pd.DataFrame(history.history).plot(figsize=(12,8))\n",
    "plt.grid(True) # 是否加上网格\n",
    "plt.gca().set_ylim(0,1)\n",
    "plt.show()"
   ]
  },
  {
   "cell_type": "markdown",
   "metadata": {},
   "source": [
    "记录了每个周期的平均训练损失和准确率，验证损失和准确率"
   ]
  },
  {
   "cell_type": "markdown",
   "metadata": {},
   "source": [
    "可以看到，训练准确率和验证准确率稳步提高，训练损失和验证损失持续下降。另外，验证曲线和训练曲线靠的很近，意味着没有什么过拟合。在这个例子中，在训练一开始时，模型在验证集上的表现由于训练集。\n",
    "\n",
    "`但实际情况是，验证误差是在每个周期结束后算出来的，而训练误差在每个周期期间，用流动平均误差算出来的。所以训练曲线（译者注，图中橙色的那条）实际应该向左移动半个周期。移动之后，就可以发现在训练开始时，训练和验证曲线几乎是完美重合起来的。`"
   ]
  },
  {
   "cell_type": "markdown",
   "metadata": {},
   "source": [
    "#### 提示：\n",
    "\n",
    "在绘制训练曲线时，应该向左移动半个周期。"
   ]
  },
  {
   "cell_type": "markdown",
   "metadata": {},
   "source": [
    "通常只要训练时间足够长，训练集的表现就能超越验证集。从图中可以看到，验证损失仍然在下降，模型收敛的还不好，所以训练应该持续下去。只需要再次调用方法 `fit()` 即可，因为 Keras 可以从断点处继续（验证准确率可以达到 89%。）\n",
    "\n",
    "如果仍然对模型的表现不满意，就需要调节超参数了。首先是学习率。如果调节学习率没有帮助，就尝试换一个优化器（记得再调节任何超参数之后都重新调节学习率）。如果效果仍然不好，就调节模型自身的超参数，比如层数、每层的神经元数，每个隐藏层的激活函数。还可以调节其它超参数，比如批次大小（通过 `fit()` 的参数 `batch_size` ，默认是 `32`）。本章末尾还会调节超参数。当对验证准确率达到满意之后，就可以用测试集评估 `泛化误差` 。只需使用 `evaluate()` 方法（`evaluate()` 方法包含参数 `batch_size` 和 `sample_weight`）："
   ]
  },
  {
   "cell_type": "markdown",
   "metadata": {},
   "source": [
    "一、经验误差（训练误差）与泛化误差\n",
    "\n",
    "* 经验误差（训练误差）：模型在训练集上的误差称为“经验误差”（empirical error）或者“训练误差”“training error”。\n",
    "\n",
    "\n",
    "* 泛化误差：模型在新样本集（测试集）上的误差称为“泛化误差”（generalization error）。\n"
   ]
  },
  {
   "cell_type": "code",
   "execution_count": 38,
   "metadata": {},
   "outputs": [],
   "source": [
    "x_test = X_test/255.0"
   ]
  },
  {
   "cell_type": "code",
   "execution_count": 39,
   "metadata": {},
   "outputs": [
    {
     "name": "stdout",
     "output_type": "stream",
     "text": [
      "10000/10000 [==============================] - 0s 30us/sample - loss: 0.3404 - acc: 0.8771\n"
     ]
    },
    {
     "data": {
      "text/plain": [
       "[0.3404469667673111, 0.8771]"
      ]
     },
     "execution_count": 39,
     "metadata": {},
     "output_type": "execute_result"
    }
   ],
   "source": [
    "model.evaluate(x_test,y_test)"
   ]
  },
  {
   "cell_type": "markdown",
   "metadata": {},
   "source": [
    "### 5、使用模型进行预测"
   ]
  },
  {
   "cell_type": "markdown",
   "metadata": {},
   "source": [
    "接下来，就可以用模型的predict()方法对新实例做预测了。因为并没有新实例，所以就用测试集的前 3 个实例来演示："
   ]
  },
  {
   "cell_type": "code",
   "execution_count": 41,
   "metadata": {},
   "outputs": [
    {
     "data": {
      "text/plain": [
       "array([[0.  , 0.  , 0.  , 0.  , 0.  , 0.02, 0.  , 0.01, 0.  , 0.97],\n",
       "       [0.  , 0.  , 0.99, 0.  , 0.01, 0.  , 0.  , 0.  , 0.  , 0.  ],\n",
       "       [0.  , 1.  , 0.  , 0.  , 0.  , 0.  , 0.  , 0.  , 0.  , 0.  ]],\n",
       "      dtype=float32)"
      ]
     },
     "execution_count": 41,
     "metadata": {},
     "output_type": "execute_result"
    }
   ],
   "source": [
    "y_predict = model.predict(x_test[:3])\n",
    "y_predict.round(2)"
   ]
  },
  {
   "cell_type": "markdown",
   "metadata": {},
   "source": [
    "可以看到，模型会对每个实例的每个类（从 0 到 9）都给出一个概率。\n",
    "\n",
    "如果只关心概率最高的类（即使概率不高），可以使用方法 `predict_classes()：`"
   ]
  },
  {
   "cell_type": "code",
   "execution_count": 42,
   "metadata": {},
   "outputs": [
    {
     "data": {
      "text/plain": [
       "array([9, 2, 1], dtype=int64)"
      ]
     },
     "execution_count": 42,
     "metadata": {},
     "output_type": "execute_result"
    }
   ],
   "source": [
    "y_predict_class = model.predict_classes(x_test[:3])\n",
    "y_predict_class"
   ]
  },
  {
   "cell_type": "code",
   "execution_count": 44,
   "metadata": {},
   "outputs": [
    {
     "data": {
      "text/plain": [
       "array(['Ankle boot', 'Pullover', 'Trouser'], dtype='<U11')"
      ]
     },
     "execution_count": 44,
     "metadata": {},
     "output_type": "execute_result"
    }
   ],
   "source": [
    "np.array(class_names)[y_predict_class]"
   ]
  },
  {
   "cell_type": "code",
   "execution_count": 46,
   "metadata": {},
   "outputs": [
    {
     "data": {
      "text/plain": [
       "(28, 28)"
      ]
     },
     "execution_count": 46,
     "metadata": {},
     "output_type": "execute_result"
    }
   ],
   "source": [
    "X_train[1].shape"
   ]
  },
  {
   "cell_type": "code",
   "execution_count": 47,
   "metadata": {},
   "outputs": [],
   "source": [
    "from PIL import Image"
   ]
  },
  {
   "cell_type": "code",
   "execution_count": 66,
   "metadata": {},
   "outputs": [
    {
     "data": {
      "image/png": "[encoded data removed]",
      "text/plain": [
       "<PIL.Image.Image image mode=L size=320x280 at 0x17BF24D77B8>"
      ]
     },
     "execution_count": 66,
     "metadata": {},
     "output_type": "execute_result"
    }
   ],
   "source": [
    "Image.fromarray(X_test[9].astype(np.uint8)).resize((320, 280), Image.ANTIALIAS) # 鞋子\n",
    "Image.fromarray(X_test[2].astype(np.uint8)).resize((320, 280), Image.ANTIALIAS) # 裤子\n",
    "Image.fromarray(X_test[1].astype(np.uint8)).resize((320, 280), Image.ANTIALIAS) # 👕"
   ]
  },
  {
   "cell_type": "markdown",
   "metadata": {},
   "source": [
    "### 6、使用顺序 API 搭建回归 MLP"
   ]
  },
  {
   "cell_type": "markdown",
   "metadata": {},
   "source": [
    "接下来使用回归神经网络来处理加州房价问题。简便起见，使用 `Scikit-Learn` 的 `fetch_california_housing()` 函数来加载数据。这个数据集比第 2 章所用的数据集简单，因为它只包括数值特征（没有 `ocean_proximity` ），也不包括缺失值。加载好数据之后，将数据集分割成训练集、验证集和测试集，并做特征缩放："
   ]
  },
  {
   "cell_type": "code",
   "execution_count": 67,
   "metadata": {},
   "outputs": [],
   "source": [
    "from sklearn.datasets import fetch_california_housing\n",
    "from sklearn.model_selection import train_test_split\n",
    "from sklearn.preprocessing import StandardScaler"
   ]
  },
  {
   "cell_type": "code",
   "execution_count": 68,
   "metadata": {},
   "outputs": [],
   "source": [
    "hoursing = fetch_california_housing()\n",
    "\n",
    "x_train_full,x_test,y_train_full,y_test = train_test_split(hoursing.data,hoursing.target)\n",
    "x_train,x_valid,y_train,y_valid = train_test_split(x_train_full,y_train_full) "
   ]
  },
  {
   "cell_type": "code",
   "execution_count": 72,
   "metadata": {},
   "outputs": [],
   "source": [
    "ss = StandardScaler()\n",
    "x_train = ss.fit_transform(x_train)\n",
    "x_valid = ss.transform(x_valid)\n",
    "x_test = ss.transform(x_test)"
   ]
  },
  {
   "cell_type": "code",
   "execution_count": 82,
   "metadata": {},
   "outputs": [
    {
     "data": {
      "text/plain": [
       "array([ 0.09617197, -0.59865946,  0.53649872, -0.31531635, -0.23290533,\n",
       "        0.00898411, -0.78337866,  1.08349551])"
      ]
     },
     "execution_count": 82,
     "metadata": {},
     "output_type": "execute_result"
    }
   ],
   "source": [
    "x_test[1]"
   ]
  },
  {
   "cell_type": "code",
   "execution_count": 78,
   "metadata": {},
   "outputs": [
    {
     "data": {
      "text/plain": [
       "(11610, 8)"
      ]
     },
     "execution_count": 78,
     "metadata": {},
     "output_type": "execute_result"
    }
   ],
   "source": [
    "x_train.shape"
   ]
  },
  {
   "cell_type": "code",
   "execution_count": 77,
   "metadata": {},
   "outputs": [
    {
     "data": {
      "text/plain": [
       "(55000, 28, 28)"
      ]
     },
     "execution_count": 77,
     "metadata": {},
     "output_type": "execute_result"
    }
   ],
   "source": [
    "X_train.shape"
   ]
  },
  {
   "cell_type": "code",
   "execution_count": 83,
   "metadata": {},
   "outputs": [
    {
     "name": "stdout",
     "output_type": "stream",
     "text": [
      "Train on 11610 samples, validate on 3870 samples\n",
      "Epoch 1/20\n",
      "11610/11610 [==============================] - 1s 53us/sample - loss: 0.8606 - val_loss: 0.4976\n",
      "Epoch 2/20\n",
      "11610/11610 [==============================] - 0s 31us/sample - loss: 0.5305 - val_loss: 0.4416\n",
      "Epoch 3/20\n",
      "11610/11610 [==============================] - 0s 28us/sample - loss: 0.5233 - val_loss: 0.4071\n",
      "Epoch 4/20\n",
      "11610/11610 [==============================] - 0s 25us/sample - loss: 0.4761 - val_loss: 0.4310\n",
      "Epoch 5/20\n",
      "11610/11610 [==============================] - 0s 25us/sample - loss: 0.4556 - val_loss: 0.4887\n",
      "Epoch 6/20\n",
      "11610/11610 [==============================] - 0s 25us/sample - loss: 0.5444 - val_loss: 0.4579\n",
      "Epoch 7/20\n",
      "11610/11610 [==============================] - 0s 26us/sample - loss: 0.4719 - val_loss: 0.4771\n",
      "Epoch 8/20\n",
      "11610/11610 [==============================] - 0s 28us/sample - loss: 0.4401 - val_loss: 0.5394\n",
      "Epoch 9/20\n",
      "11610/11610 [==============================] - 0s 25us/sample - loss: 0.4287 - val_loss: 0.5717\n",
      "Epoch 10/20\n",
      "11610/11610 [==============================] - 0s 25us/sample - loss: 0.4219 - val_loss: 0.6374\n",
      "Epoch 11/20\n",
      "11610/11610 [==============================] - 0s 25us/sample - loss: 0.4162 - val_loss: 0.6962\n",
      "Epoch 12/20\n",
      "11610/11610 [==============================] - 0s 25us/sample - loss: 0.4126 - val_loss: 0.7889\n",
      "Epoch 13/20\n",
      "11610/11610 [==============================] - 0s 25us/sample - loss: 0.4050 - val_loss: 0.8397\n",
      "Epoch 14/20\n",
      "11610/11610 [==============================] - 0s 27us/sample - loss: 0.4142 - val_loss: 0.9040\n",
      "Epoch 15/20\n",
      "11610/11610 [==============================] - 0s 25us/sample - loss: 0.4030 - val_loss: 1.0921\n",
      "Epoch 16/20\n",
      "11610/11610 [==============================] - 0s 25us/sample - loss: 0.3973 - val_loss: 1.0634\n",
      "Epoch 17/20\n",
      "11610/11610 [==============================] - 0s 28us/sample - loss: 0.3912 - val_loss: 1.1989\n",
      "Epoch 18/20\n",
      "11610/11610 [==============================] - 0s 25us/sample - loss: 0.3915 - val_loss: 1.3393\n",
      "Epoch 19/20\n",
      "11610/11610 [==============================] - 0s 27us/sample - loss: 0.3943 - val_loss: 2.0785\n",
      "Epoch 20/20\n",
      "11610/11610 [==============================] - 0s 26us/sample - loss: 0.4012 - val_loss: 1.4514\n",
      "5160/5160 [==============================] - 0s 12us/sample - loss: 0.5032\n"
     ]
    }
   ],
   "source": [
    "model = keras.models.Sequential(\n",
    "    \n",
    "    [\n",
    "        keras.layers.Dense(30,activation='relu',input_shape=x_train.shape[1:]),\n",
    "        keras.layers.Dense(1)\n",
    "    ]\n",
    "    )\n",
    "\n",
    "model.compile(loss='mean_squared_error',optimizer='sgd')\n",
    "history = model.fit(x_train,y_train,epochs=20,validation_data=(x_valid,y_valid))\n",
    "mse_err = model.evaluate(x_test,y_test)\n",
    "x_new = x_test[:3]\n",
    "y_pre = model.predict(x_new)"
   ]
  },
  {
   "cell_type": "code",
   "execution_count": 84,
   "metadata": {},
   "outputs": [
    {
     "data": {
      "text/plain": [
       "0.50315572644851"
      ]
     },
     "execution_count": 84,
     "metadata": {},
     "output_type": "execute_result"
    }
   ],
   "source": [
    "mse_err"
   ]
  },
  {
   "cell_type": "code",
   "execution_count": 86,
   "metadata": {},
   "outputs": [
    {
     "data": {
      "text/plain": [
       "array([3.097, 1.368, 2.906])"
      ]
     },
     "execution_count": 86,
     "metadata": {},
     "output_type": "execute_result"
    }
   ],
   "source": [
    "y_test[:3]"
   ]
  },
  {
   "cell_type": "code",
   "execution_count": 85,
   "metadata": {},
   "outputs": [
    {
     "data": {
      "text/plain": [
       "array([[3.3128605],\n",
       "       [1.5488467],\n",
       "       [3.4599814]], dtype=float32)"
      ]
     },
     "execution_count": 85,
     "metadata": {},
     "output_type": "execute_result"
    }
   ],
   "source": [
    "y_pre"
   ]
  },
  {
   "cell_type": "markdown",
   "metadata": {},
   "source": [
    "可以看到，使用顺序 API 是很方便的。但是，尽管Sequential十分常见，但用它搭建复杂拓扑形态或多输入多输出的神经网络还是不多。所以，Keras 还提供了函数式 API。"
   ]
  },
  {
   "cell_type": "markdown",
   "metadata": {},
   "source": [
    "### 8、使用函数式 API 搭建复杂模型"
   ]
  },
  {
   "cell_type": "markdown",
   "metadata": {},
   "source": [
    "我们来搭建一个这样的神经网络，来解决加州房价问题：\n",
    "<div align=center><img  src=\"./static/使用函数式 API 搭建复杂模型1.jpg\"/></div>\n"
   ]
  },
  {
   "cell_type": "code",
   "execution_count": 93,
   "metadata": {},
   "outputs": [],
   "source": [
    "input_ = keras.layers.Input(shape=x_train.shape[1:])\n",
    "hidden1 = keras.layers.Dense(30,activation='relu')(input_)\n",
    "hidden2 = keras.layers.Dense(30,activation='relu')(hidden1)\n",
    "concat = keras.layers.Concatenate()([input_,hidden2])\n",
    "output = keras.layers.Dense(1)(concat)\n",
    "model = keras.Model(inputs=[input_],outputs=[output])"
   ]
  },
  {
   "cell_type": "markdown",
   "metadata": {},
   "source": [
    "每行代码的作用：\n",
    "\n",
    "* 首先创建一个Input对象。包括模型输入的形状shape和数据类型dtype。模型可能会有多种输入。\n",
    "\n",
    "\n",
    "* 然后，创建一个有 30 个神经元的紧密层，激活函数是 ReLU。创建好之后，将其作为函数，直接将输入传给它。这就是函数式 API 的得名原因。这里只是告诉 Keras 如何将层连起来，并没有导入实际数据。\n",
    "\n",
    "\n",
    "* 然后创建第二个隐藏层，还是将其作为函数使用，输入时第一个隐藏层的输出；\n",
    "\n",
    "\n",
    "* 接着，创建一个连接Concatenate层，也是作为函数使用，将输入和第二个隐藏层的输出连起来。可以使用keras.layers.concatenate()。\n",
    "\n",
    "\n",
    "* 然后创建输出层，只有一个神经元，没有激活函数，将连接层的输出作为输入。\n",
    "\n",
    "\n",
    "* 最后，创建一个 Keras 的Model，指明输入和输出。"
   ]
  },
  {
   "cell_type": "markdown",
   "metadata": {},
   "source": [
    "搭建好模型之后，重复之前的步骤：编译模型、训练、评估、做预测。\n",
    "\n",
    "但是如果你想将部分特征发送给 wide 路径，将部分特征（可以有重叠）发送给 deep 路径，该怎么做呢？答案是可以使用多输入。例如，`假设向 wide 路径发送 5 个特征（特征 0 到 4）`，`向 deep 路径发送 6 个特征（特征 2 到 7）`："
   ]
  },
  {
   "cell_type": "markdown",
   "metadata": {},
   "source": [
    "<div align=center><img  src=\"./static/使用函数式 API 搭建复杂模型2.jpg\"/></div>\n"
   ]
  },
  {
   "cell_type": "code",
   "execution_count": 99,
   "metadata": {},
   "outputs": [],
   "source": [
    "input_A = keras.layers.Input(shape=[5],name='wide_input')\n",
    "input_B = keras.layers.Input(shape=[6],name='deep_input')\n",
    "hidden1 = keras.layers.Dense(30,activation='relu')(input_B)\n",
    "hidden2 = keras.layers.Dense(30,activation='relu')(hidden1)\n",
    "concat = keras.layers.Concatenate()([input_A,hidden2])\n",
    "output = keras.layers.Dense(1,name='output')(concat)\n",
    "model = keras.Model(inputs = [input_A,input_B],outputs=[output])"
   ]
  },
  {
   "cell_type": "markdown",
   "metadata": {},
   "source": [
    "代码非常浅显易懂。值得注意的是，在创建模型时，我们指明了 `inputs=[input_A, input_B]` 。然后就可以像通常那样编译模型了，但当调用 `fit()` 时，不是传入矩阵 `X_train` ，而是传入一对矩阵 `(X_train_A, X_train_B)` ：每个输入一个矩阵。同理调用 `evaluate()` 或 `predict()` 时，`X_valid、X_test、X_new` 也要变化："
   ]
  },
  {
   "cell_type": "code",
   "execution_count": 100,
   "metadata": {},
   "outputs": [
    {
     "name": "stdout",
     "output_type": "stream",
     "text": [
      "Train on 11610 samples, validate on 3870 samples\n",
      "Epoch 1/20\n",
      "11610/11610 [==============================] - 1s 67us/sample - loss: 2.2289 - val_loss: 0.9622\n",
      "Epoch 2/20\n",
      "11610/11610 [==============================] - 0s 35us/sample - loss: 0.7626 - val_loss: 0.6544\n",
      "Epoch 3/20\n",
      "11610/11610 [==============================] - 0s 32us/sample - loss: 0.6209 - val_loss: 0.5652\n",
      "Epoch 4/20\n",
      "11610/11610 [==============================] - 0s 30us/sample - loss: 0.5739 - val_loss: 0.5266\n",
      "Epoch 5/20\n",
      "11610/11610 [==============================] - 0s 30us/sample - loss: 0.5497 - val_loss: 0.5031\n",
      "Epoch 6/20\n",
      "11610/11610 [==============================] - 0s 30us/sample - loss: 0.5341 - val_loss: 0.4890\n",
      "Epoch 7/20\n",
      "11610/11610 [==============================] - 0s 30us/sample - loss: 0.5226 - val_loss: 0.4773\n",
      "Epoch 8/20\n",
      "11610/11610 [==============================] - 0s 30us/sample - loss: 0.5144 - val_loss: 0.4683\n",
      "Epoch 9/20\n",
      "11610/11610 [==============================] - 0s 30us/sample - loss: 0.5077 - val_loss: 0.4635\n",
      "Epoch 10/20\n",
      "11610/11610 [==============================] - 0s 30us/sample - loss: 0.5023 - val_loss: 0.4556\n",
      "Epoch 11/20\n",
      "11610/11610 [==============================] - 0s 31us/sample - loss: 0.4981 - val_loss: 0.4526\n",
      "Epoch 12/20\n",
      "11610/11610 [==============================] - 0s 30us/sample - loss: 0.4941 - val_loss: 0.4496\n",
      "Epoch 13/20\n",
      "11610/11610 [==============================] - 0s 30us/sample - loss: 0.4907 - val_loss: 0.4495\n",
      "Epoch 14/20\n",
      "11610/11610 [==============================] - 0s 32us/sample - loss: 0.4875 - val_loss: 0.4416\n",
      "Epoch 15/20\n",
      "11610/11610 [==============================] - 0s 31us/sample - loss: 0.4850 - val_loss: 0.4389\n",
      "Epoch 16/20\n",
      "11610/11610 [==============================] - 0s 30us/sample - loss: 0.4823 - val_loss: 0.4375\n",
      "Epoch 17/20\n",
      "11610/11610 [==============================] - 0s 34us/sample - loss: 0.4803 - val_loss: 0.4361\n",
      "Epoch 18/20\n",
      "11610/11610 [==============================] - 0s 33us/sample - loss: 0.4777 - val_loss: 0.4368\n",
      "Epoch 19/20\n",
      "11610/11610 [==============================] - 0s 32us/sample - loss: 0.4759 - val_loss: 0.4355\n",
      "Epoch 20/20\n",
      "11610/11610 [==============================] - 0s 30us/sample - loss: 0.4739 - val_loss: 0.4362\n",
      "5160/5160 [==============================] - 0s 15us/sample - loss: 0.4779\n"
     ]
    }
   ],
   "source": [
    "model.compile(loss='mse',optimizer=keras.optimizers.SGD(lr=1e-3))\n",
    "x_train_A,x_train_B = x_train[:,:5],x_train[:,2:]\n",
    "x_valid_A,x_valid_B = x_valid[:,:5],x_valid[:,2:]\n",
    "x_test_A,x_test_B = x_test[:,:5],x_test[:,2:]\n",
    "x_new_A,x_new_B = x_test_A[:3],x_test_B[:3]\n",
    "history = model.fit((x_train_A,x_train_B),y_train,epochs=20,validation_data=((x_valid_A,x_valid_B),y_valid))\n",
    "mse_err = model.evaluate((x_test_A,x_test_B),y_test)"
   ]
  },
  {
   "cell_type": "code",
   "execution_count": 106,
   "metadata": {},
   "outputs": [
    {
     "data": {
      "image/png": "[encoded data removed]",
      "text/plain": [
       "<Figure size 432x288 with 1 Axes>"
      ]
     },
     "metadata": {
      "needs_background": "light"
     },
     "output_type": "display_data"
    }
   ],
   "source": [
    "pd.DataFrame(history.history).plot()\n",
    "plt.grid(True) # 是否加上网格\n",
    "plt.gca().set_ylim(0,1)\n",
    "plt.show()"
   ]
  },
  {
   "cell_type": "code",
   "execution_count": 101,
   "metadata": {},
   "outputs": [],
   "source": [
    "y_pred = model.predict((x_new_A,x_new_B))"
   ]
  },
  {
   "cell_type": "code",
   "execution_count": 103,
   "metadata": {},
   "outputs": [
    {
     "data": {
      "text/plain": [
       "array([[3.1915767],\n",
       "       [1.4668725],\n",
       "       [2.8040106]], dtype=float32)"
      ]
     },
     "execution_count": 103,
     "metadata": {},
     "output_type": "execute_result"
    }
   ],
   "source": [
    "y_pred"
   ]
  },
  {
   "cell_type": "code",
   "execution_count": 104,
   "metadata": {},
   "outputs": [
    {
     "data": {
      "text/plain": [
       "array([3.097, 1.368, 2.906])"
      ]
     },
     "execution_count": 104,
     "metadata": {},
     "output_type": "execute_result"
    }
   ],
   "source": [
    "y_test[:3]"
   ]
  },
  {
   "cell_type": "markdown",
   "metadata": {},
   "source": [
    "有以下要使用多输入的场景：\n",
    "\n",
    "任务要求。例如，你想定位和分类图片中的主要物体。这既是一个回归任务（找到目标中心的坐标、宽度和高度）和分类任务。\n",
    "\n",
    "相似的，对于相同的数据，你可能有多个独立的任务。当然可以每个任务训练一个神经网络，`但在多数情况下，同时对所有任务训练一个神经网络，每个任务一个输出，后者的效果更好。`这是因为神经网络可以在不同任务间学习有用的数据特征。例如，在人脸的多任务分类时，你可以用一个输出做人物表情的分类（微笑惊讶等等），用另一个输出判断是否戴着眼镜。\n",
    "\n",
    "另一种情况是作为一种正则的方法（即，一种降低过拟合和提高泛化能力的训练约束）。`例如，你想在神经网络中加入一些辅助输出（见图 10-16），好让神经网络的一部分依靠自身就能学到一些东西。`"
   ]
  },
  {
   "cell_type": "markdown",
   "metadata": {},
   "source": [
    "<div align=center><img  src=\"./static/使用函数式 API 搭建复杂模型3.jpg\"/></div>\n"
   ]
  },
  {
   "cell_type": "markdown",
   "metadata": {},
   "source": [
    "添加额外的输出很容易：只需要将输出和相关的层连起来、将输出写入输出列表就行。例如，下面的代码搭建的就是上图的架构："
   ]
  },
  {
   "cell_type": "code",
   "execution_count": 131,
   "metadata": {},
   "outputs": [],
   "source": [
    "input_A = keras.layers.Input(shape=[5],name='wide_input')\n",
    "input_B = keras.layers.Input(shape=[6],name='deep_input')\n",
    "hidden1 = keras.layers.Dense(30,activation='relu')(input_B)\n",
    "hidden2 = keras.layers.Dense(30,activation='relu')(hidden1)\n",
    "concat = keras.layers.Concatenate()([input_A,hidden2])\n",
    "output = keras.layers.Dense(1,name = 'main_output')(concat)\n",
    "aux_output = keras.layers.Dense(1,name = 'aux_output')(hidden2)\n",
    "model = keras.Model(inputs = [input_A,input_B],outputs = [output,aux_output])"
   ]
  },
  {
   "cell_type": "markdown",
   "metadata": {},
   "source": [
    "每个输出都要有自己的损失函数。因此在编译模型时，需要传入损失列表（如果只传入一个损失，Keras 会认为所有输出是同一个损失函数）。Keras 默认计算所有损失，将其求和得到最终损失用于训练。主输出比辅助输出更值得关心，所以要提高它的权重，如下所示："
   ]
  },
  {
   "cell_type": "code",
   "execution_count": 132,
   "metadata": {},
   "outputs": [],
   "source": [
    "model.compile(loss=['mse','mse'],loss_weights=[0.9,0.1],optimizer='sgd')"
   ]
  },
  {
   "cell_type": "markdown",
   "metadata": {},
   "source": [
    "此时若要训练模型，必须给每个输出贴上标签。在这个例子中，主输出和辅输出预测的是同一件事，因此标签相同。传入数据必须是 `(y_train, y_train)（y_valid和y_test也是如此）`："
   ]
  },
  {
   "cell_type": "code",
   "execution_count": 133,
   "metadata": {},
   "outputs": [
    {
     "name": "stdout",
     "output_type": "stream",
     "text": [
      "Train on 11610 samples, validate on 3870 samples\n",
      "Epoch 1/20\n",
      "11610/11610 [==============================] - 1s 72us/sample - loss: 1.3387 - main_output_loss: 1.1831 - aux_output_loss: 2.7363 - val_loss: 0.5789 - val_main_output_loss: 0.4894 - val_aux_output_loss: 1.3822\n",
      "Epoch 2/20\n",
      "11610/11610 [==============================] - 0s 39us/sample - loss: 0.6107 - main_output_loss: 0.5335 - aux_output_loss: 1.3042 - val_loss: 0.5515 - val_main_output_loss: 0.4830 - val_aux_output_loss: 1.1669\n",
      "Epoch 3/20\n",
      "11610/11610 [==============================] - 0s 39us/sample - loss: 0.5468 - main_output_loss: 0.4772 - aux_output_loss: 1.1726 - val_loss: 0.6126 - val_main_output_loss: 0.5648 - val_aux_output_loss: 1.0416\n",
      "Epoch 4/20\n",
      "11610/11610 [==============================] - 0s 38us/sample - loss: 0.5477 - main_output_loss: 0.4888 - aux_output_loss: 1.0787 - val_loss: 0.5927 - val_main_output_loss: 0.5499 - val_aux_output_loss: 0.9771\n",
      "Epoch 5/20\n",
      "11610/11610 [==============================] - 0s 37us/sample - loss: 0.4930 - main_output_loss: 0.4353 - aux_output_loss: 1.0127 - val_loss: 0.6418 - val_main_output_loss: 0.6167 - val_aux_output_loss: 0.8688\n",
      "Epoch 6/20\n",
      "11610/11610 [==============================] - 1s 46us/sample - loss: 0.4696 - main_output_loss: 0.4202 - aux_output_loss: 0.9134 - val_loss: 0.7064 - val_main_output_loss: 0.6974 - val_aux_output_loss: 0.7877\n",
      "Epoch 7/20\n",
      "11610/11610 [==============================] - 0s 39us/sample - loss: 0.4546 - main_output_loss: 0.4133 - aux_output_loss: 0.8264 - val_loss: 0.7249 - val_main_output_loss: 0.7229 - val_aux_output_loss: 0.7421\n",
      "Epoch 8/20\n",
      "11610/11610 [==============================] - 1s 43us/sample - loss: 0.4364 - main_output_loss: 0.3999 - aux_output_loss: 0.7635 - val_loss: 0.8081 - val_main_output_loss: 0.8152 - val_aux_output_loss: 0.7437\n",
      "Epoch 9/20\n",
      "11610/11610 [==============================] - 0s 37us/sample - loss: 0.4281 - main_output_loss: 0.3965 - aux_output_loss: 0.7136 - val_loss: 0.8657 - val_main_output_loss: 0.8763 - val_aux_output_loss: 0.7694\n",
      "Epoch 10/20\n",
      "11610/11610 [==============================] - 0s 37us/sample - loss: 0.4180 - main_output_loss: 0.3890 - aux_output_loss: 0.6774 - val_loss: 0.9356 - val_main_output_loss: 0.9465 - val_aux_output_loss: 0.8395\n",
      "Epoch 11/20\n",
      "11610/11610 [==============================] - 0s 36us/sample - loss: 0.4158 - main_output_loss: 0.3893 - aux_output_loss: 0.6545 - val_loss: 0.9955 - val_main_output_loss: 1.0088 - val_aux_output_loss: 0.8760\n",
      "Epoch 12/20\n",
      "11610/11610 [==============================] - 0s 38us/sample - loss: 0.4135 - main_output_loss: 0.3881 - aux_output_loss: 0.6423 - val_loss: 1.0543 - val_main_output_loss: 1.0600 - val_aux_output_loss: 1.0033\n",
      "Epoch 13/20\n",
      "11610/11610 [==============================] - 0s 36us/sample - loss: 0.4040 - main_output_loss: 0.3795 - aux_output_loss: 0.6234 - val_loss: 1.1556 - val_main_output_loss: 1.1575 - val_aux_output_loss: 1.1369\n",
      "Epoch 14/20\n",
      "11610/11610 [==============================] - 0s 36us/sample - loss: 0.3974 - main_output_loss: 0.3733 - aux_output_loss: 0.6154 - val_loss: 1.1925 - val_main_output_loss: 1.1897 - val_aux_output_loss: 1.2178\n",
      "Epoch 15/20\n",
      "11610/11610 [==============================] - 0s 35us/sample - loss: 0.4040 - main_output_loss: 0.3807 - aux_output_loss: 0.6151 - val_loss: 1.2319 - val_main_output_loss: 1.2248 - val_aux_output_loss: 1.2963\n",
      "Epoch 16/20\n",
      "11610/11610 [==============================] - 0s 36us/sample - loss: 0.3946 - main_output_loss: 0.3721 - aux_output_loss: 0.5977 - val_loss: 1.3468 - val_main_output_loss: 1.3415 - val_aux_output_loss: 1.3958\n",
      "Epoch 17/20\n",
      "11610/11610 [==============================] - 0s 39us/sample - loss: 0.3893 - main_output_loss: 0.3668 - aux_output_loss: 0.5914 - val_loss: 1.3443 - val_main_output_loss: 1.3240 - val_aux_output_loss: 1.5273\n",
      "Epoch 18/20\n",
      "11610/11610 [==============================] - 0s 37us/sample - loss: 0.3814 - main_output_loss: 0.3591 - aux_output_loss: 0.5807 - val_loss: 1.4285 - val_main_output_loss: 1.4022 - val_aux_output_loss: 1.6655\n",
      "Epoch 19/20\n",
      "11610/11610 [==============================] - 0s 35us/sample - loss: 0.3798 - main_output_loss: 0.3580 - aux_output_loss: 0.5752 - val_loss: 1.3988 - val_main_output_loss: 1.3644 - val_aux_output_loss: 1.7061\n",
      "Epoch 20/20\n",
      "11610/11610 [==============================] - 0s 36us/sample - loss: 0.3751 - main_output_loss: 0.3534 - aux_output_loss: 0.5706 - val_loss: 1.5476 - val_main_output_loss: 1.5115 - val_aux_output_loss: 1.8736\n"
     ]
    }
   ],
   "source": [
    "history = model.fit((x_train_A,x_train_B),(y_train,y_train),epochs=20,validation_data=((x_valid_A,x_valid_B),(y_valid,y_valid)))"
   ]
  },
  {
   "cell_type": "code",
   "execution_count": 134,
   "metadata": {},
   "outputs": [
    {
     "data": {
      "image/png": "[encoded data removed]",
      "text/plain": [
       "<Figure size 864x576 with 1 Axes>"
      ]
     },
     "metadata": {
      "needs_background": "light"
     },
     "output_type": "display_data"
    }
   ],
   "source": [
    "pd.DataFrame(history.history).plot(figsize=(12,8))\n",
    "plt.grid(True)\n",
    "plt.ylim(0,1)\n",
    "plt.show()"
   ]
  },
  {
   "cell_type": "markdown",
   "metadata": {},
   "source": [
    "当评估模型时，Keras 会返回总损失和各个损失值："
   ]
  },
  {
   "cell_type": "code",
   "execution_count": 117,
   "metadata": {},
   "outputs": [
    {
     "name": "stdout",
     "output_type": "stream",
     "text": [
      "5160/5160 [==============================] - 0s 24us/sample - loss: 0.7378 - main_output_loss: 0.7496 - aux_output_loss: 0.6188\n"
     ]
    }
   ],
   "source": [
    "total_loss,main_loss,aux_loss = model.evaluate((x_test_A,x_test_B),(y_test,y_test))"
   ]
  },
  {
   "cell_type": "markdown",
   "metadata": {},
   "source": [
    "相似的，方法 `predict()` 会返回每个输出的预测值："
   ]
  },
  {
   "cell_type": "code",
   "execution_count": 119,
   "metadata": {},
   "outputs": [],
   "source": [
    "y_pred_main,y_pred_aux = model.predict([x_new_A,x_new_B])"
   ]
  },
  {
   "cell_type": "code",
   "execution_count": 120,
   "metadata": {},
   "outputs": [
    {
     "data": {
      "text/plain": [
       "array([[3.2726226],\n",
       "       [1.4353402],\n",
       "       [3.3699298]], dtype=float32)"
      ]
     },
     "execution_count": 120,
     "metadata": {},
     "output_type": "execute_result"
    }
   ],
   "source": [
    "y_pred_main"
   ]
  },
  {
   "cell_type": "code",
   "execution_count": 121,
   "metadata": {},
   "outputs": [
    {
     "data": {
      "text/plain": [
       "array([[3.1941488],\n",
       "       [2.2312007],\n",
       "       [4.128905 ]], dtype=float32)"
      ]
     },
     "execution_count": 121,
     "metadata": {},
     "output_type": "execute_result"
    }
   ],
   "source": [
    "y_pred_aux"
   ]
  },
  {
   "cell_type": "markdown",
   "metadata": {},
   "source": [
    "可以看到，用函数式 API 可以轻易搭建任意架构。接下来再看最后一种搭建 Keras 模型的方法。"
   ]
  },
  {
   "cell_type": "markdown",
   "metadata": {},
   "source": [
    "### 9、使用子类化 API 搭建动态模型"
   ]
  },
  {
   "cell_type": "markdown",
   "metadata": {},
   "source": [
    "顺序 API 和函数式 API 都是声明式的：只有声明创建每个层以及层的连接方式，才能给模型加载数据以进行训练和推断。这种方式有其优点：模型可以方便的进行保存、克隆和分享；模型架构得以展示，便于分析；框架可以推断数据形状和类型，便于及时发现错误（加载数据之前就能发现错误）。调试也很容易，因为模型是层的静态图。但是缺点也很明显：模型是静态的。一些模型包含循环、可变数据形状、条件分支，和其它的动态特点。对于这些情况，或者你只是喜欢命令式编程，不妨使用子类化 API。\n",
    "\n",
    "对 `Model` 类划分子类，在构造器中创建需要的层，调用 `call()` 进行计算。例如，创建一个下面的 `WideAndDeepModel` 类的实例，就可以创建与前面函数式 `API` 例子的同样模型，同样可以进行编译、评估、预测："
   ]
  },
  {
   "cell_type": "code",
   "execution_count": 123,
   "metadata": {},
   "outputs": [],
   "source": [
    "class WideAndDeepModel(keras.Model):\n",
    "    def __init__(self, units=30, activation=\"relu\", **kwargs):\n",
    "        super().__init__(**kwargs) # handles standard args (e.g., name)\n",
    "        self.hidden1 = keras.layers.Dense(units, activation=activation)\n",
    "        self.hidden2 = keras.layers.Dense(units, activation=activation)\n",
    "        self.main_output = keras.layers.Dense(1)\n",
    "        self.aux_output = keras.layers.Dense(1)\n",
    "\n",
    "    def call(self, inputs):\n",
    "        input_A, input_B = inputs\n",
    "        hidden1 = self.hidden1(input_B)\n",
    "        hidden2 = self.hidden2(hidden1)\n",
    "        concat = keras.layers.concatenate([input_A, hidden2])\n",
    "        main_output = self.main_output(concat)\n",
    "        aux_output = self.aux_output(hidden2)\n",
    "        return main_output, aux_output\n",
    "\n",
    "# model = WideAndDeepModel() "
   ]
  },
  {
   "cell_type": "markdown",
   "metadata": {},
   "source": [
    "这个例子和函数式 API 很像，除了不用创建输入；只需要在 `call()` 使用参数 `input` ，另外的不同是将层的创建和和使用分割了。最大的差别是，在`call()` 方法中，你可以做任意想做的事：for循环、if语句、低级的 TensorFlow 操作，可以尽情发挥想象（见第 12 章）！子类化 API 可以让研究者试验各种新创意。\n",
    "\n",
    "然而代价也是有的：模型架构隐藏在 `call()` 方法中，所以 Keras 不能对其检查；`不能保存或克隆`；当调用 `summary()` 时，得到的只是层的列表，没有层的连接信息。另外，Keras 不能提前检查数据类型和形状，所以很容易犯错。所以除非真的需要灵活性，还是使用顺序 API 或函数式 API 吧。"
   ]
  },
  {
   "cell_type": "markdown",
   "metadata": {},
   "source": [
    "#### 提示：\n",
    "\n",
    "可以像常规层一样使用 Keras 模型，组合模型搭建任意复杂的架构。"
   ]
  },
  {
   "cell_type": "code",
   "execution_count": 125,
   "metadata": {},
   "outputs": [
    {
     "data": {
      "text/plain": [
       "(<tf.Tensor 'dense_25/BiasAdd:0' shape=(?, 1) dtype=float32>,\n",
       " <tf.Tensor 'dense_26/BiasAdd:0' shape=(?, 1) dtype=float32>)"
      ]
     },
     "execution_count": 125,
     "metadata": {},
     "output_type": "execute_result"
    }
   ],
   "source": [
    "# model.call([keras.layers.Input(shape=[5],name='wide_input'),keras.layers.Input(shape=[6],name='deep_input')])"
   ]
  },
  {
   "cell_type": "code",
   "execution_count": 126,
   "metadata": {},
   "outputs": [],
   "source": [
    "# model.compile(loss=['mse','mse'],loss_weights=[0.9,0.1],optimizer='sgd')"
   ]
  },
  {
   "cell_type": "code",
   "execution_count": 127,
   "metadata": {},
   "outputs": [
    {
     "name": "stdout",
     "output_type": "stream",
     "text": [
      "Train on 11610 samples, validate on 3870 samples\n",
      "Epoch 1/20\n",
      "11610/11610 [==============================] - 1s 68us/sample - loss: 0.9773 - output_1_loss: 0.8841 - output_2_loss: 1.8156 - val_loss: 0.5773 - val_output_1_loss: 0.5300 - val_output_2_loss: 1.0033\n",
      "Epoch 2/20\n",
      "11610/11610 [==============================] - 0s 37us/sample - loss: 0.6584 - output_1_loss: 0.6189 - output_2_loss: 1.0147 - val_loss: 0.4689 - val_output_1_loss: 0.4251 - val_output_2_loss: 0.8641\n",
      "Epoch 3/20\n",
      "11610/11610 [==============================] - 0s 35us/sample - loss: 0.5540 - output_1_loss: 0.5186 - output_2_loss: 0.8782 - val_loss: 0.4923 - val_output_1_loss: 0.4569 - val_output_2_loss: 0.8121\n",
      "Epoch 4/20\n",
      "11610/11610 [==============================] - 0s 38us/sample - loss: 0.5346 - output_1_loss: 0.5044 - output_2_loss: 0.8057 - val_loss: 0.4945 - val_output_1_loss: 0.4596 - val_output_2_loss: 0.8083\n",
      "Epoch 5/20\n",
      "11610/11610 [==============================] - 0s 35us/sample - loss: 0.5056 - output_1_loss: 0.4781 - output_2_loss: 0.7533 - val_loss: 0.5554 - val_output_1_loss: 0.5214 - val_output_2_loss: 0.8613\n",
      "Epoch 6/20\n",
      "11610/11610 [==============================] - 0s 35us/sample - loss: 0.5082 - output_1_loss: 0.4849 - output_2_loss: 0.7185 - val_loss: 0.6472 - val_output_1_loss: 0.6117 - val_output_2_loss: 0.9683\n",
      "Epoch 7/20\n",
      "11610/11610 [==============================] - 0s 37us/sample - loss: 0.4631 - output_1_loss: 0.4394 - output_2_loss: 0.6770 - val_loss: 0.7164 - val_output_1_loss: 0.6773 - val_output_2_loss: 1.0677\n",
      "Epoch 8/20\n",
      "11610/11610 [==============================] - 0s 36us/sample - loss: 0.4509 - output_1_loss: 0.4290 - output_2_loss: 0.6491 - val_loss: 0.8330 - val_output_1_loss: 0.7904 - val_output_2_loss: 1.2157\n",
      "Epoch 9/20\n",
      "11610/11610 [==============================] - 0s 40us/sample - loss: 0.4425 - output_1_loss: 0.4209 - output_2_loss: 0.6374 - val_loss: 1.0563 - val_output_1_loss: 1.0093 - val_output_2_loss: 1.4828\n",
      "Epoch 10/20\n",
      "11610/11610 [==============================] - 0s 34us/sample - loss: 0.4356 - output_1_loss: 0.4153 - output_2_loss: 0.6176 - val_loss: 1.1479 - val_output_1_loss: 1.0969 - val_output_2_loss: 1.6059\n",
      "Epoch 11/20\n",
      "11610/11610 [==============================] - 0s 37us/sample - loss: 0.4262 - output_1_loss: 0.4060 - output_2_loss: 0.6069 - val_loss: 1.3188 - val_output_1_loss: 1.2661 - val_output_2_loss: 1.7953\n",
      "Epoch 12/20\n",
      "11610/11610 [==============================] - 0s 36us/sample - loss: 0.4239 - output_1_loss: 0.4041 - output_2_loss: 0.6011 - val_loss: 1.6888 - val_output_1_loss: 1.6350 - val_output_2_loss: 2.1748\n",
      "Epoch 13/20\n",
      "11610/11610 [==============================] - 0s 36us/sample - loss: 0.4204 - output_1_loss: 0.4018 - output_2_loss: 0.5869 - val_loss: 1.6065 - val_output_1_loss: 1.5434 - val_output_2_loss: 2.1758\n",
      "Epoch 14/20\n",
      "11610/11610 [==============================] - 0s 37us/sample - loss: 0.4616 - output_1_loss: 0.4428 - output_2_loss: 0.6287 - val_loss: 1.7322 - val_output_1_loss: 1.6625 - val_output_2_loss: 2.3579\n",
      "Epoch 15/20\n",
      "11610/11610 [==============================] - 0s 35us/sample - loss: 0.4157 - output_1_loss: 0.3994 - output_2_loss: 0.5627 - val_loss: 2.1124 - val_output_1_loss: 2.0510 - val_output_2_loss: 2.6633\n",
      "Epoch 16/20\n",
      "11610/11610 [==============================] - 0s 36us/sample - loss: 0.3985 - output_1_loss: 0.3811 - output_2_loss: 0.5542 - val_loss: 2.1860 - val_output_1_loss: 2.1181 - val_output_2_loss: 2.8025\n",
      "Epoch 17/20\n",
      "11610/11610 [==============================] - 0s 34us/sample - loss: 0.3954 - output_1_loss: 0.3782 - output_2_loss: 0.5489 - val_loss: 2.4796 - val_output_1_loss: 2.4023 - val_output_2_loss: 3.1711\n",
      "Epoch 18/20\n",
      "11610/11610 [==============================] - 0s 37us/sample - loss: 0.3903 - output_1_loss: 0.3736 - output_2_loss: 0.5399 - val_loss: 2.9134 - val_output_1_loss: 2.8513 - val_output_2_loss: 3.4681\n",
      "Epoch 19/20\n",
      "11610/11610 [==============================] - 0s 36us/sample - loss: 0.3899 - output_1_loss: 0.3741 - output_2_loss: 0.5314 - val_loss: 3.1866 - val_output_1_loss: 3.1180 - val_output_2_loss: 3.8026\n",
      "Epoch 20/20\n",
      "11610/11610 [==============================] - 1s 50us/sample - loss: 0.3802 - output_1_loss: 0.3644 - output_2_loss: 0.5245 - val_loss: 3.3713 - val_output_1_loss: 3.3038 - val_output_2_loss: 3.9727\n"
     ]
    }
   ],
   "source": [
    "# history = model.fit((x_train_A,x_train_B),(y_train,y_train),epochs=20,validation_data=((x_valid_A,x_valid_B),(y_valid,y_valid)))"
   ]
  },
  {
   "cell_type": "code",
   "execution_count": 135,
   "metadata": {},
   "outputs": [
    {
     "name": "stdout",
     "output_type": "stream",
     "text": [
      "__________________________________________________________________________________________________\n",
      "Layer (type)                    Output Shape         Param #     Connected to                     \n",
      "==================================================================================================\n",
      "deep_input (InputLayer)         (None, 6)            0                                            \n",
      "__________________________________________________________________________________________________\n",
      "dense_27 (Dense)                (None, 30)           210         deep_input[0][0]                 \n",
      "__________________________________________________________________________________________________\n",
      "wide_input (InputLayer)         (None, 5)            0                                            \n",
      "__________________________________________________________________________________________________\n",
      "dense_28 (Dense)                (None, 30)           930         dense_27[0][0]                   \n",
      "__________________________________________________________________________________________________\n",
      "concatenate_8 (Concatenate)     (None, 35)           0           wide_input[0][0]                 \n",
      "                                                                 dense_28[0][0]                   \n",
      "__________________________________________________________________________________________________\n",
      "main_output (Dense)             (None, 1)            36          concatenate_8[0][0]              \n",
      "__________________________________________________________________________________________________\n",
      "aux_output (Dense)              (None, 1)            31          dense_28[0][0]                   \n",
      "==================================================================================================\n",
      "Total params: 1,207\n",
      "Trainable params: 1,207\n",
      "Non-trainable params: 0\n",
      "__________________________________________________________________________________________________\n"
     ]
    }
   ],
   "source": [
    "model.summary()"
   ]
  },
  {
   "cell_type": "markdown",
   "metadata": {},
   "source": [
    "### 10、保存和恢复模型"
   ]
  },
  {
   "cell_type": "markdown",
   "metadata": {},
   "source": [
    "使用顺序 API 或函数式 API 时，保存训练好的 Keras 模型和训练一样简单："
   ]
  },
  {
   "cell_type": "code",
   "execution_count": 136,
   "metadata": {},
   "outputs": [],
   "source": [
    "# model = keras.layers.Sequential([...]) # or keras.Model([...])\n",
    "# model.compile([...])\n",
    "# model.fit([...])\n",
    "model.save(\"my_keras_model.h5\") "
   ]
  },
  {
   "cell_type": "markdown",
   "metadata": {},
   "source": [
    "Keras 使用 HDF5 格式保存模型架构（包括每层的超参数）和每层的所有参数值（连接权重和偏置项）。还保存了优化器（包括超参数和状态）。\n",
    "\n",
    "通常用脚本训练和保存模型，一个或更多的脚本（或 web 服务）来加载模型和做预测。加载模型很简单："
   ]
  },
  {
   "cell_type": "code",
   "execution_count": 137,
   "metadata": {},
   "outputs": [],
   "source": [
    "model = keras.models.load_model(\"my_keras_model.h5\") "
   ]
  },
  {
   "cell_type": "markdown",
   "metadata": {},
   "source": [
    "#### 警告：\n",
    "\n",
    "这种加载模型的方法只对顺序 API 或函数式 API 有用，不适用于子类化 API。对于后者，可以用 save_weights() 和 load_weights() 保存参数，其它的就得手动保存恢复了。"
   ]
  },
  {
   "cell_type": "markdown",
   "metadata": {},
   "source": [
    "但如果训练要持续数个小时呢？在大数据集上训练，训练时间长很普遍。此时，不仅要在训练结束时保存模型检查点，在一定时间间隔内也要保存，以免电脑宕机造成损失。但是如何告诉 `fit()` 保存检查点呢？ `使用调回`。"
   ]
  },
  {
   "cell_type": "markdown",
   "metadata": {},
   "source": [
    "### 11、使用调回"
   ]
  },
  {
   "cell_type": "markdown",
   "metadata": {},
   "source": [
    "`fit()` 方法接受参数 `callbacks` ，可以让用户指明一个 Keras 列表，让 Keras 在训练开始和结束、每个周期开始和结束、甚至是每个批次的前后调用。例如，`ModelCheckpoint` 可以在每个时间间隔保存检查点，默认是每个周期结束之后："
   ]
  },
  {
   "cell_type": "code",
   "execution_count": 142,
   "metadata": {},
   "outputs": [
    {
     "name": "stdout",
     "output_type": "stream",
     "text": [
      "Epoch 1/20\n",
      "11610/11610 [==============================] - 0s 42us/sample - loss: 0.3505 - main_output_loss: 0.3321 - aux_output_loss: 0.5171\n",
      "Epoch 2/20\n",
      "11610/11610 [==============================] - 1s 50us/sample - loss: 0.3486 - main_output_loss: 0.3304 - aux_output_loss: 0.5114\n",
      "Epoch 3/20\n",
      "11610/11610 [==============================] - 1s 46us/sample - loss: 0.3464 - main_output_loss: 0.3286 - aux_output_loss: 0.5067\n",
      "Epoch 4/20\n",
      "11610/11610 [==============================] - 0s 42us/sample - loss: 0.3458 - main_output_loss: 0.3285 - aux_output_loss: 0.5027\n",
      "Epoch 5/20\n",
      "11610/11610 [==============================] - 0s 41us/sample - loss: 0.3451 - main_output_loss: 0.3279 - aux_output_loss: 0.4994\n",
      "Epoch 6/20\n",
      "11610/11610 [==============================] - 0s 38us/sample - loss: 0.3486 - main_output_loss: 0.3324 - aux_output_loss: 0.4948\n",
      "Epoch 7/20\n",
      "11610/11610 [==============================] - 1s 50us/sample - loss: 0.3439 - main_output_loss: 0.3275 - aux_output_loss: 0.4904\n",
      "Epoch 8/20\n",
      "11610/11610 [==============================] - 0s 41us/sample - loss: 0.3418 - main_output_loss: 0.3257 - aux_output_loss: 0.4877\n",
      "Epoch 9/20\n",
      "11610/11610 [==============================] - 0s 35us/sample - loss: 0.3409 - main_output_loss: 0.3251 - aux_output_loss: 0.4827\n",
      "Epoch 10/20\n",
      "11610/11610 [==============================] - 0s 33us/sample - loss: 0.3389 - main_output_loss: 0.3235 - aux_output_loss: 0.4781\n",
      "Epoch 11/20\n",
      "11610/11610 [==============================] - 0s 35us/sample - loss: 0.3411 - main_output_loss: 0.3260 - aux_output_loss: 0.4762\n",
      "Epoch 12/20\n",
      "11610/11610 [==============================] - 0s 34us/sample - loss: 0.3378 - main_output_loss: 0.3231 - aux_output_loss: 0.4718\n",
      "Epoch 13/20\n",
      "11610/11610 [==============================] - 0s 33us/sample - loss: 0.3356 - main_output_loss: 0.3209 - aux_output_loss: 0.4668\n",
      "Epoch 14/20\n",
      "11610/11610 [==============================] - 0s 34us/sample - loss: 0.3344 - main_output_loss: 0.3198 - aux_output_loss: 0.4646\n",
      "Epoch 15/20\n",
      "11610/11610 [==============================] - 0s 36us/sample - loss: 0.3357 - main_output_loss: 0.3214 - aux_output_loss: 0.4633\n",
      "Epoch 16/20\n",
      "11610/11610 [==============================] - 0s 35us/sample - loss: 0.3315 - main_output_loss: 0.3175 - aux_output_loss: 0.4570\n",
      "Epoch 17/20\n",
      "11610/11610 [==============================] - 0s 33us/sample - loss: 0.3321 - main_output_loss: 0.3183 - aux_output_loss: 0.4558\n",
      "Epoch 18/20\n",
      "11610/11610 [==============================] - 0s 34us/sample - loss: 0.3298 - main_output_loss: 0.3163 - aux_output_loss: 0.4512\n",
      "Epoch 19/20\n",
      "11610/11610 [==============================] - 0s 34us/sample - loss: 0.3319 - main_output_loss: 0.3187 - aux_output_loss: 0.4508\n",
      "Epoch 20/20\n",
      "11610/11610 [==============================] - 0s 36us/sample - loss: 0.3286 - main_output_loss: 0.3156 - aux_output_loss: 0.4453\n"
     ]
    }
   ],
   "source": [
    "# [...] # 搭建编译模型\n",
    "checkpoint_cb = keras.callbacks.ModelCheckpoint(\"my_keras_model.h5\")\n",
    "history = model.fit((x_train_A,x_train_B), (y_train,y_train), epochs=20, callbacks=[checkpoint_cb]) "
   ]
  },
  {
   "cell_type": "markdown",
   "metadata": {},
   "source": [
    "另外，如果训练时使用了验证集，可以在创建检查点时设定 `save_best_only=True`，只有当模型在验证集上取得最优值时才保存模型。这么做可以不必担心训练时间过长和训练集过拟合：只需加载训练好的模型，就能保证是在验证集上表现最好的模型。下面的代码演示了早停（见第 4 章）："
   ]
  },
  {
   "cell_type": "code",
   "execution_count": 145,
   "metadata": {},
   "outputs": [
    {
     "name": "stdout",
     "output_type": "stream",
     "text": [
      "Train on 11610 samples, validate on 3870 samples\n",
      "Epoch 1/20\n",
      "11610/11610 [==============================] - 1s 56us/sample - loss: 0.3290 - main_output_loss: 0.3164 - aux_output_loss: 0.4433 - val_loss: 5.0940 - val_main_output_loss: 4.9894 - val_aux_output_loss: 6.0415\n",
      "Epoch 2/20\n",
      "11610/11610 [==============================] - 1s 44us/sample - loss: 0.3289 - main_output_loss: 0.3169 - aux_output_loss: 0.4406 - val_loss: 5.1121 - val_main_output_loss: 5.0106 - val_aux_output_loss: 6.0259\n",
      "Epoch 3/20\n",
      "11610/11610 [==============================] - 0s 39us/sample - loss: 0.3277 - main_output_loss: 0.3155 - aux_output_loss: 0.4371 - val_loss: 5.4076 - val_main_output_loss: 5.3040 - val_aux_output_loss: 6.3404\n",
      "Epoch 4/20\n",
      "11610/11610 [==============================] - 0s 41us/sample - loss: 0.3275 - main_output_loss: 0.3158 - aux_output_loss: 0.4341 - val_loss: 5.3917 - val_main_output_loss: 5.2859 - val_aux_output_loss: 6.3365\n",
      "Epoch 5/20\n",
      "11610/11610 [==============================] - 1s 43us/sample - loss: 0.3261 - main_output_loss: 0.3144 - aux_output_loss: 0.4318 - val_loss: 5.1851 - val_main_output_loss: 5.0700 - val_aux_output_loss: 6.2333\n",
      "Epoch 6/20\n",
      "11610/11610 [==============================] - 1s 62us/sample - loss: 0.3252 - main_output_loss: 0.3135 - aux_output_loss: 0.4299 - val_loss: 5.3020 - val_main_output_loss: 5.1893 - val_aux_output_loss: 6.3149\n",
      "Epoch 7/20\n",
      "11610/11610 [==============================] - 1s 60us/sample - loss: 0.3233 - main_output_loss: 0.3118 - aux_output_loss: 0.4259 - val_loss: 5.2337 - val_main_output_loss: 5.0976 - val_aux_output_loss: 6.4519\n",
      "Epoch 8/20\n",
      "11610/11610 [==============================] - 0s 40us/sample - loss: 0.3271 - main_output_loss: 0.3161 - aux_output_loss: 0.4254 - val_loss: 5.5165 - val_main_output_loss: 5.3895 - val_aux_output_loss: 6.6615\n",
      "Epoch 9/20\n",
      "11610/11610 [==============================] - 0s 39us/sample - loss: 0.3227 - main_output_loss: 0.3116 - aux_output_loss: 0.4220 - val_loss: 5.7344 - val_main_output_loss: 5.6107 - val_aux_output_loss: 6.8477\n",
      "Epoch 10/20\n",
      "11610/11610 [==============================] - 0s 40us/sample - loss: 0.3242 - main_output_loss: 0.3135 - aux_output_loss: 0.4216 - val_loss: 6.0313 - val_main_output_loss: 5.9089 - val_aux_output_loss: 7.1232\n",
      "Epoch 11/20\n",
      "11610/11610 [==============================] - 0s 41us/sample - loss: 0.3222 - main_output_loss: 0.3114 - aux_output_loss: 0.4187 - val_loss: 5.7161 - val_main_output_loss: 5.5772 - val_aux_output_loss: 6.9624\n",
      "Epoch 12/20\n",
      "11610/11610 [==============================] - 0s 39us/sample - loss: 0.3211 - main_output_loss: 0.3106 - aux_output_loss: 0.4166 - val_loss: 6.0003 - val_main_output_loss: 5.8664 - val_aux_output_loss: 7.2115\n",
      "Epoch 13/20\n",
      "11610/11610 [==============================] - 0s 38us/sample - loss: 0.3209 - main_output_loss: 0.3105 - aux_output_loss: 0.4155 - val_loss: 6.2573 - val_main_output_loss: 6.1192 - val_aux_output_loss: 7.5125\n",
      "Epoch 14/20\n",
      "11610/11610 [==============================] - 0s 41us/sample - loss: 0.3219 - main_output_loss: 0.3116 - aux_output_loss: 0.4132 - val_loss: 6.0950 - val_main_output_loss: 5.9387 - val_aux_output_loss: 7.4922\n",
      "Epoch 15/20\n",
      "11610/11610 [==============================] - 0s 38us/sample - loss: 0.3219 - main_output_loss: 0.3118 - aux_output_loss: 0.4125 - val_loss: 6.0828 - val_main_output_loss: 5.9116 - val_aux_output_loss: 7.6144\n",
      "Epoch 16/20\n",
      "11610/11610 [==============================] - 0s 38us/sample - loss: 0.3227 - main_output_loss: 0.3130 - aux_output_loss: 0.4105 - val_loss: 5.9156 - val_main_output_loss: 5.7419 - val_aux_output_loss: 7.4790\n",
      "Epoch 17/20\n",
      "11610/11610 [==============================] - 0s 39us/sample - loss: 0.3201 - main_output_loss: 0.3103 - aux_output_loss: 0.4088 - val_loss: 6.0598 - val_main_output_loss: 5.8809 - val_aux_output_loss: 7.6757\n",
      "Epoch 18/20\n",
      "11610/11610 [==============================] - 0s 39us/sample - loss: 0.3181 - main_output_loss: 0.3084 - aux_output_loss: 0.4049 - val_loss: 6.3382 - val_main_output_loss: 6.1528 - val_aux_output_loss: 8.0396\n",
      "Epoch 19/20\n",
      "11610/11610 [==============================] - 0s 38us/sample - loss: 0.3173 - main_output_loss: 0.3079 - aux_output_loss: 0.4033 - val_loss: 6.0382 - val_main_output_loss: 5.8483 - val_aux_output_loss: 7.7542\n",
      "Epoch 20/20\n",
      "11610/11610 [==============================] - 0s 41us/sample - loss: 0.3184 - main_output_loss: 0.3089 - aux_output_loss: 0.4038 - val_loss: 6.5703 - val_main_output_loss: 6.3950 - val_aux_output_loss: 8.1669\n"
     ]
    }
   ],
   "source": [
    "checkpoint_cb = keras.callbacks.ModelCheckpoint('my_keras_model.h5',save_best_only=True)\n",
    "history = model.fit((x_train_A,x_train_B), (y_train,y_train),epochs=20,validation_data=((x_valid_A,x_valid_B),(y_valid,y_valid)),callbacks=[checkpoint_cb])\n",
    "model = keras.models.load_model('my_keras_model.h5') # roll back to best model "
   ]
  },
  {
   "cell_type": "markdown",
   "metadata": {},
   "source": [
    "另一种实现早停的方法是使用 `EarlyStopping` 调回。当检测到经过几个周期（周期数由参数 `patience` 确定），验证集表现没有提升时，就会中断训练，还能自动滚回到最优模型。可以将保存检查点（避免宕机）和早停（避免浪费时间和资源）结合起来："
   ]
  },
  {
   "cell_type": "code",
   "execution_count": 146,
   "metadata": {},
   "outputs": [
    {
     "name": "stdout",
     "output_type": "stream",
     "text": [
      "Train on 11610 samples, validate on 3870 samples\n",
      "Epoch 1/50\n",
      "11610/11610 [==============================] - 1s 87us/sample - loss: 0.3272 - main_output_loss: 0.3148 - aux_output_loss: 0.4391 - val_loss: 5.1508 - val_main_output_loss: 5.0420 - val_aux_output_loss: 6.1368\n",
      "Epoch 2/50\n",
      "11610/11610 [==============================] - 0s 43us/sample - loss: 0.3266 - main_output_loss: 0.3144 - aux_output_loss: 0.4372 - val_loss: 5.2163 - val_main_output_loss: 5.1107 - val_aux_output_loss: 6.1717\n",
      "Epoch 3/50\n",
      "11610/11610 [==============================] - 0s 38us/sample - loss: 0.3269 - main_output_loss: 0.3149 - aux_output_loss: 0.4344 - val_loss: 5.4069 - val_main_output_loss: 5.3014 - val_aux_output_loss: 6.3439\n",
      "Epoch 4/50\n",
      "11610/11610 [==============================] - 0s 41us/sample - loss: 0.3272 - main_output_loss: 0.3157 - aux_output_loss: 0.4324 - val_loss: 5.5796 - val_main_output_loss: 5.4756 - val_aux_output_loss: 6.5014\n",
      "Epoch 5/50\n",
      "11610/11610 [==============================] - 0s 39us/sample - loss: 0.3246 - main_output_loss: 0.3130 - aux_output_loss: 0.4288 - val_loss: 5.4456 - val_main_output_loss: 5.3264 - val_aux_output_loss: 6.5135\n",
      "Epoch 6/50\n",
      "11610/11610 [==============================] - 0s 40us/sample - loss: 0.3313 - main_output_loss: 0.3209 - aux_output_loss: 0.4266 - val_loss: 5.4789 - val_main_output_loss: 5.3697 - val_aux_output_loss: 6.4706\n",
      "Epoch 7/50\n",
      "11610/11610 [==============================] - 0s 41us/sample - loss: 0.3235 - main_output_loss: 0.3121 - aux_output_loss: 0.4258 - val_loss: 5.6376 - val_main_output_loss: 5.5127 - val_aux_output_loss: 6.7672\n",
      "Epoch 8/50\n",
      "11610/11610 [==============================] - 0s 39us/sample - loss: 0.3219 - main_output_loss: 0.3108 - aux_output_loss: 0.4221 - val_loss: 5.5964 - val_main_output_loss: 5.4507 - val_aux_output_loss: 6.8986\n",
      "Epoch 9/50\n",
      "11610/11610 [==============================] - 0s 41us/sample - loss: 0.3243 - main_output_loss: 0.3134 - aux_output_loss: 0.4217 - val_loss: 5.5878 - val_main_output_loss: 5.4535 - val_aux_output_loss: 6.7998\n",
      "Epoch 10/50\n",
      "11610/11610 [==============================] - 0s 40us/sample - loss: 0.3212 - main_output_loss: 0.3103 - aux_output_loss: 0.4193 - val_loss: 5.4748 - val_main_output_loss: 5.3236 - val_aux_output_loss: 6.8164\n",
      "Epoch 11/50\n",
      "11610/11610 [==============================] - 0s 41us/sample - loss: 0.3206 - main_output_loss: 0.3100 - aux_output_loss: 0.4160 - val_loss: 5.8762 - val_main_output_loss: 5.7350 - val_aux_output_loss: 7.1447\n"
     ]
    }
   ],
   "source": [
    "early_stopping_cb = keras.callbacks.EarlyStopping(patience=10,restore_best_weights=True)\n",
    "history = model.fit((x_train_A,x_train_B), (y_train,y_train),epochs=50,validation_data=((x_valid_A,x_valid_B),(y_valid,y_valid)),callbacks=[checkpoint_cb,early_stopping_cb])"
   ]
  },
  {
   "cell_type": "markdown",
   "metadata": {},
   "source": [
    "如果还想有其它操控，还可以编写自定义的调回。下面的例子展示了一个可以展示验证集损失和训练集损失比例的自定义（检测过拟合）调回："
   ]
  },
  {
   "cell_type": "code",
   "execution_count": 148,
   "metadata": {},
   "outputs": [],
   "source": [
    "class PrintValTrainRatioCallback(keras.callbacks.Callback):\n",
    "    def on_epoch_end(self, epoch, logs):\n",
    "        print(\"\\nval/train: {:.2f}\".format(logs[\"val_loss\"] / logs[\"loss\"])) "
   ]
  },
  {
   "cell_type": "markdown",
   "metadata": {},
   "source": [
    "类似的，还可以实现 `on_train_begin()` 、`on_train_end()`、`on_epoch_begin()`、`on_epoch_end()`、`on_batch_begin()`、和 `on_batch_end()` 。如果需要的话，在评估和预测时也可以使用调回（例如为了调试）。对于评估，可以实现 `on_test_begin()`、`on_test_end()`、`on_test_batch_begin()`或 `on_test_batch_end()`（通过 `evaluate()`调用）；对于预测，可以实现 `on_predict_begin()`、`on_predict_end()`、`on_predict_batch_begin()` 或`on_predict_batch_end()`（通过 `predict()` 调用）。\n",
    "\n",
    "下面来看一个使用 `tf.keras`的必备工具：`TensorBoard` 。"
   ]
  },
  {
   "cell_type": "markdown",
   "metadata": {},
   "source": [
    "### 11、使用 TensorBoard 进行可视化"
   ]
  },
  {
   "cell_type": "markdown",
   "metadata": {},
   "source": [
    "`TensorBoard` 是一个强大的交互可视化工具，使用它可以查看训练过程中的学习曲线、比较每次运行的学习曲线、可视化计算图、分析训练数据、查看模型生成的图片、可视化投射到 3D 的多维数据，等等。`TensorBoard` 是 `TensorFlow` 自带的。\n",
    "\n",
    "要使用 `TensorBoard`，必须修改程序，将要可视化的数据输出为二进制的日志文件 `event files` 。每份二进制数据称为摘要 `summary` ，`TensorBoard` 服务器会监测日志文件目录，自动加载更新并可视化：这样就能看到实时数据（稍有延迟），比如训练时的学习曲线。通常，将 TensorBoard 服务器指向根日志目录，程序的日志写入到它的子目录，这样一个 TensorBoard 服务就能可视化并比较多次运行的数据，而不会将其搞混。\n",
    "\n",
    "我们先定义 TensorBoard 的根日志目录，还有一些根据当前日期生成子目录的小函数。你可能还想在目录名中加上其它信息，比如超参数的值，方便知道查询的内容："
   ]
  },
  {
   "cell_type": "code",
   "execution_count": 152,
   "metadata": {},
   "outputs": [
    {
     "data": {
      "text/plain": [
       "'.'"
      ]
     },
     "execution_count": 152,
     "metadata": {},
     "output_type": "execute_result"
    }
   ],
   "source": [
    "os.curdir"
   ]
  },
  {
   "cell_type": "code",
   "execution_count": 151,
   "metadata": {},
   "outputs": [
    {
     "data": {
      "text/plain": [
       "'.\\\\my_logs'"
      ]
     },
     "execution_count": 151,
     "metadata": {},
     "output_type": "execute_result"
    }
   ],
   "source": [
    "root_logdir"
   ]
  },
  {
   "cell_type": "code",
   "execution_count": 149,
   "metadata": {},
   "outputs": [],
   "source": [
    "import os\n",
    "root_logdir = os.path.join(os.curdir, \"my_logs\")\n",
    "\n",
    "def get_run_logdir():\n",
    "    import time\n",
    "    run_id = time.strftime(\"run_%Y_%m_%d-%H_%M_%S\")\n",
    "    return os.path.join(root_logdir, run_id)\n",
    "\n",
    "run_logdir = get_run_logdir() # e.g., './my_logs/run_2019_06_07-15_15_22' "
   ]
  },
  {
   "cell_type": "markdown",
   "metadata": {},
   "source": [
    "Keras 提供了一个 `TensorBoard()` 调回："
   ]
  },
  {
   "cell_type": "code",
   "execution_count": 153,
   "metadata": {},
   "outputs": [
    {
     "name": "stdout",
     "output_type": "stream",
     "text": [
      "Train on 11610 samples, validate on 3870 samples\n",
      "Epoch 1/50\n",
      "11610/11610 [==============================] - 1s 55us/sample - loss: 0.3266 - main_output_loss: 0.3146 - aux_output_loss: 0.4344 - val_loss: 5.3661 - val_main_output_loss: 5.2589 - val_aux_output_loss: 6.3428\n",
      "Epoch 2/50\n",
      "11610/11610 [==============================] - 0s 41us/sample - loss: 0.3277 - main_output_loss: 0.3159 - aux_output_loss: 0.4330 - val_loss: 5.3408 - val_main_output_loss: 5.2251 - val_aux_output_loss: 6.4028\n",
      "Epoch 3/50\n",
      "11610/11610 [==============================] - 1s 50us/sample - loss: 0.3336 - main_output_loss: 0.3229 - aux_output_loss: 0.4299 - val_loss: 5.4045 - val_main_output_loss: 5.2691 - val_aux_output_loss: 6.6299\n",
      "Epoch 4/50\n",
      "11610/11610 [==============================] - 1s 53us/sample - loss: 0.3230 - main_output_loss: 0.3115 - aux_output_loss: 0.4265 - val_loss: 5.7259 - val_main_output_loss: 5.6041 - val_aux_output_loss: 6.8375\n",
      "Epoch 5/50\n",
      "11610/11610 [==============================] - 1s 53us/sample - loss: 0.3234 - main_output_loss: 0.3121 - aux_output_loss: 0.4242 - val_loss: 5.3612 - val_main_output_loss: 5.2242 - val_aux_output_loss: 6.5952\n",
      "Epoch 6/50\n",
      "11610/11610 [==============================] - 1s 45us/sample - loss: 0.3219 - main_output_loss: 0.3110 - aux_output_loss: 0.4213 - val_loss: 5.6168 - val_main_output_loss: 5.4795 - val_aux_output_loss: 6.8544\n",
      "Epoch 7/50\n",
      "11610/11610 [==============================] - 1s 51us/sample - loss: 0.3240 - main_output_loss: 0.3134 - aux_output_loss: 0.4195 - val_loss: 5.6998 - val_main_output_loss: 5.5651 - val_aux_output_loss: 6.9042\n",
      "Epoch 8/50\n",
      "11610/11610 [==============================] - 1s 50us/sample - loss: 0.3210 - main_output_loss: 0.3103 - aux_output_loss: 0.4172 - val_loss: 5.8733 - val_main_output_loss: 5.7420 - val_aux_output_loss: 7.0589\n",
      "Epoch 9/50\n",
      "11610/11610 [==============================] - 1s 50us/sample - loss: 0.3209 - main_output_loss: 0.3103 - aux_output_loss: 0.4163 - val_loss: 5.4253 - val_main_output_loss: 5.2607 - val_aux_output_loss: 6.9064\n",
      "Epoch 10/50\n",
      "11610/11610 [==============================] - 1s 54us/sample - loss: 0.3206 - main_output_loss: 0.3103 - aux_output_loss: 0.4146 - val_loss: 6.1561 - val_main_output_loss: 6.0137 - val_aux_output_loss: 7.4490\n",
      "Epoch 11/50\n",
      "11610/11610 [==============================] - 1s 44us/sample - loss: 0.3212 - main_output_loss: 0.3111 - aux_output_loss: 0.4122 - val_loss: 5.9364 - val_main_output_loss: 5.7794 - val_aux_output_loss: 7.3649\n",
      "Epoch 12/50\n",
      "11610/11610 [==============================] - 1s 50us/sample - loss: 0.3191 - main_output_loss: 0.3090 - aux_output_loss: 0.4105 - val_loss: 6.2765 - val_main_output_loss: 6.1148 - val_aux_output_loss: 7.7311\n",
      "Epoch 13/50\n",
      "11610/11610 [==============================] - 1s 51us/sample - loss: 0.3203 - main_output_loss: 0.3104 - aux_output_loss: 0.4094 - val_loss: 6.2308 - val_main_output_loss: 6.0731 - val_aux_output_loss: 7.6738\n",
      "Epoch 14/50\n",
      "11610/11610 [==============================] - 1s 53us/sample - loss: 0.3197 - main_output_loss: 0.3100 - aux_output_loss: 0.4078 - val_loss: 6.4616 - val_main_output_loss: 6.2974 - val_aux_output_loss: 7.9565\n",
      "Epoch 15/50\n",
      "11610/11610 [==============================] - 1s 52us/sample - loss: 0.3182 - main_output_loss: 0.3085 - aux_output_loss: 0.4050 - val_loss: 5.9773 - val_main_output_loss: 5.7884 - val_aux_output_loss: 7.6824\n",
      "Epoch 16/50\n",
      "11610/11610 [==============================] - 1s 52us/sample - loss: 0.3198 - main_output_loss: 0.3103 - aux_output_loss: 0.4048 - val_loss: 5.8159 - val_main_output_loss: 5.6124 - val_aux_output_loss: 7.6461\n",
      "Epoch 17/50\n",
      "11610/11610 [==============================] - 1s 48us/sample - loss: 0.3164 - main_output_loss: 0.3069 - aux_output_loss: 0.4017 - val_loss: 5.7849 - val_main_output_loss: 5.5789 - val_aux_output_loss: 7.6300\n",
      "Epoch 18/50\n",
      "11610/11610 [==============================] - 1s 55us/sample - loss: 0.3187 - main_output_loss: 0.3092 - aux_output_loss: 0.4030 - val_loss: 6.4371 - val_main_output_loss: 6.2359 - val_aux_output_loss: 8.2360\n",
      "Epoch 19/50\n",
      "11610/11610 [==============================] - 1s 53us/sample - loss: 0.3172 - main_output_loss: 0.3079 - aux_output_loss: 0.4000 - val_loss: 6.0567 - val_main_output_loss: 5.8403 - val_aux_output_loss: 7.9847\n",
      "Epoch 20/50\n",
      "11610/11610 [==============================] - 1s 47us/sample - loss: 0.3157 - main_output_loss: 0.3064 - aux_output_loss: 0.3987 - val_loss: 6.0917 - val_main_output_loss: 5.8815 - val_aux_output_loss: 7.9809\n",
      "Epoch 21/50\n",
      "11610/11610 [==============================] - 1s 53us/sample - loss: 0.3150 - main_output_loss: 0.3058 - aux_output_loss: 0.3980 - val_loss: 6.2606 - val_main_output_loss: 6.0386 - val_aux_output_loss: 8.2557\n",
      "Epoch 22/50\n",
      "11610/11610 [==============================] - 1s 47us/sample - loss: 0.3158 - main_output_loss: 0.3069 - aux_output_loss: 0.3966 - val_loss: 6.4257 - val_main_output_loss: 6.1962 - val_aux_output_loss: 8.5077\n",
      "Epoch 23/50\n",
      "11610/11610 [==============================] - 1s 60us/sample - loss: 0.3142 - main_output_loss: 0.3053 - aux_output_loss: 0.3941 - val_loss: 6.6621 - val_main_output_loss: 6.4432 - val_aux_output_loss: 8.6230\n",
      "Epoch 24/50\n",
      "11610/11610 [==============================] - 1s 53us/sample - loss: 0.3180 - main_output_loss: 0.3093 - aux_output_loss: 0.3953 - val_loss: 6.3308 - val_main_output_loss: 6.0899 - val_aux_output_loss: 8.5142\n",
      "Epoch 25/50\n",
      "11610/11610 [==============================] - 1s 55us/sample - loss: 0.3143 - main_output_loss: 0.3056 - aux_output_loss: 0.3931 - val_loss: 6.4352 - val_main_output_loss: 6.1951 - val_aux_output_loss: 8.6015\n",
      "Epoch 26/50\n",
      "11610/11610 [==============================] - 1s 50us/sample - loss: 0.3133 - main_output_loss: 0.3045 - aux_output_loss: 0.3923 - val_loss: 6.1499 - val_main_output_loss: 5.8894 - val_aux_output_loss: 8.5110\n",
      "Epoch 27/50\n",
      "11610/11610 [==============================] - 1s 43us/sample - loss: 0.3136 - main_output_loss: 0.3047 - aux_output_loss: 0.3920 - val_loss: 6.4949 - val_main_output_loss: 6.2383 - val_aux_output_loss: 8.7926\n",
      "Epoch 28/50\n",
      "11610/11610 [==============================] - 1s 49us/sample - loss: 0.3125 - main_output_loss: 0.3039 - aux_output_loss: 0.3894 - val_loss: 6.2786 - val_main_output_loss: 6.0049 - val_aux_output_loss: 8.7513\n",
      "Epoch 29/50\n",
      "11610/11610 [==============================] - 1s 46us/sample - loss: 0.3130 - main_output_loss: 0.3046 - aux_output_loss: 0.3884 - val_loss: 6.3982 - val_main_output_loss: 6.1151 - val_aux_output_loss: 8.9285\n",
      "Epoch 30/50\n",
      "11610/11610 [==============================] - 1s 52us/sample - loss: 0.3130 - main_output_loss: 0.3044 - aux_output_loss: 0.3891 - val_loss: 6.6702 - val_main_output_loss: 6.3771 - val_aux_output_loss: 9.2953\n",
      "Epoch 31/50\n",
      "11610/11610 [==============================] - 1s 55us/sample - loss: 0.3109 - main_output_loss: 0.3025 - aux_output_loss: 0.3876 - val_loss: 6.7271 - val_main_output_loss: 6.4456 - val_aux_output_loss: 9.2478\n",
      "Epoch 32/50\n",
      "11610/11610 [==============================] - 1s 52us/sample - loss: 0.3275 - main_output_loss: 0.3210 - aux_output_loss: 0.3862 - val_loss: 7.1104 - val_main_output_loss: 6.8202 - val_aux_output_loss: 9.7365\n",
      "Epoch 33/50\n",
      "11610/11610 [==============================] - 1s 50us/sample - loss: 0.3105 - main_output_loss: 0.3023 - aux_output_loss: 0.3840 - val_loss: 6.9437 - val_main_output_loss: 6.6382 - val_aux_output_loss: 9.6838\n",
      "Epoch 34/50\n",
      "11610/11610 [==============================] - 1s 48us/sample - loss: 0.3117 - main_output_loss: 0.3037 - aux_output_loss: 0.3848 - val_loss: 6.7941 - val_main_output_loss: 6.4870 - val_aux_output_loss: 9.5557\n",
      "Epoch 35/50\n",
      "11610/11610 [==============================] - 1s 49us/sample - loss: 0.3100 - main_output_loss: 0.3019 - aux_output_loss: 0.3832 - val_loss: 6.4472 - val_main_output_loss: 6.1323 - val_aux_output_loss: 9.2804\n",
      "Epoch 36/50\n",
      "11610/11610 [==============================] - 1s 47us/sample - loss: 0.3119 - main_output_loss: 0.3039 - aux_output_loss: 0.3840 - val_loss: 6.7580 - val_main_output_loss: 6.4510 - val_aux_output_loss: 9.5159\n",
      "Epoch 37/50\n",
      "11610/11610 [==============================] - 1s 50us/sample - loss: 0.3096 - main_output_loss: 0.3016 - aux_output_loss: 0.3813 - val_loss: 6.5551 - val_main_output_loss: 6.2413 - val_aux_output_loss: 9.4069\n"
     ]
    },
    {
     "name": "stdout",
     "output_type": "stream",
     "text": [
      "Epoch 38/50\n",
      "11610/11610 [==============================] - 1s 48us/sample - loss: 0.3092 - main_output_loss: 0.3012 - aux_output_loss: 0.3814 - val_loss: 7.1785 - val_main_output_loss: 6.8639 - val_aux_output_loss: 9.9878\n",
      "Epoch 39/50\n",
      "11610/11610 [==============================] - 1s 46us/sample - loss: 0.3100 - main_output_loss: 0.3019 - aux_output_loss: 0.3815 - val_loss: 6.9634 - val_main_output_loss: 6.6372 - val_aux_output_loss: 9.9292\n",
      "Epoch 40/50\n",
      "11610/11610 [==============================] - 0s 42us/sample - loss: 0.3097 - main_output_loss: 0.3018 - aux_output_loss: 0.3801 - val_loss: 7.4276 - val_main_output_loss: 7.1100 - val_aux_output_loss: 10.3323\n",
      "Epoch 41/50\n",
      "11610/11610 [==============================] - 1s 44us/sample - loss: 0.3091 - main_output_loss: 0.3012 - aux_output_loss: 0.3800 - val_loss: 6.8043 - val_main_output_loss: 6.4610 - val_aux_output_loss: 9.8889\n",
      "Epoch 42/50\n",
      "11610/11610 [==============================] - 1s 48us/sample - loss: 0.3063 - main_output_loss: 0.2984 - aux_output_loss: 0.3771 - val_loss: 7.1193 - val_main_output_loss: 6.7823 - val_aux_output_loss: 10.1598\n",
      "Epoch 43/50\n",
      "11610/11610 [==============================] - 1s 50us/sample - loss: 0.3082 - main_output_loss: 0.3005 - aux_output_loss: 0.3784 - val_loss: 6.5573 - val_main_output_loss: 6.1993 - val_aux_output_loss: 9.7718\n",
      "Epoch 44/50\n",
      "11610/11610 [==============================] - 1s 53us/sample - loss: 0.3064 - main_output_loss: 0.2986 - aux_output_loss: 0.3766 - val_loss: 6.9048 - val_main_output_loss: 6.5417 - val_aux_output_loss: 10.1724\n",
      "Epoch 45/50\n",
      "11610/11610 [==============================] - 1s 54us/sample - loss: 0.3079 - main_output_loss: 0.3002 - aux_output_loss: 0.3769 - val_loss: 6.6570 - val_main_output_loss: 6.2903 - val_aux_output_loss: 9.9357\n",
      "Epoch 46/50\n",
      "11610/11610 [==============================] - 1s 44us/sample - loss: 0.3110 - main_output_loss: 0.3037 - aux_output_loss: 0.3768 - val_loss: 6.6961 - val_main_output_loss: 6.3267 - val_aux_output_loss: 10.0171\n",
      "Epoch 47/50\n",
      "11610/11610 [==============================] - 1s 50us/sample - loss: 0.3068 - main_output_loss: 0.2991 - aux_output_loss: 0.3759 - val_loss: 7.1958 - val_main_output_loss: 6.8191 - val_aux_output_loss: 10.5996\n",
      "Epoch 48/50\n",
      "11610/11610 [==============================] - 1s 48us/sample - loss: 0.3066 - main_output_loss: 0.2990 - aux_output_loss: 0.3757 - val_loss: 6.7324 - val_main_output_loss: 6.3382 - val_aux_output_loss: 10.2825\n",
      "Epoch 49/50\n",
      "11610/11610 [==============================] - 1s 50us/sample - loss: 0.3064 - main_output_loss: 0.2988 - aux_output_loss: 0.3743 - val_loss: 6.8444 - val_main_output_loss: 6.4541 - val_aux_output_loss: 10.3595\n",
      "Epoch 50/50\n",
      "11610/11610 [==============================] - 1s 58us/sample - loss: 0.3069 - main_output_loss: 0.2994 - aux_output_loss: 0.3744 - val_loss: 6.9805 - val_main_output_loss: 6.5818 - val_aux_output_loss: 10.5749\n"
     ]
    }
   ],
   "source": [
    "tensorboard_cb = keras.callbacks.TensorBoard(run_logdir)\n",
    "history = model.fit((x_train_A,x_train_B), (y_train,y_train),epochs=50,validation_data=((x_valid_A,x_valid_B),(y_valid,y_valid)),callbacks=[tensorboard_cb])"
   ]
  },
  {
   "cell_type": "markdown",
   "metadata": {},
   "source": [
    "简直不能再简单了。如果运行这段代码，TensorBoard()调回会负责创建日志目录（包括父级目录），在训练过程中会创建事件文件并写入概要。再次运行程序（可能修改了一些超参数）之后，得到的目录结构可能如下：\n",
    "\n",
    "    my_logs/\n",
    "    ├── run_2019_06_07-15_15_22\n",
    "    │   ├── train\n",
    "    │   │   ├── events.out.tfevents.1559891732.mycomputer.local.38511.694049.v2\n",
    "    │   │   ├── events.out.tfevents.1559891732.mycomputer.local.profile-empty\n",
    "    │   │   └── plugins/profile/2019-06-07_15-15-32\n",
    "    │   │       └── local.trace\n",
    "    │   └── validation\n",
    "    │       └── events.out.tfevents.1559891733.mycomputer.local.38511.696430.v2\n",
    "    └── run_2019_06_07-15_15_49\n",
    "        └── [...] \n"
   ]
  },
  {
   "cell_type": "markdown",
   "metadata": {},
   "source": [
    "每次运行都会创建一个目录，每个目录都有一个包含训练日志和验证日志的子目录。两者都包括事件文件，训练日志还包括分析追踪信息：它可以让 TensorBoard 展示所有设备上的模型的各个部分的训练时长，有助于定位性能瓶颈。\n",
    "\n",
    "然后就可以启动 TensorBoard 服务了。一种方式是通过运行命令行。如果是在虚拟环境中安装的 TensorFlow，需要激活虚拟环境。接着，在根目录（也可以是其它路径，但一定要指向日志目录）运行下面的命令：\n",
    "\n",
    "    $ tensorboard --logdir=./my_logs --port=6006\n",
    "    TensorBoard 2.0.0 at http://mycomputer.local:6006/ (Press CTRL+C to quit) \n"
   ]
  },
  {
   "cell_type": "markdown",
   "metadata": {},
   "source": [
    "无论是使用哪种方式，都得使用 TensorBoard 的浏览器界面。点击栏SCALARS可以查看学习曲线（见图 ）。左下角选择想要可视化的路径（比如第一次和第二次运行的训练日志），再点击epoch_loss。可以看到，在两次训练过程中，训练损失都是下降的，但第二次下降的更快。事实上，第二次的学习率是 `0.05`（optimizer=keras.optimizers.SGD(lr=0.05)）而不是 `0.001`。"
   ]
  },
  {
   "cell_type": "markdown",
   "metadata": {},
   "source": [
    "<div align=center><img  src=\"./static/tensorboard.jpg\"/></div>\n"
   ]
  },
  {
   "cell_type": "code",
   "execution_count": 156,
   "metadata": {},
   "outputs": [
    {
     "ename": "AttributeError",
     "evalue": "module 'tensorflow._api.v1.summary' has no attribute 'create_file_writer'",
     "output_type": "error",
     "traceback": [
      "\u001b[1;31m---------------------------------------------------------------------------\u001b[0m",
      "\u001b[1;31mAttributeError\u001b[0m                            Traceback (most recent call last)",
      "\u001b[1;32m<ipython-input-156-6c5dd443004c>\u001b[0m in \u001b[0;36m<module>\u001b[1;34m()\u001b[0m\n\u001b[0;32m      1\u001b[0m \u001b[0mtest_logdir\u001b[0m \u001b[1;33m=\u001b[0m \u001b[0mget_run_logdir\u001b[0m\u001b[1;33m(\u001b[0m\u001b[1;33m)\u001b[0m\u001b[1;33m\u001b[0m\u001b[0m\n\u001b[1;32m----> 2\u001b[1;33m \u001b[0mwriter\u001b[0m \u001b[1;33m=\u001b[0m \u001b[0mtf\u001b[0m\u001b[1;33m.\u001b[0m\u001b[0msummary\u001b[0m\u001b[1;33m.\u001b[0m\u001b[0mcreate_file_writer\u001b[0m\u001b[1;33m(\u001b[0m\u001b[0mtest_logdir\u001b[0m\u001b[1;33m)\u001b[0m\u001b[1;33m\u001b[0m\u001b[0m\n\u001b[0m\u001b[0;32m      3\u001b[0m \u001b[1;32mwith\u001b[0m \u001b[0mwriter\u001b[0m\u001b[1;33m.\u001b[0m\u001b[0mas_default\u001b[0m\u001b[1;33m(\u001b[0m\u001b[1;33m)\u001b[0m\u001b[1;33m:\u001b[0m\u001b[1;33m\u001b[0m\u001b[0m\n\u001b[0;32m      4\u001b[0m     \u001b[1;32mfor\u001b[0m \u001b[0mstep\u001b[0m \u001b[1;32min\u001b[0m \u001b[0mrange\u001b[0m\u001b[1;33m(\u001b[0m\u001b[1;36m1\u001b[0m\u001b[1;33m,\u001b[0m \u001b[1;36m1000\u001b[0m \u001b[1;33m+\u001b[0m \u001b[1;36m1\u001b[0m\u001b[1;33m)\u001b[0m\u001b[1;33m:\u001b[0m\u001b[1;33m\u001b[0m\u001b[0m\n\u001b[0;32m      5\u001b[0m         \u001b[0mtf\u001b[0m\u001b[1;33m.\u001b[0m\u001b[0msummary\u001b[0m\u001b[1;33m.\u001b[0m\u001b[0mscalar\u001b[0m\u001b[1;33m(\u001b[0m\u001b[1;34m\"my_scalar\"\u001b[0m\u001b[1;33m,\u001b[0m \u001b[0mnp\u001b[0m\u001b[1;33m.\u001b[0m\u001b[0msin\u001b[0m\u001b[1;33m(\u001b[0m\u001b[0mstep\u001b[0m \u001b[1;33m/\u001b[0m \u001b[1;36m10\u001b[0m\u001b[1;33m)\u001b[0m\u001b[1;33m,\u001b[0m \u001b[0mstep\u001b[0m\u001b[1;33m=\u001b[0m\u001b[0mstep\u001b[0m\u001b[1;33m)\u001b[0m\u001b[1;33m\u001b[0m\u001b[0m\n",
      "\u001b[1;31mAttributeError\u001b[0m: module 'tensorflow._api.v1.summary' has no attribute 'create_file_writer'"
     ]
    }
   ],
   "source": [
    "test_logdir = get_run_logdir()\n",
    "writer = tf.summary.create_file_writer(test_logdir)\n",
    "with writer.as_default():\n",
    "    for step in range(1, 1000 + 1):\n",
    "        tf.summary.scalar(\"my_scalar\", np.sin(step / 10), step=step)\n",
    "        data = (np.random.randn(100) + 2) * step / 100 # some random data\n",
    "        tf.summary.histogram(\"my_hist\", data, buckets=50, step=step)\n",
    "        images = np.random.rand(2, 32, 32, 3) # random 32×32 RGB images\n",
    "        tf.summary.image(\"my_images\", images * step / 1000, step=step)\n",
    "        texts = [\"The step is \" + str(step), \"Its square is \" + str(step**2)]\n",
    "        tf.summary.text(\"my_text\", texts, step=step)\n",
    "        sine_wave = tf.math.sin(tf.range(12000) / 48000 * 2 * np.pi * step)\n",
    "        audio = tf.reshape(tf.cast(sine_wave, tf.float32), [1, -1, 1])\n",
    "        tf.summary.audio(\"my_audio\", audio, sample_rate=48000, step=step) "
   ]
  }
 ],
 "metadata": {
  "kernelspec": {
   "display_name": "venv1",
   "language": "python",
   "name": "venv1"
  },
  "language_info": {
   "codemirror_mode": {
    "name": "ipython",
    "version": 3
   },
   "file_extension": ".py",
   "mimetype": "text/x-python",
   "name": "python",
   "nbconvert_exporter": "python",
   "pygments_lexer": "ipython3",
   "version": "3.6.4"
  }
 },
 "nbformat": 4,
 "nbformat_minor": 2
}
