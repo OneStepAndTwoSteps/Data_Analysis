{
 "cells": [
  {
   "cell_type": "markdown",
   "metadata": {},
   "source": [
    "# 使用 Keras 搭建人工神经网络"
   ]
  },
  {
   "cell_type": "markdown",
   "metadata": {},
   "source": [
    "### 一、查看 tensorflow 是否安装成功"
   ]
  },
  {
   "cell_type": "code",
   "execution_count": 40,
   "metadata": {},
   "outputs": [],
   "source": [
    "import tensorflow as tf\n",
    "from tensorflow import keras\n",
    "import numpy as np\n",
    "import pandas as pd"
   ]
  },
  {
   "cell_type": "code",
   "execution_count": 41,
   "metadata": {},
   "outputs": [
    {
     "data": {
      "text/plain": [
       "'2.6.0'"
      ]
     },
     "execution_count": 41,
     "metadata": {},
     "output_type": "execute_result"
    }
   ],
   "source": [
    "tf.__version__"
   ]
  },
  {
   "cell_type": "code",
   "execution_count": 42,
   "metadata": {},
   "outputs": [
    {
     "data": {
      "text/plain": [
       "'2.6.0'"
      ]
     },
     "execution_count": 42,
     "metadata": {},
     "output_type": "execute_result"
    }
   ],
   "source": [
    "keras.__version__"
   ]
  },
  {
   "cell_type": "markdown",
   "metadata": {},
   "source": [
    "### 二、使用 Keras 加载数据集"
   ]
  },
  {
   "cell_type": "markdown",
   "metadata": {},
   "source": [
    "Keras 提供一些实用的函数用来获取和加载常见的数据集，包括 MNIST、Fashion MNIST 和第 2 章用过的加州房产数据集。加载 Fashion MNIST："
   ]
  },
  {
   "cell_type": "code",
   "execution_count": 43,
   "metadata": {},
   "outputs": [],
   "source": [
    "fashion_mnist = keras.datasets.fashion_mnist\n",
    "(X_train_full, y_train_full), (X_test, y_test) = fashion_mnist.load_data()"
   ]
  },
  {
   "cell_type": "markdown",
   "metadata": {},
   "source": [
    "当使用 Keras 加载 MNIST 或 Fashion MNIST 时，和 Scikit-Learn 加载数据的一个重要区别是，每张图片是28 × 28的数组，而不是大小是 784 的 1D 数组。另外像素的强度是用整数（0 到 255）表示的，而不是浮点数（0.0 到 255.0）。看下训练集的形状和类型："
   ]
  },
  {
   "cell_type": "code",
   "execution_count": 44,
   "metadata": {},
   "outputs": [
    {
     "data": {
      "text/plain": [
       "(60000, 28, 28)"
      ]
     },
     "execution_count": 44,
     "metadata": {},
     "output_type": "execute_result"
    }
   ],
   "source": [
    "X_train_full.shape"
   ]
  },
  {
   "cell_type": "code",
   "execution_count": 45,
   "metadata": {},
   "outputs": [
    {
     "data": {
      "text/plain": [
       "dtype('uint8')"
      ]
     },
     "execution_count": 45,
     "metadata": {},
     "output_type": "execute_result"
    }
   ],
   "source": [
    "X_train_full.dtype"
   ]
  },
  {
   "cell_type": "markdown",
   "metadata": {},
   "source": [
    "该数据集已经分成了训练集和测试集，但没有验证集。所以要建一个验证集，另外，因为要用梯度下降训练神经网络，必须要对输入特征进行缩放。简单起见，通过除以 255.0 将强度范围变为 0-1："
   ]
  },
  {
   "cell_type": "code",
   "execution_count": 46,
   "metadata": {},
   "outputs": [],
   "source": [
    "X_valid,X_train = X_train_full[:5000]/255.0,X_train_full[5000:]/255.0\n",
    "y_valid,y_train = y_train_full[:5000],y_train_full[5000:]"
   ]
  },
  {
   "cell_type": "markdown",
   "metadata": {},
   "source": [
    "对于 MNIST，当标签等于 5 时，表明图片是手写的数字 5。但对于 Fashion MNIST，需要分类名的列表："
   ]
  },
  {
   "cell_type": "code",
   "execution_count": 47,
   "metadata": {},
   "outputs": [],
   "source": [
    "class_names = [\"T-shirt/top\", \"Trouser\", \"Pullover\", \"Dress\", \"Coat\",\n",
    "               \"Sandal\", \"Shirt\", \"Sneaker\", \"Bag\", \"Ankle boot\"] "
   ]
  },
  {
   "cell_type": "markdown",
   "metadata": {},
   "source": [
    "例如，训练集的第一张图片表示外套："
   ]
  },
  {
   "cell_type": "code",
   "execution_count": 48,
   "metadata": {},
   "outputs": [
    {
     "data": {
      "text/plain": [
       "'Coat'"
      ]
     },
     "execution_count": 48,
     "metadata": {},
     "output_type": "execute_result"
    }
   ],
   "source": [
    "class_names[y_train[0]]"
   ]
  },
  {
   "cell_type": "markdown",
   "metadata": {},
   "source": [
    "### 三、用顺序 API 创建模型"
   ]
  },
  {
   "cell_type": "code",
   "execution_count": 49,
   "metadata": {},
   "outputs": [],
   "source": [
    "model = keras.models.Sequential()\n",
    "model.add(keras.layers.Flatten(input_shape=[28,28]))\n",
    "model.add(keras.layers.Dense(300,activation='relu'))\n",
    "model.add(keras.layers.Dense(100,activation='relu'))\n",
    "model.add(keras.layers.Dense(10,activation='softmax'))"
   ]
  },
  {
   "attachments": {
    "1628756817%281%29.jpg": {
     "image/jpeg": "[encoded data removed]"
    }
   },
   "cell_type": "markdown",
   "metadata": {},
   "source": [
    "逐行看下代码：\n",
    "\n",
    "* 第一行代码创建了一个顺序 模型，这是 Keras 最简单的模型，是由单层神经元顺序连起来的，被称为顺序 API；\n",
    "\n",
    "\n",
    "* 接下来创建了第一层，这是一个 `Flatten层` ，它的作用是将每个输入图片转变为 1D 数组：如果输入数据是 `X`，该层则计算 `X.reshape(-1, 1)`。该层没有任何参数，只是做一些简单预处理。因为是模型的第一层，必须要指明 `input_shape`，`input_shape` 不包括批次大小，只是实例的形状。另外，第一层也可以是 `keras.layers.InputLayer`，设置 `input_shape=[28,28]`;\n",
    "\n",
    "\n",
    "* 然后，添加了一个有 300 个神经元的紧密层，激活函数是 ReLU。每个紧密层只负责自身的权重矩阵，权重矩阵是神经元与输入的所有连接权重。紧密层还要负责偏置项（每个神经元都有一个偏置项）向量。当紧密层收到输入数据时，就利用如下公式进行计算：\n",
    "\n",
    "![1628756817%281%29.jpg](attachment:1628756817%281%29.jpg)\n",
    "\n",
    "* 接着再添加第二个紧密层，激活函数仍然是 ReLU；\n",
    "\n",
    "\n",
    "* 最后，加上一个拥有 10 个神经元的输出层（每有一个类就要有一个神经元），激活函数是 softmax（保证输出的概率和等于 1，因为就只有这是个类，具有排他性）。"
   ]
  },
  {
   "cell_type": "markdown",
   "metadata": {},
   "source": [
    "模型的 `summary()` 方法可以展示所有层，包括每个层的名字（名字是自动生成的，除非建层时指定名字），输出的形状（ `None` 代表批次大小可以是任意值），和参数的数量。最后会输出所有参数的数量，包括可训练和不可训练参数。\n",
    "\n",
    "这章只有可训练参数（第 11 章可以看到不可训练参数的例子）："
   ]
  },
  {
   "cell_type": "code",
   "execution_count": 50,
   "metadata": {},
   "outputs": [
    {
     "name": "stdout",
     "output_type": "stream",
     "text": [
      "Model: \"sequential_1\"\n",
      "_________________________________________________________________\n",
      "Layer (type)                 Output Shape              Param #   \n",
      "=================================================================\n",
      "flatten_1 (Flatten)          (None, 784)               0         \n",
      "_________________________________________________________________\n",
      "dense_3 (Dense)              (None, 300)               235500    \n",
      "_________________________________________________________________\n",
      "dense_4 (Dense)              (None, 100)               30100     \n",
      "_________________________________________________________________\n",
      "dense_5 (Dense)              (None, 10)                1010      \n",
      "=================================================================\n",
      "Total params: 266,610\n",
      "Trainable params: 266,610\n",
      "Non-trainable params: 0\n",
      "_________________________________________________________________\n"
     ]
    }
   ],
   "source": [
    "model.summary()"
   ]
  },
  {
   "cell_type": "markdown",
   "metadata": {},
   "source": [
    "紧密层通常有许多参数。比如，第一个隐含层有 `784 × 300` 个连接权重，再加上 `300` 个偏置项，总共有 `235500` 个参数。这么多参数可以让模型具有足够的灵活度以拟合训练数据，但也意味着可能有过拟合的风险，特别是当训练数据不足时。后面再讨论这个问题。\n",
    "\n",
    "使用属性，获取神经层很容易，可以通过索引或名称获取对应的层："
   ]
  },
  {
   "cell_type": "code",
   "execution_count": 51,
   "metadata": {},
   "outputs": [
    {
     "data": {
      "text/plain": [
       "[<keras.layers.core.Flatten at 0x1f0ee2ce748>,\n",
       " <keras.layers.core.Dense at 0x1f0ee2ce7b8>,\n",
       " <keras.layers.core.Dense at 0x1f0ee2c67f0>,\n",
       " <keras.layers.core.Dense at 0x1f0ee2c6e80>]"
      ]
     },
     "execution_count": 51,
     "metadata": {},
     "output_type": "execute_result"
    }
   ],
   "source": [
    "model.layers"
   ]
  },
  {
   "cell_type": "code",
   "execution_count": 55,
   "metadata": {},
   "outputs": [
    {
     "data": {
      "text/plain": [
       "'dense_3'"
      ]
     },
     "execution_count": 55,
     "metadata": {},
     "output_type": "execute_result"
    }
   ],
   "source": [
    "hidden1 = model.layers[1]\n",
    "hidden1.name"
   ]
  },
  {
   "cell_type": "code",
   "execution_count": 59,
   "metadata": {},
   "outputs": [],
   "source": [
    "# model.get_layer('Dense') is hidden1"
   ]
  },
  {
   "cell_type": "markdown",
   "metadata": {},
   "source": [
    "可以用 `get_weights()` 和 `set_weights()` 方法，获取神经层的所有参数。对于紧密层，参数包括 `连接权重` 和 `偏置项`："
   ]
  },
  {
   "cell_type": "code",
   "execution_count": 60,
   "metadata": {},
   "outputs": [
    {
     "data": {
      "text/plain": [
       "array([[ 0.0506734 , -0.03481189,  0.00636576, ..., -0.03400098,\n",
       "         0.05607569, -0.03619579],\n",
       "       [-0.00203162, -0.06638727, -0.0622946 , ..., -0.01013738,\n",
       "         0.04081945, -0.03143887],\n",
       "       [ 0.03648217,  0.03403071, -0.00610803, ..., -0.03554079,\n",
       "        -0.05908823,  0.00303782],\n",
       "       ...,\n",
       "       [ 0.04547248, -0.00891829, -0.05069645, ...,  0.05558899,\n",
       "        -0.02145936,  0.00691813],\n",
       "       [ 0.05440122, -0.04474668, -0.05840728, ...,  0.01405205,\n",
       "         0.02290952, -0.05056821],\n",
       "       [-0.07394202,  0.02196636, -0.00073475, ..., -0.01964845,\n",
       "        -0.05252707, -0.03077147]], dtype=float32)"
      ]
     },
     "execution_count": 60,
     "metadata": {},
     "output_type": "execute_result"
    }
   ],
   "source": [
    "weights,biases = hidden1.get_weights()\n",
    "weights"
   ]
  },
  {
   "cell_type": "code",
   "execution_count": 61,
   "metadata": {},
   "outputs": [
    {
     "data": {
      "text/plain": [
       "(784, 300)"
      ]
     },
     "execution_count": 61,
     "metadata": {},
     "output_type": "execute_result"
    }
   ],
   "source": [
    "weights.shape  # 参数 w"
   ]
  },
  {
   "cell_type": "code",
   "execution_count": 62,
   "metadata": {},
   "outputs": [
    {
     "data": {
      "text/plain": [
       "(300,)"
      ]
     },
     "execution_count": 62,
     "metadata": {},
     "output_type": "execute_result"
    }
   ],
   "source": [
    "biases.shape  # 偏置项 b"
   ]
  },
  {
   "cell_type": "markdown",
   "metadata": {},
   "source": [
    "紧密层是随机初始化连接权重的（为了避免对称性），偏置项则是 0。如果想使用不同的初始化方法，可以在创建层时设置 `kernel_initializer`（核是连接矩阵的另一个名字）或 `bias_initializer` 。第 11 章会进一步讨论初始化器，初始化器的完整列表见 [这里](https://links.jianshu.com/go?to=https%3A%2F%2Fkeras.io%2Finitializers%2F)。"
   ]
  },
  {
   "cell_type": "markdown",
   "metadata": {},
   "source": [
    "#### 笔记：\n",
    "\n",
    "权重矩阵的形状取决于输入的数量。这就是为什么要在创建 `Sequential模型` 的第一层时指定 `input_shape` 。但是，如果不指定形状也没关系：Keras 会在真正搭建模型前一直等待，直到弄清输入的形状（输入真实数据时，或调用 `build()` 方法时）。在搭建模型之前，神经层是没有权重的，也干不了什么事（比如打印模型概要或保存模型）。`所以如果在创建模型时知道输入的形状，最好就设置好。`"
   ]
  },
  {
   "cell_type": "markdown",
   "metadata": {},
   "source": [
    "### 四、编译模型"
   ]
  },
  {
   "cell_type": "markdown",
   "metadata": {},
   "source": [
    "创建好模型之后，必须调用 `compile()` 方法，设置损失函数和优化器。另外，还可以指定训练和评估过程中要计算的额外指标的列表："
   ]
  },
  {
   "cell_type": "code",
   "execution_count": 63,
   "metadata": {},
   "outputs": [],
   "source": [
    "model.compile(loss='sparse_categorical_crossentropy',optimizer='sgd',metrics=['accuracy'])"
   ]
  },
  {
   "cell_type": "markdown",
   "metadata": {},
   "source": [
    "#### 笔记：\n",
    "\n",
    "使用 `loss=\"sparse_categorical_crossentropy\"` 等同于 `loss=keras.losses.sparse_categorical_crossentropy` 。\n",
    "\n",
    "相似的，`optimizer=\"sgd\"` 等同于 `optimizer=keras.optimizers.SGD()` ，`metrics=[\"accuracy\"]` 等同于 `metrics=[keras.metrics.sparse_categorical_accuracy]`。\n",
    "\n",
    "后面还会使用其他的 `损失函数` 、`优化器` 和 `指标`，它们的完整列表见 [这里](https://links.jianshu.com/go?to=https%3A%2F%2Fkeras.io%2Flosses)、 [这里](https://links.jianshu.com/go?to=https%3A%2F%2Fkeras.io%2Foptimizers)、和[这里](https://links.jianshu.com/go?to=https%3A%2F%2Fkeras.io%2Fmetrics。)"
   ]
  },
  {
   "cell_type": "markdown",
   "metadata": {},
   "source": [
    "解释下这段代码。首先，因为使用的是稀疏标签（每个实例只有一个目标类的索引，在这个例子中，目标类索引是 0 到 9），且就是这十个类，没有其它的，所以使用的是 `\"sparse_categorical_crossentropy\"` 损失函数。如果每个实例的每个类都有一个目标概率（比如独热向量，`[0., 0., 0., 1., 0., 0., 0., 0., 0., 0.]` ，来表示类 3），则就要使用 `\"categorical_crossentropy\"` 损失函数。如果是做二元分类（有一个或多个二元标签），输出层就得使用 `\"sigmoid\"` 激活函数，损失函数则变为 `\"binary_crossentropy\"`。"
   ]
  },
  {
   "cell_type": "markdown",
   "metadata": {},
   "source": [
    "### 五、训练和评估模型"
   ]
  },
  {
   "cell_type": "markdown",
   "metadata": {},
   "source": [
    "可以训练模型了。只需调用 fit() 方法："
   ]
  },
  {
   "cell_type": "code",
   "execution_count": 64,
   "metadata": {
    "scrolled": true
   },
   "outputs": [
    {
     "name": "stdout",
     "output_type": "stream",
     "text": [
      "Epoch 1/30\n",
      "1719/1719 [==============================] - 3s 2ms/step - loss: 0.7206 - accuracy: 0.7690 - val_loss: 0.5131 - val_accuracy: 0.8268\n",
      "Epoch 2/30\n",
      "1719/1719 [==============================] - 3s 2ms/step - loss: 0.4868 - accuracy: 0.8298 - val_loss: 0.4697 - val_accuracy: 0.8384\n",
      "Epoch 3/30\n",
      "1719/1719 [==============================] - 3s 2ms/step - loss: 0.4426 - accuracy: 0.8438 - val_loss: 0.4133 - val_accuracy: 0.8624\n",
      "Epoch 4/30\n",
      "1719/1719 [==============================] - 3s 2ms/step - loss: 0.4157 - accuracy: 0.8549 - val_loss: 0.3973 - val_accuracy: 0.8662\n",
      "Epoch 5/30\n",
      "1719/1719 [==============================] - 3s 2ms/step - loss: 0.3955 - accuracy: 0.8604 - val_loss: 0.4150 - val_accuracy: 0.8538\n",
      "Epoch 6/30\n",
      "1719/1719 [==============================] - 3s 2ms/step - loss: 0.3792 - accuracy: 0.8664 - val_loss: 0.4001 - val_accuracy: 0.8638\n",
      "Epoch 7/30\n",
      "1719/1719 [==============================] - 2s 1ms/step - loss: 0.3665 - accuracy: 0.8693 - val_loss: 0.3706 - val_accuracy: 0.8708\n",
      "Epoch 8/30\n",
      "1719/1719 [==============================] - 3s 1ms/step - loss: 0.3546 - accuracy: 0.8735 - val_loss: 0.3654 - val_accuracy: 0.8718\n",
      "Epoch 9/30\n",
      "1719/1719 [==============================] - 2s 1ms/step - loss: 0.3439 - accuracy: 0.8774 - val_loss: 0.3415 - val_accuracy: 0.8802\n",
      "Epoch 10/30\n",
      "1719/1719 [==============================] - 2s 1ms/step - loss: 0.3343 - accuracy: 0.8815 - val_loss: 0.3341 - val_accuracy: 0.8828\n",
      "Epoch 11/30\n",
      "1719/1719 [==============================] - 2s 1ms/step - loss: 0.3250 - accuracy: 0.8835 - val_loss: 0.3473 - val_accuracy: 0.8784\n",
      "Epoch 12/30\n",
      "1719/1719 [==============================] - 2s 1ms/step - loss: 0.3166 - accuracy: 0.8864 - val_loss: 0.3396 - val_accuracy: 0.8810\n",
      "Epoch 13/30\n",
      "1719/1719 [==============================] - 2s 1ms/step - loss: 0.3098 - accuracy: 0.8880 - val_loss: 0.3260 - val_accuracy: 0.8874\n",
      "Epoch 14/30\n",
      "1719/1719 [==============================] - 2s 1ms/step - loss: 0.3035 - accuracy: 0.8913 - val_loss: 0.3212 - val_accuracy: 0.8900\n",
      "Epoch 15/30\n",
      "1719/1719 [==============================] - 2s 1ms/step - loss: 0.2958 - accuracy: 0.8926 - val_loss: 0.3257 - val_accuracy: 0.8884\n",
      "Epoch 16/30\n",
      "1719/1719 [==============================] - 2s 1ms/step - loss: 0.2908 - accuracy: 0.8953 - val_loss: 0.3246 - val_accuracy: 0.8850\n",
      "Epoch 17/30\n",
      "1719/1719 [==============================] - 2s 1ms/step - loss: 0.2851 - accuracy: 0.8973 - val_loss: 0.3147 - val_accuracy: 0.8858\n",
      "Epoch 18/30\n",
      "1719/1719 [==============================] - 2s 1ms/step - loss: 0.2791 - accuracy: 0.8998 - val_loss: 0.3274 - val_accuracy: 0.8812\n",
      "Epoch 19/30\n",
      "1719/1719 [==============================] - 2s 1ms/step - loss: 0.2730 - accuracy: 0.9014 - val_loss: 0.3239 - val_accuracy: 0.8846\n",
      "Epoch 20/30\n",
      "1719/1719 [==============================] - 2s 1ms/step - loss: 0.2690 - accuracy: 0.9028 - val_loss: 0.3051 - val_accuracy: 0.8914\n",
      "Epoch 21/30\n",
      "1719/1719 [==============================] - 2s 1ms/step - loss: 0.2643 - accuracy: 0.9056 - val_loss: 0.3085 - val_accuracy: 0.8916\n",
      "Epoch 22/30\n",
      "1719/1719 [==============================] - 2s 1ms/step - loss: 0.2589 - accuracy: 0.9071 - val_loss: 0.3160 - val_accuracy: 0.8882\n",
      "Epoch 23/30\n",
      "1719/1719 [==============================] - 2s 1ms/step - loss: 0.2546 - accuracy: 0.9084 - val_loss: 0.3084 - val_accuracy: 0.8908\n",
      "Epoch 24/30\n",
      "1719/1719 [==============================] - 2s 1ms/step - loss: 0.2499 - accuracy: 0.9104 - val_loss: 0.3249 - val_accuracy: 0.8848\n",
      "Epoch 25/30\n",
      "1719/1719 [==============================] - 2s 1ms/step - loss: 0.2457 - accuracy: 0.9113 - val_loss: 0.3313 - val_accuracy: 0.8756\n",
      "Epoch 26/30\n",
      "1719/1719 [==============================] - 2s 1ms/step - loss: 0.2423 - accuracy: 0.9125 - val_loss: 0.3058 - val_accuracy: 0.8916\n",
      "Epoch 27/30\n",
      "1719/1719 [==============================] - 2s 1ms/step - loss: 0.2379 - accuracy: 0.9142 - val_loss: 0.3060 - val_accuracy: 0.8928\n",
      "Epoch 28/30\n",
      "1719/1719 [==============================] - 2s 1ms/step - loss: 0.2338 - accuracy: 0.9156 - val_loss: 0.2896 - val_accuracy: 0.8934\n",
      "Epoch 29/30\n",
      "1719/1719 [==============================] - 2s 1ms/step - loss: 0.2299 - accuracy: 0.9173 - val_loss: 0.3006 - val_accuracy: 0.8908\n",
      "Epoch 30/30\n",
      "1719/1719 [==============================] - 2s 1ms/step - loss: 0.2275 - accuracy: 0.9174 - val_loss: 0.2963 - val_accuracy: 0.8924\n"
     ]
    }
   ],
   "source": [
    "history = model.fit(X_train,y_train,epochs=30,validation_data=(X_valid,y_valid))"
   ]
  },
  {
   "cell_type": "markdown",
   "metadata": {},
   "source": [
    "这里，向 `fit()` 方法传递了输入特征 `(X_train)` 和目标类 `(y_train)`，还要要训练的周期数（不设置的话，默认的周期数是 1，肯定是不能收敛到一个好的解的）。另外还传递了验证集（它是可选的）。Keras 会在每个周期结束后，测量损失和指标，这样就可以监测模型的表现。如果模型在训练集上的表现优于在验证集上的表现，可能模型在训练集上就过拟合了（或者就是存在 bug，比如训练集和验证集的数据不匹配）。"
   ]
  },
  {
   "cell_type": "markdown",
   "metadata": {},
   "source": [
    "#### 提示：\n",
    "\n",
    "除了通过参数 `validation_data` 传递验证集，也可以通过参数 `validation_split` 从训练集分割出一部分作为验证集。比如，`validation_split=0.1` 可以让 `Keras` 使用训练数据（打散前）的末尾 10% 作为验证集。"
   ]
  },
  {
   "cell_type": "markdown",
   "metadata": {},
   "source": [
    "如果训练集非常倾斜，一些类过渡表达，一些欠表达，在调用 `fit()` 时最好设置 `class_weight` 参数，可以加大欠表达类的权重，减小过渡表达类的权重。Keras 在计算损失时，会使用这些权重。如果每个实例都要加权重，可以设置 `sample_weight`（这个参数优先于 `class_weight` ）。如果一些实例的标签是通过专家添加的，其它实例是通过众包平台添加的，最好加大前者的权重，此时给每个实例都加权重就很有必要。通过在 `validation_data` 元组中，给验证集加上样本权重作为第三项，还可以给验证集添加样本权重。"
   ]
  },
  {
   "cell_type": "markdown",
   "metadata": {},
   "source": [
    "`fit()` 方法会返回 `History` 对象，包含：`训练参数（history.params）` 、 `周期列表（history.epoch）`、以及最重要的包含训练集和验证集的每个周期后的损失和指标的字典 `（history.history）`。如果用这个字典创建一个 `pandas` 的 `DataFrame` ，然后使用方法 `plot()` ，就可以画出学习曲线，见图 ："
   ]
  },
  {
   "cell_type": "code",
   "execution_count": 65,
   "metadata": {},
   "outputs": [],
   "source": [
    "import pandas as pd\n",
    "import matplotlib.pyplot as plt"
   ]
  },
  {
   "cell_type": "code",
   "execution_count": 66,
   "metadata": {},
   "outputs": [],
   "source": [
    "# history.history #包含训练集和验证集的每个周期后的损失和指标的字典 "
   ]
  },
  {
   "cell_type": "code",
   "execution_count": 67,
   "metadata": {},
   "outputs": [
    {
     "data": {
      "image/png": "[encoded data removed]",
      "text/plain": [
       "<Figure size 864x576 with 1 Axes>"
      ]
     },
     "metadata": {
      "needs_background": "light"
     },
     "output_type": "display_data"
    }
   ],
   "source": [
    "pd.DataFrame(history.history).plot(figsize=(12,8))\n",
    "plt.grid(True) # 是否加上网格\n",
    "plt.gca().set_ylim(0,1)\n",
    "plt.show()"
   ]
  },
  {
   "cell_type": "markdown",
   "metadata": {},
   "source": [
    "记录了每个周期的平均训练损失和准确率，验证损失和准确率"
   ]
  },
  {
   "cell_type": "markdown",
   "metadata": {},
   "source": [
    "可以看到，训练准确率和验证准确率稳步提高，训练损失和验证损失持续下降。另外，验证曲线和训练曲线靠的很近，意味着没有什么过拟合。在这个例子中，在训练一开始时，模型在验证集上的表现由于训练集。\n",
    "\n",
    "`但实际情况是，验证误差是在每个周期结束后算出来的，而训练误差在每个周期期间，用流动平均误差算出来的。所以训练曲线（译者注，图中橙色的那条）实际应该向左移动半个周期。移动之后，就可以发现在训练开始时，训练和验证曲线几乎是完美重合起来的。`"
   ]
  },
  {
   "cell_type": "markdown",
   "metadata": {},
   "source": [
    "#### 提示：\n",
    "\n",
    "在绘制训练曲线时，应该向左移动半个周期。"
   ]
  },
  {
   "cell_type": "markdown",
   "metadata": {},
   "source": [
    "通常只要训练时间足够长，训练集的表现就能超越验证集。从图中可以看到，验证损失仍然在下降，模型收敛的还不好，所以训练应该持续下去。只需要再次调用方法 `fit()` 即可，因为 Keras 可以从断点处继续（验证准确率可以达到 89%。）\n",
    "\n",
    "如果仍然对模型的表现不满意，就需要调节超参数了。首先是学习率。如果调节学习率没有帮助，就尝试换一个优化器（记得再调节任何超参数之后都重新调节学习率）。如果效果仍然不好，就调节模型自身的超参数，比如层数、每层的神经元数，每个隐藏层的激活函数。还可以调节其它超参数，比如批次大小（通过 `fit()` 的参数 `batch_size` ，默认是 `32`）。本章末尾还会调节超参数。当对验证准确率达到满意之后，就可以用测试集评估 `泛化误差` 。只需使用 `evaluate()` 方法（`evaluate()` 方法包含参数 `batch_size` 和 `sample_weight`）："
   ]
  },
  {
   "cell_type": "markdown",
   "metadata": {},
   "source": [
    "一、经验误差（训练误差）与泛化误差\n",
    "\n",
    "* 经验误差（训练误差）：模型在训练集上的误差称为“经验误差”（empirical error）或者“训练误差”“training error”。\n",
    "\n",
    "\n",
    "* 泛化误差：模型在新样本集（测试集）上的误差称为“泛化误差”（generalization error）。\n"
   ]
  },
  {
   "cell_type": "code",
   "execution_count": 68,
   "metadata": {},
   "outputs": [],
   "source": [
    "x_test = X_test/255.0"
   ]
  },
  {
   "cell_type": "code",
   "execution_count": 69,
   "metadata": {},
   "outputs": [
    {
     "name": "stdout",
     "output_type": "stream",
     "text": [
      "313/313 [==============================] - 0s 1ms/step - loss: 0.3321 - accuracy: 0.8836\n"
     ]
    },
    {
     "data": {
      "text/plain": [
       "[0.3321235477924347, 0.8835999965667725]"
      ]
     },
     "execution_count": 69,
     "metadata": {},
     "output_type": "execute_result"
    }
   ],
   "source": [
    "model.evaluate(x_test,y_test)"
   ]
  },
  {
   "cell_type": "markdown",
   "metadata": {},
   "source": [
    "### 5、使用模型进行预测"
   ]
  },
  {
   "cell_type": "markdown",
   "metadata": {},
   "source": [
    "接下来，就可以用模型的predict()方法对新实例做预测了。因为并没有新实例，所以就用测试集的前 3 个实例来演示："
   ]
  },
  {
   "cell_type": "code",
   "execution_count": 70,
   "metadata": {},
   "outputs": [
    {
     "data": {
      "text/plain": [
       "array([[0., 0., 0., 0., 0., 0., 0., 0., 0., 1.],\n",
       "       [0., 0., 1., 0., 0., 0., 0., 0., 0., 0.],\n",
       "       [0., 1., 0., 0., 0., 0., 0., 0., 0., 0.]], dtype=float32)"
      ]
     },
     "execution_count": 70,
     "metadata": {},
     "output_type": "execute_result"
    }
   ],
   "source": [
    "y_predict = model.predict(x_test[:3])\n",
    "y_predict.round(2)"
   ]
  },
  {
   "cell_type": "markdown",
   "metadata": {},
   "source": [
    "可以看到，模型会对每个实例的每个类（从 0 到 9）都给出一个概率。\n",
    "\n",
    "如果只关心概率最高的类（即使概率不高），可以使用方法 `predict_classes()：`"
   ]
  },
  {
   "cell_type": "markdown",
   "metadata": {},
   "source": [
    "    y_predict_class = model.predict_classes(x_test[:3])\n",
    "    y_predict_class\n",
    "\n",
    "报错：\n",
    "\n",
    "第一次用的网络是在model=Sequential()下添加模块的的方法，也就是所谓的顺序模型。Sequential class可以使用model.predict_classes()的方法来实现预测；\n",
    "\n",
    "第二次用的方法，是编写好网络结构后使用model=Model()综合起来的方法，也就是Model class，无法使用model.predict_classes()，但是可以使用组合形式预测。\n",
    "\n",
    "所以用下面写法替换："
   ]
  },
  {
   "cell_type": "code",
   "execution_count": 71,
   "metadata": {},
   "outputs": [
    {
     "data": {
      "text/plain": [
       "array([9, 2, 1], dtype=int64)"
      ]
     },
     "execution_count": 71,
     "metadata": {},
     "output_type": "execute_result"
    }
   ],
   "source": [
    "y_predict_class=np.argmax(y_predict,axis=1)\n",
    "y_predict_class"
   ]
  },
  {
   "cell_type": "code",
   "execution_count": 72,
   "metadata": {},
   "outputs": [
    {
     "data": {
      "text/plain": [
       "array(['Ankle boot', 'Pullover', 'Trouser'], dtype='<U11')"
      ]
     },
     "execution_count": 72,
     "metadata": {},
     "output_type": "execute_result"
    }
   ],
   "source": [
    "np.array(class_names)[y_predict_class]"
   ]
  },
  {
   "cell_type": "code",
   "execution_count": 73,
   "metadata": {},
   "outputs": [
    {
     "data": {
      "text/plain": [
       "(28, 28)"
      ]
     },
     "execution_count": 73,
     "metadata": {},
     "output_type": "execute_result"
    }
   ],
   "source": [
    "X_train[1].shape"
   ]
  },
  {
   "cell_type": "code",
   "execution_count": 74,
   "metadata": {},
   "outputs": [],
   "source": [
    "from PIL import Image"
   ]
  },
  {
   "cell_type": "code",
   "execution_count": 75,
   "metadata": {},
   "outputs": [
    {
     "data": {
      "image/png": "[encoded data removed]",
      "text/plain": [
       "<PIL.Image.Image image mode=L size=320x280 at 0x1F0DE17DC18>"
      ]
     },
     "execution_count": 75,
     "metadata": {},
     "output_type": "execute_result"
    }
   ],
   "source": [
    "Image.fromarray(X_test[9].astype(np.uint8)).resize((320, 280), Image.ANTIALIAS) # 鞋子\n",
    "Image.fromarray(X_test[2].astype(np.uint8)).resize((320, 280), Image.ANTIALIAS) # 裤子\n",
    "Image.fromarray(X_test[1].astype(np.uint8)).resize((320, 280), Image.ANTIALIAS) # 👕"
   ]
  },
  {
   "cell_type": "markdown",
   "metadata": {},
   "source": [
    "### 6、使用顺序 API 搭建回归 MLP"
   ]
  },
  {
   "cell_type": "markdown",
   "metadata": {},
   "source": [
    "接下来使用回归神经网络来处理加州房价问题。简便起见，使用 `Scikit-Learn` 的 `fetch_california_housing()` 函数来加载数据。这个数据集比第 2 章所用的数据集简单，因为它只包括数值特征（没有 `ocean_proximity` ），也不包括缺失值。加载好数据之后，将数据集分割成训练集、验证集和测试集，并做特征缩放："
   ]
  },
  {
   "cell_type": "code",
   "execution_count": 76,
   "metadata": {},
   "outputs": [],
   "source": [
    "from sklearn.datasets import fetch_california_housing\n",
    "from sklearn.model_selection import train_test_split\n",
    "from sklearn.preprocessing import StandardScaler"
   ]
  },
  {
   "cell_type": "code",
   "execution_count": 77,
   "metadata": {},
   "outputs": [],
   "source": [
    "hoursing = fetch_california_housing()\n",
    "\n",
    "x_train_full,x_test,y_train_full,y_test = train_test_split(hoursing.data,hoursing.target)\n",
    "x_train,x_valid,y_train,y_valid = train_test_split(x_train_full,y_train_full) "
   ]
  },
  {
   "cell_type": "code",
   "execution_count": 78,
   "metadata": {},
   "outputs": [],
   "source": [
    "ss = StandardScaler()\n",
    "x_train = ss.fit_transform(x_train)\n",
    "x_valid = ss.transform(x_valid)\n",
    "x_test = ss.transform(x_test)"
   ]
  },
  {
   "cell_type": "code",
   "execution_count": 79,
   "metadata": {},
   "outputs": [
    {
     "data": {
      "text/plain": [
       "array([-1.03573364,  1.14234604, -1.07141223, -0.20230783,  0.6177981 ,\n",
       "        0.23566371, -0.7622662 ,  0.66299787])"
      ]
     },
     "execution_count": 79,
     "metadata": {},
     "output_type": "execute_result"
    }
   ],
   "source": [
    "x_test[1]"
   ]
  },
  {
   "cell_type": "code",
   "execution_count": 80,
   "metadata": {},
   "outputs": [
    {
     "data": {
      "text/plain": [
       "(11610, 8)"
      ]
     },
     "execution_count": 80,
     "metadata": {},
     "output_type": "execute_result"
    }
   ],
   "source": [
    "x_train.shape"
   ]
  },
  {
   "cell_type": "code",
   "execution_count": 81,
   "metadata": {},
   "outputs": [
    {
     "data": {
      "text/plain": [
       "(55000, 28, 28)"
      ]
     },
     "execution_count": 81,
     "metadata": {},
     "output_type": "execute_result"
    }
   ],
   "source": [
    "X_train.shape"
   ]
  },
  {
   "cell_type": "code",
   "execution_count": 82,
   "metadata": {},
   "outputs": [
    {
     "name": "stdout",
     "output_type": "stream",
     "text": [
      "Epoch 1/20\n",
      "363/363 [==============================] - 1s 1ms/step - loss: 0.8774 - val_loss: 0.5487\n",
      "Epoch 2/20\n",
      "363/363 [==============================] - 0s 1ms/step - loss: 0.5345 - val_loss: 0.5224\n",
      "Epoch 3/20\n",
      "363/363 [==============================] - 0s 1ms/step - loss: 0.7467 - val_loss: 0.4823\n",
      "Epoch 4/20\n",
      "363/363 [==============================] - 0s 1ms/step - loss: 0.4383 - val_loss: 0.4294\n",
      "Epoch 5/20\n",
      "363/363 [==============================] - 0s 997us/step - loss: 0.4155 - val_loss: 0.4185\n",
      "Epoch 6/20\n",
      "363/363 [==============================] - 0s 986us/step - loss: 0.4039 - val_loss: 0.4073\n",
      "Epoch 7/20\n",
      "363/363 [==============================] - 0s 1ms/step - loss: 0.3954 - val_loss: 0.4127\n",
      "Epoch 8/20\n",
      "363/363 [==============================] - 0s 967us/step - loss: 0.3912 - val_loss: 0.3914\n",
      "Epoch 9/20\n",
      "363/363 [==============================] - 0s 871us/step - loss: 0.3862 - val_loss: 0.3887\n",
      "Epoch 10/20\n",
      "363/363 [==============================] - 0s 788us/step - loss: 0.3844 - val_loss: 0.4013\n",
      "Epoch 11/20\n",
      "363/363 [==============================] - 0s 777us/step - loss: 0.3795 - val_loss: 0.3847\n",
      "Epoch 12/20\n",
      "363/363 [==============================] - 0s 840us/step - loss: 0.3782 - val_loss: 0.4010\n",
      "Epoch 13/20\n",
      "363/363 [==============================] - 0s 923us/step - loss: 0.3780 - val_loss: 0.3791\n",
      "Epoch 14/20\n",
      "363/363 [==============================] - 0s 824us/step - loss: 0.3744 - val_loss: 0.3807\n",
      "Epoch 15/20\n",
      "363/363 [==============================] - 0s 818us/step - loss: 0.3721 - val_loss: 0.3773\n",
      "Epoch 16/20\n",
      "363/363 [==============================] - 0s 851us/step - loss: 0.3718 - val_loss: 0.4336\n",
      "Epoch 17/20\n",
      "363/363 [==============================] - 0s 804us/step - loss: 0.3712 - val_loss: 0.3812\n",
      "Epoch 18/20\n",
      "363/363 [==============================] - 0s 769us/step - loss: 0.3691 - val_loss: 0.3822\n",
      "Epoch 19/20\n",
      "363/363 [==============================] - 0s 829us/step - loss: 0.3690 - val_loss: 0.4750\n",
      "Epoch 20/20\n",
      "363/363 [==============================] - 0s 821us/step - loss: 0.3659 - val_loss: 0.3696\n",
      "162/162 [==============================] - 0s 620us/step - loss: 0.3726\n"
     ]
    }
   ],
   "source": [
    "model = keras.models.Sequential(\n",
    "    \n",
    "    [\n",
    "        keras.layers.Dense(30,activation='relu',input_shape=x_train.shape[1:]),\n",
    "        keras.layers.Dense(1)\n",
    "    ]\n",
    "    )\n",
    "\n",
    "model.compile(loss='mean_squared_error',optimizer='sgd')\n",
    "history = model.fit(x_train,y_train,epochs=20,validation_data=(x_valid,y_valid))\n",
    "mse_err = model.evaluate(x_test,y_test)\n",
    "x_new = x_test[:3]\n",
    "y_pre = model.predict(x_new)"
   ]
  },
  {
   "cell_type": "code",
   "execution_count": 83,
   "metadata": {},
   "outputs": [
    {
     "data": {
      "text/plain": [
       "0.3725891411304474"
      ]
     },
     "execution_count": 83,
     "metadata": {},
     "output_type": "execute_result"
    }
   ],
   "source": [
    "mse_err"
   ]
  },
  {
   "cell_type": "code",
   "execution_count": 84,
   "metadata": {},
   "outputs": [
    {
     "data": {
      "text/plain": [
       "array([2.544, 0.992, 0.728])"
      ]
     },
     "execution_count": 84,
     "metadata": {},
     "output_type": "execute_result"
    }
   ],
   "source": [
    "y_test[:3]"
   ]
  },
  {
   "cell_type": "code",
   "execution_count": 85,
   "metadata": {},
   "outputs": [
    {
     "data": {
      "text/plain": [
       "array([[3.867567 ],\n",
       "       [1.4029813],\n",
       "       [0.6139164]], dtype=float32)"
      ]
     },
     "execution_count": 85,
     "metadata": {},
     "output_type": "execute_result"
    }
   ],
   "source": [
    "y_pre"
   ]
  },
  {
   "cell_type": "markdown",
   "metadata": {},
   "source": [
    "可以看到，使用顺序 API 是很方便的。但是，尽管Sequential十分常见，但用它搭建复杂拓扑形态或多输入多输出的神经网络还是不多。所以，Keras 还提供了函数式 API。"
   ]
  },
  {
   "cell_type": "markdown",
   "metadata": {},
   "source": [
    "### 8、使用函数式 API 搭建复杂模型"
   ]
  },
  {
   "cell_type": "markdown",
   "metadata": {},
   "source": [
    "我们来搭建一个这样的神经网络，来解决加州房价问题：\n",
    "<div align=center><img  src=\"./static/使用函数式 API 搭建复杂模型1.jpg\"/></div>\n"
   ]
  },
  {
   "cell_type": "code",
   "execution_count": 86,
   "metadata": {},
   "outputs": [],
   "source": [
    "input_ = keras.layers.Input(shape=x_train.shape[1:])\n",
    "hidden1 = keras.layers.Dense(30,activation='relu')(input_)\n",
    "hidden2 = keras.layers.Dense(30,activation='relu')(hidden1)\n",
    "concat = keras.layers.Concatenate()([input_,hidden2])\n",
    "output = keras.layers.Dense(1)(concat)\n",
    "model = keras.Model(inputs=[input_],outputs=[output])"
   ]
  },
  {
   "cell_type": "markdown",
   "metadata": {},
   "source": [
    "每行代码的作用：\n",
    "\n",
    "* 首先创建一个Input对象。包括模型输入的形状shape和数据类型dtype。模型可能会有多种输入。\n",
    "\n",
    "\n",
    "* 然后，创建一个有 30 个神经元的紧密层，激活函数是 ReLU。创建好之后，将其作为函数，直接将输入传给它。这就是函数式 API 的得名原因。这里只是告诉 Keras 如何将层连起来，并没有导入实际数据。\n",
    "\n",
    "\n",
    "* 然后创建第二个隐藏层，还是将其作为函数使用，输入时第一个隐藏层的输出；\n",
    "\n",
    "\n",
    "* 接着，创建一个连接Concatenate层，也是作为函数使用，将输入和第二个隐藏层的输出连起来。可以使用keras.layers.concatenate()。\n",
    "\n",
    "\n",
    "* 然后创建输出层，只有一个神经元，没有激活函数，将连接层的输出作为输入。\n",
    "\n",
    "\n",
    "* 最后，创建一个 Keras 的Model，指明输入和输出。"
   ]
  },
  {
   "cell_type": "markdown",
   "metadata": {},
   "source": [
    "搭建好模型之后，重复之前的步骤：编译模型、训练、评估、做预测。\n",
    "\n",
    "但是如果你想将部分特征发送给 wide 路径，将部分特征（可以有重叠）发送给 deep 路径，该怎么做呢？答案是可以使用多输入。例如，`假设向 wide 路径发送 5 个特征（特征 0 到 4）`，`向 deep 路径发送 6 个特征（特征 2 到 7）`："
   ]
  },
  {
   "cell_type": "markdown",
   "metadata": {},
   "source": [
    "<div align=center><img  src=\"./static/使用函数式 API 搭建复杂模型2.jpg\"/></div>\n"
   ]
  },
  {
   "cell_type": "code",
   "execution_count": 87,
   "metadata": {},
   "outputs": [],
   "source": [
    "input_A = keras.layers.Input(shape=[5],name='wide_input')\n",
    "input_B = keras.layers.Input(shape=[6],name='deep_input')\n",
    "hidden1 = keras.layers.Dense(30,activation='relu')(input_B)\n",
    "hidden2 = keras.layers.Dense(30,activation='relu')(hidden1)\n",
    "concat = keras.layers.Concatenate()([input_A,hidden2])\n",
    "output = keras.layers.Dense(1,name='output')(concat)\n",
    "model = keras.Model(inputs = [input_A,input_B],outputs=[output])"
   ]
  },
  {
   "cell_type": "markdown",
   "metadata": {},
   "source": [
    "代码非常浅显易懂。值得注意的是，在创建模型时，我们指明了 `inputs=[input_A, input_B]` 。然后就可以像通常那样编译模型了，但当调用 `fit()` 时，不是传入矩阵 `X_train` ，而是传入一对矩阵 `(X_train_A, X_train_B)` ：每个输入一个矩阵。同理调用 `evaluate()` 或 `predict()` 时，`X_valid、X_test、X_new` 也要变化："
   ]
  },
  {
   "cell_type": "code",
   "execution_count": 88,
   "metadata": {},
   "outputs": [
    {
     "name": "stderr",
     "output_type": "stream",
     "text": [
      "D:\\APYPLA~1\\venv_dir\\venv1\\lib\\site-packages\\keras\\optimizer_v2\\optimizer_v2.py:356: UserWarning: The `lr` argument is deprecated, use `learning_rate` instead.\n",
      "  \"The `lr` argument is deprecated, use `learning_rate` instead.\")\n"
     ]
    },
    {
     "name": "stdout",
     "output_type": "stream",
     "text": [
      "Epoch 1/20\n",
      "363/363 [==============================] - 1s 2ms/step - loss: 1.8778 - val_loss: 0.8118\n",
      "Epoch 2/20\n",
      "363/363 [==============================] - 0s 912us/step - loss: 0.6892 - val_loss: 0.6747\n",
      "Epoch 3/20\n",
      "363/363 [==============================] - 0s 898us/step - loss: 0.6189 - val_loss: 0.6298\n",
      "Epoch 4/20\n",
      "363/363 [==============================] - 0s 978us/step - loss: 0.5872 - val_loss: 0.5982\n",
      "Epoch 5/20\n",
      "363/363 [==============================] - 0s 978us/step - loss: 0.5636 - val_loss: 0.5830\n",
      "Epoch 6/20\n",
      "363/363 [==============================] - 0s 970us/step - loss: 0.5446 - val_loss: 0.5607\n",
      "Epoch 7/20\n",
      "363/363 [==============================] - 0s 942us/step - loss: 0.5288 - val_loss: 0.5486\n",
      "Epoch 8/20\n",
      "363/363 [==============================] - 0s 1ms/step - loss: 0.5160 - val_loss: 0.5364\n",
      "Epoch 9/20\n",
      "363/363 [==============================] - 0s 1ms/step - loss: 0.5050 - val_loss: 0.5270\n",
      "Epoch 10/20\n",
      "363/363 [==============================] - 0s 1ms/step - loss: 0.4957 - val_loss: 0.5194\n",
      "Epoch 11/20\n",
      "363/363 [==============================] - 0s 1ms/step - loss: 0.4877 - val_loss: 0.5122\n",
      "Epoch 12/20\n",
      "363/363 [==============================] - 0s 1ms/step - loss: 0.4813 - val_loss: 0.5032\n",
      "Epoch 13/20\n",
      "363/363 [==============================] - 0s 1ms/step - loss: 0.4752 - val_loss: 0.4926\n",
      "Epoch 14/20\n",
      "363/363 [==============================] - 0s 1ms/step - loss: 0.4703 - val_loss: 0.4917\n",
      "Epoch 15/20\n",
      "363/363 [==============================] - 0s 923us/step - loss: 0.4653 - val_loss: 0.4900\n",
      "Epoch 16/20\n",
      "363/363 [==============================] - 0s 1ms/step - loss: 0.4611 - val_loss: 0.4743\n",
      "Epoch 17/20\n",
      "363/363 [==============================] - 0s 1ms/step - loss: 0.4578 - val_loss: 0.4789\n",
      "Epoch 18/20\n",
      "363/363 [==============================] - 0s 893us/step - loss: 0.4542 - val_loss: 0.4692\n",
      "Epoch 19/20\n",
      "363/363 [==============================] - 0s 997us/step - loss: 0.4511 - val_loss: 0.4703\n",
      "Epoch 20/20\n",
      "363/363 [==============================] - 0s 1ms/step - loss: 0.4480 - val_loss: 0.4663\n",
      "162/162 [==============================] - 0s 743us/step - loss: 0.4565\n"
     ]
    }
   ],
   "source": [
    "model.compile(loss='mse',optimizer=keras.optimizers.SGD(lr=1e-3))\n",
    "x_train_A,x_train_B = x_train[:,:5],x_train[:,2:]\n",
    "x_valid_A,x_valid_B = x_valid[:,:5],x_valid[:,2:]\n",
    "x_test_A,x_test_B = x_test[:,:5],x_test[:,2:]\n",
    "x_new_A,x_new_B = x_test_A[:3],x_test_B[:3]\n",
    "history = model.fit((x_train_A,x_train_B),y_train,epochs=20,validation_data=((x_valid_A,x_valid_B),y_valid))\n",
    "mse_err = model.evaluate((x_test_A,x_test_B),y_test)"
   ]
  },
  {
   "cell_type": "code",
   "execution_count": 89,
   "metadata": {},
   "outputs": [
    {
     "data": {
      "image/png": "[encoded data removed]",
      "text/plain": [
       "<Figure size 432x288 with 1 Axes>"
      ]
     },
     "metadata": {
      "needs_background": "light"
     },
     "output_type": "display_data"
    }
   ],
   "source": [
    "pd.DataFrame(history.history).plot()\n",
    "plt.grid(True) # 是否加上网格\n",
    "plt.gca().set_ylim(0,1)\n",
    "plt.show()"
   ]
  },
  {
   "cell_type": "code",
   "execution_count": 90,
   "metadata": {},
   "outputs": [],
   "source": [
    "y_pred = model.predict((x_new_A,x_new_B))"
   ]
  },
  {
   "cell_type": "code",
   "execution_count": 91,
   "metadata": {},
   "outputs": [
    {
     "data": {
      "text/plain": [
       "array([[3.592194  ],\n",
       "       [1.4298158 ],\n",
       "       [0.63381064]], dtype=float32)"
      ]
     },
     "execution_count": 91,
     "metadata": {},
     "output_type": "execute_result"
    }
   ],
   "source": [
    "y_pred"
   ]
  },
  {
   "cell_type": "code",
   "execution_count": 92,
   "metadata": {},
   "outputs": [
    {
     "data": {
      "text/plain": [
       "array([2.544, 0.992, 0.728])"
      ]
     },
     "execution_count": 92,
     "metadata": {},
     "output_type": "execute_result"
    }
   ],
   "source": [
    "y_test[:3]"
   ]
  },
  {
   "cell_type": "markdown",
   "metadata": {},
   "source": [
    "有以下要使用多输入的场景：\n",
    "\n",
    "任务要求。例如，你想定位和分类图片中的主要物体。这既是一个回归任务（找到目标中心的坐标、宽度和高度）和分类任务。\n",
    "\n",
    "相似的，对于相同的数据，你可能有多个独立的任务。当然可以每个任务训练一个神经网络，`但在多数情况下，同时对所有任务训练一个神经网络，每个任务一个输出，后者的效果更好。`这是因为神经网络可以在不同任务间学习有用的数据特征。例如，在人脸的多任务分类时，你可以用一个输出做人物表情的分类（微笑惊讶等等），用另一个输出判断是否戴着眼镜。\n",
    "\n",
    "另一种情况是作为一种正则的方法（即，一种降低过拟合和提高泛化能力的训练约束）。`例如，你想在神经网络中加入一些辅助输出（见图 10-16），好让神经网络的一部分依靠自身就能学到一些东西。`"
   ]
  },
  {
   "cell_type": "markdown",
   "metadata": {},
   "source": [
    "<div align=center><img  src=\"./static/使用函数式 API 搭建复杂模型3.jpg\"/></div>\n"
   ]
  },
  {
   "cell_type": "markdown",
   "metadata": {},
   "source": [
    "添加额外的输出很容易：只需要将输出和相关的层连起来、将输出写入输出列表就行。例如，下面的代码搭建的就是上图的架构："
   ]
  },
  {
   "cell_type": "code",
   "execution_count": 93,
   "metadata": {},
   "outputs": [],
   "source": [
    "input_A = keras.layers.Input(shape=[5],name='wide_input')\n",
    "input_B = keras.layers.Input(shape=[6],name='deep_input')\n",
    "hidden1 = keras.layers.Dense(30,activation='relu')(input_B)\n",
    "hidden2 = keras.layers.Dense(30,activation='relu')(hidden1)\n",
    "concat = keras.layers.Concatenate()([input_A,hidden2])\n",
    "output = keras.layers.Dense(1,name = 'main_output')(concat)\n",
    "aux_output = keras.layers.Dense(1,name = 'aux_output')(hidden2)\n",
    "model = keras.Model(inputs = [input_A,input_B],outputs = [output,aux_output])"
   ]
  },
  {
   "cell_type": "markdown",
   "metadata": {},
   "source": [
    "每个输出都要有自己的损失函数。因此在编译模型时，需要传入损失列表（如果只传入一个损失，Keras 会认为所有输出是同一个损失函数）。Keras 默认计算所有损失，将其求和得到最终损失用于训练。主输出比辅助输出更值得关心，所以要提高它的权重，如下所示："
   ]
  },
  {
   "cell_type": "code",
   "execution_count": 94,
   "metadata": {},
   "outputs": [],
   "source": [
    "model.compile(loss=['mse','mse'],loss_weights=[0.9,0.1],optimizer='sgd')"
   ]
  },
  {
   "cell_type": "markdown",
   "metadata": {},
   "source": [
    "此时若要训练模型，必须给每个输出贴上标签。在这个例子中，主输出和辅输出预测的是同一件事，因此标签相同。传入数据必须是 `(y_train, y_train)（y_valid和y_test也是如此）`："
   ]
  },
  {
   "cell_type": "code",
   "execution_count": 95,
   "metadata": {},
   "outputs": [
    {
     "name": "stdout",
     "output_type": "stream",
     "text": [
      "Epoch 1/20\n",
      "363/363 [==============================] - 1s 2ms/step - loss: 0.9572 - main_output_loss: 0.8493 - aux_output_loss: 1.9274 - val_loss: 0.6132 - val_main_output_loss: 0.5608 - val_aux_output_loss: 1.0848\n",
      "Epoch 2/20\n",
      "363/363 [==============================] - 0s 1ms/step - loss: 0.5572 - main_output_loss: 0.5142 - aux_output_loss: 0.9443 - val_loss: 0.5476 - val_main_output_loss: 0.5121 - val_aux_output_loss: 0.8674\n",
      "Epoch 3/20\n",
      "363/363 [==============================] - 0s 1ms/step - loss: 0.5094 - main_output_loss: 0.4742 - aux_output_loss: 0.8262 - val_loss: 0.5049 - val_main_output_loss: 0.4747 - val_aux_output_loss: 0.7766\n",
      "Epoch 4/20\n",
      "363/363 [==============================] - 0s 1ms/step - loss: 0.4874 - main_output_loss: 0.4583 - aux_output_loss: 0.7488 - val_loss: 0.4823 - val_main_output_loss: 0.4567 - val_aux_output_loss: 0.7131\n",
      "Epoch 5/20\n",
      "363/363 [==============================] - 1s 2ms/step - loss: 0.4655 - main_output_loss: 0.4405 - aux_output_loss: 0.6909 - val_loss: 0.4649 - val_main_output_loss: 0.4421 - val_aux_output_loss: 0.6709\n",
      "Epoch 6/20\n",
      "363/363 [==============================] - 0s 1ms/step - loss: 0.4538 - main_output_loss: 0.4314 - aux_output_loss: 0.6546 - val_loss: 0.4550 - val_main_output_loss: 0.4346 - val_aux_output_loss: 0.6384\n",
      "Epoch 7/20\n",
      "363/363 [==============================] - 0s 1ms/step - loss: 0.4385 - main_output_loss: 0.4174 - aux_output_loss: 0.6277 - val_loss: 0.4398 - val_main_output_loss: 0.4206 - val_aux_output_loss: 0.6127\n",
      "Epoch 8/20\n",
      "363/363 [==============================] - 0s 1ms/step - loss: 0.4319 - main_output_loss: 0.4121 - aux_output_loss: 0.6103 - val_loss: 0.4655 - val_main_output_loss: 0.4502 - val_aux_output_loss: 0.6032\n",
      "Epoch 9/20\n",
      "363/363 [==============================] - 0s 1ms/step - loss: 0.4219 - main_output_loss: 0.4028 - aux_output_loss: 0.5942 - val_loss: 0.6357 - val_main_output_loss: 0.6382 - val_aux_output_loss: 0.6131\n",
      "Epoch 10/20\n",
      "363/363 [==============================] - 0s 1ms/step - loss: 0.4238 - main_output_loss: 0.4059 - aux_output_loss: 0.5847 - val_loss: 0.4152 - val_main_output_loss: 0.3978 - val_aux_output_loss: 0.5713\n",
      "Epoch 11/20\n",
      "363/363 [==============================] - 0s 1ms/step - loss: 0.4121 - main_output_loss: 0.3943 - aux_output_loss: 0.5719 - val_loss: 0.4086 - val_main_output_loss: 0.3915 - val_aux_output_loss: 0.5624\n",
      "Epoch 12/20\n",
      "363/363 [==============================] - 0s 1ms/step - loss: 0.4052 - main_output_loss: 0.3876 - aux_output_loss: 0.5641 - val_loss: 0.4034 - val_main_output_loss: 0.3863 - val_aux_output_loss: 0.5570\n",
      "Epoch 13/20\n",
      "363/363 [==============================] - 0s 1ms/step - loss: 0.4000 - main_output_loss: 0.3831 - aux_output_loss: 0.5529 - val_loss: 0.4119 - val_main_output_loss: 0.3966 - val_aux_output_loss: 0.5494\n",
      "Epoch 14/20\n",
      "363/363 [==============================] - 0s 1ms/step - loss: 0.3960 - main_output_loss: 0.3795 - aux_output_loss: 0.5441 - val_loss: 0.4400 - val_main_output_loss: 0.4288 - val_aux_output_loss: 0.5408\n",
      "Epoch 15/20\n",
      "363/363 [==============================] - 0s 1ms/step - loss: 0.3955 - main_output_loss: 0.3797 - aux_output_loss: 0.5379 - val_loss: 0.3924 - val_main_output_loss: 0.3774 - val_aux_output_loss: 0.5273\n",
      "Epoch 16/20\n",
      "363/363 [==============================] - 0s 1ms/step - loss: 0.3855 - main_output_loss: 0.3697 - aux_output_loss: 0.5277 - val_loss: 0.4048 - val_main_output_loss: 0.3920 - val_aux_output_loss: 0.5206\n",
      "Epoch 17/20\n",
      "363/363 [==============================] - 0s 1ms/step - loss: 0.3804 - main_output_loss: 0.3650 - aux_output_loss: 0.5185 - val_loss: 0.3752 - val_main_output_loss: 0.3609 - val_aux_output_loss: 0.5037\n",
      "Epoch 18/20\n",
      "363/363 [==============================] - 0s 1ms/step - loss: 0.3780 - main_output_loss: 0.3631 - aux_output_loss: 0.5114 - val_loss: 0.3784 - val_main_output_loss: 0.3647 - val_aux_output_loss: 0.5019\n",
      "Epoch 19/20\n",
      "363/363 [==============================] - 0s 1ms/step - loss: 0.3727 - main_output_loss: 0.3582 - aux_output_loss: 0.5039 - val_loss: 0.3968 - val_main_output_loss: 0.3858 - val_aux_output_loss: 0.4954\n",
      "Epoch 20/20\n",
      "363/363 [==============================] - 0s 1ms/step - loss: 0.3698 - main_output_loss: 0.3556 - aux_output_loss: 0.4977 - val_loss: 0.3663 - val_main_output_loss: 0.3533 - val_aux_output_loss: 0.4835\n"
     ]
    }
   ],
   "source": [
    "history = model.fit((x_train_A,x_train_B),(y_train,y_train),epochs=20,validation_data=((x_valid_A,x_valid_B),(y_valid,y_valid)))"
   ]
  },
  {
   "cell_type": "code",
   "execution_count": 96,
   "metadata": {},
   "outputs": [
    {
     "data": {
      "image/png": "[encoded data removed]",
      "text/plain": [
       "<Figure size 864x576 with 1 Axes>"
      ]
     },
     "metadata": {
      "needs_background": "light"
     },
     "output_type": "display_data"
    }
   ],
   "source": [
    "pd.DataFrame(history.history).plot(figsize=(12,8))\n",
    "plt.grid(True)\n",
    "plt.ylim(0,1)\n",
    "plt.show()"
   ]
  },
  {
   "cell_type": "markdown",
   "metadata": {},
   "source": [
    "当评估模型时，Keras 会返回总损失和各个损失值："
   ]
  },
  {
   "cell_type": "code",
   "execution_count": 97,
   "metadata": {},
   "outputs": [
    {
     "name": "stdout",
     "output_type": "stream",
     "text": [
      "162/162 [==============================] - 0s 954us/step - loss: 0.3885 - main_output_loss: 0.3747 - aux_output_loss: 0.5124\n"
     ]
    }
   ],
   "source": [
    "total_loss,main_loss,aux_loss = model.evaluate((x_test_A,x_test_B),(y_test,y_test))"
   ]
  },
  {
   "cell_type": "markdown",
   "metadata": {},
   "source": [
    "相似的，方法 `predict()` 会返回每个输出的预测值："
   ]
  },
  {
   "cell_type": "code",
   "execution_count": 98,
   "metadata": {},
   "outputs": [
    {
     "name": "stdout",
     "output_type": "stream",
     "text": [
      "WARNING:tensorflow:5 out of the last 5 calls to <function Model.make_predict_function.<locals>.predict_function at 0x000001F0BE361AE8> triggered tf.function retracing. Tracing is expensive and the excessive number of tracings could be due to (1) creating @tf.function repeatedly in a loop, (2) passing tensors with different shapes, (3) passing Python objects instead of tensors. For (1), please define your @tf.function outside of the loop. For (2), @tf.function has experimental_relax_shapes=True option that relaxes argument shapes that can avoid unnecessary retracing. For (3), please refer to https://www.tensorflow.org/guide/function#controlling_retracing and https://www.tensorflow.org/api_docs/python/tf/function for  more details.\n"
     ]
    }
   ],
   "source": [
    "y_pred_main,y_pred_aux = model.predict([x_new_A,x_new_B])"
   ]
  },
  {
   "cell_type": "code",
   "execution_count": 99,
   "metadata": {},
   "outputs": [
    {
     "data": {
      "text/plain": [
       "array([[3.5575905],\n",
       "       [1.2594657],\n",
       "       [0.6264191]], dtype=float32)"
      ]
     },
     "execution_count": 99,
     "metadata": {},
     "output_type": "execute_result"
    }
   ],
   "source": [
    "y_pred_main"
   ]
  },
  {
   "cell_type": "code",
   "execution_count": 100,
   "metadata": {},
   "outputs": [
    {
     "data": {
      "text/plain": [
       "array([[2.8485675],\n",
       "       [1.2711855],\n",
       "       [1.0115352]], dtype=float32)"
      ]
     },
     "execution_count": 100,
     "metadata": {},
     "output_type": "execute_result"
    }
   ],
   "source": [
    "y_pred_aux"
   ]
  },
  {
   "cell_type": "markdown",
   "metadata": {},
   "source": [
    "可以看到，用函数式 API 可以轻易搭建任意架构。接下来再看最后一种搭建 Keras 模型的方法。"
   ]
  },
  {
   "cell_type": "markdown",
   "metadata": {},
   "source": [
    "### 9、使用子类化 API 搭建动态模型"
   ]
  },
  {
   "cell_type": "markdown",
   "metadata": {},
   "source": [
    "顺序 API 和函数式 API 都是声明式的：只有声明创建每个层以及层的连接方式，才能给模型加载数据以进行训练和推断。这种方式有其优点：模型可以方便的进行保存、克隆和分享；模型架构得以展示，便于分析；框架可以推断数据形状和类型，便于及时发现错误（加载数据之前就能发现错误）。调试也很容易，因为模型是层的静态图。但是缺点也很明显：模型是静态的。一些模型包含循环、可变数据形状、条件分支，和其它的动态特点。对于这些情况，或者你只是喜欢命令式编程，不妨使用子类化 API。\n",
    "\n",
    "对 `Model` 类划分子类，在构造器中创建需要的层，调用 `call()` 进行计算。例如，创建一个下面的 `WideAndDeepModel` 类的实例，就可以创建与前面函数式 `API` 例子的同样模型，同样可以进行编译、评估、预测："
   ]
  },
  {
   "cell_type": "code",
   "execution_count": 101,
   "metadata": {},
   "outputs": [],
   "source": [
    "class WideAndDeepModel(keras.Model):\n",
    "    def __init__(self, units=30, activation=\"relu\", **kwargs):\n",
    "        super().__init__(**kwargs) # handles standard args (e.g., name)\n",
    "        self.hidden1 = keras.layers.Dense(units, activation=activation)\n",
    "        self.hidden2 = keras.layers.Dense(units, activation=activation)\n",
    "        self.main_output = keras.layers.Dense(1)\n",
    "        self.aux_output = keras.layers.Dense(1)\n",
    "\n",
    "    def call(self, inputs):\n",
    "        input_A, input_B = inputs\n",
    "        hidden1 = self.hidden1(input_B)\n",
    "        hidden2 = self.hidden2(hidden1)\n",
    "        concat = keras.layers.concatenate([input_A, hidden2])\n",
    "        main_output = self.main_output(concat)\n",
    "        aux_output = self.aux_output(hidden2)\n",
    "        return main_output, aux_output\n",
    "\n",
    "# model = WideAndDeepModel() "
   ]
  },
  {
   "cell_type": "markdown",
   "metadata": {},
   "source": [
    "这个例子和函数式 API 很像，除了不用创建输入；只需要在 `call()` 使用参数 `input` ，另外的不同是将层的创建和和使用分割了。最大的差别是，在`call()` 方法中，你可以做任意想做的事：for循环、if语句、低级的 TensorFlow 操作，可以尽情发挥想象（见第 12 章）！子类化 API 可以让研究者试验各种新创意。\n",
    "\n",
    "然而代价也是有的：模型架构隐藏在 `call()` 方法中，所以 Keras 不能对其检查；`不能保存或克隆`；当调用 `summary()` 时，得到的只是层的列表，没有层的连接信息。另外，Keras 不能提前检查数据类型和形状，所以很容易犯错。所以除非真的需要灵活性，还是使用顺序 API 或函数式 API 吧。"
   ]
  },
  {
   "cell_type": "markdown",
   "metadata": {},
   "source": [
    "#### 提示：\n",
    "\n",
    "可以像常规层一样使用 Keras 模型，组合模型搭建任意复杂的架构。"
   ]
  },
  {
   "cell_type": "code",
   "execution_count": 102,
   "metadata": {},
   "outputs": [],
   "source": [
    "# model.call([keras.layers.Input(shape=[5],name='wide_input'),keras.layers.Input(shape=[6],name='deep_input')])"
   ]
  },
  {
   "cell_type": "code",
   "execution_count": 103,
   "metadata": {},
   "outputs": [],
   "source": [
    "# model.compile(loss=['mse','mse'],loss_weights=[0.9,0.1],optimizer='sgd')"
   ]
  },
  {
   "cell_type": "code",
   "execution_count": 104,
   "metadata": {},
   "outputs": [],
   "source": [
    "# history = model.fit((x_train_A,x_train_B),(y_train,y_train),epochs=20,validation_data=((x_valid_A,x_valid_B),(y_valid,y_valid)))"
   ]
  },
  {
   "cell_type": "code",
   "execution_count": 105,
   "metadata": {},
   "outputs": [
    {
     "name": "stdout",
     "output_type": "stream",
     "text": [
      "Model: \"model_2\"\n",
      "__________________________________________________________________________________________________\n",
      "Layer (type)                    Output Shape         Param #     Connected to                     \n",
      "==================================================================================================\n",
      "deep_input (InputLayer)         [(None, 6)]          0                                            \n",
      "__________________________________________________________________________________________________\n",
      "dense_13 (Dense)                (None, 30)           210         deep_input[0][0]                 \n",
      "__________________________________________________________________________________________________\n",
      "wide_input (InputLayer)         [(None, 5)]          0                                            \n",
      "__________________________________________________________________________________________________\n",
      "dense_14 (Dense)                (None, 30)           930         dense_13[0][0]                   \n",
      "__________________________________________________________________________________________________\n",
      "concatenate_2 (Concatenate)     (None, 35)           0           wide_input[0][0]                 \n",
      "                                                                 dense_14[0][0]                   \n",
      "__________________________________________________________________________________________________\n",
      "main_output (Dense)             (None, 1)            36          concatenate_2[0][0]              \n",
      "__________________________________________________________________________________________________\n",
      "aux_output (Dense)              (None, 1)            31          dense_14[0][0]                   \n",
      "==================================================================================================\n",
      "Total params: 1,207\n",
      "Trainable params: 1,207\n",
      "Non-trainable params: 0\n",
      "__________________________________________________________________________________________________\n"
     ]
    }
   ],
   "source": [
    "model.summary()"
   ]
  },
  {
   "cell_type": "markdown",
   "metadata": {},
   "source": [
    "### 10、保存和恢复模型"
   ]
  },
  {
   "cell_type": "markdown",
   "metadata": {},
   "source": [
    "使用顺序 API 或函数式 API 时，保存训练好的 Keras 模型和训练一样简单："
   ]
  },
  {
   "cell_type": "code",
   "execution_count": 106,
   "metadata": {},
   "outputs": [],
   "source": [
    "# model = keras.layers.Sequential([...]) # or keras.Model([...])\n",
    "# model.compile([...])\n",
    "# model.fit([...])\n",
    "model.save(\"my_keras_model.h5\") "
   ]
  },
  {
   "cell_type": "markdown",
   "metadata": {},
   "source": [
    "Keras 使用 HDF5 格式保存模型架构（包括每层的超参数）和每层的所有参数值（连接权重和偏置项）。还保存了优化器（包括超参数和状态）。\n",
    "\n",
    "通常用脚本训练和保存模型，一个或更多的脚本（或 web 服务）来加载模型和做预测。加载模型很简单："
   ]
  },
  {
   "cell_type": "code",
   "execution_count": 107,
   "metadata": {},
   "outputs": [],
   "source": [
    "model = keras.models.load_model(\"my_keras_model.h5\") "
   ]
  },
  {
   "cell_type": "markdown",
   "metadata": {},
   "source": [
    "#### 警告：\n",
    "\n",
    "这种加载模型的方法只对顺序 API 或函数式 API 有用，不适用于子类化 API。对于后者，可以用 save_weights() 和 load_weights() 保存参数，其它的就得手动保存恢复了。"
   ]
  },
  {
   "cell_type": "markdown",
   "metadata": {},
   "source": [
    "但如果训练要持续数个小时呢？在大数据集上训练，训练时间长很普遍。此时，不仅要在训练结束时保存模型检查点，在一定时间间隔内也要保存，以免电脑宕机造成损失。但是如何告诉 `fit()` 保存检查点呢？ `使用调回`。"
   ]
  },
  {
   "cell_type": "markdown",
   "metadata": {},
   "source": [
    "### 11、使用调回"
   ]
  },
  {
   "cell_type": "markdown",
   "metadata": {},
   "source": [
    "`fit()` 方法接受参数 `callbacks` ，可以让用户指明一个 Keras 列表，让 Keras 在训练开始和结束、每个周期开始和结束、甚至是每个批次的前后调用。例如，`ModelCheckpoint` 可以在每个时间间隔保存检查点，默认是每个周期结束之后："
   ]
  },
  {
   "cell_type": "code",
   "execution_count": 108,
   "metadata": {},
   "outputs": [
    {
     "name": "stdout",
     "output_type": "stream",
     "text": [
      "Epoch 1/20\n",
      "363/363 [==============================] - 1s 1ms/step - loss: 0.3656 - main_output_loss: 0.3517 - aux_output_loss: 0.4908\n",
      "Epoch 2/20\n",
      "363/363 [==============================] - 0s 950us/step - loss: 0.3646 - main_output_loss: 0.3513 - aux_output_loss: 0.4850\n",
      "Epoch 3/20\n",
      "363/363 [==============================] - 0s 1ms/step - loss: 0.3595 - main_output_loss: 0.3462 - aux_output_loss: 0.4794\n",
      "Epoch 4/20\n",
      "363/363 [==============================] - 0s 981us/step - loss: 0.3562 - main_output_loss: 0.3431 - aux_output_loss: 0.4738\n",
      "Epoch 5/20\n",
      "363/363 [==============================] - 0s 1ms/step - loss: 0.3536 - main_output_loss: 0.3410 - aux_output_loss: 0.4669\n",
      "Epoch 6/20\n",
      "363/363 [==============================] - 0s 1ms/step - loss: 0.3534 - main_output_loss: 0.3412 - aux_output_loss: 0.4640\n",
      "Epoch 7/20\n",
      "363/363 [==============================] - 0s 1ms/step - loss: 0.3484 - main_output_loss: 0.3363 - aux_output_loss: 0.4571\n",
      "Epoch 8/20\n",
      "363/363 [==============================] - 0s 1ms/step - loss: 0.3470 - main_output_loss: 0.3352 - aux_output_loss: 0.4533\n",
      "Epoch 9/20\n",
      "363/363 [==============================] - 0s 1ms/step - loss: 0.3482 - main_output_loss: 0.3368 - aux_output_loss: 0.4516\n",
      "Epoch 10/20\n",
      "363/363 [==============================] - 0s 1ms/step - loss: 0.3447 - main_output_loss: 0.3332 - aux_output_loss: 0.4482\n",
      "Epoch 11/20\n",
      "363/363 [==============================] - 0s 1ms/step - loss: 0.3436 - main_output_loss: 0.3326 - aux_output_loss: 0.4427\n",
      "Epoch 12/20\n",
      "363/363 [==============================] - 0s 978us/step - loss: 0.3401 - main_output_loss: 0.3292 - aux_output_loss: 0.4378\n",
      "Epoch 13/20\n",
      "363/363 [==============================] - 0s 1ms/step - loss: 0.3391 - main_output_loss: 0.3284 - aux_output_loss: 0.4355\n",
      "Epoch 14/20\n",
      "363/363 [==============================] - 0s 1ms/step - loss: 0.3391 - main_output_loss: 0.3286 - aux_output_loss: 0.4331\n",
      "Epoch 15/20\n",
      "363/363 [==============================] - 0s 923us/step - loss: 0.3348 - main_output_loss: 0.3244 - aux_output_loss: 0.4284\n",
      "Epoch 16/20\n",
      "363/363 [==============================] - 0s 1ms/step - loss: 0.3351 - main_output_loss: 0.3249 - aux_output_loss: 0.4270\n",
      "Epoch 17/20\n",
      "363/363 [==============================] - 0s 928us/step - loss: 0.3327 - main_output_loss: 0.3227 - aux_output_loss: 0.4227\n",
      "Epoch 18/20\n",
      "363/363 [==============================] - 0s 1ms/step - loss: 0.3320 - main_output_loss: 0.3221 - aux_output_loss: 0.4216\n",
      "Epoch 19/20\n",
      "363/363 [==============================] - 0s 995us/step - loss: 0.3307 - main_output_loss: 0.3209 - aux_output_loss: 0.4188\n",
      "Epoch 20/20\n",
      "363/363 [==============================] - 0s 906us/step - loss: 0.3310 - main_output_loss: 0.3215 - aux_output_loss: 0.4171\n"
     ]
    }
   ],
   "source": [
    "# [...] # 搭建编译模型\n",
    "checkpoint_cb = keras.callbacks.ModelCheckpoint(\"my_keras_model.h5\")\n",
    "history = model.fit((x_train_A,x_train_B), (y_train,y_train), epochs=20, callbacks=[checkpoint_cb]) "
   ]
  },
  {
   "cell_type": "markdown",
   "metadata": {},
   "source": [
    "另外，如果训练时使用了验证集，可以在创建检查点时设定 `save_best_only=True`，只有当模型在验证集上取得最优值时才保存模型。这么做可以不必担心训练时间过长和训练集过拟合：只需加载训练好的模型，就能保证是在验证集上表现最好的模型。下面的代码演示了早停（见第 4 章）："
   ]
  },
  {
   "cell_type": "code",
   "execution_count": 109,
   "metadata": {},
   "outputs": [
    {
     "name": "stdout",
     "output_type": "stream",
     "text": [
      "Epoch 1/20\n",
      "363/363 [==============================] - 1s 2ms/step - loss: 0.3326 - main_output_loss: 0.3233 - aux_output_loss: 0.4164 - val_loss: 0.3395 - val_main_output_loss: 0.3316 - val_aux_output_loss: 0.4102\n",
      "Epoch 2/20\n",
      "363/363 [==============================] - 0s 1ms/step - loss: 0.3311 - main_output_loss: 0.3218 - aux_output_loss: 0.4149 - val_loss: 0.5922 - val_main_output_loss: 0.5938 - val_aux_output_loss: 0.5778\n",
      "Epoch 3/20\n",
      "363/363 [==============================] - 0s 1ms/step - loss: 0.3335 - main_output_loss: 0.3247 - aux_output_loss: 0.4122 - val_loss: 0.3291 - val_main_output_loss: 0.3212 - val_aux_output_loss: 0.4000\n",
      "Epoch 4/20\n",
      "363/363 [==============================] - 0s 1ms/step - loss: 0.3279 - main_output_loss: 0.3189 - aux_output_loss: 0.4083 - val_loss: 0.3344 - val_main_output_loss: 0.3273 - val_aux_output_loss: 0.3984\n",
      "Epoch 5/20\n",
      "363/363 [==============================] - 0s 1ms/step - loss: 0.3297 - main_output_loss: 0.3208 - aux_output_loss: 0.4103 - val_loss: 0.3549 - val_main_output_loss: 0.3493 - val_aux_output_loss: 0.4055\n",
      "Epoch 6/20\n",
      "363/363 [==============================] - 0s 1ms/step - loss: 0.3256 - main_output_loss: 0.3168 - aux_output_loss: 0.4045 - val_loss: 0.3373 - val_main_output_loss: 0.3309 - val_aux_output_loss: 0.3948\n",
      "Epoch 7/20\n",
      "363/363 [==============================] - 0s 1ms/step - loss: 0.3236 - main_output_loss: 0.3147 - aux_output_loss: 0.4032 - val_loss: 0.3346 - val_main_output_loss: 0.3279 - val_aux_output_loss: 0.3949\n",
      "Epoch 8/20\n",
      "363/363 [==============================] - 0s 1ms/step - loss: 0.3231 - main_output_loss: 0.3145 - aux_output_loss: 0.4008 - val_loss: 0.3336 - val_main_output_loss: 0.3265 - val_aux_output_loss: 0.3973\n",
      "Epoch 9/20\n",
      "363/363 [==============================] - 0s 1ms/step - loss: 0.3244 - main_output_loss: 0.3160 - aux_output_loss: 0.4005 - val_loss: 0.3290 - val_main_output_loss: 0.3221 - val_aux_output_loss: 0.3911\n",
      "Epoch 10/20\n",
      "363/363 [==============================] - 0s 1ms/step - loss: 0.3212 - main_output_loss: 0.3126 - aux_output_loss: 0.3986 - val_loss: 0.3339 - val_main_output_loss: 0.3278 - val_aux_output_loss: 0.3892\n",
      "Epoch 11/20\n",
      "363/363 [==============================] - 0s 1ms/step - loss: 0.3229 - main_output_loss: 0.3145 - aux_output_loss: 0.3986 - val_loss: 0.3386 - val_main_output_loss: 0.3311 - val_aux_output_loss: 0.4059\n",
      "Epoch 12/20\n",
      "363/363 [==============================] - 0s 1ms/step - loss: 0.3230 - main_output_loss: 0.3149 - aux_output_loss: 0.3966 - val_loss: 0.3264 - val_main_output_loss: 0.3195 - val_aux_output_loss: 0.3885\n",
      "Epoch 13/20\n",
      "363/363 [==============================] - 0s 1ms/step - loss: 0.3217 - main_output_loss: 0.3135 - aux_output_loss: 0.3960 - val_loss: 0.3285 - val_main_output_loss: 0.3219 - val_aux_output_loss: 0.3885\n",
      "Epoch 14/20\n",
      "363/363 [==============================] - 0s 1ms/step - loss: 0.3210 - main_output_loss: 0.3129 - aux_output_loss: 0.3943 - val_loss: 0.3318 - val_main_output_loss: 0.3251 - val_aux_output_loss: 0.3928\n",
      "Epoch 15/20\n",
      "363/363 [==============================] - 0s 1ms/step - loss: 0.3199 - main_output_loss: 0.3118 - aux_output_loss: 0.3924 - val_loss: 0.3262 - val_main_output_loss: 0.3194 - val_aux_output_loss: 0.3872\n",
      "Epoch 16/20\n",
      "363/363 [==============================] - 0s 1ms/step - loss: 0.3213 - main_output_loss: 0.3133 - aux_output_loss: 0.3932 - val_loss: 0.3270 - val_main_output_loss: 0.3206 - val_aux_output_loss: 0.3841\n",
      "Epoch 17/20\n",
      "363/363 [==============================] - 0s 1ms/step - loss: 0.3188 - main_output_loss: 0.3109 - aux_output_loss: 0.3900 - val_loss: 0.3597 - val_main_output_loss: 0.3535 - val_aux_output_loss: 0.4153\n",
      "Epoch 18/20\n",
      "363/363 [==============================] - 0s 1ms/step - loss: 0.3186 - main_output_loss: 0.3107 - aux_output_loss: 0.3897 - val_loss: 0.3353 - val_main_output_loss: 0.3290 - val_aux_output_loss: 0.3914\n",
      "Epoch 19/20\n",
      "363/363 [==============================] - 0s 1ms/step - loss: 0.3254 - main_output_loss: 0.3178 - aux_output_loss: 0.3933 - val_loss: 0.3328 - val_main_output_loss: 0.3262 - val_aux_output_loss: 0.3921\n",
      "Epoch 20/20\n",
      "363/363 [==============================] - 0s 1ms/step - loss: 0.3172 - main_output_loss: 0.3094 - aux_output_loss: 0.3877 - val_loss: 0.3218 - val_main_output_loss: 0.3146 - val_aux_output_loss: 0.3864\n"
     ]
    }
   ],
   "source": [
    "checkpoint_cb = keras.callbacks.ModelCheckpoint('my_keras_model.h5',save_best_only=True)\n",
    "history = model.fit((x_train_A,x_train_B), (y_train,y_train),epochs=20,validation_data=((x_valid_A,x_valid_B),(y_valid,y_valid)),callbacks=[checkpoint_cb])\n",
    "model = keras.models.load_model('my_keras_model.h5') # roll back to best model "
   ]
  },
  {
   "cell_type": "markdown",
   "metadata": {},
   "source": [
    "另一种实现早停的方法是使用 `EarlyStopping` 调回。当检测到经过几个周期（周期数由参数 `patience` 确定），验证集表现没有提升时，就会中断训练，还能自动滚回到最优模型。可以将保存检查点（避免宕机）和早停（避免浪费时间和资源）结合起来："
   ]
  },
  {
   "cell_type": "code",
   "execution_count": 110,
   "metadata": {},
   "outputs": [
    {
     "name": "stdout",
     "output_type": "stream",
     "text": [
      "Epoch 1/50\n",
      "363/363 [==============================] - 1s 2ms/step - loss: 0.3174 - main_output_loss: 0.3096 - aux_output_loss: 0.3875 - val_loss: 0.3272 - val_main_output_loss: 0.3208 - val_aux_output_loss: 0.3851\n",
      "Epoch 2/50\n",
      "363/363 [==============================] - 0s 1ms/step - loss: 0.3158 - main_output_loss: 0.3081 - aux_output_loss: 0.3852 - val_loss: 0.3198 - val_main_output_loss: 0.3134 - val_aux_output_loss: 0.3775\n",
      "Epoch 3/50\n",
      "363/363 [==============================] - 0s 1ms/step - loss: 0.3162 - main_output_loss: 0.3085 - aux_output_loss: 0.3850 - val_loss: 0.3248 - val_main_output_loss: 0.3173 - val_aux_output_loss: 0.3926\n",
      "Epoch 4/50\n",
      "363/363 [==============================] - 0s 1ms/step - loss: 0.3159 - main_output_loss: 0.3082 - aux_output_loss: 0.3853 - val_loss: 0.3314 - val_main_output_loss: 0.3247 - val_aux_output_loss: 0.3920\n",
      "Epoch 5/50\n",
      "363/363 [==============================] - 0s 1ms/step - loss: 0.3161 - main_output_loss: 0.3086 - aux_output_loss: 0.3833 - val_loss: 0.3271 - val_main_output_loss: 0.3215 - val_aux_output_loss: 0.3782\n",
      "Epoch 6/50\n",
      "363/363 [==============================] - 0s 1ms/step - loss: 0.3139 - main_output_loss: 0.3065 - aux_output_loss: 0.3805 - val_loss: 0.3203 - val_main_output_loss: 0.3138 - val_aux_output_loss: 0.3790\n",
      "Epoch 7/50\n",
      "363/363 [==============================] - 0s 1ms/step - loss: 0.3116 - main_output_loss: 0.3041 - aux_output_loss: 0.3792 - val_loss: 0.3405 - val_main_output_loss: 0.3352 - val_aux_output_loss: 0.3886\n",
      "Epoch 8/50\n",
      "363/363 [==============================] - 0s 1ms/step - loss: 0.3130 - main_output_loss: 0.3055 - aux_output_loss: 0.3805 - val_loss: 0.3669 - val_main_output_loss: 0.3629 - val_aux_output_loss: 0.4030\n",
      "Epoch 9/50\n",
      "363/363 [==============================] - 0s 1ms/step - loss: 0.3146 - main_output_loss: 0.3072 - aux_output_loss: 0.3812 - val_loss: 0.3207 - val_main_output_loss: 0.3139 - val_aux_output_loss: 0.3817\n",
      "Epoch 10/50\n",
      "363/363 [==============================] - 0s 1ms/step - loss: 0.3119 - main_output_loss: 0.3045 - aux_output_loss: 0.3786 - val_loss: 0.3194 - val_main_output_loss: 0.3132 - val_aux_output_loss: 0.3752\n",
      "Epoch 11/50\n",
      "363/363 [==============================] - 0s 1ms/step - loss: 0.3093 - main_output_loss: 0.3020 - aux_output_loss: 0.3751 - val_loss: 0.3301 - val_main_output_loss: 0.3236 - val_aux_output_loss: 0.3893\n",
      "Epoch 12/50\n",
      "363/363 [==============================] - 0s 1ms/step - loss: 0.3125 - main_output_loss: 0.3053 - aux_output_loss: 0.3770 - val_loss: 0.3237 - val_main_output_loss: 0.3176 - val_aux_output_loss: 0.3786\n",
      "Epoch 13/50\n",
      "363/363 [==============================] - 0s 1ms/step - loss: 0.3103 - main_output_loss: 0.3030 - aux_output_loss: 0.3756 - val_loss: 0.3169 - val_main_output_loss: 0.3105 - val_aux_output_loss: 0.3746\n",
      "Epoch 14/50\n",
      "363/363 [==============================] - 0s 1ms/step - loss: 0.3087 - main_output_loss: 0.3015 - aux_output_loss: 0.3742 - val_loss: 0.3159 - val_main_output_loss: 0.3096 - val_aux_output_loss: 0.3723\n",
      "Epoch 15/50\n",
      "363/363 [==============================] - 0s 1ms/step - loss: 0.3104 - main_output_loss: 0.3031 - aux_output_loss: 0.3758 - val_loss: 0.3266 - val_main_output_loss: 0.3196 - val_aux_output_loss: 0.3893\n",
      "Epoch 16/50\n",
      "363/363 [==============================] - 0s 1ms/step - loss: 0.3081 - main_output_loss: 0.3009 - aux_output_loss: 0.3729 - val_loss: 0.3237 - val_main_output_loss: 0.3179 - val_aux_output_loss: 0.3755\n",
      "Epoch 17/50\n",
      "363/363 [==============================] - 0s 1ms/step - loss: 0.3097 - main_output_loss: 0.3027 - aux_output_loss: 0.3730 - val_loss: 0.3244 - val_main_output_loss: 0.3182 - val_aux_output_loss: 0.3803\n",
      "Epoch 18/50\n",
      "363/363 [==============================] - 0s 1ms/step - loss: 0.3085 - main_output_loss: 0.3015 - aux_output_loss: 0.3713 - val_loss: 0.3352 - val_main_output_loss: 0.3304 - val_aux_output_loss: 0.3787\n",
      "Epoch 19/50\n",
      "363/363 [==============================] - 0s 1ms/step - loss: 0.3073 - main_output_loss: 0.3003 - aux_output_loss: 0.3702 - val_loss: 0.3403 - val_main_output_loss: 0.3325 - val_aux_output_loss: 0.4105\n",
      "Epoch 20/50\n",
      "363/363 [==============================] - 0s 1ms/step - loss: 0.3071 - main_output_loss: 0.3000 - aux_output_loss: 0.3707 - val_loss: 0.3208 - val_main_output_loss: 0.3158 - val_aux_output_loss: 0.3659\n",
      "Epoch 21/50\n",
      "363/363 [==============================] - 0s 1ms/step - loss: 0.3074 - main_output_loss: 0.3003 - aux_output_loss: 0.3707 - val_loss: 0.3151 - val_main_output_loss: 0.3083 - val_aux_output_loss: 0.3765\n",
      "Epoch 22/50\n",
      "363/363 [==============================] - 0s 1ms/step - loss: 0.3067 - main_output_loss: 0.2997 - aux_output_loss: 0.3699 - val_loss: 0.3175 - val_main_output_loss: 0.3118 - val_aux_output_loss: 0.3685\n",
      "Epoch 23/50\n",
      "363/363 [==============================] - 0s 1ms/step - loss: 0.3053 - main_output_loss: 0.2984 - aux_output_loss: 0.3676 - val_loss: 0.3193 - val_main_output_loss: 0.3130 - val_aux_output_loss: 0.3760\n",
      "Epoch 24/50\n",
      "363/363 [==============================] - 0s 1ms/step - loss: 0.3069 - main_output_loss: 0.2999 - aux_output_loss: 0.3692 - val_loss: 0.3160 - val_main_output_loss: 0.3110 - val_aux_output_loss: 0.3605\n",
      "Epoch 25/50\n",
      "363/363 [==============================] - 0s 1ms/step - loss: 0.3060 - main_output_loss: 0.2992 - aux_output_loss: 0.3678 - val_loss: 0.3135 - val_main_output_loss: 0.3075 - val_aux_output_loss: 0.3675\n",
      "Epoch 26/50\n",
      "363/363 [==============================] - 0s 1ms/step - loss: 0.3064 - main_output_loss: 0.2996 - aux_output_loss: 0.3675 - val_loss: 0.3412 - val_main_output_loss: 0.3374 - val_aux_output_loss: 0.3754\n",
      "Epoch 27/50\n",
      "363/363 [==============================] - 0s 1ms/step - loss: 0.3047 - main_output_loss: 0.2979 - aux_output_loss: 0.3665 - val_loss: 0.3273 - val_main_output_loss: 0.3214 - val_aux_output_loss: 0.3806\n",
      "Epoch 28/50\n",
      "363/363 [==============================] - 0s 1ms/step - loss: 0.3048 - main_output_loss: 0.2980 - aux_output_loss: 0.3655 - val_loss: 0.3263 - val_main_output_loss: 0.3213 - val_aux_output_loss: 0.3713\n",
      "Epoch 29/50\n",
      "363/363 [==============================] - 0s 1ms/step - loss: 0.3040 - main_output_loss: 0.2973 - aux_output_loss: 0.3649 - val_loss: 0.3179 - val_main_output_loss: 0.3114 - val_aux_output_loss: 0.3767\n",
      "Epoch 30/50\n",
      "363/363 [==============================] - 0s 1ms/step - loss: 0.3032 - main_output_loss: 0.2965 - aux_output_loss: 0.3636 - val_loss: 0.3193 - val_main_output_loss: 0.3144 - val_aux_output_loss: 0.3636\n",
      "Epoch 31/50\n",
      "363/363 [==============================] - 0s 1ms/step - loss: 0.3021 - main_output_loss: 0.2953 - aux_output_loss: 0.3632 - val_loss: 0.3129 - val_main_output_loss: 0.3072 - val_aux_output_loss: 0.3640\n",
      "Epoch 32/50\n",
      "363/363 [==============================] - 0s 1ms/step - loss: 0.3025 - main_output_loss: 0.2958 - aux_output_loss: 0.3629 - val_loss: 0.3117 - val_main_output_loss: 0.3056 - val_aux_output_loss: 0.3664\n",
      "Epoch 33/50\n",
      "363/363 [==============================] - 0s 1ms/step - loss: 0.3025 - main_output_loss: 0.2958 - aux_output_loss: 0.3628 - val_loss: 0.3180 - val_main_output_loss: 0.3119 - val_aux_output_loss: 0.3731\n",
      "Epoch 34/50\n",
      "363/363 [==============================] - 0s 1ms/step - loss: 0.3029 - main_output_loss: 0.2962 - aux_output_loss: 0.3626 - val_loss: 0.3242 - val_main_output_loss: 0.3189 - val_aux_output_loss: 0.3719\n",
      "Epoch 35/50\n",
      "363/363 [==============================] - 0s 1ms/step - loss: 0.3015 - main_output_loss: 0.2948 - aux_output_loss: 0.3613 - val_loss: 0.3121 - val_main_output_loss: 0.3064 - val_aux_output_loss: 0.3634\n",
      "Epoch 36/50\n",
      "363/363 [==============================] - 0s 1ms/step - loss: 0.3018 - main_output_loss: 0.2952 - aux_output_loss: 0.3607 - val_loss: 0.3139 - val_main_output_loss: 0.3079 - val_aux_output_loss: 0.3682\n",
      "Epoch 37/50\n",
      "363/363 [==============================] - 0s 1ms/step - loss: 0.3015 - main_output_loss: 0.2950 - aux_output_loss: 0.3604 - val_loss: 0.3296 - val_main_output_loss: 0.3235 - val_aux_output_loss: 0.3836\n",
      "Epoch 38/50\n",
      "363/363 [==============================] - 0s 1ms/step - loss: 0.3010 - main_output_loss: 0.2946 - aux_output_loss: 0.3592 - val_loss: 0.3136 - val_main_output_loss: 0.3082 - val_aux_output_loss: 0.3623\n",
      "Epoch 39/50\n"
     ]
    },
    {
     "name": "stdout",
     "output_type": "stream",
     "text": [
      "363/363 [==============================] - 0s 1ms/step - loss: 0.3020 - main_output_loss: 0.2954 - aux_output_loss: 0.3607 - val_loss: 0.3170 - val_main_output_loss: 0.3108 - val_aux_output_loss: 0.3731\n",
      "Epoch 40/50\n",
      "363/363 [==============================] - 0s 1ms/step - loss: 0.2998 - main_output_loss: 0.2933 - aux_output_loss: 0.3582 - val_loss: 0.3309 - val_main_output_loss: 0.3258 - val_aux_output_loss: 0.3768\n",
      "Epoch 41/50\n",
      "363/363 [==============================] - 0s 1ms/step - loss: 0.2988 - main_output_loss: 0.2922 - aux_output_loss: 0.3576 - val_loss: 0.3171 - val_main_output_loss: 0.3115 - val_aux_output_loss: 0.3673\n",
      "Epoch 42/50\n",
      "363/363 [==============================] - 0s 1ms/step - loss: 0.2996 - main_output_loss: 0.2932 - aux_output_loss: 0.3579 - val_loss: 0.3177 - val_main_output_loss: 0.3120 - val_aux_output_loss: 0.3691\n"
     ]
    }
   ],
   "source": [
    "early_stopping_cb = keras.callbacks.EarlyStopping(patience=10,restore_best_weights=True)\n",
    "history = model.fit((x_train_A,x_train_B), (y_train,y_train),epochs=50,validation_data=((x_valid_A,x_valid_B),(y_valid,y_valid)),callbacks=[checkpoint_cb,early_stopping_cb])"
   ]
  },
  {
   "cell_type": "markdown",
   "metadata": {},
   "source": [
    "如果还想有其它操控，还可以编写自定义的调回。下面的例子展示了一个可以展示验证集损失和训练集损失比例的自定义（检测过拟合）调回："
   ]
  },
  {
   "cell_type": "code",
   "execution_count": 111,
   "metadata": {},
   "outputs": [],
   "source": [
    "class PrintValTrainRatioCallback(keras.callbacks.Callback):\n",
    "    def on_epoch_end(self, epoch, logs):\n",
    "        print(\"\\nval/train: {:.2f}\".format(logs[\"val_loss\"] / logs[\"loss\"])) "
   ]
  },
  {
   "cell_type": "markdown",
   "metadata": {},
   "source": [
    "类似的，还可以实现 `on_train_begin()` 、`on_train_end()`、`on_epoch_begin()`、`on_epoch_end()`、`on_batch_begin()`、和 `on_batch_end()` 。如果需要的话，在评估和预测时也可以使用调回（例如为了调试）。对于评估，可以实现 `on_test_begin()`、`on_test_end()`、`on_test_batch_begin()`或 `on_test_batch_end()`（通过 `evaluate()`调用）；对于预测，可以实现 `on_predict_begin()`、`on_predict_end()`、`on_predict_batch_begin()` 或`on_predict_batch_end()`（通过 `predict()` 调用）。\n",
    "\n",
    "下面来看一个使用 `tf.keras`的必备工具：`TensorBoard` 。"
   ]
  },
  {
   "cell_type": "markdown",
   "metadata": {},
   "source": [
    "### 11、使用 TensorBoard 进行可视化"
   ]
  },
  {
   "cell_type": "markdown",
   "metadata": {},
   "source": [
    "`TensorBoard` 是一个强大的交互可视化工具，使用它可以查看训练过程中的学习曲线、比较每次运行的学习曲线、可视化计算图、分析训练数据、查看模型生成的图片、可视化投射到 3D 的多维数据，等等。`TensorBoard` 是 `TensorFlow` 自带的。\n",
    "\n",
    "要使用 `TensorBoard`，必须修改程序，将要可视化的数据输出为二进制的日志文件 `event files` 。每份二进制数据称为摘要 `summary` ，`TensorBoard` 服务器会监测日志文件目录，自动加载更新并可视化：这样就能看到实时数据（稍有延迟），比如训练时的学习曲线。通常，将 TensorBoard 服务器指向根日志目录，程序的日志写入到它的子目录，这样一个 TensorBoard 服务就能可视化并比较多次运行的数据，而不会将其搞混。\n",
    "\n",
    "我们先定义 TensorBoard 的根日志目录，还有一些根据当前日期生成子目录的小函数。你可能还想在目录名中加上其它信息，比如超参数的值，方便知道查询的内容："
   ]
  },
  {
   "cell_type": "code",
   "execution_count": 113,
   "metadata": {},
   "outputs": [],
   "source": [
    "import os"
   ]
  },
  {
   "cell_type": "code",
   "execution_count": 114,
   "metadata": {},
   "outputs": [
    {
     "data": {
      "text/plain": [
       "'.'"
      ]
     },
     "execution_count": 114,
     "metadata": {},
     "output_type": "execute_result"
    }
   ],
   "source": [
    "os.curdir"
   ]
  },
  {
   "cell_type": "code",
   "execution_count": 116,
   "metadata": {},
   "outputs": [],
   "source": [
    "import os\n",
    "root_logdir = os.path.join(os.curdir, \"my_logs\")\n",
    "\n",
    "def get_run_logdir():\n",
    "    import time\n",
    "    run_id = time.strftime(\"run_%Y_%m_%d-%H_%M_%S\")\n",
    "    return os.path.join(root_logdir, run_id)\n",
    "\n",
    "run_logdir = get_run_logdir() # e.g., './my_logs/run_2019_06_07-15_15_22' "
   ]
  },
  {
   "cell_type": "code",
   "execution_count": 117,
   "metadata": {},
   "outputs": [
    {
     "data": {
      "text/plain": [
       "'.\\\\my_logs'"
      ]
     },
     "execution_count": 117,
     "metadata": {},
     "output_type": "execute_result"
    }
   ],
   "source": [
    "root_logdir"
   ]
  },
  {
   "cell_type": "markdown",
   "metadata": {},
   "source": [
    "Keras 提供了一个 `TensorBoard()` 调回："
   ]
  },
  {
   "cell_type": "code",
   "execution_count": 118,
   "metadata": {},
   "outputs": [
    {
     "name": "stdout",
     "output_type": "stream",
     "text": [
      "Epoch 1/50\n",
      "363/363 [==============================] - 2s 6ms/step - loss: 0.3018 - main_output_loss: 0.2952 - aux_output_loss: 0.3612 - val_loss: 0.3211 - val_main_output_loss: 0.3145 - val_aux_output_loss: 0.3798\n",
      "Epoch 2/50\n",
      "363/363 [==============================] - 1s 2ms/step - loss: 0.3010 - main_output_loss: 0.2944 - aux_output_loss: 0.3606 - val_loss: 0.3301 - val_main_output_loss: 0.3255 - val_aux_output_loss: 0.3717\n",
      "Epoch 3/50\n",
      "363/363 [==============================] - 0s 1ms/step - loss: 0.3020 - main_output_loss: 0.2954 - aux_output_loss: 0.3616 - val_loss: 0.3151 - val_main_output_loss: 0.3101 - val_aux_output_loss: 0.3601\n",
      "Epoch 4/50\n",
      "363/363 [==============================] - 0s 1ms/step - loss: 0.3023 - main_output_loss: 0.2959 - aux_output_loss: 0.3605 - val_loss: 0.3170 - val_main_output_loss: 0.3110 - val_aux_output_loss: 0.3713\n",
      "Epoch 5/50\n",
      "363/363 [==============================] - 1s 2ms/step - loss: 0.3005 - main_output_loss: 0.2940 - aux_output_loss: 0.3596 - val_loss: 0.3170 - val_main_output_loss: 0.3109 - val_aux_output_loss: 0.3728\n",
      "Epoch 6/50\n",
      "363/363 [==============================] - 1s 2ms/step - loss: 0.3030 - main_output_loss: 0.2965 - aux_output_loss: 0.3617 - val_loss: 0.3123 - val_main_output_loss: 0.3069 - val_aux_output_loss: 0.3606\n",
      "Epoch 7/50\n",
      "363/363 [==============================] - 1s 2ms/step - loss: 0.3010 - main_output_loss: 0.2944 - aux_output_loss: 0.3606 - val_loss: 0.3103 - val_main_output_loss: 0.3048 - val_aux_output_loss: 0.3603\n",
      "Epoch 8/50\n",
      "363/363 [==============================] - 1s 2ms/step - loss: 0.2990 - main_output_loss: 0.2924 - aux_output_loss: 0.3585 - val_loss: 0.3111 - val_main_output_loss: 0.3048 - val_aux_output_loss: 0.3682\n",
      "Epoch 9/50\n",
      "363/363 [==============================] - 1s 2ms/step - loss: 0.3001 - main_output_loss: 0.2936 - aux_output_loss: 0.3579 - val_loss: 0.3197 - val_main_output_loss: 0.3155 - val_aux_output_loss: 0.3583\n",
      "Epoch 10/50\n",
      "363/363 [==============================] - 1s 2ms/step - loss: 0.3009 - main_output_loss: 0.2946 - aux_output_loss: 0.3574 - val_loss: 0.3101 - val_main_output_loss: 0.3046 - val_aux_output_loss: 0.3602\n",
      "Epoch 11/50\n",
      "363/363 [==============================] - 1s 1ms/step - loss: 0.2984 - main_output_loss: 0.2919 - aux_output_loss: 0.3574 - val_loss: 0.3151 - val_main_output_loss: 0.3098 - val_aux_output_loss: 0.3630\n",
      "Epoch 12/50\n",
      "363/363 [==============================] - 1s 2ms/step - loss: 0.2985 - main_output_loss: 0.2920 - aux_output_loss: 0.3563 - val_loss: 0.3246 - val_main_output_loss: 0.3193 - val_aux_output_loss: 0.3727\n",
      "Epoch 13/50\n",
      "363/363 [==============================] - 1s 2ms/step - loss: 0.3003 - main_output_loss: 0.2939 - aux_output_loss: 0.3583 - val_loss: 0.3130 - val_main_output_loss: 0.3077 - val_aux_output_loss: 0.3614\n",
      "Epoch 14/50\n",
      "363/363 [==============================] - 1s 2ms/step - loss: 0.2975 - main_output_loss: 0.2910 - aux_output_loss: 0.3560 - val_loss: 0.3113 - val_main_output_loss: 0.3058 - val_aux_output_loss: 0.3606\n",
      "Epoch 15/50\n",
      "363/363 [==============================] - 1s 2ms/step - loss: 0.2974 - main_output_loss: 0.2909 - aux_output_loss: 0.3558 - val_loss: 0.3363 - val_main_output_loss: 0.3309 - val_aux_output_loss: 0.3846\n",
      "Epoch 16/50\n",
      "363/363 [==============================] - 1s 2ms/step - loss: 0.2985 - main_output_loss: 0.2920 - aux_output_loss: 0.3564 - val_loss: 0.3154 - val_main_output_loss: 0.3099 - val_aux_output_loss: 0.3641\n",
      "Epoch 17/50\n",
      "363/363 [==============================] - 1s 1ms/step - loss: 0.2968 - main_output_loss: 0.2903 - aux_output_loss: 0.3548 - val_loss: 0.3114 - val_main_output_loss: 0.3054 - val_aux_output_loss: 0.3658\n",
      "Epoch 18/50\n",
      "363/363 [==============================] - 1s 2ms/step - loss: 0.2972 - main_output_loss: 0.2908 - aux_output_loss: 0.3545 - val_loss: 0.3123 - val_main_output_loss: 0.3080 - val_aux_output_loss: 0.3518\n",
      "Epoch 19/50\n",
      "363/363 [==============================] - 1s 1ms/step - loss: 0.2967 - main_output_loss: 0.2903 - aux_output_loss: 0.3547 - val_loss: 0.3101 - val_main_output_loss: 0.3043 - val_aux_output_loss: 0.3618\n",
      "Epoch 20/50\n",
      "363/363 [==============================] - 1s 2ms/step - loss: 0.2972 - main_output_loss: 0.2909 - aux_output_loss: 0.3544 - val_loss: 0.3092 - val_main_output_loss: 0.3037 - val_aux_output_loss: 0.3595\n",
      "Epoch 21/50\n",
      "363/363 [==============================] - 1s 2ms/step - loss: 0.2962 - main_output_loss: 0.2899 - aux_output_loss: 0.3532 - val_loss: 0.3118 - val_main_output_loss: 0.3061 - val_aux_output_loss: 0.3635\n",
      "Epoch 22/50\n",
      "363/363 [==============================] - 1s 2ms/step - loss: 0.2952 - main_output_loss: 0.2890 - aux_output_loss: 0.3514 - val_loss: 0.3113 - val_main_output_loss: 0.3059 - val_aux_output_loss: 0.3593\n",
      "Epoch 23/50\n",
      "363/363 [==============================] - 1s 2ms/step - loss: 0.2961 - main_output_loss: 0.2898 - aux_output_loss: 0.3520 - val_loss: 0.3104 - val_main_output_loss: 0.3048 - val_aux_output_loss: 0.3611\n",
      "Epoch 24/50\n",
      "363/363 [==============================] - 1s 2ms/step - loss: 0.2971 - main_output_loss: 0.2907 - aux_output_loss: 0.3540 - val_loss: 0.3115 - val_main_output_loss: 0.3060 - val_aux_output_loss: 0.3609\n",
      "Epoch 25/50\n",
      "363/363 [==============================] - 1s 2ms/step - loss: 0.2956 - main_output_loss: 0.2893 - aux_output_loss: 0.3523 - val_loss: 0.3158 - val_main_output_loss: 0.3119 - val_aux_output_loss: 0.3503\n",
      "Epoch 26/50\n",
      "363/363 [==============================] - 1s 2ms/step - loss: 0.2948 - main_output_loss: 0.2885 - aux_output_loss: 0.3514 - val_loss: 0.3288 - val_main_output_loss: 0.3239 - val_aux_output_loss: 0.3729\n",
      "Epoch 27/50\n",
      "363/363 [==============================] - 1s 2ms/step - loss: 0.2965 - main_output_loss: 0.2902 - aux_output_loss: 0.3527 - val_loss: 0.3088 - val_main_output_loss: 0.3035 - val_aux_output_loss: 0.3565\n",
      "Epoch 28/50\n",
      "363/363 [==============================] - 1s 2ms/step - loss: 0.2947 - main_output_loss: 0.2884 - aux_output_loss: 0.3511 - val_loss: 0.3092 - val_main_output_loss: 0.3028 - val_aux_output_loss: 0.3666\n",
      "Epoch 29/50\n",
      "363/363 [==============================] - 1s 2ms/step - loss: 0.2944 - main_output_loss: 0.2882 - aux_output_loss: 0.3504 - val_loss: 0.3093 - val_main_output_loss: 0.3047 - val_aux_output_loss: 0.3509\n",
      "Epoch 30/50\n",
      "363/363 [==============================] - 1s 2ms/step - loss: 0.2929 - main_output_loss: 0.2867 - aux_output_loss: 0.3485 - val_loss: 0.3221 - val_main_output_loss: 0.3173 - val_aux_output_loss: 0.3654\n",
      "Epoch 31/50\n",
      "363/363 [==============================] - 1s 2ms/step - loss: 0.2950 - main_output_loss: 0.2887 - aux_output_loss: 0.3512 - val_loss: 0.3035 - val_main_output_loss: 0.2985 - val_aux_output_loss: 0.3488\n",
      "Epoch 32/50\n",
      "363/363 [==============================] - 0s 1ms/step - loss: 0.2924 - main_output_loss: 0.2861 - aux_output_loss: 0.3492 - val_loss: 0.3149 - val_main_output_loss: 0.3103 - val_aux_output_loss: 0.3560\n",
      "Epoch 33/50\n",
      "363/363 [==============================] - 1s 2ms/step - loss: 0.2933 - main_output_loss: 0.2870 - aux_output_loss: 0.3503 - val_loss: 0.3119 - val_main_output_loss: 0.3063 - val_aux_output_loss: 0.3618\n",
      "Epoch 34/50\n",
      "363/363 [==============================] - 1s 1ms/step - loss: 0.2938 - main_output_loss: 0.2875 - aux_output_loss: 0.3498 - val_loss: 0.3113 - val_main_output_loss: 0.3063 - val_aux_output_loss: 0.3570\n",
      "Epoch 35/50\n",
      "363/363 [==============================] - 1s 2ms/step - loss: 0.2933 - main_output_loss: 0.2871 - aux_output_loss: 0.3488 - val_loss: 0.3052 - val_main_output_loss: 0.3005 - val_aux_output_loss: 0.3477\n",
      "Epoch 36/50\n",
      "363/363 [==============================] - 1s 1ms/step - loss: 0.2924 - main_output_loss: 0.2862 - aux_output_loss: 0.3482 - val_loss: 0.3112 - val_main_output_loss: 0.3063 - val_aux_output_loss: 0.3555\n",
      "Epoch 37/50\n",
      "363/363 [==============================] - 1s 2ms/step - loss: 0.2939 - main_output_loss: 0.2877 - aux_output_loss: 0.3498 - val_loss: 0.3127 - val_main_output_loss: 0.3072 - val_aux_output_loss: 0.3628\n",
      "Epoch 38/50\n",
      "363/363 [==============================] - 1s 2ms/step - loss: 0.2914 - main_output_loss: 0.2852 - aux_output_loss: 0.3468 - val_loss: 0.3055 - val_main_output_loss: 0.3003 - val_aux_output_loss: 0.3530\n",
      "Epoch 39/50\n"
     ]
    },
    {
     "name": "stdout",
     "output_type": "stream",
     "text": [
      "363/363 [==============================] - 1s 2ms/step - loss: 0.2918 - main_output_loss: 0.2856 - aux_output_loss: 0.3479 - val_loss: 0.3228 - val_main_output_loss: 0.3172 - val_aux_output_loss: 0.3730\n",
      "Epoch 40/50\n",
      "363/363 [==============================] - 1s 2ms/step - loss: 0.2911 - main_output_loss: 0.2849 - aux_output_loss: 0.3467 - val_loss: 0.3117 - val_main_output_loss: 0.3077 - val_aux_output_loss: 0.3480\n",
      "Epoch 41/50\n",
      "363/363 [==============================] - 1s 2ms/step - loss: 0.2921 - main_output_loss: 0.2859 - aux_output_loss: 0.3475 - val_loss: 0.3013 - val_main_output_loss: 0.2961 - val_aux_output_loss: 0.3481\n",
      "Epoch 42/50\n",
      "363/363 [==============================] - 0s 1ms/step - loss: 0.2923 - main_output_loss: 0.2863 - aux_output_loss: 0.3468 - val_loss: 0.3183 - val_main_output_loss: 0.3136 - val_aux_output_loss: 0.3606\n",
      "Epoch 43/50\n",
      "363/363 [==============================] - 1s 2ms/step - loss: 0.2908 - main_output_loss: 0.2846 - aux_output_loss: 0.3463 - val_loss: 0.3280 - val_main_output_loss: 0.3236 - val_aux_output_loss: 0.3682\n",
      "Epoch 44/50\n",
      "363/363 [==============================] - 0s 1ms/step - loss: 0.2919 - main_output_loss: 0.2858 - aux_output_loss: 0.3468 - val_loss: 0.3063 - val_main_output_loss: 0.3015 - val_aux_output_loss: 0.3499\n",
      "Epoch 45/50\n",
      "363/363 [==============================] - 1s 2ms/step - loss: 0.2908 - main_output_loss: 0.2847 - aux_output_loss: 0.3461 - val_loss: 0.3316 - val_main_output_loss: 0.3267 - val_aux_output_loss: 0.3753\n",
      "Epoch 46/50\n",
      "363/363 [==============================] - 1s 2ms/step - loss: 0.2900 - main_output_loss: 0.2839 - aux_output_loss: 0.3444 - val_loss: 0.3167 - val_main_output_loss: 0.3112 - val_aux_output_loss: 0.3663\n",
      "Epoch 47/50\n",
      "363/363 [==============================] - 1s 2ms/step - loss: 0.2890 - main_output_loss: 0.2829 - aux_output_loss: 0.3440 - val_loss: 0.3064 - val_main_output_loss: 0.3016 - val_aux_output_loss: 0.3503\n",
      "Epoch 48/50\n",
      "363/363 [==============================] - 1s 2ms/step - loss: 0.2908 - main_output_loss: 0.2847 - aux_output_loss: 0.3461 - val_loss: 0.3083 - val_main_output_loss: 0.3037 - val_aux_output_loss: 0.3499\n",
      "Epoch 49/50\n",
      "363/363 [==============================] - 1s 2ms/step - loss: 0.2902 - main_output_loss: 0.2840 - aux_output_loss: 0.3455 - val_loss: 0.3076 - val_main_output_loss: 0.3029 - val_aux_output_loss: 0.3503\n",
      "Epoch 50/50\n",
      "363/363 [==============================] - 1s 2ms/step - loss: 0.2895 - main_output_loss: 0.2834 - aux_output_loss: 0.3442 - val_loss: 0.3140 - val_main_output_loss: 0.3102 - val_aux_output_loss: 0.3478\n"
     ]
    }
   ],
   "source": [
    "tensorboard_cb = keras.callbacks.TensorBoard(run_logdir)\n",
    "history = model.fit((x_train_A,x_train_B), (y_train,y_train),epochs=50,validation_data=((x_valid_A,x_valid_B),(y_valid,y_valid)),callbacks=[tensorboard_cb])"
   ]
  },
  {
   "cell_type": "markdown",
   "metadata": {},
   "source": [
    "简直不能再简单了。如果运行这段代码，TensorBoard()调回会负责创建日志目录（包括父级目录），在训练过程中会创建事件文件并写入概要。再次运行程序（可能修改了一些超参数）之后，得到的目录结构可能如下：\n",
    "\n",
    "    my_logs/\n",
    "    ├── run_2019_06_07-15_15_22\n",
    "    │   ├── train\n",
    "    │   │   ├── events.out.tfevents.1559891732.mycomputer.local.38511.694049.v2\n",
    "    │   │   ├── events.out.tfevents.1559891732.mycomputer.local.profile-empty\n",
    "    │   │   └── plugins/profile/2019-06-07_15-15-32\n",
    "    │   │       └── local.trace\n",
    "    │   └── validation\n",
    "    │       └── events.out.tfevents.1559891733.mycomputer.local.38511.696430.v2\n",
    "    └── run_2019_06_07-15_15_49\n",
    "        └── [...] \n"
   ]
  },
  {
   "cell_type": "markdown",
   "metadata": {},
   "source": [
    "每次运行都会创建一个目录，每个目录都有一个包含训练日志和验证日志的子目录。两者都包括事件文件，训练日志还包括分析追踪信息：它可以让 TensorBoard 展示所有设备上的模型的各个部分的训练时长，有助于定位性能瓶颈。\n",
    "\n",
    "然后就可以启动 TensorBoard 服务了。一种方式是通过运行命令行。如果是在虚拟环境中安装的 TensorFlow，需要激活虚拟环境。接着，在根目录（也可以是其它路径，但一定要指向日志目录）运行下面的命令：\n",
    "\n",
    "    $ tensorboard --logdir=./my_logs --port=6006\n",
    "    TensorBoard 2.0.0 at http://mycomputer.local:6006/ (Press CTRL+C to quit) \n"
   ]
  },
  {
   "cell_type": "markdown",
   "metadata": {},
   "source": [
    "无论是使用哪种方式，都得使用 TensorBoard 的浏览器界面。点击栏SCALARS可以查看学习曲线（见图 ）。左下角选择想要可视化的路径（比如第一次和第二次运行的训练日志），再点击epoch_loss。可以看到，在两次训练过程中，训练损失都是下降的，但第二次下降的更快。事实上，第二次的学习率是 `0.05`（optimizer=keras.optimizers.SGD(lr=0.05)）而不是 `0.001`。"
   ]
  },
  {
   "cell_type": "markdown",
   "metadata": {},
   "source": [
    "<div align=center><img  src=\"./static/tensorboard.jpg\"/></div>\n"
   ]
  },
  {
   "cell_type": "code",
   "execution_count": null,
   "metadata": {},
   "outputs": [],
   "source": [
    "test_logdir = get_run_logdir()\n",
    "writer = tf.summary.create_file_writer(test_logdir)\n",
    "with writer.as_default():\n",
    "    for step in range(1, 1000 + 1):\n",
    "        tf.summary.scalar(\"my_scalar\", np.sin(step / 10), step=step)\n",
    "        data = (np.random.randn(100) + 2) * step / 100 # some random data\n",
    "        tf.summary.histogram(\"my_hist\", data, buckets=50, step=step)\n",
    "        images = np.random.rand(2, 32, 32, 3) # random 32×32 RGB images\n",
    "        tf.summary.image(\"my_images\", images * step / 1000, step=step)\n",
    "        texts = [\"The step is \" + str(step), \"Its square is \" + str(step**2)]\n",
    "        tf.summary.text(\"my_text\", texts, step=step)\n",
    "        sine_wave = tf.math.sin(tf.range(12000) / 48000 * 2 * np.pi * step)\n",
    "        audio = tf.reshape(tf.cast(sine_wave, tf.float32), [1, -1, 1])\n",
    "        tf.summary.audio(\"my_audio\", audio, sample_rate=48000, step=step) "
   ]
  },
  {
   "cell_type": "markdown",
   "metadata": {},
   "source": [
    "总结一下目前所学：神经网络的起源、MLP 是什么、如何用 MLP 做分类和回归、如何使用顺序 API 搭建 MLP、如何使用函数式 API 或子类化 API 搭建更复杂的模型架构、保存和恢复模型、如何使用调回创建检查点、早停，等等。最后，学了使用 TensorBoard 做可视化。这些知识已经足够解决许多问题了。但是，你可能还有疑问，如何选择隐藏层的层数、神经元的数量，以及其他的超参数，下面就来讨论这些问题。"
   ]
  },
  {
   "cell_type": "markdown",
   "metadata": {},
   "source": [
    "### 11、微调神经网络的超参数"
   ]
  },
  {
   "cell_type": "markdown",
   "metadata": {},
   "source": [
    "神经网络的灵活性同时也是它的缺点：要微调的超参数太多了。不仅架构可能不同，就算对于一个简单的 MLP，就可以调节层数、每层的神经元数、每层使用什么激活函数、初始化的权重，等等。怎么才能知道哪个超参数的组合才是最佳的呢？\n",
    "\n",
    "一种方法是直接试验超参数的组合，看哪一个在验证集（或使用 K 折交叉验证）的表现最好。例如，可以使用 `GridSearchCV` 或 `RandomizedSearchCV` 探索超参数空间，就像第 2 章中那样。要这么做的话，必须将 Keras 模型包装进模仿 Scikit-Learn 回归器的对象中。第一步是给定一组超参数，创建一个搭建和编译 Keras 模型的函数："
   ]
  },
  {
   "cell_type": "code",
   "execution_count": 119,
   "metadata": {},
   "outputs": [],
   "source": [
    "def build_model(n_hidden=1, n_neurons=30, learning_rate=3e-3, input_shape=[8]):\n",
    "    model = keras.models.Sequential()\n",
    "    model.add(keras.layers.InputLayer(input_shape=input_shape))\n",
    "    for layer in range(n_hidden):\n",
    "        model.add(keras.layers.Dense(n_neurons, activation=\"relu\"))\n",
    "    model.add(keras.layers.Dense(1))\n",
    "    optimizer = keras.optimizers.SGD(lr=learning_rate)\n",
    "    model.compile(loss=\"mse\", optimizer=optimizer)\n",
    "    return model "
   ]
  },
  {
   "cell_type": "markdown",
   "metadata": {},
   "source": [
    "这个函数创建了一个单回归（只有一个输出神经元）顺序模型，数据形状、隐藏层的层数和神经元数是给定的，使用指定学习率的SGD优化器编译。最好尽量给大多数超参数都设置合理的默认值，就像 Scikit-Learn 那样。\n",
    "\n",
    "然后使用函数 `build_model()` 创建一个 `KerasRegressor` ："
   ]
  },
  {
   "cell_type": "code",
   "execution_count": 120,
   "metadata": {},
   "outputs": [],
   "source": [
    "keras_reg = keras.wrappers.scikit_learn.KerasRegressor(build_model) "
   ]
  },
  {
   "cell_type": "code",
   "execution_count": 122,
   "metadata": {},
   "outputs": [
    {
     "ename": "AttributeError",
     "evalue": "'KerasRegressor' object has no attribute 'summary'",
     "output_type": "error",
     "traceback": [
      "\u001b[1;31m---------------------------------------------------------------------------\u001b[0m",
      "\u001b[1;31mAttributeError\u001b[0m                            Traceback (most recent call last)",
      "\u001b[1;32m<ipython-input-122-3577c5c9e0f7>\u001b[0m in \u001b[0;36m<module>\u001b[1;34m()\u001b[0m\n\u001b[1;32m----> 1\u001b[1;33m \u001b[0mkeras_reg\u001b[0m\u001b[1;33m.\u001b[0m\u001b[0msummary\u001b[0m\u001b[1;33m(\u001b[0m\u001b[1;33m)\u001b[0m\u001b[1;33m\u001b[0m\u001b[0m\n\u001b[0m",
      "\u001b[1;31mAttributeError\u001b[0m: 'KerasRegressor' object has no attribute 'summary'"
     ]
    }
   ],
   "source": [
    "keras_reg.summary()"
   ]
  },
  {
   "cell_type": "markdown",
   "metadata": {},
   "source": [
    "`KerasRegressor` 是通过 `build_model()` 将 Keras 模型包装起来的。因为在创建时没有指定任何超参数，使用的是 `build_model()` 的默认参数。现在就可以像常规的 Scikit-Learn 回归器一样来使用它了：使用 `fit()` 方法训练，使用 `score()` 方法评估，使用 `predict()` 方法预测，见下面代码："
   ]
  },
  {
   "cell_type": "code",
   "execution_count": 124,
   "metadata": {},
   "outputs": [
    {
     "name": "stderr",
     "output_type": "stream",
     "text": [
      "D:\\APYPLA~1\\venv_dir\\venv1\\lib\\site-packages\\keras\\optimizer_v2\\optimizer_v2.py:356: UserWarning: The `lr` argument is deprecated, use `learning_rate` instead.\n",
      "  \"The `lr` argument is deprecated, use `learning_rate` instead.\")\n"
     ]
    },
    {
     "name": "stdout",
     "output_type": "stream",
     "text": [
      "Epoch 1/20\n",
      "363/363 [==============================] - 1s 1ms/step - loss: 1.3381 - val_loss: 0.7949\n",
      "Epoch 2/20\n",
      "363/363 [==============================] - 0s 868us/step - loss: 0.7066 - val_loss: 0.6839\n",
      "Epoch 3/20\n",
      "363/363 [==============================] - ETA: 0s - loss: 0.615 - 0s 995us/step - loss: 0.6098 - val_loss: 0.6078\n",
      "Epoch 4/20\n",
      "363/363 [==============================] - 0s 838us/step - loss: 0.5483 - val_loss: 0.5547\n",
      "Epoch 5/20\n",
      "363/363 [==============================] - 0s 917us/step - loss: 0.5058 - val_loss: 0.5345\n",
      "Epoch 6/20\n",
      "363/363 [==============================] - 0s 917us/step - loss: 0.4851 - val_loss: 0.5083\n",
      "Epoch 7/20\n",
      "363/363 [==============================] - 0s 989us/step - loss: 0.4674 - val_loss: 0.4884\n",
      "Epoch 8/20\n",
      "363/363 [==============================] - 0s 849us/step - loss: 0.4607 - val_loss: 0.4792\n",
      "Epoch 9/20\n",
      "363/363 [==============================] - 0s 984us/step - loss: 0.4512 - val_loss: 0.4900\n",
      "Epoch 10/20\n",
      "363/363 [==============================] - 0s 818us/step - loss: 0.4445 - val_loss: 0.4680\n",
      "Epoch 11/20\n",
      "363/363 [==============================] - 0s 967us/step - loss: 0.4378 - val_loss: 0.4575\n",
      "Epoch 12/20\n",
      "363/363 [==============================] - 0s 829us/step - loss: 0.4334 - val_loss: 0.4532\n",
      "Epoch 13/20\n",
      "363/363 [==============================] - 0s 915us/step - loss: 0.4289 - val_loss: 0.4528\n",
      "Epoch 14/20\n",
      "363/363 [==============================] - 0s 912us/step - loss: 0.4258 - val_loss: 0.4455\n",
      "Epoch 15/20\n",
      "363/363 [==============================] - 0s 909us/step - loss: 0.4238 - val_loss: 0.4391\n",
      "Epoch 16/20\n",
      "363/363 [==============================] - 0s 1ms/step - loss: 0.4177 - val_loss: 0.4287\n",
      "Epoch 17/20\n",
      "363/363 [==============================] - 0s 843us/step - loss: 0.4188 - val_loss: 0.4256\n",
      "Epoch 18/20\n",
      "363/363 [==============================] - 0s 915us/step - loss: 0.4150 - val_loss: 0.4241\n",
      "Epoch 19/20\n",
      "363/363 [==============================] - 0s 906us/step - loss: 0.4098 - val_loss: 0.4197\n",
      "Epoch 20/20\n",
      "363/363 [==============================] - 0s 912us/step - loss: 0.4091 - val_loss: 0.4248\n",
      "162/162 [==============================] - 0s 613us/step - loss: 0.4427\n",
      "WARNING:tensorflow:6 out of the last 6 calls to <function Model.make_predict_function.<locals>.predict_function at 0x000001F0E5F477B8> triggered tf.function retracing. Tracing is expensive and the excessive number of tracings could be due to (1) creating @tf.function repeatedly in a loop, (2) passing tensors with different shapes, (3) passing Python objects instead of tensors. For (1), please define your @tf.function outside of the loop. For (2), @tf.function has experimental_relax_shapes=True option that relaxes argument shapes that can avoid unnecessary retracing. For (3), please refer to https://www.tensorflow.org/guide/function#controlling_retracing and https://www.tensorflow.org/api_docs/python/tf/function for  more details.\n"
     ]
    }
   ],
   "source": [
    "keras_reg.fit(x_train,y_train,epochs = 20,validation_data = (x_valid,y_valid),callbacks=[keras.callbacks.EarlyStopping(patience=10)])\n",
    "mse_test = keras_reg.score(x_test,y_test)\n",
    "y_pred = keras_reg.predict(x_new)"
   ]
  },
  {
   "cell_type": "markdown",
   "metadata": {},
   "source": [
    "通过使用 `scipy.stat.Reciprocal()` 方法，我们可以使用该方法获得表示倒数分布的连续随机变量。 "
   ]
  },
  {
   "cell_type": "code",
   "execution_count": 126,
   "metadata": {},
   "outputs": [],
   "source": [
    "from scipy.stats import reciprocal\n",
    "from sklearn.model_selection import RandomizedSearchCV"
   ]
  },
  {
   "cell_type": "code",
   "execution_count": 135,
   "metadata": {},
   "outputs": [],
   "source": [
    "r = reciprocal(3e-4, 3e-2)"
   ]
  },
  {
   "cell_type": "code",
   "execution_count": 141,
   "metadata": {},
   "outputs": [
    {
     "data": {
      "text/plain": [
       "0.00030000013815513737"
      ]
     },
     "execution_count": 141,
     "metadata": {},
     "output_type": "execute_result"
    }
   ],
   "source": [
    "r.ppf(0.3)"
   ]
  },
  {
   "cell_type": "code",
   "execution_count": 142,
   "metadata": {},
   "outputs": [],
   "source": [
    "?RandomizedSearchCV"
   ]
  },
  {
   "cell_type": "code",
   "execution_count": 143,
   "metadata": {},
   "outputs": [
    {
     "name": "stderr",
     "output_type": "stream",
     "text": [
      "D:\\APYPLA~1\\venv_dir\\venv1\\lib\\site-packages\\keras\\optimizer_v2\\optimizer_v2.py:356: UserWarning: The `lr` argument is deprecated, use `learning_rate` instead.\n",
      "  \"The `lr` argument is deprecated, use `learning_rate` instead.\")\n"
     ]
    },
    {
     "name": "stdout",
     "output_type": "stream",
     "text": [
      "Epoch 1/20\n",
      "242/242 [==============================] - 1s 1ms/step - loss: 3.6450 - val_loss: 2.4804\n",
      "Epoch 2/20\n",
      "242/242 [==============================] - 0s 1ms/step - loss: 1.7754 - val_loss: 1.4899\n",
      "Epoch 3/20\n",
      "242/242 [==============================] - 0s 1ms/step - loss: 1.1481 - val_loss: 1.0815\n",
      "Epoch 4/20\n",
      "242/242 [==============================] - 0s 1ms/step - loss: 0.8952 - val_loss: 0.8894\n",
      "Epoch 5/20\n",
      "242/242 [==============================] - 0s 972us/step - loss: 0.7813 - val_loss: 0.7961\n",
      "Epoch 6/20\n",
      "242/242 [==============================] - 0s 968us/step - loss: 0.7258 - val_loss: 0.7481\n",
      "Epoch 7/20\n",
      "242/242 [==============================] - 0s 1ms/step - loss: 0.6957 - val_loss: 0.7202\n",
      "Epoch 8/20\n",
      "242/242 [==============================] - 0s 1ms/step - loss: 0.6768 - val_loss: 0.7018\n",
      "Epoch 9/20\n",
      "242/242 [==============================] - 0s 972us/step - loss: 0.6628 - val_loss: 0.6881\n",
      "Epoch 10/20\n",
      "242/242 [==============================] - 0s 1ms/step - loss: 0.6513 - val_loss: 0.6765\n",
      "Epoch 11/20\n",
      "242/242 [==============================] - 0s 989us/step - loss: 0.6408 - val_loss: 0.6659\n",
      "Epoch 12/20\n",
      "242/242 [==============================] - 0s 987us/step - loss: 0.6312 - val_loss: 0.6564\n",
      "Epoch 13/20\n",
      "242/242 [==============================] - 0s 959us/step - loss: 0.6220 - val_loss: 0.6474\n",
      "Epoch 14/20\n",
      "242/242 [==============================] - 0s 973us/step - loss: 0.6132 - val_loss: 0.6389\n",
      "Epoch 15/20\n",
      "242/242 [==============================] - 0s 960us/step - loss: 0.6048 - val_loss: 0.6307\n",
      "Epoch 16/20\n",
      "242/242 [==============================] - 0s 1ms/step - loss: 0.5967 - val_loss: 0.6227\n",
      "Epoch 17/20\n",
      "242/242 [==============================] - 0s 997us/step - loss: 0.5889 - val_loss: 0.6152\n",
      "Epoch 18/20\n",
      "242/242 [==============================] - 0s 988us/step - loss: 0.5815 - val_loss: 0.6082\n",
      "Epoch 19/20\n",
      "242/242 [==============================] - 0s 958us/step - loss: 0.5744 - val_loss: 0.6012\n",
      "Epoch 20/20\n",
      "242/242 [==============================] - 0s 977us/step - loss: 0.5675 - val_loss: 0.5946\n",
      "121/121 [==============================] - 0s 667us/step - loss: 0.6023\n",
      "Epoch 1/20\n",
      "242/242 [==============================] - 1s 2ms/step - loss: 3.3677 - val_loss: 2.2308\n",
      "Epoch 2/20\n",
      "242/242 [==============================] - 0s 1ms/step - loss: 1.5806 - val_loss: 1.3813\n",
      "Epoch 3/20\n",
      "242/242 [==============================] - 0s 979us/step - loss: 1.0381 - val_loss: 1.0256\n",
      "Epoch 4/20\n",
      "242/242 [==============================] - 0s 1ms/step - loss: 0.8390 - val_loss: 0.8691\n",
      "Epoch 5/20\n",
      "242/242 [==============================] - 0s 1ms/step - loss: 0.7596 - val_loss: 0.7922\n",
      "Epoch 6/20\n",
      "242/242 [==============================] - 0s 973us/step - loss: 0.7213 - val_loss: 0.7545\n",
      "Epoch 7/20\n",
      "242/242 [==============================] - 0s 974us/step - loss: 0.6984 - val_loss: 0.7290\n",
      "Epoch 8/20\n",
      "242/242 [==============================] - 0s 962us/step - loss: 0.6819 - val_loss: 0.7129\n",
      "Epoch 9/20\n",
      "242/242 [==============================] - 0s 1ms/step - loss: 0.6679 - val_loss: 0.6983\n",
      "Epoch 10/20\n",
      "242/242 [==============================] - 0s 1ms/step - loss: 0.6554 - val_loss: 0.6853\n",
      "Epoch 11/20\n",
      "242/242 [==============================] - 0s 1ms/step - loss: 0.6439 - val_loss: 0.6750\n",
      "Epoch 12/20\n",
      "242/242 [==============================] - 0s 1ms/step - loss: 0.6331 - val_loss: 0.6630\n",
      "Epoch 13/20\n",
      "242/242 [==============================] - ETA: 0s - loss: 0.626 - 0s 1ms/step - loss: 0.6231 - val_loss: 0.6537\n",
      "Epoch 14/20\n",
      "242/242 [==============================] - 0s 1ms/step - loss: 0.6136 - val_loss: 0.6444\n",
      "Epoch 15/20\n",
      "242/242 [==============================] - 0s 1ms/step - loss: 0.6048 - val_loss: 0.6364\n",
      "Epoch 16/20\n",
      "242/242 [==============================] - 0s 1ms/step - loss: 0.5964 - val_loss: 0.6289\n",
      "Epoch 17/20\n",
      "242/242 [==============================] - 0s 1ms/step - loss: 0.5886 - val_loss: 0.6212\n",
      "Epoch 18/20\n",
      "242/242 [==============================] - 0s 956us/step - loss: 0.5811 - val_loss: 0.6141\n",
      "Epoch 19/20\n",
      "242/242 [==============================] - 0s 997us/step - loss: 0.5741 - val_loss: 0.6071\n",
      "Epoch 20/20\n",
      "242/242 [==============================] - 0s 968us/step - loss: 0.5675 - val_loss: 0.6007\n",
      "121/121 [==============================] - 0s 864us/step - loss: 0.6006\n",
      "Epoch 1/20\n",
      "242/242 [==============================] - 1s 1ms/step - loss: 3.7623 - val_loss: 2.1627\n",
      "Epoch 2/20\n",
      "242/242 [==============================] - 0s 1ms/step - loss: 1.6427 - val_loss: 1.3390\n",
      "Epoch 3/20\n",
      "242/242 [==============================] - 0s 1ms/step - loss: 1.1018 - val_loss: 1.0362\n",
      "Epoch 4/20\n",
      "242/242 [==============================] - 0s 1ms/step - loss: 0.9152 - val_loss: 0.8885\n",
      "Epoch 5/20\n",
      "242/242 [==============================] - 0s 1ms/step - loss: 0.8338 - val_loss: 0.8146\n",
      "Epoch 6/20\n",
      "242/242 [==============================] - 0s 1ms/step - loss: 0.7917 - val_loss: 0.7762\n",
      "Epoch 7/20\n",
      "242/242 [==============================] - 0s 1ms/step - loss: 0.7655 - val_loss: 0.7518\n",
      "Epoch 8/20\n",
      "242/242 [==============================] - 0s 1ms/step - loss: 0.7462 - val_loss: 0.7335\n",
      "Epoch 9/20\n",
      "242/242 [==============================] - 0s 1ms/step - loss: 0.7302 - val_loss: 0.7184\n",
      "Epoch 10/20\n",
      "242/242 [==============================] - 0s 1ms/step - loss: 0.7160 - val_loss: 0.7049\n",
      "Epoch 11/20\n",
      "242/242 [==============================] - 0s 1ms/step - loss: 0.7028 - val_loss: 0.6925\n",
      "Epoch 12/20\n",
      "242/242 [==============================] - 0s 1ms/step - loss: 0.6906 - val_loss: 0.6807\n",
      "Epoch 13/20\n",
      "242/242 [==============================] - 0s 1ms/step - loss: 0.6790 - val_loss: 0.6696\n",
      "Epoch 14/20\n",
      "242/242 [==============================] - 0s 1ms/step - loss: 0.6679 - val_loss: 0.6593\n",
      "Epoch 15/20\n",
      "242/242 [==============================] - 0s 1ms/step - loss: 0.6575 - val_loss: 0.6492\n",
      "Epoch 16/20\n",
      "242/242 [==============================] - 0s 982us/step - loss: 0.6476 - val_loss: 0.6402\n",
      "Epoch 17/20\n",
      "242/242 [==============================] - 0s 1ms/step - loss: 0.6383 - val_loss: 0.6317\n",
      "Epoch 18/20\n",
      "242/242 [==============================] - 0s 977us/step - loss: 0.6294 - val_loss: 0.6234\n",
      "Epoch 19/20\n",
      "242/242 [==============================] - 0s 1ms/step - loss: 0.6210 - val_loss: 0.6158\n",
      "Epoch 20/20\n",
      "242/242 [==============================] - 0s 1ms/step - loss: 0.6130 - val_loss: 0.6081\n",
      "121/121 [==============================] - 0s 651us/step - loss: 0.6365\n",
      "Epoch 1/20\n",
      "242/242 [==============================] - 1s 1ms/step - loss: 1.8030 - val_loss: 0.7040\n",
      "Epoch 2/20\n",
      "242/242 [==============================] - 0s 1ms/step - loss: 0.9740 - val_loss: 0.5698\n",
      "Epoch 3/20\n",
      "242/242 [==============================] - 0s 1ms/step - loss: 0.5967 - val_loss: 0.5777\n",
      "Epoch 4/20\n",
      "242/242 [==============================] - 0s 926us/step - loss: 47.5858 - val_loss: 9.3495\n",
      "Epoch 5/20\n",
      "242/242 [==============================] - 0s 1ms/step - loss: 16.3448 - val_loss: 1.0348\n",
      "Epoch 6/20\n",
      "242/242 [==============================] - 0s 931us/step - loss: 4.3736 - val_loss: 1.8398\n",
      "Epoch 7/20\n",
      "242/242 [==============================] - 0s 941us/step - loss: 123.2655 - val_loss: 5.1869\n",
      "Epoch 8/20\n",
      "242/242 [==============================] - 0s 1ms/step - loss: 356.6235 - val_loss: 9.9096\n",
      "Epoch 9/20\n",
      "242/242 [==============================] - 0s 919us/step - loss: 45.0576 - val_loss: 25.0403\n",
      "Epoch 10/20\n",
      "242/242 [==============================] - 0s 1ms/step - loss: 18402.7715 - val_loss: 1714.8007\n",
      "Epoch 11/20\n",
      "242/242 [==============================] - 0s 918us/step - loss: 51850.4102 - val_loss: 4673.7715\n",
      "Epoch 12/20\n",
      "242/242 [==============================] - 0s 1ms/step - loss: 1972.1890 - val_loss: 187.1998\n",
      "121/121 [==============================] - 0s 715us/step - loss: 72.4910\n",
      "Epoch 1/20\n",
      "242/242 [==============================] - 1s 1ms/step - loss: 4.9188 - val_loss: 3.5584\n",
      "Epoch 2/20\n",
      "242/242 [==============================] - 0s 1ms/step - loss: 198.3089 - val_loss: 8.8363\n",
      "Epoch 3/20\n",
      "242/242 [==============================] - 0s 953us/step - loss: 5771.7139 - val_loss: 143.1508\n",
      "Epoch 4/20\n",
      "242/242 [==============================] - 0s 1ms/step - loss: 165.6041 - val_loss: 83.9548\n",
      "Epoch 5/20\n",
      "242/242 [==============================] - 0s 941us/step - loss: 466.3333 - val_loss: 226.5569\n",
      "Epoch 6/20\n"
     ]
    },
    {
     "name": "stdout",
     "output_type": "stream",
     "text": [
      "242/242 [==============================] - 0s 1ms/step - loss: 137880.4219 - val_loss: 716.5468\n",
      "Epoch 7/20\n",
      "242/242 [==============================] - 0s 943us/step - loss: 4016.1594 - val_loss: 2291.7817\n",
      "Epoch 8/20\n",
      "242/242 [==============================] - 0s 999us/step - loss: 10929.1885 - val_loss: 5497.6763\n",
      "Epoch 9/20\n",
      "242/242 [==============================] - 0s 1ms/step - loss: 416740.5938 - val_loss: 17367.1816\n",
      "Epoch 10/20\n",
      "242/242 [==============================] - 0s 1ms/step - loss: 480356.5000 - val_loss: 37254.3945\n",
      "Epoch 11/20\n",
      "242/242 [==============================] - 0s 914us/step - loss: 151467.0469 - val_loss: 88157.8203\n",
      "121/121 [==============================] - 0s 621us/step - loss: 25647.0215\n",
      "Epoch 1/20\n",
      "242/242 [==============================] - 1s 1ms/step - loss: 0.9313 - val_loss: 0.5698\n",
      "Epoch 2/20\n",
      "242/242 [==============================] - 0s 1ms/step - loss: 0.5250 - val_loss: 0.5351\n",
      "Epoch 3/20\n",
      "242/242 [==============================] - 0s 1ms/step - loss: 0.5128 - val_loss: 0.5949\n",
      "Epoch 4/20\n",
      "242/242 [==============================] - 0s 956us/step - loss: 0.5090 - val_loss: 0.5848\n",
      "Epoch 5/20\n",
      "242/242 [==============================] - 0s 981us/step - loss: 0.5069 - val_loss: 0.5383\n",
      "Epoch 6/20\n",
      "242/242 [==============================] - 0s 1ms/step - loss: 0.5036 - val_loss: 0.5870\n",
      "Epoch 7/20\n",
      "242/242 [==============================] - 0s 995us/step - loss: 0.5037 - val_loss: 0.5683\n",
      "Epoch 8/20\n",
      "242/242 [==============================] - 0s 938us/step - loss: 0.5023 - val_loss: 0.5727\n",
      "Epoch 9/20\n",
      "242/242 [==============================] - 0s 1ms/step - loss: 0.5023 - val_loss: 0.5964\n",
      "Epoch 10/20\n",
      "242/242 [==============================] - 0s 955us/step - loss: 0.5014 - val_loss: 0.5736\n",
      "Epoch 11/20\n",
      "242/242 [==============================] - 0s 939us/step - loss: 0.5015 - val_loss: 0.5696\n",
      "Epoch 12/20\n",
      "242/242 [==============================] - 0s 952us/step - loss: 0.5011 - val_loss: 0.6064\n",
      "121/121 [==============================] - 0s 604us/step - loss: 6.5821\n",
      "Epoch 1/20\n",
      "242/242 [==============================] - 1s 2ms/step - loss: 2.6383 - val_loss: 1.3499\n",
      "Epoch 2/20\n",
      "242/242 [==============================] - 0s 1ms/step - loss: 0.9595 - val_loss: 0.8503\n",
      "Epoch 3/20\n",
      "242/242 [==============================] - 0s 1ms/step - loss: 0.7560 - val_loss: 0.7563\n",
      "Epoch 4/20\n",
      "242/242 [==============================] - 0s 1ms/step - loss: 0.6921 - val_loss: 0.6994\n",
      "Epoch 5/20\n",
      "242/242 [==============================] - 0s 1ms/step - loss: 0.6465 - val_loss: 0.6563\n",
      "Epoch 6/20\n",
      "242/242 [==============================] - 0s 977us/step - loss: 0.6100 - val_loss: 0.6251\n",
      "Epoch 7/20\n",
      "242/242 [==============================] - 0s 1ms/step - loss: 0.5806 - val_loss: 0.5972\n",
      "Epoch 8/20\n",
      "242/242 [==============================] - 0s 1ms/step - loss: 0.5562 - val_loss: 0.5772\n",
      "Epoch 9/20\n",
      "242/242 [==============================] - 0s 959us/step - loss: 0.5362 - val_loss: 0.5571\n",
      "Epoch 10/20\n",
      "242/242 [==============================] - 0s 968us/step - loss: 0.5194 - val_loss: 0.5418\n",
      "Epoch 11/20\n",
      "242/242 [==============================] - 0s 957us/step - loss: 0.5051 - val_loss: 0.5303\n",
      "Epoch 12/20\n",
      "242/242 [==============================] - 0s 984us/step - loss: 0.4929 - val_loss: 0.5199\n",
      "Epoch 13/20\n",
      "242/242 [==============================] - 0s 974us/step - loss: 0.4823 - val_loss: 0.5122\n",
      "Epoch 14/20\n",
      "242/242 [==============================] - 0s 1ms/step - loss: 0.4731 - val_loss: 0.5047\n",
      "Epoch 15/20\n",
      "242/242 [==============================] - 0s 972us/step - loss: 0.4655 - val_loss: 0.4962\n",
      "Epoch 16/20\n",
      "242/242 [==============================] - 0s 1ms/step - loss: 0.4583 - val_loss: 0.4903\n",
      "Epoch 17/20\n",
      "242/242 [==============================] - 0s 979us/step - loss: 0.4522 - val_loss: 0.4850\n",
      "Epoch 18/20\n",
      "242/242 [==============================] - ETA: 0s - loss: 0.445 - 0s 1ms/step - loss: 0.4466 - val_loss: 0.4815\n",
      "Epoch 19/20\n",
      "242/242 [==============================] - 0s 1ms/step - loss: 0.4416 - val_loss: 0.4777\n",
      "Epoch 20/20\n",
      "242/242 [==============================] - 0s 1ms/step - loss: 0.4369 - val_loss: 0.4716\n",
      "121/121 [==============================] - 0s 710us/step - loss: 0.4841\n",
      "Epoch 1/20\n",
      "242/242 [==============================] - 1s 2ms/step - loss: 2.1938 - val_loss: 0.9545\n",
      "Epoch 2/20\n",
      "242/242 [==============================] - 0s 1ms/step - loss: 0.8635 - val_loss: 0.8430\n",
      "Epoch 3/20\n",
      "242/242 [==============================] - 0s 1ms/step - loss: 0.7841 - val_loss: 0.7929\n",
      "Epoch 4/20\n",
      "242/242 [==============================] - 0s 963us/step - loss: 0.7395 - val_loss: 0.7536\n",
      "Epoch 5/20\n",
      "242/242 [==============================] - 0s 1ms/step - loss: 0.7068 - val_loss: 0.7256\n",
      "Epoch 6/20\n",
      "242/242 [==============================] - 0s 1ms/step - loss: 0.6789 - val_loss: 0.6996\n",
      "Epoch 7/20\n",
      "242/242 [==============================] - 0s 1ms/step - loss: 0.6557 - val_loss: 0.6768\n",
      "Epoch 8/20\n",
      "242/242 [==============================] - 0s 1ms/step - loss: 0.6344 - val_loss: 0.6565\n",
      "Epoch 9/20\n",
      "242/242 [==============================] - 0s 1ms/step - loss: 0.6170 - val_loss: 0.6396\n",
      "Epoch 10/20\n",
      "242/242 [==============================] - 0s 978us/step - loss: 0.5995 - val_loss: 0.6237\n",
      "Epoch 11/20\n",
      "242/242 [==============================] - 0s 1ms/step - loss: 0.5857 - val_loss: 0.6093\n",
      "Epoch 12/20\n",
      "242/242 [==============================] - 0s 1ms/step - loss: 0.5714 - val_loss: 0.5986\n",
      "Epoch 13/20\n",
      "242/242 [==============================] - 0s 1ms/step - loss: 0.5597 - val_loss: 0.5852\n",
      "Epoch 14/20\n",
      "242/242 [==============================] - 0s 997us/step - loss: 0.5484 - val_loss: 0.5759\n",
      "Epoch 15/20\n",
      "242/242 [==============================] - 0s 1000us/step - loss: 0.5385 - val_loss: 0.5651\n",
      "Epoch 16/20\n",
      "242/242 [==============================] - 0s 983us/step - loss: 0.5290 - val_loss: 0.5557\n",
      "Epoch 17/20\n",
      "242/242 [==============================] - 0s 1ms/step - loss: 0.5200 - val_loss: 0.5475\n",
      "Epoch 18/20\n",
      "242/242 [==============================] - 0s 1ms/step - loss: 0.5116 - val_loss: 0.5388\n",
      "Epoch 19/20\n",
      "242/242 [==============================] - 0s 1ms/step - loss: 0.5055 - val_loss: 0.5332\n",
      "Epoch 20/20\n",
      "242/242 [==============================] - 0s 973us/step - loss: 0.4985 - val_loss: 0.5280\n",
      "121/121 [==============================] - 0s 751us/step - loss: 0.5215\n",
      "Epoch 1/20\n",
      "242/242 [==============================] - 1s 1ms/step - loss: 2.7307 - val_loss: 1.1709\n",
      "Epoch 2/20\n",
      "242/242 [==============================] - 0s 1ms/step - loss: 0.8898 - val_loss: 0.7609\n",
      "Epoch 3/20\n",
      "242/242 [==============================] - 0s 1ms/step - loss: 0.7192 - val_loss: 0.6786\n",
      "Epoch 4/20\n",
      "242/242 [==============================] - 0s 1ms/step - loss: 0.6615 - val_loss: 0.6416\n",
      "Epoch 5/20\n",
      "242/242 [==============================] - 0s 938us/step - loss: 0.6276 - val_loss: 0.6249\n",
      "Epoch 6/20\n",
      "242/242 [==============================] - 0s 1ms/step - loss: 0.6044 - val_loss: 0.6011\n",
      "Epoch 7/20\n",
      "242/242 [==============================] - 0s 1ms/step - loss: 0.5872 - val_loss: 0.5921\n",
      "Epoch 8/20\n",
      "242/242 [==============================] - 0s 995us/step - loss: 0.5737 - val_loss: 0.5876\n",
      "Epoch 9/20\n",
      "242/242 [==============================] - 0s 992us/step - loss: 0.5629 - val_loss: 0.5876\n",
      "Epoch 10/20\n",
      "242/242 [==============================] - 0s 989us/step - loss: 0.5546 - val_loss: 0.5709\n",
      "Epoch 11/20\n",
      "242/242 [==============================] - 0s 999us/step - loss: 0.5469 - val_loss: 0.5602\n",
      "Epoch 12/20\n",
      "242/242 [==============================] - 0s 1ms/step - loss: 0.5406 - val_loss: 0.5615\n",
      "Epoch 13/20\n",
      "242/242 [==============================] - 0s 989us/step - loss: 0.5348 - val_loss: 0.5608\n",
      "Epoch 14/20\n",
      "242/242 [==============================] - 0s 996us/step - loss: 0.5294 - val_loss: 0.5559\n",
      "Epoch 15/20\n",
      "242/242 [==============================] - 0s 1ms/step - loss: 0.5248 - val_loss: 0.5507\n",
      "Epoch 16/20\n",
      "242/242 [==============================] - 0s 970us/step - loss: 0.5201 - val_loss: 0.5574\n",
      "Epoch 17/20\n",
      "242/242 [==============================] - 0s 989us/step - loss: 0.5158 - val_loss: 0.5550\n",
      "Epoch 18/20\n",
      "242/242 [==============================] - 0s 988us/step - loss: 0.5118 - val_loss: 0.5491\n",
      "Epoch 19/20\n",
      "242/242 [==============================] - 0s 1ms/step - loss: 0.5080 - val_loss: 0.5500\n",
      "Epoch 20/20\n"
     ]
    },
    {
     "name": "stdout",
     "output_type": "stream",
     "text": [
      "242/242 [==============================] - 0s 1ms/step - loss: 0.5044 - val_loss: 0.5303\n",
      "121/121 [==============================] - 0s 601us/step - loss: 1.1851\n",
      "Epoch 1/20\n",
      "242/242 [==============================] - 1s 1ms/step - loss: 2.7712 - val_loss: 1.3397\n",
      "Epoch 2/20\n",
      "242/242 [==============================] - 0s 1ms/step - loss: 0.9259 - val_loss: 0.7887\n",
      "Epoch 3/20\n",
      "242/242 [==============================] - 0s 967us/step - loss: 0.6746 - val_loss: 0.6878\n",
      "Epoch 4/20\n",
      "242/242 [==============================] - 0s 966us/step - loss: 0.6171 - val_loss: 0.6482\n",
      "Epoch 5/20\n",
      "242/242 [==============================] - 0s 979us/step - loss: 0.5894 - val_loss: 0.6233\n",
      "Epoch 6/20\n",
      "242/242 [==============================] - 0s 1ms/step - loss: 0.5702 - val_loss: 0.6070\n",
      "Epoch 7/20\n",
      "242/242 [==============================] - 0s 1ms/step - loss: 0.5552 - val_loss: 0.5941\n",
      "Epoch 8/20\n",
      "242/242 [==============================] - 0s 1ms/step - loss: 0.5439 - val_loss: 0.5831\n",
      "Epoch 9/20\n",
      "242/242 [==============================] - 0s 1ms/step - loss: 0.5345 - val_loss: 0.5758\n",
      "Epoch 10/20\n",
      "242/242 [==============================] - 0s 1ms/step - loss: 0.5274 - val_loss: 0.5674\n",
      "Epoch 11/20\n",
      "242/242 [==============================] - 0s 1ms/step - loss: 0.5219 - val_loss: 0.5694\n",
      "Epoch 12/20\n",
      "242/242 [==============================] - 0s 1ms/step - loss: 0.5172 - val_loss: 0.5612\n",
      "Epoch 13/20\n",
      "242/242 [==============================] - 0s 2ms/step - loss: 0.5140 - val_loss: 0.5605\n",
      "Epoch 14/20\n",
      "242/242 [==============================] - 0s 2ms/step - loss: 0.5113 - val_loss: 0.5618\n",
      "Epoch 15/20\n",
      "242/242 [==============================] - 0s 930us/step - loss: 0.5090 - val_loss: 0.5646\n",
      "Epoch 16/20\n",
      "242/242 [==============================] - 0s 1ms/step - loss: 0.5069 - val_loss: 0.5634\n",
      "Epoch 17/20\n",
      "242/242 [==============================] - 0s 929us/step - loss: 0.5058 - val_loss: 0.5569\n",
      "Epoch 18/20\n",
      "242/242 [==============================] - 0s 916us/step - loss: 0.5043 - val_loss: 0.5603\n",
      "Epoch 19/20\n",
      "242/242 [==============================] - 0s 917us/step - loss: 0.5039 - val_loss: 0.5608\n",
      "Epoch 20/20\n",
      "242/242 [==============================] - 0s 958us/step - loss: 0.5028 - val_loss: 0.5666\n",
      "121/121 [==============================] - 0s 631us/step - loss: 0.5566\n",
      "Epoch 1/20\n",
      "242/242 [==============================] - 1s 2ms/step - loss: 3.5496 - val_loss: 1.4323\n",
      "Epoch 2/20\n",
      "242/242 [==============================] - 0s 1ms/step - loss: 0.9862 - val_loss: 0.8424\n",
      "Epoch 3/20\n",
      "242/242 [==============================] - 0s 1ms/step - loss: 0.7252 - val_loss: 0.7274\n",
      "Epoch 4/20\n",
      "242/242 [==============================] - 0s 1ms/step - loss: 0.6658 - val_loss: 0.6810\n",
      "Epoch 5/20\n",
      "242/242 [==============================] - 0s 967us/step - loss: 0.6352 - val_loss: 0.6527\n",
      "Epoch 6/20\n",
      "242/242 [==============================] - 0s 997us/step - loss: 0.6142 - val_loss: 0.6328\n",
      "Epoch 7/20\n",
      "242/242 [==============================] - 0s 962us/step - loss: 0.5966 - val_loss: 0.6174\n",
      "Epoch 8/20\n",
      "242/242 [==============================] - 0s 909us/step - loss: 0.5830 - val_loss: 0.6050\n",
      "Epoch 9/20\n",
      "242/242 [==============================] - 0s 958us/step - loss: 0.5716 - val_loss: 0.5947\n",
      "Epoch 10/20\n",
      "242/242 [==============================] - 0s 921us/step - loss: 0.5624 - val_loss: 0.5893\n",
      "Epoch 11/20\n",
      "242/242 [==============================] - 0s 915us/step - loss: 0.5547 - val_loss: 0.5819\n",
      "Epoch 12/20\n",
      "242/242 [==============================] - 0s 939us/step - loss: 0.5484 - val_loss: 0.5765\n",
      "Epoch 13/20\n",
      "242/242 [==============================] - 0s 911us/step - loss: 0.5432 - val_loss: 0.5751\n",
      "Epoch 14/20\n",
      "242/242 [==============================] - 0s 963us/step - loss: 0.5389 - val_loss: 0.5745\n",
      "Epoch 15/20\n",
      "242/242 [==============================] - 0s 962us/step - loss: 0.5352 - val_loss: 0.5688\n",
      "Epoch 16/20\n",
      "242/242 [==============================] - 0s 918us/step - loss: 0.5326 - val_loss: 0.5686\n",
      "Epoch 17/20\n",
      "242/242 [==============================] - 0s 1ms/step - loss: 0.5295 - val_loss: 0.5634\n",
      "Epoch 18/20\n",
      "242/242 [==============================] - 0s 951us/step - loss: 0.5282 - val_loss: 0.5664\n",
      "Epoch 19/20\n",
      "242/242 [==============================] - 0s 934us/step - loss: 0.5256 - val_loss: 0.5646\n",
      "Epoch 20/20\n",
      "242/242 [==============================] - 0s 938us/step - loss: 0.5241 - val_loss: 0.5636\n",
      "121/121 [==============================] - 0s 598us/step - loss: 0.5390\n",
      "Epoch 1/20\n",
      "242/242 [==============================] - 1s 1ms/step - loss: 3.4393 - val_loss: 1.4432\n",
      "Epoch 2/20\n",
      "242/242 [==============================] - 0s 1ms/step - loss: 0.9853 - val_loss: 0.7362\n",
      "Epoch 3/20\n",
      "242/242 [==============================] - 0s 1ms/step - loss: 0.6779 - val_loss: 0.6379\n",
      "Epoch 4/20\n",
      "242/242 [==============================] - 0s 989us/step - loss: 0.6215 - val_loss: 0.6074\n",
      "Epoch 5/20\n",
      "242/242 [==============================] - 0s 922us/step - loss: 0.5985 - val_loss: 0.5889\n",
      "Epoch 6/20\n",
      "242/242 [==============================] - 0s 908us/step - loss: 0.5829 - val_loss: 0.5772\n",
      "Epoch 7/20\n",
      "242/242 [==============================] - 0s 979us/step - loss: 0.5708 - val_loss: 0.5664\n",
      "Epoch 8/20\n",
      "242/242 [==============================] - 0s 964us/step - loss: 0.5608 - val_loss: 0.5629\n",
      "Epoch 9/20\n",
      "242/242 [==============================] - 0s 953us/step - loss: 0.5530 - val_loss: 0.5562\n",
      "Epoch 10/20\n",
      "242/242 [==============================] - 0s 953us/step - loss: 0.5467 - val_loss: 0.5544\n",
      "Epoch 11/20\n",
      "242/242 [==============================] - 0s 968us/step - loss: 0.5415 - val_loss: 0.5501\n",
      "Epoch 12/20\n",
      "242/242 [==============================] - 0s 900us/step - loss: 0.5372 - val_loss: 0.5501\n",
      "Epoch 13/20\n",
      "242/242 [==============================] - 0s 935us/step - loss: 0.5336 - val_loss: 0.5491\n",
      "Epoch 14/20\n",
      "242/242 [==============================] - 0s 1ms/step - loss: 0.5306 - val_loss: 0.5463\n",
      "Epoch 15/20\n",
      "242/242 [==============================] - 0s 939us/step - loss: 0.5281 - val_loss: 0.5471\n",
      "Epoch 16/20\n",
      "242/242 [==============================] - 0s 975us/step - loss: 0.5259 - val_loss: 0.5539\n",
      "Epoch 17/20\n",
      "242/242 [==============================] - 0s 920us/step - loss: 0.5241 - val_loss: 0.5544\n",
      "Epoch 18/20\n",
      "242/242 [==============================] - 0s 928us/step - loss: 0.5226 - val_loss: 0.5510\n",
      "Epoch 19/20\n",
      "242/242 [==============================] - 0s 894us/step - loss: 0.5212 - val_loss: 0.5533\n",
      "Epoch 20/20\n",
      "242/242 [==============================] - 0s 928us/step - loss: 0.5198 - val_loss: 0.5452\n",
      "121/121 [==============================] - 0s 675us/step - loss: 1.1937\n",
      "Epoch 1/20\n",
      "242/242 [==============================] - 1s 1ms/step - loss: 2.3911 - val_loss: 0.9673\n",
      "Epoch 2/20\n",
      "242/242 [==============================] - 0s 991us/step - loss: 0.7570 - val_loss: 0.7412\n",
      "Epoch 3/20\n",
      "242/242 [==============================] - 0s 1ms/step - loss: 0.6477 - val_loss: 0.6661\n",
      "Epoch 4/20\n",
      "242/242 [==============================] - 0s 930us/step - loss: 0.5991 - val_loss: 0.6231\n",
      "Epoch 5/20\n",
      "242/242 [==============================] - 0s 919us/step - loss: 0.5645 - val_loss: 0.5931\n",
      "Epoch 6/20\n",
      "242/242 [==============================] - 0s 922us/step - loss: 0.5445 - val_loss: 0.5802\n",
      "Epoch 7/20\n",
      "242/242 [==============================] - 0s 892us/step - loss: 0.5302 - val_loss: 0.5691\n",
      "Epoch 8/20\n",
      "242/242 [==============================] - 0s 979us/step - loss: 0.5198 - val_loss: 0.5644\n",
      "Epoch 9/20\n",
      "242/242 [==============================] - 0s 922us/step - loss: 0.5133 - val_loss: 0.5620\n",
      "Epoch 10/20\n",
      "242/242 [==============================] - 0s 926us/step - loss: 0.5109 - val_loss: 0.5614\n",
      "Epoch 11/20\n",
      "242/242 [==============================] - 0s 957us/step - loss: 0.5069 - val_loss: 0.5653\n",
      "Epoch 12/20\n",
      "242/242 [==============================] - 0s 921us/step - loss: 0.5054 - val_loss: 0.5601\n",
      "Epoch 13/20\n",
      "242/242 [==============================] - 0s 945us/step - loss: 0.5036 - val_loss: 0.5542\n",
      "Epoch 14/20\n",
      "242/242 [==============================] - 0s 966us/step - loss: 0.5025 - val_loss: 0.5628\n",
      "Epoch 15/20\n",
      "242/242 [==============================] - 0s 943us/step - loss: 0.5026 - val_loss: 0.5630\n",
      "Epoch 16/20\n",
      "242/242 [==============================] - 0s 1ms/step - loss: 0.5019 - val_loss: 0.5614\n",
      "Epoch 17/20\n"
     ]
    },
    {
     "name": "stdout",
     "output_type": "stream",
     "text": [
      "242/242 [==============================] - 0s 926us/step - loss: 0.5014 - val_loss: 0.5624\n",
      "Epoch 18/20\n",
      "242/242 [==============================] - 0s 999us/step - loss: 0.5016 - val_loss: 0.5676\n",
      "Epoch 19/20\n",
      "242/242 [==============================] - 0s 1ms/step - loss: 0.5015 - val_loss: 0.5715\n",
      "Epoch 20/20\n",
      "242/242 [==============================] - 0s 891us/step - loss: 0.5004 - val_loss: 0.5736\n",
      "121/121 [==============================] - 0s 628us/step - loss: 0.5538\n",
      "Epoch 1/20\n",
      "242/242 [==============================] - 1s 1ms/step - loss: 1.8296 - val_loss: 0.6879\n",
      "Epoch 2/20\n",
      "242/242 [==============================] - 0s 1ms/step - loss: 0.5773 - val_loss: 0.5740\n",
      "Epoch 3/20\n",
      "242/242 [==============================] - 0s 1ms/step - loss: 0.5379 - val_loss: 0.5581\n",
      "Epoch 4/20\n",
      "242/242 [==============================] - 0s 895us/step - loss: 0.5308 - val_loss: 0.5565\n",
      "Epoch 5/20\n",
      "242/242 [==============================] - 0s 910us/step - loss: 0.5264 - val_loss: 0.5619\n",
      "Epoch 6/20\n",
      "242/242 [==============================] - 0s 981us/step - loss: 0.5223 - val_loss: 0.5598\n",
      "Epoch 7/20\n",
      "242/242 [==============================] - 0s 1ms/step - loss: 0.5213 - val_loss: 0.5592\n",
      "Epoch 8/20\n",
      "242/242 [==============================] - 0s 1ms/step - loss: 0.5188 - val_loss: 0.5630\n",
      "Epoch 9/20\n",
      "242/242 [==============================] - 0s 1ms/step - loss: 0.5173 - val_loss: 0.5533\n",
      "Epoch 10/20\n",
      "242/242 [==============================] - 0s 963us/step - loss: 0.5161 - val_loss: 0.5509\n",
      "Epoch 11/20\n",
      "242/242 [==============================] - 0s 891us/step - loss: 0.5159 - val_loss: 0.5731\n",
      "Epoch 12/20\n",
      "242/242 [==============================] - 0s 996us/step - loss: 0.5155 - val_loss: 0.5599\n",
      "Epoch 13/20\n",
      "242/242 [==============================] - 0s 994us/step - loss: 0.5157 - val_loss: 0.5562\n",
      "Epoch 14/20\n",
      "242/242 [==============================] - 0s 894us/step - loss: 0.5150 - val_loss: 0.5511\n",
      "Epoch 15/20\n",
      "242/242 [==============================] - 0s 995us/step - loss: 0.5150 - val_loss: 0.5651\n",
      "Epoch 16/20\n",
      "242/242 [==============================] - 0s 993us/step - loss: 0.5153 - val_loss: 0.5622\n",
      "Epoch 17/20\n",
      "242/242 [==============================] - 0s 1ms/step - loss: 0.5142 - val_loss: 0.5574\n",
      "Epoch 18/20\n",
      "242/242 [==============================] - 0s 1ms/step - loss: 0.5151 - val_loss: 0.5624\n",
      "Epoch 19/20\n",
      "242/242 [==============================] - 0s 935us/step - loss: 0.5140 - val_loss: 0.5597\n",
      "Epoch 20/20\n",
      "242/242 [==============================] - 0s 1ms/step - loss: 0.5144 - val_loss: 0.5516\n",
      "121/121 [==============================] - 0s 584us/step - loss: 0.5293\n",
      "Epoch 1/20\n",
      "242/242 [==============================] - 1s 1ms/step - loss: 2.4069 - val_loss: 0.8106\n",
      "Epoch 2/20\n",
      "242/242 [==============================] - 0s 1ms/step - loss: 0.6768 - val_loss: 0.6257\n",
      "Epoch 3/20\n",
      "242/242 [==============================] - 0s 900us/step - loss: 0.6016 - val_loss: 0.5947\n",
      "Epoch 4/20\n",
      "242/242 [==============================] - 0s 946us/step - loss: 0.5755 - val_loss: 0.5743\n",
      "Epoch 5/20\n",
      "242/242 [==============================] - 0s 1ms/step - loss: 0.5579 - val_loss: 0.5626\n",
      "Epoch 6/20\n",
      "242/242 [==============================] - 0s 934us/step - loss: 0.5456 - val_loss: 0.5617\n",
      "Epoch 7/20\n",
      "242/242 [==============================] - 0s 913us/step - loss: 0.5361 - val_loss: 0.5650\n",
      "Epoch 8/20\n",
      "242/242 [==============================] - 0s 916us/step - loss: 0.5298 - val_loss: 0.5565\n",
      "Epoch 9/20\n",
      "242/242 [==============================] - 0s 920us/step - loss: 0.5246 - val_loss: 0.5508\n",
      "Epoch 10/20\n",
      "242/242 [==============================] - 0s 910us/step - loss: 0.5208 - val_loss: 0.5676\n",
      "Epoch 11/20\n",
      "242/242 [==============================] - 0s 936us/step - loss: 0.5179 - val_loss: 0.5531\n",
      "Epoch 12/20\n",
      "242/242 [==============================] - 0s 955us/step - loss: 0.5153 - val_loss: 0.5549\n",
      "Epoch 13/20\n",
      "242/242 [==============================] - 0s 998us/step - loss: 0.5131 - val_loss: 0.5657\n",
      "Epoch 14/20\n",
      "242/242 [==============================] - 0s 968us/step - loss: 0.5120 - val_loss: 0.5683\n",
      "Epoch 15/20\n",
      "242/242 [==============================] - 0s 960us/step - loss: 0.5104 - val_loss: 0.5718\n",
      "Epoch 16/20\n",
      "242/242 [==============================] - 0s 957us/step - loss: 0.5094 - val_loss: 0.5685\n",
      "Epoch 17/20\n",
      "242/242 [==============================] - 0s 1ms/step - loss: 0.5083 - val_loss: 0.5759\n",
      "Epoch 18/20\n",
      "242/242 [==============================] - 0s 909us/step - loss: 0.5072 - val_loss: 0.5808\n",
      "Epoch 19/20\n",
      "242/242 [==============================] - 0s 903us/step - loss: 0.5067 - val_loss: 0.5722\n",
      "121/121 [==============================] - 0s 599us/step - loss: 3.2161\n",
      "Epoch 1/20\n",
      "242/242 [==============================] - 1s 1ms/step - loss: 4.7775 - val_loss: 2.8186\n",
      "Epoch 2/20\n",
      "242/242 [==============================] - 0s 1ms/step - loss: 1.8667 - val_loss: 1.4727\n",
      "Epoch 3/20\n",
      "242/242 [==============================] - 0s 913us/step - loss: 1.1317 - val_loss: 1.0909\n",
      "Epoch 4/20\n",
      "242/242 [==============================] - 0s 931us/step - loss: 0.8995 - val_loss: 0.9350\n",
      "Epoch 5/20\n",
      "242/242 [==============================] - 0s 921us/step - loss: 0.8059 - val_loss: 0.8628\n",
      "Epoch 6/20\n",
      "242/242 [==============================] - 0s 924us/step - loss: 0.7548 - val_loss: 0.8108\n",
      "Epoch 7/20\n",
      "242/242 [==============================] - 0s 1ms/step - loss: 0.7192 - val_loss: 0.7733\n",
      "Epoch 8/20\n",
      "242/242 [==============================] - 0s 946us/step - loss: 0.6908 - val_loss: 0.7402\n",
      "Epoch 9/20\n",
      "242/242 [==============================] - 0s 907us/step - loss: 0.6670 - val_loss: 0.7129\n",
      "Epoch 10/20\n",
      "242/242 [==============================] - 0s 911us/step - loss: 0.6463 - val_loss: 0.6893\n",
      "Epoch 11/20\n",
      "242/242 [==============================] - 0s 912us/step - loss: 0.6285 - val_loss: 0.6701\n",
      "Epoch 12/20\n",
      "242/242 [==============================] - 0s 914us/step - loss: 0.6129 - val_loss: 0.6530\n",
      "Epoch 13/20\n",
      "242/242 [==============================] - 0s 939us/step - loss: 0.5990 - val_loss: 0.6390\n",
      "Epoch 14/20\n",
      "242/242 [==============================] - 0s 892us/step - loss: 0.5872 - val_loss: 0.6266\n",
      "Epoch 15/20\n",
      "242/242 [==============================] - 0s 925us/step - loss: 0.5767 - val_loss: 0.6160\n",
      "Epoch 16/20\n",
      "242/242 [==============================] - 0s 915us/step - loss: 0.5676 - val_loss: 0.6072\n",
      "Epoch 17/20\n",
      "242/242 [==============================] - 0s 926us/step - loss: 0.5596 - val_loss: 0.5994\n",
      "Epoch 18/20\n",
      "242/242 [==============================] - 0s 908us/step - loss: 0.5526 - val_loss: 0.5938\n",
      "Epoch 19/20\n",
      "242/242 [==============================] - 0s 906us/step - loss: 0.5465 - val_loss: 0.5881\n",
      "Epoch 20/20\n",
      "242/242 [==============================] - 0s 927us/step - loss: 0.5409 - val_loss: 0.5830\n",
      "121/121 [==============================] - 0s 656us/step - loss: 0.5960\n",
      "Epoch 1/20\n",
      "242/242 [==============================] - 1s 1ms/step - loss: 5.3205 - val_loss: 2.9862\n",
      "Epoch 2/20\n",
      "242/242 [==============================] - 0s 951us/step - loss: 1.7448 - val_loss: 1.2138\n",
      "Epoch 3/20\n",
      "242/242 [==============================] - 0s 913us/step - loss: 0.9168 - val_loss: 0.7853\n",
      "Epoch 4/20\n",
      "242/242 [==============================] - 0s 926us/step - loss: 0.6864 - val_loss: 0.6622\n",
      "Epoch 5/20\n",
      "242/242 [==============================] - 0s 911us/step - loss: 0.6132 - val_loss: 0.6211\n",
      "Epoch 6/20\n",
      "242/242 [==============================] - 0s 938us/step - loss: 0.5851 - val_loss: 0.6027\n",
      "Epoch 7/20\n",
      "242/242 [==============================] - 0s 918us/step - loss: 0.5714 - val_loss: 0.5930\n",
      "Epoch 8/20\n",
      "242/242 [==============================] - 0s 921us/step - loss: 0.5629 - val_loss: 0.5858\n",
      "Epoch 9/20\n",
      "242/242 [==============================] - 0s 933us/step - loss: 0.5565 - val_loss: 0.5810\n",
      "Epoch 10/20\n",
      "242/242 [==============================] - 0s 909us/step - loss: 0.5513 - val_loss: 0.5770\n",
      "Epoch 11/20\n",
      "242/242 [==============================] - 0s 960us/step - loss: 0.5468 - val_loss: 0.5733\n",
      "Epoch 12/20\n",
      "242/242 [==============================] - 0s 933us/step - loss: 0.5429 - val_loss: 0.5698\n",
      "Epoch 13/20\n",
      "242/242 [==============================] - 0s 986us/step - loss: 0.5395 - val_loss: 0.5666\n",
      "Epoch 14/20\n",
      "242/242 [==============================] - 0s 977us/step - loss: 0.5365 - val_loss: 0.5655\n",
      "Epoch 15/20\n"
     ]
    },
    {
     "name": "stdout",
     "output_type": "stream",
     "text": [
      "242/242 [==============================] - 0s 953us/step - loss: 0.5337 - val_loss: 0.5638\n",
      "Epoch 16/20\n",
      "242/242 [==============================] - 0s 926us/step - loss: 0.5316 - val_loss: 0.5632\n",
      "Epoch 17/20\n",
      "242/242 [==============================] - 0s 947us/step - loss: 0.5296 - val_loss: 0.5616\n",
      "Epoch 18/20\n",
      "242/242 [==============================] - 0s 896us/step - loss: 0.5277 - val_loss: 0.5608\n",
      "Epoch 19/20\n",
      "242/242 [==============================] - 0s 969us/step - loss: 0.5261 - val_loss: 0.5596\n",
      "Epoch 20/20\n",
      "242/242 [==============================] - 0s 958us/step - loss: 0.5247 - val_loss: 0.5582\n",
      "121/121 [==============================] - 0s 586us/step - loss: 0.5369\n",
      "Epoch 1/20\n",
      "242/242 [==============================] - 1s 1ms/step - loss: 3.4404 - val_loss: 2.0217\n",
      "Epoch 2/20\n",
      "242/242 [==============================] - 0s 993us/step - loss: 1.4140 - val_loss: 1.0122\n",
      "Epoch 3/20\n",
      "242/242 [==============================] - 0s 1ms/step - loss: 0.8234 - val_loss: 0.7086\n",
      "Epoch 4/20\n",
      "242/242 [==============================] - 0s 926us/step - loss: 0.6404 - val_loss: 0.6115\n",
      "Epoch 5/20\n",
      "242/242 [==============================] - 0s 932us/step - loss: 0.5794 - val_loss: 0.5789\n",
      "Epoch 6/20\n",
      "242/242 [==============================] - 0s 934us/step - loss: 0.5565 - val_loss: 0.5661\n",
      "Epoch 7/20\n",
      "242/242 [==============================] - 0s 1ms/step - loss: 0.5462 - val_loss: 0.5602\n",
      "Epoch 8/20\n",
      "242/242 [==============================] - 0s 2ms/step - loss: 0.5400 - val_loss: 0.5579\n",
      "Epoch 9/20\n",
      "242/242 [==============================] - 0s 897us/step - loss: 0.5356 - val_loss: 0.5562\n",
      "Epoch 10/20\n",
      "242/242 [==============================] - 0s 895us/step - loss: 0.5321 - val_loss: 0.5540\n",
      "Epoch 11/20\n",
      "242/242 [==============================] - 0s 935us/step - loss: 0.5291 - val_loss: 0.5528\n",
      "Epoch 12/20\n",
      "242/242 [==============================] - 0s 1ms/step - loss: 0.5265 - val_loss: 0.5527\n",
      "Epoch 13/20\n",
      "242/242 [==============================] - 0s 1ms/step - loss: 0.5241 - val_loss: 0.5514\n",
      "Epoch 14/20\n",
      "242/242 [==============================] - 0s 1ms/step - loss: 0.5221 - val_loss: 0.5522\n",
      "Epoch 15/20\n",
      "242/242 [==============================] - 0s 989us/step - loss: 0.5203 - val_loss: 0.5522\n",
      "Epoch 16/20\n",
      "242/242 [==============================] - 0s 908us/step - loss: 0.5186 - val_loss: 0.5519\n",
      "Epoch 17/20\n",
      "242/242 [==============================] - 0s 1ms/step - loss: 0.5172 - val_loss: 0.5532\n",
      "Epoch 18/20\n",
      "242/242 [==============================] - 0s 1ms/step - loss: 0.5159 - val_loss: 0.5530\n",
      "Epoch 19/20\n",
      "242/242 [==============================] - 0s 1ms/step - loss: 0.5147 - val_loss: 0.5537\n",
      "Epoch 20/20\n",
      "242/242 [==============================] - 0s 1ms/step - loss: 0.5136 - val_loss: 0.5559\n",
      "121/121 [==============================] - 0s 682us/step - loss: 2.9090\n",
      "Epoch 1/20\n",
      "242/242 [==============================] - 1s 1ms/step - loss: 4.8117 - val_loss: 2.8701\n",
      "Epoch 2/20\n",
      "242/242 [==============================] - 0s 1ms/step - loss: 2.1506 - val_loss: 1.5084\n",
      "Epoch 3/20\n",
      "242/242 [==============================] - 0s 1ms/step - loss: 1.1638 - val_loss: 0.9643\n",
      "Epoch 4/20\n",
      "242/242 [==============================] - 0s 959us/step - loss: 0.7775 - val_loss: 0.7367\n",
      "Epoch 5/20\n",
      "242/242 [==============================] - 0s 946us/step - loss: 0.6200 - val_loss: 0.6392\n",
      "Epoch 6/20\n",
      "242/242 [==============================] - 0s 967us/step - loss: 0.5544 - val_loss: 0.5948\n",
      "Epoch 7/20\n",
      "242/242 [==============================] - 0s 1ms/step - loss: 0.5262 - val_loss: 0.5760\n",
      "Epoch 8/20\n",
      "242/242 [==============================] - 0s 947us/step - loss: 0.5137 - val_loss: 0.5672\n",
      "Epoch 9/20\n",
      "242/242 [==============================] - 0s 929us/step - loss: 0.5080 - val_loss: 0.5647\n",
      "Epoch 10/20\n",
      "242/242 [==============================] - 0s 917us/step - loss: 0.5053 - val_loss: 0.5635\n",
      "Epoch 11/20\n",
      "242/242 [==============================] - 0s 951us/step - loss: 0.5040 - val_loss: 0.5631\n",
      "Epoch 12/20\n",
      "242/242 [==============================] - 0s 947us/step - loss: 0.5032 - val_loss: 0.5631\n",
      "Epoch 13/20\n",
      "242/242 [==============================] - 0s 929us/step - loss: 0.5026 - val_loss: 0.5615\n",
      "Epoch 14/20\n",
      "242/242 [==============================] - 0s 980us/step - loss: 0.5022 - val_loss: 0.5619\n",
      "Epoch 15/20\n",
      "242/242 [==============================] - 0s 1ms/step - loss: 0.5019 - val_loss: 0.5639\n",
      "Epoch 16/20\n",
      "242/242 [==============================] - 0s 916us/step - loss: 0.5017 - val_loss: 0.5639\n",
      "Epoch 17/20\n",
      "242/242 [==============================] - 0s 953us/step - loss: 0.5015 - val_loss: 0.5642\n",
      "Epoch 18/20\n",
      "242/242 [==============================] - 0s 1ms/step - loss: 0.5013 - val_loss: 0.5618\n",
      "Epoch 19/20\n",
      "242/242 [==============================] - 0s 1ms/step - loss: 0.5011 - val_loss: 0.5636\n",
      "Epoch 20/20\n",
      "242/242 [==============================] - 0s 1ms/step - loss: 0.5010 - val_loss: 0.5646\n",
      "121/121 [==============================] - 0s 607us/step - loss: 0.5552\n",
      "Epoch 1/20\n",
      "242/242 [==============================] - 1s 1ms/step - loss: 4.1323 - val_loss: 2.7127\n",
      "Epoch 2/20\n",
      "242/242 [==============================] - 0s 934us/step - loss: 1.9903 - val_loss: 1.4818\n",
      "Epoch 3/20\n",
      "242/242 [==============================] - 0s 938us/step - loss: 1.1650 - val_loss: 0.9813\n",
      "Epoch 4/20\n",
      "242/242 [==============================] - 0s 906us/step - loss: 0.8298 - val_loss: 0.7708\n",
      "Epoch 5/20\n",
      "242/242 [==============================] - 0s 921us/step - loss: 0.6882 - val_loss: 0.6787\n",
      "Epoch 6/20\n",
      "242/242 [==============================] - 0s 914us/step - loss: 0.6259 - val_loss: 0.6366\n",
      "Epoch 7/20\n",
      "242/242 [==============================] - 0s 885us/step - loss: 0.5965 - val_loss: 0.6154\n",
      "Epoch 8/20\n",
      "242/242 [==============================] - 0s 966us/step - loss: 0.5809 - val_loss: 0.6035\n",
      "Epoch 9/20\n",
      "242/242 [==============================] - 0s 1ms/step - loss: 0.5716 - val_loss: 0.5955\n",
      "Epoch 10/20\n",
      "242/242 [==============================] - 0s 997us/step - loss: 0.5652 - val_loss: 0.5897\n",
      "Epoch 11/20\n",
      "242/242 [==============================] - 0s 1ms/step - loss: 0.5602 - val_loss: 0.5855\n",
      "Epoch 12/20\n",
      "242/242 [==============================] - 0s 941us/step - loss: 0.5560 - val_loss: 0.5815\n",
      "Epoch 13/20\n",
      "242/242 [==============================] - 0s 936us/step - loss: 0.5523 - val_loss: 0.5782\n",
      "Epoch 14/20\n",
      "242/242 [==============================] - 0s 977us/step - loss: 0.5491 - val_loss: 0.5758\n",
      "Epoch 15/20\n",
      "242/242 [==============================] - 0s 1ms/step - loss: 0.5461 - val_loss: 0.5740\n",
      "Epoch 16/20\n",
      "242/242 [==============================] - 0s 926us/step - loss: 0.5434 - val_loss: 0.5719\n",
      "Epoch 17/20\n",
      "242/242 [==============================] - 0s 949us/step - loss: 0.5409 - val_loss: 0.5697\n",
      "Epoch 18/20\n",
      "242/242 [==============================] - 0s 959us/step - loss: 0.5387 - val_loss: 0.5678\n",
      "Epoch 19/20\n",
      "242/242 [==============================] - 0s 975us/step - loss: 0.5367 - val_loss: 0.5665\n",
      "Epoch 20/20\n",
      "242/242 [==============================] - 0s 937us/step - loss: 0.5347 - val_loss: 0.5655\n",
      "121/121 [==============================] - 0s 707us/step - loss: 0.5469\n",
      "Epoch 1/20\n",
      "242/242 [==============================] - 1s 1ms/step - loss: 5.2717 - val_loss: 3.1659\n",
      "Epoch 2/20\n",
      "242/242 [==============================] - 0s 1ms/step - loss: 2.3622 - val_loss: 1.6679\n",
      "Epoch 3/20\n",
      "242/242 [==============================] - 0s 978us/step - loss: 1.2944 - val_loss: 1.0746\n",
      "Epoch 4/20\n",
      "242/242 [==============================] - 0s 944us/step - loss: 0.8748 - val_loss: 0.8192\n",
      "Epoch 5/20\n",
      "242/242 [==============================] - 0s 927us/step - loss: 0.7022 - val_loss: 0.7016\n",
      "Epoch 6/20\n",
      "242/242 [==============================] - 0s 914us/step - loss: 0.6287 - val_loss: 0.6464\n",
      "Epoch 7/20\n",
      "242/242 [==============================] - 0s 1ms/step - loss: 0.5962 - val_loss: 0.6179\n",
      "Epoch 8/20\n",
      "242/242 [==============================] - 0s 1ms/step - loss: 0.5808 - val_loss: 0.6015\n",
      "Epoch 9/20\n",
      "242/242 [==============================] - 0s 904us/step - loss: 0.5728 - val_loss: 0.5956\n",
      "Epoch 10/20\n",
      "242/242 [==============================] - 0s 913us/step - loss: 0.5680 - val_loss: 0.5910\n",
      "Epoch 11/20\n",
      "242/242 [==============================] - 0s 916us/step - loss: 0.5647 - val_loss: 0.5860\n",
      "Epoch 12/20\n"
     ]
    },
    {
     "name": "stdout",
     "output_type": "stream",
     "text": [
      "242/242 [==============================] - 0s 930us/step - loss: 0.5621 - val_loss: 0.5831\n",
      "Epoch 13/20\n",
      "242/242 [==============================] - 0s 923us/step - loss: 0.5599 - val_loss: 0.5823\n",
      "Epoch 14/20\n",
      "242/242 [==============================] - 0s 931us/step - loss: 0.5579 - val_loss: 0.5812\n",
      "Epoch 15/20\n",
      "242/242 [==============================] - 0s 1ms/step - loss: 0.5561 - val_loss: 0.5783\n",
      "Epoch 16/20\n",
      "242/242 [==============================] - 0s 1ms/step - loss: 0.5544 - val_loss: 0.5792\n",
      "Epoch 17/20\n",
      "242/242 [==============================] - 0s 2ms/step - loss: 0.5528 - val_loss: 0.5780\n",
      "Epoch 18/20\n",
      "242/242 [==============================] - 0s 2ms/step - loss: 0.5513 - val_loss: 0.5773\n",
      "Epoch 19/20\n",
      "242/242 [==============================] - 0s 1ms/step - loss: 0.5500 - val_loss: 0.5761\n",
      "Epoch 20/20\n",
      "242/242 [==============================] - 0s 2ms/step - loss: 0.5486 - val_loss: 0.5754\n",
      "121/121 [==============================] - 0s 831us/step - loss: 0.5100\n",
      "Epoch 1/20\n",
      "242/242 [==============================] - 1s 2ms/step - loss: 0.9303 - val_loss: 0.5158\n",
      "Epoch 2/20\n",
      "242/242 [==============================] - 0s 1ms/step - loss: 0.4500 - val_loss: 0.4542\n",
      "Epoch 3/20\n",
      "242/242 [==============================] - 0s 1ms/step - loss: 0.4131 - val_loss: 0.4234\n",
      "Epoch 4/20\n",
      "242/242 [==============================] - 0s 1ms/step - loss: 0.3946 - val_loss: 0.4324\n",
      "Epoch 5/20\n",
      "242/242 [==============================] - 0s 1ms/step - loss: 0.3843 - val_loss: 0.4300\n",
      "Epoch 6/20\n",
      "242/242 [==============================] - 0s 1ms/step - loss: 0.3746 - val_loss: 0.4245\n",
      "Epoch 7/20\n",
      "242/242 [==============================] - 0s 979us/step - loss: 0.3680 - val_loss: 0.5016\n",
      "Epoch 8/20\n",
      "242/242 [==============================] - 0s 907us/step - loss: 0.3804 - val_loss: 0.3921\n",
      "Epoch 9/20\n",
      "242/242 [==============================] - 0s 1ms/step - loss: 0.3591 - val_loss: 0.3833\n",
      "Epoch 10/20\n",
      "242/242 [==============================] - 0s 1ms/step - loss: 0.3533 - val_loss: 0.3900\n",
      "Epoch 11/20\n",
      "242/242 [==============================] - 0s 1ms/step - loss: 0.3501 - val_loss: 0.3700\n",
      "Epoch 12/20\n",
      "242/242 [==============================] - 0s 981us/step - loss: 0.3432 - val_loss: 0.3669\n",
      "Epoch 13/20\n",
      "242/242 [==============================] - 0s 1ms/step - loss: 0.3447 - val_loss: 0.3694\n",
      "Epoch 14/20\n",
      "242/242 [==============================] - 0s 1ms/step - loss: 0.3406 - val_loss: 0.3800\n",
      "Epoch 15/20\n",
      "242/242 [==============================] - 0s 1ms/step - loss: 0.3413 - val_loss: 0.3612\n",
      "Epoch 16/20\n",
      "242/242 [==============================] - 0s 960us/step - loss: 0.3330 - val_loss: 0.4258\n",
      "Epoch 17/20\n",
      "242/242 [==============================] - 0s 1ms/step - loss: 0.3351 - val_loss: 0.3584\n",
      "Epoch 18/20\n",
      "242/242 [==============================] - 0s 912us/step - loss: 0.3350 - val_loss: 0.3604\n",
      "Epoch 19/20\n",
      "242/242 [==============================] - 0s 929us/step - loss: 0.3296 - val_loss: 0.3545\n",
      "Epoch 20/20\n",
      "242/242 [==============================] - 0s 904us/step - loss: 0.3293 - val_loss: 0.3506\n",
      "121/121 [==============================] - 0s 627us/step - loss: 0.3799\n",
      "Epoch 1/20\n",
      "242/242 [==============================] - 1s 1ms/step - loss: nan - val_loss: nan\n",
      "Epoch 2/20\n",
      "242/242 [==============================] - 0s 1ms/step - loss: nan - val_loss: nan\n",
      "Epoch 3/20\n",
      "242/242 [==============================] - 0s 1ms/step - loss: nan - val_loss: nan\n",
      "Epoch 4/20\n",
      "242/242 [==============================] - 0s 974us/step - loss: nan - val_loss: nan\n",
      "Epoch 5/20\n",
      "242/242 [==============================] - 0s 1ms/step - loss: nan - val_loss: nan\n",
      "Epoch 6/20\n",
      "242/242 [==============================] - 0s 996us/step - loss: nan - val_loss: nan\n",
      "Epoch 7/20\n",
      "242/242 [==============================] - 0s 1ms/step - loss: nan - val_loss: nan\n",
      "Epoch 8/20\n",
      "242/242 [==============================] - 0s 1ms/step - loss: nan - val_loss: nan\n",
      "Epoch 9/20\n",
      "242/242 [==============================] - 0s 940us/step - loss: nan - val_loss: nan\n",
      "Epoch 10/20\n",
      "242/242 [==============================] - 0s 889us/step - loss: nan - val_loss: nan\n",
      "121/121 [==============================] - 0s 593us/step - loss: nan\n",
      "Epoch 1/20\n",
      "242/242 [==============================] - 1s 2ms/step - loss: 0.7088 - val_loss: 0.5094\n",
      "Epoch 2/20\n",
      "242/242 [==============================] - 0s 1ms/step - loss: 0.4890 - val_loss: 0.4505\n",
      "Epoch 3/20\n",
      "242/242 [==============================] - 0s 950us/step - loss: 0.4499 - val_loss: 0.4309\n",
      "Epoch 4/20\n",
      "242/242 [==============================] - 0s 937us/step - loss: 0.4313 - val_loss: 0.4316\n",
      "Epoch 5/20\n",
      "242/242 [==============================] - 0s 913us/step - loss: 0.4176 - val_loss: 0.4363\n",
      "Epoch 6/20\n",
      "242/242 [==============================] - 0s 1ms/step - loss: 0.4083 - val_loss: 0.4017\n",
      "Epoch 7/20\n",
      "242/242 [==============================] - 0s 1ms/step - loss: 0.4008 - val_loss: 0.4159\n",
      "Epoch 8/20\n",
      "242/242 [==============================] - 0s 1ms/step - loss: 0.3944 - val_loss: 0.4115\n",
      "Epoch 9/20\n",
      "242/242 [==============================] - 0s 1ms/step - loss: 0.3893 - val_loss: 0.3944\n",
      "Epoch 10/20\n",
      "242/242 [==============================] - 0s 1ms/step - loss: 0.3875 - val_loss: 0.3937\n",
      "Epoch 11/20\n",
      "242/242 [==============================] - 0s 980us/step - loss: 0.3806 - val_loss: 0.4303\n",
      "Epoch 12/20\n",
      "242/242 [==============================] - 0s 1ms/step - loss: 0.3775 - val_loss: 0.4255\n",
      "Epoch 13/20\n",
      "242/242 [==============================] - 0s 1ms/step - loss: 0.3756 - val_loss: 0.3658\n",
      "Epoch 14/20\n",
      "242/242 [==============================] - 0s 995us/step - loss: 0.3749 - val_loss: 0.4142\n",
      "Epoch 15/20\n",
      "242/242 [==============================] - 0s 1ms/step - loss: 0.3742 - val_loss: 0.3801\n",
      "Epoch 16/20\n",
      "242/242 [==============================] - 0s 1ms/step - loss: 0.3716 - val_loss: 0.3859\n",
      "Epoch 17/20\n",
      "242/242 [==============================] - 0s 1ms/step - loss: 0.3685 - val_loss: 0.3551\n",
      "Epoch 18/20\n",
      "242/242 [==============================] - 0s 957us/step - loss: 0.3628 - val_loss: 0.3620\n",
      "Epoch 19/20\n",
      "242/242 [==============================] - 0s 964us/step - loss: 0.3620 - val_loss: 0.3637\n",
      "Epoch 20/20\n",
      "242/242 [==============================] - 0s 936us/step - loss: 0.3658 - val_loss: 0.3534\n",
      "121/121 [==============================] - 0s 583us/step - loss: 0.5179\n",
      "Epoch 1/20\n",
      "242/242 [==============================] - 1s 2ms/step - loss: 0.9414 - val_loss: 0.6932\n",
      "Epoch 2/20\n",
      "242/242 [==============================] - 0s 1ms/step - loss: 0.5882 - val_loss: 0.5618\n",
      "Epoch 3/20\n",
      "242/242 [==============================] - 0s 1ms/step - loss: 0.4848 - val_loss: 0.4974\n",
      "Epoch 4/20\n",
      "242/242 [==============================] - 0s 1ms/step - loss: 0.4267 - val_loss: 0.4528\n",
      "Epoch 5/20\n",
      "242/242 [==============================] - 0s 1ms/step - loss: 0.4038 - val_loss: 0.4268\n",
      "Epoch 6/20\n",
      "242/242 [==============================] - 0s 1ms/step - loss: 0.3983 - val_loss: 0.4316\n",
      "Epoch 7/20\n",
      "242/242 [==============================] - 0s 1ms/step - loss: 0.3807 - val_loss: 0.4144\n",
      "Epoch 8/20\n",
      "242/242 [==============================] - 0s 1ms/step - loss: 0.3728 - val_loss: 0.3994\n",
      "Epoch 9/20\n",
      "242/242 [==============================] - 0s 1ms/step - loss: 0.3725 - val_loss: 0.3973\n",
      "Epoch 10/20\n",
      "242/242 [==============================] - 0s 1ms/step - loss: 0.3633 - val_loss: 0.4125\n",
      "Epoch 11/20\n",
      "242/242 [==============================] - 0s 1ms/step - loss: 0.3580 - val_loss: 0.3869\n",
      "Epoch 12/20\n",
      "242/242 [==============================] - 0s 1ms/step - loss: 0.3559 - val_loss: 0.3817\n",
      "Epoch 13/20\n",
      "242/242 [==============================] - 0s 961us/step - loss: 0.3494 - val_loss: 0.3850\n",
      "Epoch 14/20\n",
      "242/242 [==============================] - 0s 1ms/step - loss: 0.3466 - val_loss: 0.3796\n",
      "Epoch 15/20\n",
      "242/242 [==============================] - 0s 1ms/step - loss: 0.3414 - val_loss: 0.3777\n",
      "Epoch 16/20\n",
      "242/242 [==============================] - 0s 1ms/step - loss: 0.3394 - val_loss: 0.3732\n",
      "Epoch 17/20\n",
      "242/242 [==============================] - 0s 988us/step - loss: 0.3367 - val_loss: 0.3713\n",
      "Epoch 18/20\n",
      "242/242 [==============================] - 0s 1ms/step - loss: 0.3332 - val_loss: 0.3635\n",
      "Epoch 19/20\n",
      "242/242 [==============================] - 0s 1ms/step - loss: 0.3328 - val_loss: 0.3659\n",
      "Epoch 20/20\n",
      "242/242 [==============================] - 0s 1ms/step - loss: 0.3259 - val_loss: 0.3680\n"
     ]
    },
    {
     "name": "stdout",
     "output_type": "stream",
     "text": [
      "121/121 [==============================] - 0s 673us/step - loss: 0.3871\n",
      "Epoch 1/20\n",
      "242/242 [==============================] - 1s 2ms/step - loss: 1.0271 - val_loss: 0.6669\n",
      "Epoch 2/20\n",
      "242/242 [==============================] - 0s 1ms/step - loss: 0.5967 - val_loss: 0.5657\n",
      "Epoch 3/20\n",
      "242/242 [==============================] - 0s 1ms/step - loss: 0.5159 - val_loss: 0.5142\n",
      "Epoch 4/20\n",
      "242/242 [==============================] - 0s 1ms/step - loss: 0.4714 - val_loss: 0.4806\n",
      "Epoch 5/20\n",
      "242/242 [==============================] - 0s 1ms/step - loss: 0.4320 - val_loss: 0.4404\n",
      "Epoch 6/20\n",
      "242/242 [==============================] - 0s 1ms/step - loss: 0.4131 - val_loss: 0.4217\n",
      "Epoch 7/20\n",
      "242/242 [==============================] - 0s 1ms/step - loss: 0.3996 - val_loss: 0.4129\n",
      "Epoch 8/20\n",
      "242/242 [==============================] - 0s 963us/step - loss: 0.3970 - val_loss: 0.4092\n",
      "Epoch 9/20\n",
      "242/242 [==============================] - 0s 1ms/step - loss: 0.3838 - val_loss: 0.3978\n",
      "Epoch 10/20\n",
      "242/242 [==============================] - 0s 1ms/step - loss: 0.3793 - val_loss: 0.4026\n",
      "Epoch 11/20\n",
      "242/242 [==============================] - 0s 1ms/step - loss: 0.3730 - val_loss: 0.3857\n",
      "Epoch 12/20\n",
      "242/242 [==============================] - 0s 1ms/step - loss: 0.3717 - val_loss: 0.3933\n",
      "Epoch 13/20\n",
      "242/242 [==============================] - 0s 1ms/step - loss: 0.3656 - val_loss: 0.3846\n",
      "Epoch 14/20\n",
      "242/242 [==============================] - 0s 1ms/step - loss: 0.3632 - val_loss: 0.3835\n",
      "Epoch 15/20\n",
      "242/242 [==============================] - 0s 1ms/step - loss: 0.3626 - val_loss: 0.3767\n",
      "Epoch 16/20\n",
      "242/242 [==============================] - 0s 1ms/step - loss: 0.3566 - val_loss: 0.3680\n",
      "Epoch 17/20\n",
      "242/242 [==============================] - 0s 1ms/step - loss: 0.3531 - val_loss: 0.3673\n",
      "Epoch 18/20\n",
      "242/242 [==============================] - 0s 1ms/step - loss: 0.3541 - val_loss: 0.3758\n",
      "Epoch 19/20\n",
      "242/242 [==============================] - 0s 971us/step - loss: 0.3486 - val_loss: 0.3633\n",
      "Epoch 20/20\n",
      "242/242 [==============================] - 0s 983us/step - loss: 0.3476 - val_loss: 0.3634\n",
      "121/121 [==============================] - 0s 638us/step - loss: 0.3654\n",
      "Epoch 1/20\n",
      "242/242 [==============================] - 1s 2ms/step - loss: 1.0472 - val_loss: 0.6906\n",
      "Epoch 2/20\n",
      "242/242 [==============================] - 0s 1ms/step - loss: 0.6361 - val_loss: 0.5941\n",
      "Epoch 3/20\n",
      "242/242 [==============================] - 0s 1ms/step - loss: 0.5536 - val_loss: 0.5246\n",
      "Epoch 4/20\n",
      "242/242 [==============================] - 0s 1ms/step - loss: 0.5022 - val_loss: 0.4868\n",
      "Epoch 5/20\n",
      "242/242 [==============================] - 0s 993us/step - loss: 0.4699 - val_loss: 0.4629\n",
      "Epoch 6/20\n",
      "242/242 [==============================] - 0s 1ms/step - loss: 0.4485 - val_loss: 0.4444\n",
      "Epoch 7/20\n",
      "242/242 [==============================] - 0s 1ms/step - loss: 0.4319 - val_loss: 0.4285\n",
      "Epoch 8/20\n",
      "242/242 [==============================] - 0s 1ms/step - loss: 0.4205 - val_loss: 0.4154\n",
      "Epoch 9/20\n",
      "242/242 [==============================] - 0s 1ms/step - loss: 0.4118 - val_loss: 0.4146\n",
      "Epoch 10/20\n",
      "242/242 [==============================] - 0s 1ms/step - loss: 0.4043 - val_loss: 0.4051\n",
      "Epoch 11/20\n",
      "242/242 [==============================] - 0s 1ms/step - loss: 0.3993 - val_loss: 0.3993\n",
      "Epoch 12/20\n",
      "242/242 [==============================] - 0s 1ms/step - loss: 0.3929 - val_loss: 0.3914\n",
      "Epoch 13/20\n",
      "242/242 [==============================] - 0s 1ms/step - loss: 0.3888 - val_loss: 0.3880\n",
      "Epoch 14/20\n",
      "242/242 [==============================] - 0s 1ms/step - loss: 0.3847 - val_loss: 0.3905\n",
      "Epoch 15/20\n",
      "242/242 [==============================] - 0s 1ms/step - loss: 0.3803 - val_loss: 0.3908\n",
      "Epoch 16/20\n",
      "242/242 [==============================] - 0s 1ms/step - loss: 0.3765 - val_loss: 0.3800\n",
      "Epoch 17/20\n",
      "242/242 [==============================] - 0s 1ms/step - loss: 0.3746 - val_loss: 0.3761\n",
      "Epoch 18/20\n",
      "242/242 [==============================] - 0s 1ms/step - loss: 0.3717 - val_loss: 0.3714\n",
      "Epoch 19/20\n",
      "242/242 [==============================] - 0s 1ms/step - loss: 0.3676 - val_loss: 0.3858\n",
      "Epoch 20/20\n",
      "242/242 [==============================] - 0s 1ms/step - loss: 0.3641 - val_loss: 0.3710\n",
      "121/121 [==============================] - 0s 650us/step - loss: 0.5322\n",
      "Epoch 1/20\n",
      "242/242 [==============================] - 1s 2ms/step - loss: 2.2129 - val_loss: 1.1422\n",
      "Epoch 2/20\n",
      "242/242 [==============================] - 0s 1ms/step - loss: 0.7747 - val_loss: 0.7292\n",
      "Epoch 3/20\n",
      "242/242 [==============================] - 0s 1ms/step - loss: 0.6314 - val_loss: 0.6448\n",
      "Epoch 4/20\n",
      "242/242 [==============================] - 0s 1ms/step - loss: 0.5847 - val_loss: 0.6039\n",
      "Epoch 5/20\n",
      "242/242 [==============================] - 0s 1ms/step - loss: 0.5532 - val_loss: 0.5747\n",
      "Epoch 6/20\n",
      "242/242 [==============================] - 0s 1ms/step - loss: 0.5263 - val_loss: 0.5520\n",
      "Epoch 7/20\n",
      "242/242 [==============================] - 0s 1ms/step - loss: 0.5051 - val_loss: 0.5317\n",
      "Epoch 8/20\n",
      "242/242 [==============================] - 0s 1ms/step - loss: 0.4874 - val_loss: 0.5143\n",
      "Epoch 9/20\n",
      "242/242 [==============================] - 0s 1ms/step - loss: 0.4726 - val_loss: 0.5013\n",
      "Epoch 10/20\n",
      "242/242 [==============================] - 0s 1ms/step - loss: 0.4598 - val_loss: 0.4904\n",
      "Epoch 11/20\n",
      "242/242 [==============================] - 0s 1ms/step - loss: 0.4490 - val_loss: 0.4810\n",
      "Epoch 12/20\n",
      "242/242 [==============================] - 0s 1ms/step - loss: 0.4405 - val_loss: 0.4725\n",
      "Epoch 13/20\n",
      "242/242 [==============================] - 0s 1ms/step - loss: 0.4326 - val_loss: 0.4671\n",
      "Epoch 14/20\n",
      "242/242 [==============================] - 0s 1ms/step - loss: 0.4263 - val_loss: 0.4591\n",
      "Epoch 15/20\n",
      "242/242 [==============================] - 0s 1ms/step - loss: 0.4203 - val_loss: 0.4538\n",
      "Epoch 16/20\n",
      "242/242 [==============================] - 0s 1ms/step - loss: 0.4149 - val_loss: 0.4486\n",
      "Epoch 17/20\n",
      "242/242 [==============================] - 0s 1ms/step - loss: 0.4098 - val_loss: 0.4447\n",
      "Epoch 18/20\n",
      "242/242 [==============================] - 0s 1ms/step - loss: 0.4051 - val_loss: 0.4405\n",
      "Epoch 19/20\n",
      "242/242 [==============================] - 0s 1ms/step - loss: 0.4012 - val_loss: 0.4344\n",
      "Epoch 20/20\n",
      "242/242 [==============================] - 0s 1ms/step - loss: 0.3970 - val_loss: 0.4315\n",
      "121/121 [==============================] - 0s 709us/step - loss: 0.4559\n",
      "Epoch 1/20\n",
      "242/242 [==============================] - 1s 2ms/step - loss: 2.6476 - val_loss: 1.5613\n",
      "Epoch 2/20\n",
      "242/242 [==============================] - 0s 1ms/step - loss: 1.0383 - val_loss: 0.8412\n",
      "Epoch 3/20\n",
      "242/242 [==============================] - 0s 1ms/step - loss: 0.7186 - val_loss: 0.6889\n",
      "Epoch 4/20\n",
      "242/242 [==============================] - 0s 1ms/step - loss: 0.6428 - val_loss: 0.6461\n",
      "Epoch 5/20\n",
      "242/242 [==============================] - 0s 1ms/step - loss: 0.6066 - val_loss: 0.6165\n",
      "Epoch 6/20\n",
      "242/242 [==============================] - 0s 1ms/step - loss: 0.5787 - val_loss: 0.5926\n",
      "Epoch 7/20\n",
      "242/242 [==============================] - 0s 1ms/step - loss: 0.5548 - val_loss: 0.5674\n",
      "Epoch 8/20\n",
      "242/242 [==============================] - 0s 1ms/step - loss: 0.5332 - val_loss: 0.5477\n",
      "Epoch 9/20\n",
      "242/242 [==============================] - 0s 1ms/step - loss: 0.5145 - val_loss: 0.5312\n",
      "Epoch 10/20\n",
      "242/242 [==============================] - 0s 1ms/step - loss: 0.4987 - val_loss: 0.5165\n",
      "Epoch 11/20\n",
      "242/242 [==============================] - 0s 1ms/step - loss: 0.4846 - val_loss: 0.5011\n",
      "Epoch 12/20\n",
      "242/242 [==============================] - 0s 1ms/step - loss: 0.4729 - val_loss: 0.4900\n",
      "Epoch 13/20\n",
      "242/242 [==============================] - 0s 1ms/step - loss: 0.4624 - val_loss: 0.4821\n",
      "Epoch 14/20\n",
      "242/242 [==============================] - 0s 1ms/step - loss: 0.4531 - val_loss: 0.4756\n",
      "Epoch 15/20\n",
      "242/242 [==============================] - 0s 1ms/step - loss: 0.4455 - val_loss: 0.4655\n",
      "Epoch 16/20\n",
      "242/242 [==============================] - 0s 1ms/step - loss: 0.4383 - val_loss: 0.4587\n",
      "Epoch 17/20\n",
      "242/242 [==============================] - 0s 1ms/step - loss: 0.4320 - val_loss: 0.4509\n",
      "Epoch 18/20\n",
      "242/242 [==============================] - 0s 1ms/step - loss: 0.4265 - val_loss: 0.4456\n",
      "Epoch 19/20\n"
     ]
    },
    {
     "name": "stdout",
     "output_type": "stream",
     "text": [
      "242/242 [==============================] - 0s 1ms/step - loss: 0.4209 - val_loss: 0.4407\n",
      "Epoch 20/20\n",
      "242/242 [==============================] - 0s 1ms/step - loss: 0.4158 - val_loss: 0.4362\n",
      "121/121 [==============================] - 0s 727us/step - loss: 0.4324\n",
      "Epoch 1/20\n",
      "242/242 [==============================] - 1s 2ms/step - loss: 2.2955 - val_loss: 1.0346\n",
      "Epoch 2/20\n",
      "242/242 [==============================] - 0s 1ms/step - loss: 0.8310 - val_loss: 0.7724\n",
      "Epoch 3/20\n",
      "242/242 [==============================] - 0s 1ms/step - loss: 0.7290 - val_loss: 0.7080\n",
      "Epoch 4/20\n",
      "242/242 [==============================] - 0s 1ms/step - loss: 0.6859 - val_loss: 0.6707\n",
      "Epoch 5/20\n",
      "242/242 [==============================] - 0s 1ms/step - loss: 0.6530 - val_loss: 0.6418\n",
      "Epoch 6/20\n",
      "242/242 [==============================] - 0s 1ms/step - loss: 0.6251 - val_loss: 0.6197\n",
      "Epoch 7/20\n",
      "242/242 [==============================] - 0s 1ms/step - loss: 0.6014 - val_loss: 0.6001\n",
      "Epoch 8/20\n",
      "242/242 [==============================] - 0s 1ms/step - loss: 0.5808 - val_loss: 0.5782\n",
      "Epoch 9/20\n",
      "242/242 [==============================] - 0s 1ms/step - loss: 0.5623 - val_loss: 0.5623\n",
      "Epoch 10/20\n",
      "242/242 [==============================] - 0s 1ms/step - loss: 0.5462 - val_loss: 0.5479\n",
      "Epoch 11/20\n",
      "242/242 [==============================] - 0s 1ms/step - loss: 0.5319 - val_loss: 0.5334\n",
      "Epoch 12/20\n",
      "242/242 [==============================] - 0s 1ms/step - loss: 0.5186 - val_loss: 0.5221\n",
      "Epoch 13/20\n",
      "242/242 [==============================] - 0s 1ms/step - loss: 0.5069 - val_loss: 0.5116\n",
      "Epoch 14/20\n",
      "242/242 [==============================] - 0s 1ms/step - loss: 0.4969 - val_loss: 0.4998\n",
      "Epoch 15/20\n",
      "242/242 [==============================] - 0s 1ms/step - loss: 0.4877 - val_loss: 0.4922\n",
      "Epoch 16/20\n",
      "242/242 [==============================] - 0s 1ms/step - loss: 0.4796 - val_loss: 0.4825\n",
      "Epoch 17/20\n",
      "242/242 [==============================] - 0s 1ms/step - loss: 0.4719 - val_loss: 0.4755\n",
      "Epoch 18/20\n",
      "242/242 [==============================] - 0s 1ms/step - loss: 0.4645 - val_loss: 0.4673\n",
      "Epoch 19/20\n",
      "242/242 [==============================] - 0s 1ms/step - loss: 0.4587 - val_loss: 0.4679\n",
      "Epoch 20/20\n",
      "242/242 [==============================] - 0s 1ms/step - loss: 0.4532 - val_loss: 0.4584\n",
      "121/121 [==============================] - 0s 664us/step - loss: 0.4271\n",
      "Epoch 1/20\n"
     ]
    },
    {
     "name": "stderr",
     "output_type": "stream",
     "text": [
      "D:\\APYPLA~1\\venv_dir\\venv1\\lib\\site-packages\\sklearn\\model_selection\\_search.py:813: DeprecationWarning: The default of the `iid` parameter will change from True to False in version 0.22 and will be removed in 0.24. This will change numeric results when test-set sizes are unequal.\n",
      "  DeprecationWarning)\n"
     ]
    },
    {
     "name": "stdout",
     "output_type": "stream",
     "text": [
      "363/363 [==============================] - 1s 1ms/step - loss: 0.8149 - val_loss: 0.5718\n",
      "Epoch 2/20\n",
      "363/363 [==============================] - 0s 1ms/step - loss: 0.5022 - val_loss: 0.4820\n",
      "Epoch 3/20\n",
      "363/363 [==============================] - 0s 991us/step - loss: 0.4488 - val_loss: 0.4505\n",
      "Epoch 4/20\n",
      "363/363 [==============================] - 0s 1ms/step - loss: 0.4232 - val_loss: 0.4348\n",
      "Epoch 5/20\n",
      "363/363 [==============================] - 0s 1ms/step - loss: 0.4108 - val_loss: 0.4159\n",
      "Epoch 6/20\n",
      "363/363 [==============================] - 0s 1ms/step - loss: 0.3962 - val_loss: 0.4038\n",
      "Epoch 7/20\n",
      "363/363 [==============================] - 0s 983us/step - loss: 0.3867 - val_loss: 0.3953\n",
      "Epoch 8/20\n",
      "363/363 [==============================] - 0s 909us/step - loss: 0.3806 - val_loss: 0.3888\n",
      "Epoch 9/20\n",
      "363/363 [==============================] - 0s 915us/step - loss: 0.3707 - val_loss: 0.3866\n",
      "Epoch 10/20\n",
      "363/363 [==============================] - 0s 1ms/step - loss: 0.3696 - val_loss: 0.3857\n",
      "Epoch 11/20\n",
      "363/363 [==============================] - 0s 908us/step - loss: 0.3601 - val_loss: 0.3685\n",
      "Epoch 12/20\n",
      "363/363 [==============================] - 0s 944us/step - loss: 0.3604 - val_loss: 0.3643\n",
      "Epoch 13/20\n",
      "363/363 [==============================] - 0s 912us/step - loss: 0.3524 - val_loss: 0.3583\n",
      "Epoch 14/20\n",
      "363/363 [==============================] - 0s 914us/step - loss: 0.3463 - val_loss: 0.3638\n",
      "Epoch 15/20\n",
      "363/363 [==============================] - 0s 1ms/step - loss: 0.3430 - val_loss: 0.3559\n",
      "Epoch 16/20\n",
      "363/363 [==============================] - 0s 1ms/step - loss: 0.3399 - val_loss: 0.3556\n",
      "Epoch 17/20\n",
      "363/363 [==============================] - 0s 1ms/step - loss: 0.3345 - val_loss: 0.3425\n",
      "Epoch 18/20\n",
      "363/363 [==============================] - 0s 1ms/step - loss: 0.3321 - val_loss: 0.3417\n",
      "Epoch 19/20\n",
      "363/363 [==============================] - 0s 933us/step - loss: 0.3281 - val_loss: 0.3355\n",
      "Epoch 20/20\n",
      "363/363 [==============================] - 0s 960us/step - loss: 0.3293 - val_loss: 0.3378\n"
     ]
    },
    {
     "data": {
      "text/plain": [
       "RandomizedSearchCV(cv=3, error_score='raise-deprecating',\n",
       "                   estimator=<keras.wrappers.scikit_learn.KerasRegressor object at 0x000001F0BE7F7908>,\n",
       "                   iid='warn', n_iter=10, n_jobs=None,\n",
       "                   param_distributions={'learning_rate': <scipy.stats._distn_infrastructure.rv_frozen object at 0x000001F0C1152128>,\n",
       "                                        'n_hidden': [0, 1, 2, 3],\n",
       "                                        'n_neurons': array([ 1,  2,  3,  4,  5,  6,  7,  8,  9, 10, 11, 12, 13, 1...\n",
       "       18, 19, 20, 21, 22, 23, 24, 25, 26, 27, 28, 29, 30, 31, 32, 33, 34,\n",
       "       35, 36, 37, 38, 39, 40, 41, 42, 43, 44, 45, 46, 47, 48, 49, 50, 51,\n",
       "       52, 53, 54, 55, 56, 57, 58, 59, 60, 61, 62, 63, 64, 65, 66, 67, 68,\n",
       "       69, 70, 71, 72, 73, 74, 75, 76, 77, 78, 79, 80, 81, 82, 83, 84, 85,\n",
       "       86, 87, 88, 89, 90, 91, 92, 93, 94, 95, 96, 97, 98, 99])},\n",
       "                   pre_dispatch='2*n_jobs', random_state=None, refit=True,\n",
       "                   return_train_score=False, scoring=None, verbose=0)"
      ]
     },
     "execution_count": 143,
     "metadata": {},
     "output_type": "execute_result"
    }
   ],
   "source": [
    "param_distribs = {\n",
    "    \"n_hidden\": [0, 1, 2, 3],\n",
    "    \"n_neurons\": np.arange(1, 100),\n",
    "    \"learning_rate\": reciprocal(3e-4, 3e-2),\n",
    "}\n",
    "\n",
    "rnd_search_cv = RandomizedSearchCV(keras_reg,param_distribs,n_iter=10,cv =3)\n",
    "rnd_search_cv.fit(x_train,y_train,epochs = 20,validation_data = (x_valid,y_valid),callbacks = [keras.callbacks.EarlyStopping(patience=10)])"
   ]
  },
  {
   "cell_type": "markdown",
   "metadata": {},
   "source": [
    "所做的和第 2 章差不多，除了这里试讲参数传给 `fit()` ，`fit()` 再传给底层的 Keras。注意，RandomizedSearchCV使用的是 K 折交叉验证，没有用 `X_valid` 和 `y_valid`（只有早停时才使用）。"
   ]
  },
  {
   "cell_type": "code",
   "execution_count": 144,
   "metadata": {},
   "outputs": [
    {
     "data": {
      "text/plain": [
       "{'learning_rate': 0.0048049691964912366, 'n_hidden': 3, 'n_neurons': 35}"
      ]
     },
     "execution_count": 144,
     "metadata": {},
     "output_type": "execute_result"
    }
   ],
   "source": [
    "rnd_search_cv.best_params_"
   ]
  },
  {
   "cell_type": "code",
   "execution_count": 145,
   "metadata": {},
   "outputs": [
    {
     "data": {
      "text/plain": [
       "-0.42823247114817303"
      ]
     },
     "execution_count": 145,
     "metadata": {},
     "output_type": "execute_result"
    }
   ],
   "source": [
    "rnd_search_cv.best_score_"
   ]
  },
  {
   "cell_type": "code",
   "execution_count": 146,
   "metadata": {},
   "outputs": [],
   "source": [
    "model = rnd_search_cv.best_estimator_.model # best_estimator_ 获取指定的参数在模型中的最优估计量"
   ]
  },
  {
   "cell_type": "markdown",
   "metadata": {},
   "source": [
    "现在就可以保存模型、在测试集上评估，如果对效果满意，就可以部署了。使用随机搜索并不难，适用于许多相对简单的问题。但是当训练较慢时（大数据集的复杂问题），这个方法就只能探索超参数空间的一小部分而已。通过手动调节可以缓解一下：首先使用大范围的超参数值先做一次随机搜索，然后根据第一次的结果再做一次小范围的计算，以此类推。这样就能缩放到最优超参数的范围了。但是，这么做很耗时。\n",
    "\n",
    "幸好，有比随机搜索更好的探索超参数空间的方法。核心思想很简单：当某块空间的区域表现好时，就多探索这块区域。这些方法可以代替用户做“放大”工作，可以在更短的时间得到更好的结果。下面是一些可以用来优化超参数的 Python 库：\n",
    "\n",
    "Hyperopt 一个可以优化各种复杂搜索空间（包括真实值，比如学习率和离散值，比如层数）的库。\n",
    "\n",
    "Hyperas，kopt 或 Talos 用来优化 Keras 模型超参数的库（前两个是基于 Hyperopt 的）。\n",
    "\n",
    "Keras Tuner Google 开发的简单易用的 Keras 超参数优化库，还有可视化和分析功能。\n",
    "\n",
    "Scikit-Optimize (skopt) 一个通用的优化库。类BayesSearchCV使用类似于GridSearchCV的接口做贝叶斯优化。\n",
    "\n",
    "Spearmint 一个贝叶斯优化库。\n",
    "\n",
    "Hyperband 一个快速超参数调节库，基于 Lisha Li 的论文《Hyperband: A Novel Bandit-Based Approach to Hyperparameter Optimization》。\n",
    "\n",
    "Sklearn-Deap 一个基于进化算法的超参数优化库，接口类似GridSearchCV。\n",
    "\n",
    "另外，许多公司也提供超参数优化服务。第 19 章会讨论 Google Cloud AI 平台的超参数调节服务。其它公司有 Arimo 、 SigOpt，和 CallDesk 的 Oscar.\n",
    "\n",
    "超参数调节仍然是活跃的研究领域，其中进化算法表现很突出。例如，在 2017 年的论文《Population Based Training of Neural Networks》中，Deepmind 的作者用统一优化了一组模型及其超参数。Google 也使用了一种进化算法，不仅用来搜索查参数，还可以搜索最佳的神经网络架构；Google 的 AutoML 套间已经可以在云服务上使用了。也许手动搭建神经网络的日子就要结束了？看看 Google 的这篇文章。事实上，用进化算法训练独立的神经网络很成功，已经取代梯度下降了。例如，Uber 在 2017 年介绍了名为 Deep Neuroevolution 的技术，见这里。\n",
    "\n",
    "尽管有这些工具和服务，知道每个超参数该取什么值仍然是帮助的，可以快速创建原型和收缩搜索范围。后面的文字介绍了选择 MLP 隐藏层数和神经元数的原则，以及如何选择主要的超参数值。"
   ]
  },
  {
   "cell_type": "markdown",
   "metadata": {},
   "source": [
    "https://hands1ml.apachecn.org/#/docs/10?id=%e5%be%ae%e8%b0%83%e7%a5%9e%e7%bb%8f%e7%bd%91%e7%bb%9c%e7%9a%84%e8%b6%85%e5%8f%82%e6%95%b0"
   ]
  },
  {
   "cell_type": "markdown",
   "metadata": {},
   "source": [
    "### 12、隐藏层数"
   ]
  },
  {
   "cell_type": "markdown",
   "metadata": {},
   "source": [
    "对于许多问题，开始时只用一个隐藏层就能得到不错的结果。只要有足够多的神经元，只有一个隐藏层的 MLP 就可以对复杂函数建模。但是对于复杂问题，深层网络比浅层网络有更高的参数效率：深层网络可以用指数级别更少的神经元对复杂函数建模，因此对于同样的训练数据量性能更好。\n",
    "\n",
    "要明白为什么，假设别人让你用绘图软件画一片森林，但你不能复制和粘贴。这样的话，就得花很长时间，你需要手动来画每一棵树，一个树枝然后一个树枝，一片叶子然后一片叶子。如果可以鲜花一片叶子，然后将叶子复制粘贴到整个树枝上，再将树枝复制粘贴到整棵树上，然后再复制树，就可以画出一片森林了，所用的时间可以大大缩短。`真实世界的数据通常都是有层次化结构的，深层神经网络正式利用了这一点：浅隐藏层对低级结构（比如各种形状的线段和方向），中隐藏层结合这些低级结构对中级结构（方，圆）建模，深隐藏层和输出层结合中级结构对高级结构（比如，脸）建模。`\n",
    "\n",
    "`层级化的结构不仅帮助深度神经网络收敛更快，，也提高了对新数据集的泛化能力。例如，如果已经训练好了一个图片人脸识别的模型，现在想训练一个识别发型的神经网络，你就可以复用第一个网络的浅层。不用随机初始化前几层的权重和偏置项，而是初始化为第一个网络浅层的权重和偏置项。这样，网络就不用从多数图片的低级结构开始学起；只要学高级结构（发型）就行了。这就称为迁移学习。`\n",
    "\n",
    "概括来讲，对于许多问题，神经网络只有一或两层就够了。例如，只用一个隐藏层和几百个神经元，就能在 MNIST 上轻松达到 97% 的准确率；同样的神经元数，两个隐藏层，训练时间几乎相同，就能达到 98% 的准确率。对于更复杂的问题，可以增加隐藏层的数量，直到在训练集上过拟合为止。非常复杂的任务，比如大图片分类或语音识别，神经网络通常需要几十层（甚至上百，但不是全连接的，见第 14 章），需要的训练数据量很大。对于这样的网络，很少是从零训练的：常见的是使用预训练好的、表现出众的任务相近的网络，训练可以快得多，需要的数据也可以不那么多（见第 11 章的讨论）。"
   ]
  },
  {
   "cell_type": "markdown",
   "metadata": {},
   "source": [
    "### 13、每个隐藏层的神经元数"
   ]
  },
  {
   "cell_type": "markdown",
   "metadata": {},
   "source": [
    "实际中，通常的简便而高效的方法是使用层数和神经元数都超量的模型，然后使用早停和其它正则技术防止过拟合。一位 Google 的科学家 Vincent Vanhoucke，称这种方法为“弹力裤”：不浪费时间选择尺寸完美匹配的裤子，而是选择一条大的弹力裤，它能自动收缩到合适的尺寸。通过这种方法，可以避免影响模型的瓶颈层。另一方面，如果某层的神经元太少，就没有足够强的表征能力，保存所有的输入信息（比如，只有两个神经元的的层只能输出 2D 数据，如果用它处理 3D 数据，就会丢失信息）。无论模型网络的其它部分如何强大，丢失的信息也找不回来了。"
   ]
  },
  {
   "cell_type": "markdown",
   "metadata": {},
   "source": [
    "#### 提示：\n",
    "\n",
    "通常，增加层数比增加每层的神经元的收益更高。"
   ]
  },
  {
   "cell_type": "markdown",
   "metadata": {},
   "source": [
    "### 14、学习率，批次大小和其它超参数"
   ]
  },
  {
   "cell_type": "markdown",
   "metadata": {},
   "source": [
    "https://hands1ml.apachecn.org/#/docs/10?id=%e5%ad%a6%e4%b9%a0%e7%8e%87%ef%bc%8c%e6%89%b9%e6%ac%a1%e5%a4%a7%e5%b0%8f%e5%92%8c%e5%85%b6%e5%ae%83%e8%b6%85%e5%8f%82%e6%95%b0"
   ]
  },
  {
   "cell_type": "code",
   "execution_count": null,
   "metadata": {},
   "outputs": [],
   "source": []
  },
  {
   "cell_type": "code",
   "execution_count": null,
   "metadata": {},
   "outputs": [],
   "source": []
  }
 ],
 "metadata": {
  "kernelspec": {
   "display_name": "venv1",
   "language": "python",
   "name": "venv1"
  },
  "language_info": {
   "codemirror_mode": {
    "name": "ipython",
    "version": 3
   },
   "file_extension": ".py",
   "mimetype": "text/x-python",
   "name": "python",
   "nbconvert_exporter": "python",
   "pygments_lexer": "ipython3",
   "version": "3.6.4"
  }
 },
 "nbformat": 4,
 "nbformat_minor": 2
}
