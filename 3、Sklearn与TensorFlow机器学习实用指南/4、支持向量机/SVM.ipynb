{
 "cells": [
  {
   "cell_type": "code",
   "execution_count": 1,
   "metadata": {},
   "outputs": [],
   "source": [
    "import matplotlib.pyplot as plt\n",
    "import pandas as pd\n",
    "import numpy as np"
   ]
  },
  {
   "cell_type": "markdown",
   "metadata": {},
   "source": [
    "## 支持向量机\n",
    "\n",
    "支持向量机（SVM）是个非常强大并且有多种功能的机器学习模型，能够做 __线性__ 或者 __非线性__ 的 __分类__ ， __回归__ ，甚至 __异常值检测__。\n",
    "\n",
    "SVM\t__特别适合__ 应用于 __复杂__ 但 __中小规模数据集__ 的 __分类__ 问题。\n",
    "\n",
    "\n",
    "### 硬/软间隔分类\n",
    "\n",
    "* __硬间隔分类__ 有两个问题：\n",
    " \n",
    "  __严格地规定__ 所有的数据都不在“街道”上，都在正确地两边，称为硬间隔分类\n",
    " \n",
    "  1、只对线性可分的数据起作用。\n",
    "  \n",
    "  2、对异常点敏感\n",
    "  \n",
    "  \n",
    "* __软间隔分类__\n",
    "\n",
    " 保持“街道”__尽可能__ 大和避免间隔违规，__找到一个良好的平衡__ 。\n",
    "\n",
    "   为了避免上述的问题，我们更倾向于使用更加软性的模型\n",
    "\n",
    "\n",
    "* __软/硬间隔分类区别__\n",
    " \n",
    " 可以明显看出，对于 __硬间隔分类__ 对于最大间隔分类要求更严格，即数据不能存在在最大间隔分类的街道中，而 __软间隔__ 只是尽可能避免。\n",
    "\n",
    "#### 提示：\n",
    " \n",
    "在 __Scikit-Learn__ 库的 __SVM 类__ ，你可以用 __C 超参数__ （惩罚系数）来控制这种平衡：__较小的 C__ 会导致 __更宽__ 的“街道”，但 __更多__ 的 __间隔违规__ 。\n",
    "\n",
    "#### 过拟合\n",
    "\n",
    "如果你的 __SVM__ 模型 __过拟合__ ，你可以尝试通过 __减小超参数C__ 去调整。\n",
    "\n",
    "### 注意：\n",
    "\n",
    "SVM\t对特征缩放比较敏感，所以需要进行 __特征缩放__ 。"
   ]
  },
  {
   "cell_type": "markdown",
   "metadata": {},
   "source": [
    "#### 使用SVM分割iris数据集"
   ]
  },
  {
   "cell_type": "code",
   "execution_count": 2,
   "metadata": {},
   "outputs": [],
   "source": [
    "from sklearn.svm import LinearSVC\n",
    "from sklearn.svm import SVC\n",
    "from sklearn.pipeline import Pipeline\n",
    "from sklearn.preprocessing import StandardScaler\n",
    "from mlxtend.plotting import plot_decision_regions\n",
    "from sklearn import datasets\n",
    "from sklearn.model_selection import train_test_split"
   ]
  },
  {
   "cell_type": "code",
   "execution_count": 3,
   "metadata": {},
   "outputs": [],
   "source": [
    "iris = datasets.load_iris()"
   ]
  },
  {
   "cell_type": "code",
   "execution_count": 4,
   "metadata": {},
   "outputs": [
    {
     "data": {
      "text/plain": [
       "dict_keys(['data', 'target', 'frame', 'target_names', 'DESCR', 'feature_names', 'filename'])"
      ]
     },
     "execution_count": 4,
     "metadata": {},
     "output_type": "execute_result"
    }
   ],
   "source": [
    "iris.keys()"
   ]
  },
  {
   "cell_type": "code",
   "execution_count": 5,
   "metadata": {},
   "outputs": [],
   "source": [
    "x_train_iris,x_test_iris,y_train_iris,y_test_iris = train_test_split(iris.data,iris.target,test_size=0.2)"
   ]
  },
  {
   "cell_type": "code",
   "execution_count": 17,
   "metadata": {},
   "outputs": [],
   "source": [
    "X = x_train_iris[:,[2,3]]\n",
    "y = y_train_iris\n",
    "x_test = x_test_iris[:,[2,3]]\n",
    "y_test = y_test_iris"
   ]
  },
  {
   "cell_type": "markdown",
   "metadata": {},
   "source": [
    "#### LinearSVC\n",
    "\n",
    "__LinearSVC__\t要使 __偏置项规范化__ ，首先你应该 __集中训练集__ 减去它的 __平均数__ 。如果你使用 了 __StandardScaler__ ，那么它会 __自动处理__ 。此外，确保你设置 __loss\t参数__ 为\t__hinge__\t，因为它不是 __默认值__ 。\n",
    "\n",
    "最后，为了得到更好的效果，你需要将 __dual__ 参数设置为 __False__\t，除非 __特征数__ 比 __样本量__ 多。\n",
    "\n",
    "__loss='hinge'__  可以实现一个 __软间隔的SVM__ ,但是因为不是默认损失函数，所以需要自己指定"
   ]
  },
  {
   "cell_type": "code",
   "execution_count": 7,
   "metadata": {},
   "outputs": [
    {
     "data": {
      "text/plain": [
       "Pipeline(steps=[('StandardScaler', StandardScaler()),\n",
       "                ('line_svc', LinearSVC(C=1, loss='hinge'))])"
      ]
     },
     "execution_count": 7,
     "metadata": {},
     "output_type": "execute_result"
    }
   ],
   "source": [
    "svm_clf = Pipeline((\n",
    "    ('StandardScaler',StandardScaler()),\n",
    "    ('line_svc',LinearSVC(C=1,loss='hinge',max_iter=1000,dual=True))\n",
    "))\n",
    "\n",
    "svm_clf.fit(X,y)"
   ]
  },
  {
   "cell_type": "code",
   "execution_count": 8,
   "metadata": {},
   "outputs": [],
   "source": [
    "svm_clf_predict = svm_clf.predict(x_test)"
   ]
  },
  {
   "cell_type": "markdown",
   "metadata": {},
   "source": [
    "Extend:"
   ]
  },
  {
   "cell_type": "code",
   "execution_count": 23,
   "metadata": {},
   "outputs": [],
   "source": [
    "ss = StandardScaler()\n",
    "X_s = ss.fit_transform(X)\n",
    "x_test_s= ss.fit_transform(x_test)"
   ]
  },
  {
   "cell_type": "code",
   "execution_count": 24,
   "metadata": {},
   "outputs": [],
   "source": [
    "line_svm = LinearSVC(C=1,loss='hinge',max_iter=1000,dual=True)"
   ]
  },
  {
   "cell_type": "code",
   "execution_count": 25,
   "metadata": {},
   "outputs": [
    {
     "data": {
      "text/plain": [
       "LinearSVC(C=1, loss='hinge')"
      ]
     },
     "execution_count": 25,
     "metadata": {},
     "output_type": "execute_result"
    }
   ],
   "source": [
    "line_svm.fit(X_s,y)"
   ]
  },
  {
   "cell_type": "code",
   "execution_count": 26,
   "metadata": {},
   "outputs": [
    {
     "data": {
      "text/plain": [
       "(120, 2)"
      ]
     },
     "execution_count": 26,
     "metadata": {},
     "output_type": "execute_result"
    }
   ],
   "source": [
    "X_s.shape"
   ]
  },
  {
   "cell_type": "code",
   "execution_count": 27,
   "metadata": {},
   "outputs": [
    {
     "name": "stdout",
     "output_type": "stream",
     "text": [
      "w =  [[-1.36872904 -0.83341984]\n",
      " [ 0.14791698 -0.1271916 ]\n",
      " [ 1.75314461  2.26155229]]\n",
      "b =  [-1.31360461 -0.97834678 -2.60574843]\n"
     ]
    }
   ],
   "source": [
    "print('w = ',line_svm.coef_)\n",
    "print('b = ',line_svm.intercept_)"
   ]
  },
  {
   "cell_type": "code",
   "execution_count": 12,
   "metadata": {},
   "outputs": [],
   "source": [
    "X = np.array([[3,4],[1,4],[2,3],[6,-1],[7,-1],[5,-3]] )\n",
    "y = np.array([-1,-1, -1, 1, 1 , 1 ])"
   ]
  },
  {
   "cell_type": "code",
   "execution_count": 13,
   "metadata": {},
   "outputs": [
    {
     "name": "stdout",
     "output_type": "stream",
     "text": [
      "w =  [[ 0.25 -0.25]]\n",
      "b =  [-0.75]\n",
      "Indices of support vectors =  [2 3]\n",
      "Support vectors =  [[ 2.  3.]\n",
      " [ 6. -1.]]\n",
      "Number of support vectors for each class =  [1 1]\n",
      "Coefficients of the support vector in the decision function =  [[0.0625 0.0625]]\n"
     ]
    }
   ],
   "source": [
    "from sklearn.svm import SVC\n",
    "clf = SVC(C = 1e5, kernel = 'linear')\n",
    "clf.fit(X, y) \n",
    "print('w = ',clf.coef_)\n",
    "print('b = ',clf.intercept_)\n",
    "print('Indices of support vectors = ', clf.support_)\n",
    "print('Support vectors = ', clf.support_vectors_)\n",
    "print('Number of support vectors for each class = ', clf.n_support_)\n",
    "print('Coefficients of the support vector in the decision function = ', np.abs(clf.dual_coef_))"
   ]
  },
  {
   "cell_type": "markdown",
   "metadata": {},
   "source": [
    "#### 绘制决策边界"
   ]
  },
  {
   "cell_type": "code",
   "execution_count": 9,
   "metadata": {},
   "outputs": [
    {
     "data": {
      "text/plain": [
       "<matplotlib.axes._subplots.AxesSubplot at 0x28d98408160>"
      ]
     },
     "execution_count": 9,
     "metadata": {},
     "output_type": "execute_result"
    },
    {
     "data": {
      "image/png": "[encoded data removed]",
      "text/plain": [
       "<Figure size 432x288 with 1 Axes>"
      ]
     },
     "metadata": {
      "needs_background": "light"
     },
     "output_type": "display_data"
    }
   ],
   "source": [
    "plot_decision_regions(X,y,clf=svm_clf)"
   ]
  },
  {
   "cell_type": "markdown",
   "metadata": {},
   "source": [
    "#### 交叉验证"
   ]
  },
  {
   "cell_type": "code",
   "execution_count": 10,
   "metadata": {},
   "outputs": [],
   "source": [
    "from sklearn.model_selection import cross_validate,cross_val_score"
   ]
  },
  {
   "cell_type": "code",
   "execution_count": 11,
   "metadata": {},
   "outputs": [
    {
     "name": "stderr",
     "output_type": "stream",
     "text": [
      "D:\\python\\lib\\site-packages\\sklearn\\svm\\base.py:929: ConvergenceWarning: Liblinear failed to converge, increase the number of iterations.\n",
      "  \"the number of iterations.\", ConvergenceWarning)\n"
     ]
    }
   ],
   "source": [
    "scores = cross_validate(svm_clf,X,y,cv=10,scoring='neg_mean_squared_error',return_train_score=True)"
   ]
  },
  {
   "cell_type": "code",
   "execution_count": 12,
   "metadata": {},
   "outputs": [
    {
     "data": {
      "text/plain": [
       "-0.13796518588381743"
      ]
     },
     "execution_count": 12,
     "metadata": {},
     "output_type": "execute_result"
    }
   ],
   "source": [
    "scores['train_score'].mean()"
   ]
  },
  {
   "cell_type": "code",
   "execution_count": 13,
   "metadata": {},
   "outputs": [
    {
     "data": {
      "text/plain": [
       "-0.15856643356643357"
      ]
     },
     "execution_count": 13,
     "metadata": {},
     "output_type": "execute_result"
    }
   ],
   "source": [
    "scores['test_score'].mean()"
   ]
  },
  {
   "cell_type": "markdown",
   "metadata": {},
   "source": [
    "### 通过随机梯度下降训练 线性SVM分类器\n",
    "\n",
    "__sklearn.svm 中的 SVC__ : 你可以在 SVC 类，使用 SVC(kernel=\"linear\", C=1)\t，但是它比较 __慢__ ，尤其在较大的训练集上，所以一般不被推荐。\n",
    "\n",
    "#### SGDClassifier\n",
    "\n",
    "另一个选择是使用 __SGDClassifier__ 类， 即\t__SGDClassifier(loss=\"hinge\",alpha=1/(m\\*C))__\t。它应用了 __随机梯度下降__ （SGD）来训练一个 __线性 SVM 分类器__ 。尽管它不会和 __LinearSVC__ 一样 __快速收敛__ ，但是对于处理那些 __不适合__ 放在 __内存__ 的 __大数据集__ 是非常有用的，或者处理 __在线分类任务__ 同样有用。\n",
    "\n",
    "确保你设置 __loss 参数为 hinge__ ，因为它不是 __默认值__。"
   ]
  },
  {
   "cell_type": "code",
   "execution_count": 14,
   "metadata": {},
   "outputs": [],
   "source": [
    "from sklearn.linear_model import SGDClassifier"
   ]
  },
  {
   "cell_type": "code",
   "execution_count": 15,
   "metadata": {},
   "outputs": [
    {
     "data": {
      "text/plain": [
       "Pipeline(memory=None,\n",
       "         steps=[('scaler',\n",
       "                 StandardScaler(copy=True, with_mean=True, with_std=True)),\n",
       "                ('SGD',\n",
       "                 SGDClassifier(alpha=0.0001, average=False, class_weight=None,\n",
       "                               early_stopping=False, epsilon=0.1, eta0=0.0,\n",
       "                               fit_intercept=True, l1_ratio=0.15,\n",
       "                               learning_rate='optimal', loss='hinge',\n",
       "                               max_iter=1000, n_iter_no_change=5, n_jobs=None,\n",
       "                               penalty='l2', power_t=0.5, random_state=None,\n",
       "                               shuffle=True, tol=0.001, validation_fraction=0.1,\n",
       "                               verbose=0, warm_start=False))],\n",
       "         verbose=False)"
      ]
     },
     "execution_count": 15,
     "metadata": {},
     "output_type": "execute_result"
    }
   ],
   "source": [
    "sgd_clf = Pipeline((\n",
    "    \n",
    "    ('scaler',StandardScaler()),\n",
    "    ('SGD',SGDClassifier(loss='hinge'))\n",
    "    \n",
    "))\n",
    "sgd_clf.fit(X,y)"
   ]
  },
  {
   "cell_type": "code",
   "execution_count": 16,
   "metadata": {},
   "outputs": [
    {
     "data": {
      "text/plain": [
       "<matplotlib.axes._subplots.AxesSubplot at 0x28dad3e0cc0>"
      ]
     },
     "execution_count": 16,
     "metadata": {},
     "output_type": "execute_result"
    },
    {
     "data": {
      "image/png": "[encoded data removed]",
      "text/plain": [
       "<Figure size 432x288 with 1 Axes>"
      ]
     },
     "metadata": {
      "needs_background": "light"
     },
     "output_type": "display_data"
    }
   ],
   "source": [
    "plot_decision_regions(X,y,clf=sgd_clf)"
   ]
  },
  {
   "cell_type": "markdown",
   "metadata": {},
   "source": [
    "### 非线性SVM\n",
    "\n",
    "一种处理 __非线性数据集__ 方法是 __增加更多的特征__ ，例如 __多项式特征__。"
   ]
  },
  {
   "cell_type": "code",
   "execution_count": 17,
   "metadata": {},
   "outputs": [],
   "source": [
    "from sklearn.preprocessing import PolynomialFeatures\n",
    "from sklearn.datasets import make_moons"
   ]
  },
  {
   "cell_type": "code",
   "execution_count": 87,
   "metadata": {},
   "outputs": [],
   "source": [
    "X, y = make_moons()"
   ]
  },
  {
   "cell_type": "code",
   "execution_count": 19,
   "metadata": {},
   "outputs": [
    {
     "name": "stderr",
     "output_type": "stream",
     "text": [
      "D:\\python\\lib\\site-packages\\sklearn\\svm\\base.py:929: ConvergenceWarning: Liblinear failed to converge, increase the number of iterations.\n",
      "  \"the number of iterations.\", ConvergenceWarning)\n"
     ]
    },
    {
     "data": {
      "text/plain": [
       "Pipeline(memory=None,\n",
       "         steps=[('polynomialfeature',\n",
       "                 PolynomialFeatures(degree=3, include_bias=False,\n",
       "                                    interaction_only=False, order='C')),\n",
       "                ('scaler',\n",
       "                 StandardScaler(copy=True, with_mean=True, with_std=True)),\n",
       "                ('line_svm_clf',\n",
       "                 LinearSVC(C=10, class_weight=None, dual=True,\n",
       "                           fit_intercept=True, intercept_scaling=1,\n",
       "                           loss='hinge', max_iter=1000, multi_class='ovr',\n",
       "                           penalty='l2', random_state=None, tol=0.0001,\n",
       "                           verbose=0))],\n",
       "         verbose=False)"
      ]
     },
     "execution_count": 19,
     "metadata": {},
     "output_type": "execute_result"
    }
   ],
   "source": [
    "polynomial_svm_clf = Pipeline((\n",
    "    ('polynomialfeature',PolynomialFeatures(degree=3,include_bias=False)),\n",
    "    ('scaler',StandardScaler()),\n",
    "    ('line_svm_clf',LinearSVC(loss='hinge',C=10))\n",
    ")) \n",
    "\n",
    "polynomial_svm_clf.fit(X,y)"
   ]
  },
  {
   "cell_type": "code",
   "execution_count": 20,
   "metadata": {},
   "outputs": [
    {
     "data": {
      "text/plain": [
       "<matplotlib.axes._subplots.AxesSubplot at 0x28dad437908>"
      ]
     },
     "execution_count": 20,
     "metadata": {},
     "output_type": "execute_result"
    },
    {
     "data": {
      "image/png": "[encoded data removed]",
      "text/plain": [
       "<Figure size 432x288 with 1 Axes>"
      ]
     },
     "metadata": {
      "needs_background": "light"
     },
     "output_type": "display_data"
    }
   ],
   "source": [
    "plot_decision_regions(X,y,clf=polynomial_svm_clf)"
   ]
  },
  {
   "cell_type": "markdown",
   "metadata": {},
   "source": [
    "### 交叉验证"
   ]
  },
  {
   "cell_type": "code",
   "execution_count": 21,
   "metadata": {},
   "outputs": [
    {
     "name": "stderr",
     "output_type": "stream",
     "text": [
      "D:\\python\\lib\\site-packages\\sklearn\\svm\\base.py:929: ConvergenceWarning: Liblinear failed to converge, increase the number of iterations.\n",
      "  \"the number of iterations.\", ConvergenceWarning)\n",
      "D:\\python\\lib\\site-packages\\sklearn\\svm\\base.py:929: ConvergenceWarning: Liblinear failed to converge, increase the number of iterations.\n",
      "  \"the number of iterations.\", ConvergenceWarning)\n",
      "D:\\python\\lib\\site-packages\\sklearn\\svm\\base.py:929: ConvergenceWarning: Liblinear failed to converge, increase the number of iterations.\n",
      "  \"the number of iterations.\", ConvergenceWarning)\n"
     ]
    }
   ],
   "source": [
    "scores = cross_validate(polynomial_svm_clf,X,y,cv=3)"
   ]
  },
  {
   "cell_type": "markdown",
   "metadata": {},
   "source": [
    "分数为1"
   ]
  },
  {
   "cell_type": "code",
   "execution_count": 22,
   "metadata": {},
   "outputs": [
    {
     "data": {
      "text/plain": [
       "1.0"
      ]
     },
     "execution_count": 22,
     "metadata": {},
     "output_type": "execute_result"
    }
   ],
   "source": [
    "scores['test_score'].mean()"
   ]
  },
  {
   "cell_type": "markdown",
   "metadata": {},
   "source": [
    "### 多项式核\n",
    "\n",
    "我们知道 __多项式__ 对分类的效果会有提升，但是低次数的多项式不能用于处理非常复杂的数据集，但是 __高次数的多项式却会产生大量的特征__ ，这会使模型变得慢。\n",
    "\n",
    "幸运的是，我们可以通过使用 __SVM的核技巧 ，它就像是你添加了许多多项式__ ，甚至有高次数的多项式，一样好的结果。所以 __不会产生大量的特征__ 导致的特征组合爆炸， __因为你并没有添加任何特征__ 。这个技巧可以使用 __SVC__ 来实现。\n",
    "\n"
   ]
  },
  {
   "cell_type": "markdown",
   "metadata": {},
   "source": [
    "### 多项式SVM\n",
    "\n",
    "如果你的模型过拟合，你可以减小多项式核的阶数。相反的，如果是欠拟合，你可以尝试增大它。\n",
    "\n",
    "超参数\t__coef0__\t控制了 __高阶多项式__ 与 __低阶多项式__ 对模型的影响。"
   ]
  },
  {
   "cell_type": "code",
   "execution_count": 23,
   "metadata": {},
   "outputs": [],
   "source": [
    "from sklearn.svm import SVC"
   ]
  },
  {
   "cell_type": "code",
   "execution_count": 24,
   "metadata": {},
   "outputs": [
    {
     "data": {
      "text/plain": [
       "Pipeline(memory=None,\n",
       "         steps=[('scaler',\n",
       "                 StandardScaler(copy=True, with_mean=True, with_std=True)),\n",
       "                ('SVC_clf',\n",
       "                 SVC(C=5, cache_size=200, class_weight=None, coef0=1,\n",
       "                     decision_function_shape='ovr', degree=10,\n",
       "                     gamma='auto_deprecated', kernel='poly', max_iter=-1,\n",
       "                     probability=False, random_state=None, shrinking=True,\n",
       "                     tol=0.001, verbose=False))],\n",
       "         verbose=False)"
      ]
     },
     "execution_count": 24,
     "metadata": {},
     "output_type": "execute_result"
    }
   ],
   "source": [
    "poly_kernel_svm_clf = Pipeline((\n",
    "    ('scaler',StandardScaler()),\n",
    "    ('SVC_clf',SVC(degree=10,kernel='poly',C=5,coef0=1))\n",
    "))\n",
    "\n",
    "poly_kernel_svm_clf.fit(X,y)"
   ]
  },
  {
   "cell_type": "code",
   "execution_count": 25,
   "metadata": {},
   "outputs": [
    {
     "data": {
      "text/plain": [
       "<matplotlib.axes._subplots.AxesSubplot at 0x28dad4b5c50>"
      ]
     },
     "execution_count": 25,
     "metadata": {},
     "output_type": "execute_result"
    },
    {
     "data": {
      "image/png": "[encoded data removed]",
      "text/plain": [
       "<Figure size 432x288 with 1 Axes>"
      ]
     },
     "metadata": {
      "needs_background": "light"
     },
     "output_type": "display_data"
    }
   ],
   "source": [
    "plot_decision_regions(X,y,clf=poly_kernel_svm_clf)"
   ]
  },
  {
   "cell_type": "markdown",
   "metadata": {},
   "source": [
    "通用的方法是用网格搜索去找到 __最优超参数__ 。 __首先__ 进行非常 __粗略__ 的网格搜索一般会很快，然后在找到的 __最佳值__ 进行 __更细__ 的网格搜索。\n",
    "\n",
    "对每个超参数的作用有一个很好的理解可以帮助你在正确的超参数空间找到合适的值。\n"
   ]
  },
  {
   "cell_type": "markdown",
   "metadata": {},
   "source": [
    "#### 增加相似特征\n",
    "\n",
    "另一种解决非线性问题的方法是使用 __相似函数__ （similarity\tfuntion）计算每个样本与特定地标 （landmark）的相似度\n"
   ]
  },
  {
   "cell_type": "markdown",
   "metadata": {},
   "source": [
    "### 高斯\tRBF\t核  -  (高斯径向基核函数)\n",
    "\n",
    "就像多项式特征法一样，相似特征法对各种机器学习算法同样也有不错的表现。但是在所有额外特征上的计算成本可能很高，特别是在大规模的训练集上。\n",
    "\n",
    "然而，“核” 技巧再一次显现了它在 SVM 上的神奇之处： __高斯核让你可以获得同样好的结果成为可能，就像你在相似特征法添加了许多相似特征一样，但事实上，你并不需要在RBF添加它们__ 。\n",
    "\n",
    "核函数的本质是两个函数的內积，通过核函数将其隐射到高维空间，在高维空间非线性问题转化为线性问题, SVM得到超平面是高维空间的线性分类平面\n",
    "\n",
    "#### SVC参数说明：\n",
    "\n",
    "超参数\t__gamma(γ)__ 和 __C__ 训练的模型。\n",
    "\n",
    "*    __参数：gamma__:\n",
    "\n",
    "    增大 __γ__ 使钟型曲线更 __窄__ ，导致每个样本的影响范围变得更 __小__ ：即判定边界最终变得更 __不规则__ ，在单个样本周围环绕。\n",
    "\n",
    "    相反的， __较小的 γ 值__ 使钟型曲线更 __宽__ ，样本有更大的影响范围，判定边界最终则更加 __平滑__ 。\n",
    "\n",
    "\n",
    "*    __参数：C__:\n",
    "\n",
    "    同时我们可以发现参数 __C__ 对决策边界的影响。较小的 C 会造成更宽的街道，更多的违规。\n",
    "\n",
    "<div align=center><img  width=\"700\" height=\"500\" src=\"1.jpg\"/></div>\n",
    "\n",
    "\n",
    "\n",
    "#### 过/欠拟合\n",
    "所以γ是可调整的 __超参数__ ：如果你的模型 __过拟合__ ，你应该 __减小 γ 值__ ，若 __欠拟合__ ，则 __增大 γ__ （与超参数 C\t相似）。\n",
    "\n"
   ]
  },
  {
   "cell_type": "code",
   "execution_count": 26,
   "metadata": {},
   "outputs": [
    {
     "data": {
      "text/plain": [
       "Pipeline(memory=None,\n",
       "         steps=[('Scaler',\n",
       "                 StandardScaler(copy=True, with_mean=True, with_std=True)),\n",
       "                ('rbf_kernel_clf',\n",
       "                 SVC(C=0.001, cache_size=200, class_weight=None, coef0=0.0,\n",
       "                     decision_function_shape='ovr', degree=3, gamma=5,\n",
       "                     kernel='rbf', max_iter=-1, probability=False,\n",
       "                     random_state=None, shrinking=True, tol=0.001,\n",
       "                     verbose=False))],\n",
       "         verbose=False)"
      ]
     },
     "execution_count": 26,
     "metadata": {},
     "output_type": "execute_result"
    }
   ],
   "source": [
    "rbf_kernel_svm_clf = Pipeline((\n",
    "    ('Scaler',StandardScaler()),\n",
    "    ('rbf_kernel_clf',SVC(kernel='rbf',gamma=0.1,C=0.001))\n",
    "))\n",
    "\n",
    "rbf_kernel_svm_clf.fit(X,y)\n",
    "\n",
    "rbf_kernel_svm_clf2 = Pipeline((\n",
    "    ('Scaler',StandardScaler()),\n",
    "    ('rbf_kernel_clf',SVC(kernel='rbf',gamma=5,C=0.001))\n",
    "))\n",
    "\n",
    "rbf_kernel_svm_clf2.fit(X,y)"
   ]
  },
  {
   "cell_type": "markdown",
   "metadata": {},
   "source": [
    "__gamma为0.1 和 5 之间的区别,gamma越小，判断边界的曲线越平滑。__"
   ]
  },
  {
   "cell_type": "code",
   "execution_count": 27,
   "metadata": {},
   "outputs": [
    {
     "data": {
      "text/plain": [
       "<matplotlib.axes._subplots.AxesSubplot at 0x28dad522cc0>"
      ]
     },
     "execution_count": 27,
     "metadata": {},
     "output_type": "execute_result"
    },
    {
     "data": {
      "image/png": "[encoded data removed]",
      "text/plain": [
       "<Figure size 432x288 with 1 Axes>"
      ]
     },
     "metadata": {
      "needs_background": "light"
     },
     "output_type": "display_data"
    }
   ],
   "source": [
    "plot_decision_regions(X,y,rbf_kernel_svm_clf)"
   ]
  },
  {
   "cell_type": "code",
   "execution_count": 28,
   "metadata": {},
   "outputs": [
    {
     "data": {
      "text/plain": [
       "<matplotlib.axes._subplots.AxesSubplot at 0x28dad57ab70>"
      ]
     },
     "execution_count": 28,
     "metadata": {},
     "output_type": "execute_result"
    },
    {
     "data": {
      "image/png": "[encoded data removed]",
      "text/plain": [
       "<Figure size 432x288 with 1 Axes>"
      ]
     },
     "metadata": {
      "needs_background": "light"
     },
     "output_type": "display_data"
    }
   ],
   "source": [
    "plot_decision_regions(X,y,rbf_kernel_svm_clf2)"
   ]
  },
  {
   "cell_type": "markdown",
   "metadata": {},
   "source": [
    "### 计算复杂性\n",
    "\n",
    "#### LinearSVC\n",
    "\n",
    "* __LinearSVC 类__ 基于 __liblinear 库__ ，它实现了 __线性 SVM\t的优化算法__ 它并 __不支持核技巧__ 。\n",
    "\n",
    "  但是 它样本和特征的数量几乎是线性的：__训练时间复杂度__ 大约为\tO(m\t×\tn)\t。\n",
    "\n",
    "\n",
    "* 如果你要非常高的精度，这个算法需要花费更多时间。这是由__容差值超参数\tϵ__ （在Scikitlearn\t称为 tol ）控制的。大多数分类任务中，使用默认容差值的效果是已经可以满足一般要求。\n",
    "\n",
    "#### SVC\t\n",
    "\n",
    "* __SVC 类__ 基于 __libsvm\t库__ ，它实现了 __支持核技巧__ 的算法。\n",
    "  \n",
    "  __训练时间复杂度__ 通常介于O(m^2 × n)\t和 O(m^3\t× n)之间。不幸的是，这意味着当训练样本变大时，它将变得极其慢（例如，成千上万个样本）。\n",
    "\n",
    "\n",
    "* 这个算法 __对于复杂但小型或中等数量的数据集表现是完美的__ 。然而，它能对 __特征数量__ 很好的缩放，尤其对 __稀疏特征__ 来说(__即每个样 本都有一些非零特征__)。\n"
   ]
  },
  {
   "cell_type": "markdown",
   "metadata": {},
   "source": [
    "### 小结\n",
    "\n",
    "__多项式__ 或者 __相似函数__ 在大数据集上计算的成本都比较高，一个合适的方案是使用 __核函数(高斯核 - 最常用)__ 其他的核函数，基本上不怎么使用。\n",
    "\n",
    "## 如何选择模型？\n",
    "\n",
    "1、一般来说，首先我们应该先尝试 __线性核函数__ ，记住 __LinearSVM__ 比 __SVC(kernel='linear')__ 要 __快得多__ ，尤其是当 __训练集很大__ ，或者有 __大量的特征__ 的情况下。 \n",
    "\n",
    "2、如果数据集不太大，也可以尝试使用 __高斯径向基核__ ，它在大多数情况都很有效。"
   ]
  },
  {
   "cell_type": "markdown",
   "metadata": {},
   "source": [
    "## SVM\t回归\n",
    "\n",
    "SVM\t算法应用广泛：不仅仅支持 __线性__ 和 __非线性__ 的 __分类任务__ ，还支持 __线性__ 和 __非线性__ 的 __回归任务__。\n",
    "\n",
    "#### SVM回归和SVM分类做的事\n",
    "\n",
    "* __技巧在于逆转我们的目标：__ 限制间隔违规的情况下，不是试图在两类别之间找到尽可能大的“街道”（即间隔）。\n",
    "\n",
    "\n",
    "* __SVM 回归__ 任务是 __限制间隔违规情况下__ ，尽量 __放置更多的样本在“街道”上__ （“街道”的宽度由超参数 ϵ（__epsilon__） 控制 __ϵ 越大街道越宽__ ）。 \n",
    "\n",
    "\n",
    "* __但是：__ 添加更多的数据样本在间隔之内并不会影响模型的预测，因此，这个模型认为是不敏感的 （ϵ-insensitive）\n",
    "\n",
    "\n",
    "* __注意：__ 训练数据要进行 __中心化__ 或者 __标准化__"
   ]
  },
  {
   "cell_type": "markdown",
   "metadata": {},
   "source": [
    "#### 使用\tScikit-Learn\t的\tLinearSVR\t类去实现线性\tSVM\t回归"
   ]
  },
  {
   "cell_type": "code",
   "execution_count": 30,
   "metadata": {},
   "outputs": [],
   "source": [
    "from sklearn.svm import LinearSVR"
   ]
  },
  {
   "cell_type": "code",
   "execution_count": 88,
   "metadata": {},
   "outputs": [
    {
     "data": {
      "text/plain": [
       "Pipeline(memory=None,\n",
       "         steps=[('scaler',\n",
       "                 StandardScaler(copy=True, with_mean=True, with_std=True)),\n",
       "                ('linear_svr',\n",
       "                 LinearSVR(C=1.0, dual=True, epsilon=1.5, fit_intercept=True,\n",
       "                           intercept_scaling=1.0, loss='epsilon_insensitive',\n",
       "                           max_iter=1000, random_state=None, tol=0.0001,\n",
       "                           verbose=0))],\n",
       "         verbose=False)"
      ]
     },
     "execution_count": 88,
     "metadata": {},
     "output_type": "execute_result"
    }
   ],
   "source": [
    "svm_reg = Pipeline((\n",
    "    ('scaler',StandardScaler()),\n",
    "    ('linear_svr',LinearSVR(epsilon=1.5))\n",
    "))\n",
    "svm_reg.fit(X,y)"
   ]
  },
  {
   "cell_type": "markdown",
   "metadata": {},
   "source": [
    "#### 二次方多项式核函数的\tSVM\t回归"
   ]
  },
  {
   "cell_type": "code",
   "execution_count": 89,
   "metadata": {},
   "outputs": [],
   "source": [
    "from sklearn.svm import SVR"
   ]
  },
  {
   "cell_type": "code",
   "execution_count": 90,
   "metadata": {},
   "outputs": [
    {
     "data": {
      "text/plain": [
       "Pipeline(memory=None,\n",
       "         steps=[('scaler',\n",
       "                 StandardScaler(copy=True, with_mean=True, with_std=True)),\n",
       "                ('SVR',\n",
       "                 SVR(C=100, cache_size=200, coef0=0.0, degree=2, epsilon=0.1,\n",
       "                     gamma='auto_deprecated', kernel='poly', max_iter=-1,\n",
       "                     shrinking=True, tol=0.001, verbose=False))],\n",
       "         verbose=False)"
      ]
     },
     "execution_count": 90,
     "metadata": {},
     "output_type": "execute_result"
    }
   ],
   "source": [
    "svr_reg = Pipeline((\n",
    "    ('scaler',StandardScaler()),\n",
    "    ('SVR',SVR(kernel='poly',degree=2,C=100,epsilon=0.1))\n",
    "))\n",
    "svr_reg.fit(X,y)"
   ]
  },
  {
   "cell_type": "markdown",
   "metadata": {},
   "source": [
    "#### SVM\t也可以用来做异常值检测，详情见\tScikit-Learn\t文档\n"
   ]
  },
  {
   "cell_type": "markdown",
   "metadata": {},
   "source": [
    "## 练习：\n",
    "\n",
    "__问：__ 1、在一个线性可分的数据集训练一个\tLinearSVC\t，并在同一个数据集上训练一 个\tSVC\t和\tSGDClassifier\t，看它们是否产生了大致相同效果的模型。\n"
   ]
  },
  {
   "cell_type": "code",
   "execution_count": 91,
   "metadata": {},
   "outputs": [],
   "source": [
    "from sklearn.linear_model import SGDClassifier"
   ]
  },
  {
   "cell_type": "code",
   "execution_count": 166,
   "metadata": {},
   "outputs": [],
   "source": [
    "iris = datasets.load_iris()\n",
    "\n",
    "x = iris.data[:,1:3]\n",
    "y = iris.target"
   ]
  },
  {
   "cell_type": "code",
   "execution_count": 167,
   "metadata": {},
   "outputs": [],
   "source": [
    "y_index = (y <2)\n",
    "x = x[y_index]\n",
    "y = y[y_index]"
   ]
  },
  {
   "cell_type": "code",
   "execution_count": 173,
   "metadata": {},
   "outputs": [
    {
     "data": {
      "text/plain": [
       "<matplotlib.axes._subplots.AxesSubplot at 0x28db09e7d30>"
      ]
     },
     "execution_count": 173,
     "metadata": {},
     "output_type": "execute_result"
    },
    {
     "data": {
      "image/png": "[encoded data removed]",
      "text/plain": [
       "<Figure size 432x288 with 1 Axes>"
      ]
     },
     "metadata": {
      "needs_background": "light"
     },
     "output_type": "display_data"
    }
   ],
   "source": [
    "linear_svc = Pipeline((\n",
    "    ('scaler',StandardScaler()),\n",
    "    ('svc_clf',LinearSVC())\n",
    "))\n",
    "linear_svc.fit(x,y)\n",
    "plot_decision_regions(x,y,linear_svc)"
   ]
  },
  {
   "cell_type": "code",
   "execution_count": 174,
   "metadata": {},
   "outputs": [
    {
     "data": {
      "text/plain": [
       "<matplotlib.axes._subplots.AxesSubplot at 0x28db08e41d0>"
      ]
     },
     "execution_count": 174,
     "metadata": {},
     "output_type": "execute_result"
    },
    {
     "data": {
      "image/png": "[encoded data removed]",
      "text/plain": [
       "<Figure size 432x288 with 1 Axes>"
      ]
     },
     "metadata": {
      "needs_background": "light"
     },
     "output_type": "display_data"
    }
   ],
   "source": [
    "svc = Pipeline((\n",
    "    ('scaler',StandardScaler()),\n",
    "    ('svc_clf',SVC())\n",
    "))\n",
    "svc.fit(x,y)\n",
    "plot_decision_regions(x,y,svc)"
   ]
  },
  {
   "cell_type": "code",
   "execution_count": 175,
   "metadata": {},
   "outputs": [
    {
     "data": {
      "text/plain": [
       "<matplotlib.axes._subplots.AxesSubplot at 0x28dafbd40f0>"
      ]
     },
     "execution_count": 175,
     "metadata": {},
     "output_type": "execute_result"
    },
    {
     "data": {
      "image/png": "[encoded data removed]",
      "text/plain": [
       "<Figure size 432x288 with 1 Axes>"
      ]
     },
     "metadata": {
      "needs_background": "light"
     },
     "output_type": "display_data"
    }
   ],
   "source": [
    "sgd_clf = Pipeline((\n",
    "    ('scaler',StandardScaler()),\n",
    "    ('svc_clf',SGDClassifier())\n",
    "))\n",
    "sgd_clf.fit(x,y)\n",
    "plot_decision_regions(x,y,sgd_clf)"
   ]
  },
  {
   "cell_type": "markdown",
   "metadata": {},
   "source": [
    "__答：__ 可以看到 __Linear_svc__ 和 __SGDClassifier__ 的决策边界很光滑，但是 __SVC__ 是非线性的，不光滑。"
   ]
  }
 ],
 "metadata": {
  "kernelspec": {
   "display_name": "Python 3",
   "language": "python",
   "name": "python3"
  },
  "language_info": {
   "codemirror_mode": {
    "name": "ipython",
    "version": 3
   },
   "file_extension": ".py",
   "mimetype": "text/x-python",
   "name": "python",
   "nbconvert_exporter": "python",
   "pygments_lexer": "ipython3",
   "version": "3.9.4"
  }
 },
 "nbformat": 4,
 "nbformat_minor": 2
}
